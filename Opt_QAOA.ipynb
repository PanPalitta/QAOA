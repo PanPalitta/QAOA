{
 "cells": [
  {
   "cell_type": "markdown",
   "metadata": {},
   "source": [
    "# Optimizing QAOA\n",
    "\n",
    "by Pantita Palittapongarnpim\n",
    "\n",
    "Now that we have the classes for QAOA circuits, we need to optimize the circuits."
   ]
  },
  {
   "cell_type": "markdown",
   "metadata": {},
   "source": [
    "### Package Versions\n",
    "\n",
    "QuTiP: 4.5.2\n",
    "\n",
    "Python: 3.8.6"
   ]
  },
  {
   "cell_type": "markdown",
   "metadata": {},
   "source": [
    "### Loading Packages"
   ]
  },
  {
   "cell_type": "code",
   "execution_count": 1,
   "metadata": {},
   "outputs": [],
   "source": [
    "import numpy as np\n",
    "import qutip as qt"
   ]
  },
  {
   "cell_type": "markdown",
   "metadata": {},
   "source": [
    "### QAOA Classes"
   ]
  },
  {
   "cell_type": "code",
   "execution_count": 4,
   "metadata": {},
   "outputs": [],
   "source": [
    "class Graph:\n",
    "    def __init__(self, total_qubit, J):\n",
    "        self.total_qubit=total_qubit #integer\n",
    "        self.J=J #matrix: undirected (symmetric)\n",
    "        \n",
    "    def Ham(self):\n",
    "        Ham_out=0;\n",
    "        for i in range(self.total_qubit):\n",
    "            for j in range(i,self.total_qubit):\n",
    "                opr=qt.tensor([qt.identity(2) if (k != i and k != j) else qt.sigmaz() for k in range(self.total_qubit)])\n",
    "                Ham_out=Ham_out+J[i][j]*opr\n",
    "        return(Ham_out)"
   ]
  },
  {
   "cell_type": "code",
   "execution_count": 5,
   "metadata": {},
   "outputs": [],
   "source": [
    "class QAOA:\n",
    "    def __init__(self, gamma, beta, p, graph):\n",
    "        ## what does graph has to contain:\n",
    "        # total_qubit -- integer\n",
    "        # J -- double matrix        \n",
    "        self.gamma=gamma\n",
    "        self.beta=beta\n",
    "        self.p=p\n",
    "        self.J=graph.J\n",
    "        self.total_qubit=graph.total_qubit\n",
    "        \n",
    "    def Uz(self,i,j,l):\n",
    "        opr=qt.tensor([qt.identity(2) if (k != i and k != j) else qt.sigmaz() for k in range(self.total_qubit)])\n",
    "        Hvar=-1j*gamma[l-1]*J[i][j]*opr\n",
    "        return(Hvar.expm())\n",
    "    \n",
    "    def Ux(self,i,l):\n",
    "        opr=qt.tensor([qt.identity(2) if (k != i) else qt.sigmax() for k in range(self.total_qubit)])\n",
    "        Hvar=-1j*beta[l-1]*J[i][j]*opr\n",
    "        return(Hvar.expm())\n",
    "    \n",
    "    def circuit(self):\n",
    "        Had=qt.tensor([qt.qip.operations.snot() for k in range(self.total_qubit)])\n",
    "        qaoa_circ=Had\n",
    "        for l in range(self.p):\n",
    "            #operate the Uz gates\n",
    "            for i in range(self.total_qubit):\n",
    "                for j in range(i,self.total_qubit):\n",
    "                    if i!= j:\n",
    "                        qaoa_circ=self.Uz(i,j,l)*qaoa_circ\n",
    "            #operate the Ux gates\n",
    "            for i in range(self.total_qubit):\n",
    "                qaoa_circ=self.Ux(i,l)*qaoa_circ\n",
    "        return(qaoa_circ)\n",
    "    \n",
    "    def state(self):\n",
    "        gnd=qt.basis(2,0)\n",
    "        state=qt.tensor([gnd for i in range(self.total_qubit)])\n",
    "        state=self.circuit()*state\n",
    "        return(state)\n",
    " "
   ]
  },
  {
   "cell_type": "markdown",
   "metadata": {},
   "source": [
    "### Objective functions\n",
    "\n",
    "Now that we have the simulation of the QAOA circuit, we need to optimize the parameters, namely gamma and beta array.\n",
    "\n",
    "But before that, we need to pick the objective function we are going to use."
   ]
  },
  {
   "cell_type": "markdown",
   "metadata": {},
   "source": [
    "__Average Energy__\n",
    "\n",
    "This is the traditional objective function for QAOA\n",
    "\n",
    "__Gibbs__\n",
    "\n",
    "This one is proposed by Li et al.\n",
    "\n",
    "__Average Gibbs__\n",
    "\n",
    "Actually doesn't have a name, proposed by P'Thip."
   ]
  },
  {
   "cell_type": "code",
   "execution_count": 44,
   "metadata": {},
   "outputs": [],
   "source": [
    "def AveEnergy(graph,output):\n",
    "    #output is the output state from the QAOA class\n",
    "    return(output.dag()*graph.Ham()*output)\n",
    "\n",
    "def Gibbs(eta,graph,output):\n",
    "    f=-np.log(output.dag()*(-eta*graph.Ham()).expm()*output)\n",
    "    return(f)\n",
    "\n",
    "def AveGibbs(eta,graph,output):\n",
    "    f=-np.log(output.dag()*graph.Ham()*(-eta*graph.Ham()).expm()*output)\n",
    "    return(f)"
   ]
  },
  {
   "cell_type": "markdown",
   "metadata": {},
   "source": [
    "### Testing out the objective functions"
   ]
  },
  {
   "cell_type": "code",
   "execution_count": 17,
   "metadata": {},
   "outputs": [],
   "source": [
    "total_qubit=3 #number of qubit\n",
    "p=1 #number of layers\n",
    "\n",
    "#declaring QAOA parameters\n",
    "gamma=np.random.rand(p)\n",
    "beta=np.random.rand(p)\n",
    "\n",
    "#defining the problem\n",
    "J=np.random.rand(total_qubit,total_qubit) #creating the couping parameters,still directional in this instance)\n",
    "for i in range(total_qubit):\n",
    "    for j in range(i,total_qubit):\n",
    "        temp=(J[i][j]+J[j][i])/2.0\n",
    "        J[i][j]=temp\n",
    "        J[j][i]=temp\n",
    "#Now J is undirectional"
   ]
  },
  {
   "cell_type": "code",
   "execution_count": 18,
   "metadata": {},
   "outputs": [],
   "source": [
    "graph = Graph(total_qubit,J)\n",
    "qaoa = QAOA(gamma,beta,p,graph)\n",
    "\n",
    "output=qaoa.state()"
   ]
  },
  {
   "cell_type": "code",
   "execution_count": 19,
   "metadata": {},
   "outputs": [
    {
     "name": "stdout",
     "output_type": "stream",
     "text": [
      "Quantum object: dims = [[1], [1]], shape = (1, 1), type = bra\n",
      "Qobj data =\n",
      "[[0.47852975]]\n"
     ]
    }
   ],
   "source": [
    "#Average Energy#\n",
    "print(AveEnergy(graph,output))"
   ]
  },
  {
   "cell_type": "code",
   "execution_count": 41,
   "metadata": {},
   "outputs": [
    {
     "name": "stdout",
     "output_type": "stream",
     "text": [
      "[[0.01020317-0.j]]\n"
     ]
    }
   ],
   "source": [
    "#Gibbs energy\n",
    "eta=0.3 #how do we tune this again?\n",
    "print(Gibbs(eta,graph,output))"
   ]
  },
  {
   "cell_type": "code",
   "execution_count": 56,
   "metadata": {},
   "outputs": [
    {
     "name": "stdout",
     "output_type": "stream",
     "text": [
      "[[1.91288492-0.j]]\n"
     ]
    }
   ],
   "source": [
    "#Average Gibbs\n",
    "eta=0.1\n",
    "print(AveGibbs(eta,graph,output))"
   ]
  },
  {
   "cell_type": "markdown",
   "metadata": {},
   "source": [
    "Observations:\n",
    "\n",
    "* As expected, the Gibbs energy depend on eta, but we don't have a good idea what value to use.\n",
    "* Average Gibbs turns to complex number with fixed imaginary for certain range of eta. I am not sure yet if this is a bug or a characteristic of the function."
   ]
  },
  {
   "cell_type": "code",
   "execution_count": null,
   "metadata": {},
   "outputs": [],
   "source": []
  }
 ],
 "metadata": {
  "kernelspec": {
   "display_name": "Python 3",
   "language": "python",
   "name": "python3"
  },
  "language_info": {
   "codemirror_mode": {
    "name": "ipython",
    "version": 3
   },
   "file_extension": ".py",
   "mimetype": "text/x-python",
   "name": "python",
   "nbconvert_exporter": "python",
   "pygments_lexer": "ipython3",
   "version": "3.8.3"
  }
 },
 "nbformat": 4,
 "nbformat_minor": 4
}
