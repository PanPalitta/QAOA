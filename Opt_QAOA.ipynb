{
 "cells": [
  {
   "cell_type": "markdown",
   "metadata": {},
   "source": [
    "# Optimizing QAOA\n",
    "\n",
    "by Pantita Palittapongarnpim\n",
    "\n",
    "Now that we have the classes for QAOA circuits, we need to optimize the circuits."
   ]
  },
  {
   "cell_type": "markdown",
   "metadata": {},
   "source": [
    "### Package Versions\n",
    "\n",
    "QuTiP: 4.5.2\n",
    "\n",
    "Python: 3.8.6"
   ]
  },
  {
   "cell_type": "markdown",
   "metadata": {},
   "source": [
    "### Loading Packages"
   ]
  },
  {
   "cell_type": "code",
   "execution_count": 1,
   "metadata": {},
   "outputs": [],
   "source": [
    "import numpy as np\n",
    "import qutip as qt"
   ]
  },
  {
   "cell_type": "markdown",
   "metadata": {},
   "source": [
    "### QAOA Classes"
   ]
  },
  {
   "cell_type": "code",
   "execution_count": 2,
   "metadata": {},
   "outputs": [],
   "source": [
    "class Graph:\n",
    "    def __init__(self, total_qubit, J):\n",
    "        self.total_qubit=total_qubit #integer\n",
    "        self.J=J #matrix: undirected (symmetric)"
   ]
  },
  {
   "cell_type": "code",
   "execution_count": 3,
   "metadata": {},
   "outputs": [],
   "source": [
    "class QAOA:\n",
    "    def __init__(self, gamma, beta, p, graph):\n",
    "        ## what does graph has to contain:\n",
    "        # total_qubit -- integer\n",
    "        # J -- double matrix        \n",
    "        self.gamma=gamma\n",
    "        self.beta=beta\n",
    "        self.p=p\n",
    "        self.J=graph.J\n",
    "        self.total_qubit=graph.total_qubit\n",
    "        \n",
    "    def Uz(self,i,j,l):\n",
    "        opr=qt.tensor([qt.identity(2) if (k != i and k != j) else qt.sigmaz() for k in range(self.total_qubit)])\n",
    "        Hvar=-1j*gamma[l-1]*J[i][j]*opr\n",
    "        return(Hvar.expm())\n",
    "    \n",
    "    def Ux(self,i,l):\n",
    "        opr=qt.tensor([qt.identity(2) if (k != i) else qt.sigmax() for k in range(self.total_qubit)])\n",
    "        Hvar=-1j*beta[l-1]*J[i][j]*opr\n",
    "        return(Hvar.expm())\n",
    "    \n",
    "    def circuit(self):\n",
    "        Had=qt.tensor([qt.qip.operations.snot() for k in range(self.total_qubit)])\n",
    "        qaoa_circ=Had\n",
    "        for l in range(self.p):\n",
    "            #operate the Uz gates\n",
    "            for i in range(self.total_qubit):\n",
    "                for j in range(i,self.total_qubit):\n",
    "                    if i!= j:\n",
    "                        qaoa_circ=self.Uz(i,j,l)*qaoa_circ\n",
    "            #operate the Ux gates\n",
    "            for i in range(self.total_qubit):\n",
    "                qaoa_circ=self.Ux(i,l)*qaoa_circ\n",
    "        return(qaoa_circ)\n",
    "    \n",
    "    def state(self):\n",
    "        gnd=qt.basis(2,0)\n",
    "        state=qt.tensor([gnd for i in range(self.total_qubit)])\n",
    "        state=self.circuit()*state\n",
    "        return(state)\n",
    " "
   ]
  },
  {
   "cell_type": "markdown",
   "metadata": {},
   "source": [
    "### Optimization"
   ]
  },
  {
   "cell_type": "code",
   "execution_count": null,
   "metadata": {},
   "outputs": [],
   "source": []
  }
 ],
 "metadata": {
  "kernelspec": {
   "display_name": "Python 3",
   "language": "python",
   "name": "python3"
  },
  "language_info": {
   "codemirror_mode": {
    "name": "ipython",
    "version": 3
   },
   "file_extension": ".py",
   "mimetype": "text/x-python",
   "name": "python",
   "nbconvert_exporter": "python",
   "pygments_lexer": "ipython3",
   "version": "3.8.3"
  }
 },
 "nbformat": 4,
 "nbformat_minor": 4
}
