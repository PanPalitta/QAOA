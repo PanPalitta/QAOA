{
 "cells": [
  {
   "cell_type": "markdown",
   "metadata": {},
   "source": [
    "# Optimizing QAOA\n",
    "\n",
    "by Pantita Palittapongarnpim\n",
    "\n",
    "Now that we have the classes for QAOA circuits, we need to optimize the circuits."
   ]
  },
  {
   "cell_type": "markdown",
   "metadata": {},
   "source": [
    "### Package Versions\n",
    "\n",
    "QuTiP: 4.5.2\n",
    "\n",
    "Python: 3.8.6"
   ]
  },
  {
   "cell_type": "markdown",
   "metadata": {},
   "source": [
    "### Loading Packages"
   ]
  },
  {
   "cell_type": "code",
   "execution_count": 1,
   "metadata": {},
   "outputs": [],
   "source": [
    "import numpy as np\n",
    "import qutip as qt\n",
    "from scipy.optimize import minimize\n",
    "from scipy.optimize import differential_evolution"
   ]
  },
  {
   "cell_type": "markdown",
   "metadata": {},
   "source": [
    "### QAOA Classes"
   ]
  },
  {
   "cell_type": "code",
   "execution_count": 2,
   "metadata": {},
   "outputs": [],
   "source": [
    "class Graph:\n",
    "    def __init__(self, total_qubit, J):\n",
    "        self.total_qubit=total_qubit #integer\n",
    "        self.J=J #matrix: undirected (symmetric)\n",
    "        \n",
    "    def Ham(self):\n",
    "        Ham_out=0;\n",
    "        for i in range(self.total_qubit):\n",
    "            for j in range(i,self.total_qubit):\n",
    "                opr=qt.tensor([qt.identity(2) if (k != i and k != j) else qt.sigmaz() for k in range(self.total_qubit)])\n",
    "                Ham_out=Ham_out+J[i][j]*opr\n",
    "        return(Ham_out)"
   ]
  },
  {
   "cell_type": "code",
   "execution_count": 3,
   "metadata": {},
   "outputs": [],
   "source": [
    "class QAOA:\n",
    "    def __init__(self, gamma, beta, p, graph):\n",
    "        ## what does graph has to contain:\n",
    "        # total_qubit -- integer\n",
    "        # J -- double matrix        \n",
    "        self.gamma=gamma\n",
    "        self.beta=beta\n",
    "        self.p=p\n",
    "        self.J=graph.J\n",
    "        self.total_qubit=graph.total_qubit\n",
    "        \n",
    "    def Uz(self,i,j,l):\n",
    "        opr=qt.tensor([qt.identity(2) if (k != i and k != j) else qt.sigmaz() for k in range(self.total_qubit)])\n",
    "        Hvar=-1j*self.gamma[l-1]*J[i][j]*opr\n",
    "        return(Hvar.expm())\n",
    "    \n",
    "    def Ux(self,i,l):\n",
    "        opr=qt.tensor([qt.identity(2) if (k != i) else qt.sigmax() for k in range(self.total_qubit)])\n",
    "        Hvar=-1j*self.beta[l-1]*J[i][j]*opr\n",
    "        return(Hvar.expm())\n",
    "    \n",
    "    def circuit(self):\n",
    "        Had=qt.tensor([qt.qip.operations.snot() for k in range(self.total_qubit)])\n",
    "        qaoa_circ=Had\n",
    "        for l in range(self.p):\n",
    "            #operate the Uz gates\n",
    "            for i in range(self.total_qubit):\n",
    "                for j in range(i,self.total_qubit):\n",
    "                    if i!= j:\n",
    "                        qaoa_circ=self.Uz(i,j,l)*qaoa_circ\n",
    "            #operate the Ux gates\n",
    "            for i in range(self.total_qubit):\n",
    "                qaoa_circ=self.Ux(i,l)*qaoa_circ\n",
    "        return(qaoa_circ)\n",
    "    \n",
    "    def state(self):\n",
    "        gnd=qt.basis(2,0)\n",
    "        state=qt.tensor([gnd for i in range(self.total_qubit)])\n",
    "        state=self.circuit()*state\n",
    "        return(state)\n",
    " "
   ]
  },
  {
   "cell_type": "markdown",
   "metadata": {},
   "source": [
    "### Objective functions\n",
    "\n",
    "Now that we have the simulation of the QAOA circuit, we need to optimize the parameters, namely gamma and beta array.\n",
    "\n",
    "But before that, we need to pick the objective function we are going to use."
   ]
  },
  {
   "cell_type": "markdown",
   "metadata": {},
   "source": [
    "__Average Energy__\n",
    "\n",
    "This is the traditional objective function for QAOA\n",
    "\n",
    "__Gibbs__\n",
    "\n",
    "This one is proposed by Li et al.\n",
    "\n",
    "__Average Gibbs__\n",
    "\n",
    "Actually doesn't have a name, proposed by P'Thip."
   ]
  },
  {
   "cell_type": "code",
   "execution_count": 4,
   "metadata": {},
   "outputs": [],
   "source": [
    "#so this is our fun in scipy.optimize.minimize\n",
    "# the form has to be fun(x, *arg)\n",
    "# x here has to be gamma and beta\n",
    "# arg* has to be graph and p\n",
    "\n",
    "def AveEnergy(x, *arg):\n",
    "    p=arg[0]\n",
    "    graph=arg[1]    \n",
    "    y=np.array_split(x,2)\n",
    "    gamma=y[0]\n",
    "    beta=y[1]\n",
    "\n",
    "    qaoa = QAOA(gamma,beta,p,graph)\n",
    "    output=qaoa.state()\n",
    "    \n",
    "    return((output.dag()*graph.Ham()*output).tr())\n",
    "\n",
    "def Gibbs(x, *arg):\n",
    "    p=arg[0]\n",
    "    graph=arg[1]    \n",
    "    y=np.array_split(x,2)\n",
    "    gamma=y[0]\n",
    "    beta=y[1]\n",
    "\n",
    "    qaoa = QAOA(gamma,beta,p,graph)\n",
    "    output=qaoa.state()\n",
    "    \n",
    "    f=-np.log((output.dag()*(-eta*graph.Ham()).expm()*output).tr())\n",
    "    return(f)\n",
    "\n",
    "def AveGibbs(x, *arg):\n",
    "    p=arg[0]\n",
    "    graph=arg[1]    \n",
    "    y=np.array_split(x,2)\n",
    "    gamma=y[0]\n",
    "    beta=y[1]\n",
    "\n",
    "    qaoa = QAOA(gamma,beta,p,graph)\n",
    "    output=qaoa.state()\n",
    "    \n",
    "    f=-np.log((output.dag()*graph.Ham()*(-eta*graph.Ham()).expm()*output).tr())\n",
    "    return(f)"
   ]
  },
  {
   "cell_type": "markdown",
   "metadata": {},
   "source": [
    "### Testing out the objective functions"
   ]
  },
  {
   "cell_type": "code",
   "execution_count": 6,
   "metadata": {},
   "outputs": [],
   "source": [
    "total_qubit=3 #number of qubit\n",
    "p=1 #number of layers\n",
    "\n",
    "#declaring QAOA parameters\n",
    "gamma=np.random.rand(p)\n",
    "beta=np.random.rand(p)\n",
    "\n",
    "#defining the problem\n",
    "J=np.random.rand(total_qubit,total_qubit) #creating the couping parameters,still directional in this instance)\n",
    "for i in range(total_qubit):\n",
    "    for j in range(i,total_qubit):\n",
    "        temp=(J[i][j]+J[j][i])/2.0\n",
    "        J[i][j]=temp\n",
    "        J[j][i]=temp\n",
    "#Now J is undirectional"
   ]
  },
  {
   "cell_type": "code",
   "execution_count": 7,
   "metadata": {},
   "outputs": [],
   "source": [
    "graph = Graph(total_qubit,J)\n",
    "\n",
    "x0=np.append(gamma,beta)\n",
    "arg=(p,graph)"
   ]
  },
  {
   "cell_type": "code",
   "execution_count": 7,
   "metadata": {},
   "outputs": [
    {
     "name": "stdout",
     "output_type": "stream",
     "text": [
      "[0.3935241  0.38254006] 0.20161524586840032\n",
      "[ 0.73099098 -0.97564473] -0.4477479785031178\n",
      "[-0.73097434  0.97561287] -0.4477479792367917\n"
     ]
    }
   ],
   "source": [
    "#Average Energy#\n",
    "print(x0,AveEnergy(x0,*arg))\n",
    "\n",
    "#now let's try minimize\n",
    "\n",
    "res=minimize(AveEnergy,x0,arg,method='Nelder-Mead')\n",
    "\n",
    "print(res.x,res.fun)\n",
    "\n",
    "bounds=[(-2,2),(-2,2)]\n",
    "res=differential_evolution(AveEnergy,bounds,args=arg)\n",
    "print(res.x,res.fun)\n"
   ]
  },
  {
   "cell_type": "code",
   "execution_count": 8,
   "metadata": {},
   "outputs": [
    {
     "name": "stdout",
     "output_type": "stream",
     "text": [
      "[0.3935241  0.38254006] -0.007313258293454474\n",
      "[ 0.73420673 -1.00192803] -0.1638273738270244\n",
      "[ 0.73423244 -1.00195652] -0.1638273740978262\n"
     ]
    }
   ],
   "source": [
    "#Gibbs energy\n",
    "eta=0.3 #how do we tune this again?\n",
    "print(x0,Gibbs(x0,*arg))\n",
    "\n",
    "res=minimize(Gibbs,x0,arg,method='Nelder-Mead')\n",
    "\n",
    "print(res.x,res.fun)\n",
    "\n",
    "bounds=[(-3,3),(-3,3)]\n",
    "res=differential_evolution(Gibbs,bounds,args=arg)\n",
    "print(res.x,res.fun)"
   ]
  },
  {
   "cell_type": "code",
   "execution_count": 7,
   "metadata": {},
   "outputs": [
    {
     "name": "stdout",
     "output_type": "stream",
     "text": [
      "[0.42066749 0.18437145] 2.107392194149803\n",
      "[1.10716958 1.40298256] -0.030829384229434313\n"
     ]
    },
    {
     "name": "stderr",
     "output_type": "stream",
     "text": [
      "<ipython-input-4-5500b78f2cb9>:41: RuntimeWarning: invalid value encountered in log\n",
      "  f=-np.log((output.dag()*graph.Ham()*(-eta*graph.Ham()).expm()*output).tr())\n"
     ]
    },
    {
     "ename": "ValueError",
     "evalue": "cannot convert float NaN to integer",
     "output_type": "error",
     "traceback": [
      "\u001b[1;31m---------------------------------------------------------------------------\u001b[0m",
      "\u001b[1;31mValueError\u001b[0m                                Traceback (most recent call last)",
      "\u001b[1;32m<ipython-input-7-19f86c0ecf3e>\u001b[0m in \u001b[0;36m<module>\u001b[1;34m\u001b[0m\n\u001b[0;32m      8\u001b[0m \u001b[1;33m\u001b[0m\u001b[0m\n\u001b[0;32m      9\u001b[0m \u001b[0mbounds\u001b[0m\u001b[1;33m=\u001b[0m\u001b[1;33m[\u001b[0m\u001b[1;33m(\u001b[0m\u001b[1;36m0\u001b[0m\u001b[1;33m,\u001b[0m\u001b[1;36m2\u001b[0m\u001b[1;33m)\u001b[0m\u001b[1;33m,\u001b[0m\u001b[1;33m(\u001b[0m\u001b[1;36m0\u001b[0m\u001b[1;33m,\u001b[0m\u001b[1;36m2\u001b[0m\u001b[1;33m)\u001b[0m\u001b[1;33m]\u001b[0m\u001b[1;33m\u001b[0m\u001b[1;33m\u001b[0m\u001b[0m\n\u001b[1;32m---> 10\u001b[1;33m \u001b[0mres\u001b[0m\u001b[1;33m=\u001b[0m\u001b[0mdifferential_evolution\u001b[0m\u001b[1;33m(\u001b[0m\u001b[0mAveGibbs\u001b[0m\u001b[1;33m,\u001b[0m\u001b[0mbounds\u001b[0m\u001b[1;33m,\u001b[0m\u001b[0margs\u001b[0m\u001b[1;33m=\u001b[0m\u001b[0marg\u001b[0m\u001b[1;33m)\u001b[0m\u001b[1;33m\u001b[0m\u001b[1;33m\u001b[0m\u001b[0m\n\u001b[0m\u001b[0;32m     11\u001b[0m \u001b[0mprint\u001b[0m\u001b[1;33m(\u001b[0m\u001b[0mres\u001b[0m\u001b[1;33m.\u001b[0m\u001b[0mx\u001b[0m\u001b[1;33m,\u001b[0m\u001b[0mres\u001b[0m\u001b[1;33m.\u001b[0m\u001b[0mfun\u001b[0m\u001b[1;33m)\u001b[0m\u001b[1;33m\u001b[0m\u001b[1;33m\u001b[0m\u001b[0m\n",
      "\u001b[1;32mC:\\ProgramData\\Anaconda3\\lib\\site-packages\\scipy\\optimize\\_differentialevolution.py\u001b[0m in \u001b[0;36mdifferential_evolution\u001b[1;34m(func, bounds, args, strategy, maxiter, popsize, tol, mutation, recombination, seed, callback, disp, polish, init, atol, updating, workers, constraints)\u001b[0m\n\u001b[0;32m    306\u001b[0m                                      \u001b[0mworkers\u001b[0m\u001b[1;33m=\u001b[0m\u001b[0mworkers\u001b[0m\u001b[1;33m,\u001b[0m\u001b[1;33m\u001b[0m\u001b[1;33m\u001b[0m\u001b[0m\n\u001b[0;32m    307\u001b[0m                                      constraints=constraints) as solver:\n\u001b[1;32m--> 308\u001b[1;33m         \u001b[0mret\u001b[0m \u001b[1;33m=\u001b[0m \u001b[0msolver\u001b[0m\u001b[1;33m.\u001b[0m\u001b[0msolve\u001b[0m\u001b[1;33m(\u001b[0m\u001b[1;33m)\u001b[0m\u001b[1;33m\u001b[0m\u001b[1;33m\u001b[0m\u001b[0m\n\u001b[0m\u001b[0;32m    309\u001b[0m \u001b[1;33m\u001b[0m\u001b[0m\n\u001b[0;32m    310\u001b[0m     \u001b[1;32mreturn\u001b[0m \u001b[0mret\u001b[0m\u001b[1;33m\u001b[0m\u001b[1;33m\u001b[0m\u001b[0m\n",
      "\u001b[1;32mC:\\ProgramData\\Anaconda3\\lib\\site-packages\\scipy\\optimize\\_differentialevolution.py\u001b[0m in \u001b[0;36msolve\u001b[1;34m(self)\u001b[0m\n\u001b[0;32m    808\u001b[0m                                   \" infeasible solution\", UserWarning)\n\u001b[0;32m    809\u001b[0m \u001b[1;33m\u001b[0m\u001b[0m\n\u001b[1;32m--> 810\u001b[1;33m             result = minimize(self.func,\n\u001b[0m\u001b[0;32m    811\u001b[0m                               \u001b[0mnp\u001b[0m\u001b[1;33m.\u001b[0m\u001b[0mcopy\u001b[0m\u001b[1;33m(\u001b[0m\u001b[0mDE_result\u001b[0m\u001b[1;33m.\u001b[0m\u001b[0mx\u001b[0m\u001b[1;33m)\u001b[0m\u001b[1;33m,\u001b[0m\u001b[1;33m\u001b[0m\u001b[1;33m\u001b[0m\u001b[0m\n\u001b[0;32m    812\u001b[0m                               \u001b[0mmethod\u001b[0m\u001b[1;33m=\u001b[0m\u001b[0mpolish_method\u001b[0m\u001b[1;33m,\u001b[0m\u001b[1;33m\u001b[0m\u001b[1;33m\u001b[0m\u001b[0m\n",
      "\u001b[1;32mC:\\ProgramData\\Anaconda3\\lib\\site-packages\\scipy\\optimize\\_minimize.py\u001b[0m in \u001b[0;36mminimize\u001b[1;34m(fun, x0, args, method, jac, hess, hessp, bounds, constraints, tol, callback, options)\u001b[0m\n\u001b[0;32m    615\u001b[0m                                   **options)\n\u001b[0;32m    616\u001b[0m     \u001b[1;32melif\u001b[0m \u001b[0mmeth\u001b[0m \u001b[1;33m==\u001b[0m \u001b[1;34m'l-bfgs-b'\u001b[0m\u001b[1;33m:\u001b[0m\u001b[1;33m\u001b[0m\u001b[1;33m\u001b[0m\u001b[0m\n\u001b[1;32m--> 617\u001b[1;33m         return _minimize_lbfgsb(fun, x0, args, jac, bounds,\n\u001b[0m\u001b[0;32m    618\u001b[0m                                 callback=callback, **options)\n\u001b[0;32m    619\u001b[0m     \u001b[1;32melif\u001b[0m \u001b[0mmeth\u001b[0m \u001b[1;33m==\u001b[0m \u001b[1;34m'tnc'\u001b[0m\u001b[1;33m:\u001b[0m\u001b[1;33m\u001b[0m\u001b[1;33m\u001b[0m\u001b[0m\n",
      "\u001b[1;32mC:\\ProgramData\\Anaconda3\\lib\\site-packages\\scipy\\optimize\\lbfgsb.py\u001b[0m in \u001b[0;36m_minimize_lbfgsb\u001b[1;34m(fun, x0, args, jac, bounds, disp, maxcor, ftol, gtol, eps, maxfun, maxiter, iprint, callback, maxls, finite_diff_rel_step, **unknown_options)\u001b[0m\n\u001b[0;32m    358\u001b[0m             \u001b[1;31m# until the completion of the current minimization iteration.\u001b[0m\u001b[1;33m\u001b[0m\u001b[1;33m\u001b[0m\u001b[1;33m\u001b[0m\u001b[0m\n\u001b[0;32m    359\u001b[0m             \u001b[1;31m# Overwrite f and g:\u001b[0m\u001b[1;33m\u001b[0m\u001b[1;33m\u001b[0m\u001b[1;33m\u001b[0m\u001b[0m\n\u001b[1;32m--> 360\u001b[1;33m             \u001b[0mf\u001b[0m\u001b[1;33m,\u001b[0m \u001b[0mg\u001b[0m \u001b[1;33m=\u001b[0m \u001b[0mfunc_and_grad\u001b[0m\u001b[1;33m(\u001b[0m\u001b[0mx\u001b[0m\u001b[1;33m)\u001b[0m\u001b[1;33m\u001b[0m\u001b[1;33m\u001b[0m\u001b[0m\n\u001b[0m\u001b[0;32m    361\u001b[0m         \u001b[1;32melif\u001b[0m \u001b[0mtask_str\u001b[0m\u001b[1;33m.\u001b[0m\u001b[0mstartswith\u001b[0m\u001b[1;33m(\u001b[0m\u001b[1;34mb'NEW_X'\u001b[0m\u001b[1;33m)\u001b[0m\u001b[1;33m:\u001b[0m\u001b[1;33m\u001b[0m\u001b[1;33m\u001b[0m\u001b[0m\n\u001b[0;32m    362\u001b[0m             \u001b[1;31m# new iteration\u001b[0m\u001b[1;33m\u001b[0m\u001b[1;33m\u001b[0m\u001b[1;33m\u001b[0m\u001b[0m\n",
      "\u001b[1;32mC:\\ProgramData\\Anaconda3\\lib\\site-packages\\scipy\\optimize\\_differentiable_functions.py\u001b[0m in \u001b[0;36mfun_and_grad\u001b[1;34m(self, x)\u001b[0m\n\u001b[0;32m    198\u001b[0m         \u001b[1;32mif\u001b[0m \u001b[1;32mnot\u001b[0m \u001b[0mnp\u001b[0m\u001b[1;33m.\u001b[0m\u001b[0marray_equal\u001b[0m\u001b[1;33m(\u001b[0m\u001b[0mx\u001b[0m\u001b[1;33m,\u001b[0m \u001b[0mself\u001b[0m\u001b[1;33m.\u001b[0m\u001b[0mx\u001b[0m\u001b[1;33m)\u001b[0m\u001b[1;33m:\u001b[0m\u001b[1;33m\u001b[0m\u001b[1;33m\u001b[0m\u001b[0m\n\u001b[0;32m    199\u001b[0m             \u001b[0mself\u001b[0m\u001b[1;33m.\u001b[0m\u001b[0m_update_x_impl\u001b[0m\u001b[1;33m(\u001b[0m\u001b[0mx\u001b[0m\u001b[1;33m)\u001b[0m\u001b[1;33m\u001b[0m\u001b[1;33m\u001b[0m\u001b[0m\n\u001b[1;32m--> 200\u001b[1;33m         \u001b[0mself\u001b[0m\u001b[1;33m.\u001b[0m\u001b[0m_update_fun\u001b[0m\u001b[1;33m(\u001b[0m\u001b[1;33m)\u001b[0m\u001b[1;33m\u001b[0m\u001b[1;33m\u001b[0m\u001b[0m\n\u001b[0m\u001b[0;32m    201\u001b[0m         \u001b[0mself\u001b[0m\u001b[1;33m.\u001b[0m\u001b[0m_update_grad\u001b[0m\u001b[1;33m(\u001b[0m\u001b[1;33m)\u001b[0m\u001b[1;33m\u001b[0m\u001b[1;33m\u001b[0m\u001b[0m\n\u001b[0;32m    202\u001b[0m         \u001b[1;32mreturn\u001b[0m \u001b[0mself\u001b[0m\u001b[1;33m.\u001b[0m\u001b[0mf\u001b[0m\u001b[1;33m,\u001b[0m \u001b[0mself\u001b[0m\u001b[1;33m.\u001b[0m\u001b[0mg\u001b[0m\u001b[1;33m\u001b[0m\u001b[1;33m\u001b[0m\u001b[0m\n",
      "\u001b[1;32mC:\\ProgramData\\Anaconda3\\lib\\site-packages\\scipy\\optimize\\_differentiable_functions.py\u001b[0m in \u001b[0;36m_update_fun\u001b[1;34m(self)\u001b[0m\n\u001b[0;32m    164\u001b[0m     \u001b[1;32mdef\u001b[0m \u001b[0m_update_fun\u001b[0m\u001b[1;33m(\u001b[0m\u001b[0mself\u001b[0m\u001b[1;33m)\u001b[0m\u001b[1;33m:\u001b[0m\u001b[1;33m\u001b[0m\u001b[1;33m\u001b[0m\u001b[0m\n\u001b[0;32m    165\u001b[0m         \u001b[1;32mif\u001b[0m \u001b[1;32mnot\u001b[0m \u001b[0mself\u001b[0m\u001b[1;33m.\u001b[0m\u001b[0mf_updated\u001b[0m\u001b[1;33m:\u001b[0m\u001b[1;33m\u001b[0m\u001b[1;33m\u001b[0m\u001b[0m\n\u001b[1;32m--> 166\u001b[1;33m             \u001b[0mself\u001b[0m\u001b[1;33m.\u001b[0m\u001b[0m_update_fun_impl\u001b[0m\u001b[1;33m(\u001b[0m\u001b[1;33m)\u001b[0m\u001b[1;33m\u001b[0m\u001b[1;33m\u001b[0m\u001b[0m\n\u001b[0m\u001b[0;32m    167\u001b[0m             \u001b[0mself\u001b[0m\u001b[1;33m.\u001b[0m\u001b[0mf_updated\u001b[0m \u001b[1;33m=\u001b[0m \u001b[1;32mTrue\u001b[0m\u001b[1;33m\u001b[0m\u001b[1;33m\u001b[0m\u001b[0m\n\u001b[0;32m    168\u001b[0m \u001b[1;33m\u001b[0m\u001b[0m\n",
      "\u001b[1;32mC:\\ProgramData\\Anaconda3\\lib\\site-packages\\scipy\\optimize\\_differentiable_functions.py\u001b[0m in \u001b[0;36mupdate_fun\u001b[1;34m()\u001b[0m\n\u001b[0;32m     71\u001b[0m \u001b[1;33m\u001b[0m\u001b[0m\n\u001b[0;32m     72\u001b[0m         \u001b[1;32mdef\u001b[0m \u001b[0mupdate_fun\u001b[0m\u001b[1;33m(\u001b[0m\u001b[1;33m)\u001b[0m\u001b[1;33m:\u001b[0m\u001b[1;33m\u001b[0m\u001b[1;33m\u001b[0m\u001b[0m\n\u001b[1;32m---> 73\u001b[1;33m             \u001b[0mself\u001b[0m\u001b[1;33m.\u001b[0m\u001b[0mf\u001b[0m \u001b[1;33m=\u001b[0m \u001b[0mfun_wrapped\u001b[0m\u001b[1;33m(\u001b[0m\u001b[0mself\u001b[0m\u001b[1;33m.\u001b[0m\u001b[0mx\u001b[0m\u001b[1;33m)\u001b[0m\u001b[1;33m\u001b[0m\u001b[1;33m\u001b[0m\u001b[0m\n\u001b[0m\u001b[0;32m     74\u001b[0m \u001b[1;33m\u001b[0m\u001b[0m\n\u001b[0;32m     75\u001b[0m         \u001b[0mself\u001b[0m\u001b[1;33m.\u001b[0m\u001b[0m_update_fun_impl\u001b[0m \u001b[1;33m=\u001b[0m \u001b[0mupdate_fun\u001b[0m\u001b[1;33m\u001b[0m\u001b[1;33m\u001b[0m\u001b[0m\n",
      "\u001b[1;32mC:\\ProgramData\\Anaconda3\\lib\\site-packages\\scipy\\optimize\\_differentiable_functions.py\u001b[0m in \u001b[0;36mfun_wrapped\u001b[1;34m(x)\u001b[0m\n\u001b[0;32m     68\u001b[0m         \u001b[1;32mdef\u001b[0m \u001b[0mfun_wrapped\u001b[0m\u001b[1;33m(\u001b[0m\u001b[0mx\u001b[0m\u001b[1;33m)\u001b[0m\u001b[1;33m:\u001b[0m\u001b[1;33m\u001b[0m\u001b[1;33m\u001b[0m\u001b[0m\n\u001b[0;32m     69\u001b[0m             \u001b[0mself\u001b[0m\u001b[1;33m.\u001b[0m\u001b[0mnfev\u001b[0m \u001b[1;33m+=\u001b[0m \u001b[1;36m1\u001b[0m\u001b[1;33m\u001b[0m\u001b[1;33m\u001b[0m\u001b[0m\n\u001b[1;32m---> 70\u001b[1;33m             \u001b[1;32mreturn\u001b[0m \u001b[0mfun\u001b[0m\u001b[1;33m(\u001b[0m\u001b[0mx\u001b[0m\u001b[1;33m,\u001b[0m \u001b[1;33m*\u001b[0m\u001b[0margs\u001b[0m\u001b[1;33m)\u001b[0m\u001b[1;33m\u001b[0m\u001b[1;33m\u001b[0m\u001b[0m\n\u001b[0m\u001b[0;32m     71\u001b[0m \u001b[1;33m\u001b[0m\u001b[0m\n\u001b[0;32m     72\u001b[0m         \u001b[1;32mdef\u001b[0m \u001b[0mupdate_fun\u001b[0m\u001b[1;33m(\u001b[0m\u001b[1;33m)\u001b[0m\u001b[1;33m:\u001b[0m\u001b[1;33m\u001b[0m\u001b[1;33m\u001b[0m\u001b[0m\n",
      "\u001b[1;32mC:\\ProgramData\\Anaconda3\\lib\\site-packages\\scipy\\optimize\\_differentialevolution.py\u001b[0m in \u001b[0;36m__call__\u001b[1;34m(self, x)\u001b[0m\n\u001b[0;32m   1259\u001b[0m \u001b[1;33m\u001b[0m\u001b[0m\n\u001b[0;32m   1260\u001b[0m     \u001b[1;32mdef\u001b[0m \u001b[0m__call__\u001b[0m\u001b[1;33m(\u001b[0m\u001b[0mself\u001b[0m\u001b[1;33m,\u001b[0m \u001b[0mx\u001b[0m\u001b[1;33m)\u001b[0m\u001b[1;33m:\u001b[0m\u001b[1;33m\u001b[0m\u001b[1;33m\u001b[0m\u001b[0m\n\u001b[1;32m-> 1261\u001b[1;33m         \u001b[1;32mreturn\u001b[0m \u001b[0mself\u001b[0m\u001b[1;33m.\u001b[0m\u001b[0mf\u001b[0m\u001b[1;33m(\u001b[0m\u001b[0mx\u001b[0m\u001b[1;33m,\u001b[0m \u001b[1;33m*\u001b[0m\u001b[0mself\u001b[0m\u001b[1;33m.\u001b[0m\u001b[0margs\u001b[0m\u001b[1;33m)\u001b[0m\u001b[1;33m\u001b[0m\u001b[1;33m\u001b[0m\u001b[0m\n\u001b[0m\u001b[0;32m   1262\u001b[0m \u001b[1;33m\u001b[0m\u001b[0m\n\u001b[0;32m   1263\u001b[0m \u001b[1;33m\u001b[0m\u001b[0m\n",
      "\u001b[1;32m<ipython-input-4-5500b78f2cb9>\u001b[0m in \u001b[0;36mAveGibbs\u001b[1;34m(x, *arg)\u001b[0m\n\u001b[0;32m     37\u001b[0m \u001b[1;33m\u001b[0m\u001b[0m\n\u001b[0;32m     38\u001b[0m     \u001b[0mqaoa\u001b[0m \u001b[1;33m=\u001b[0m \u001b[0mQAOA\u001b[0m\u001b[1;33m(\u001b[0m\u001b[0mgamma\u001b[0m\u001b[1;33m,\u001b[0m\u001b[0mbeta\u001b[0m\u001b[1;33m,\u001b[0m\u001b[0mp\u001b[0m\u001b[1;33m,\u001b[0m\u001b[0mgraph\u001b[0m\u001b[1;33m)\u001b[0m\u001b[1;33m\u001b[0m\u001b[1;33m\u001b[0m\u001b[0m\n\u001b[1;32m---> 39\u001b[1;33m     \u001b[0moutput\u001b[0m\u001b[1;33m=\u001b[0m\u001b[0mqaoa\u001b[0m\u001b[1;33m.\u001b[0m\u001b[0mstate\u001b[0m\u001b[1;33m(\u001b[0m\u001b[1;33m)\u001b[0m\u001b[1;33m\u001b[0m\u001b[1;33m\u001b[0m\u001b[0m\n\u001b[0m\u001b[0;32m     40\u001b[0m \u001b[1;33m\u001b[0m\u001b[0m\n\u001b[0;32m     41\u001b[0m     \u001b[0mf\u001b[0m\u001b[1;33m=\u001b[0m\u001b[1;33m-\u001b[0m\u001b[0mnp\u001b[0m\u001b[1;33m.\u001b[0m\u001b[0mlog\u001b[0m\u001b[1;33m(\u001b[0m\u001b[1;33m(\u001b[0m\u001b[0moutput\u001b[0m\u001b[1;33m.\u001b[0m\u001b[0mdag\u001b[0m\u001b[1;33m(\u001b[0m\u001b[1;33m)\u001b[0m\u001b[1;33m*\u001b[0m\u001b[0mgraph\u001b[0m\u001b[1;33m.\u001b[0m\u001b[0mHam\u001b[0m\u001b[1;33m(\u001b[0m\u001b[1;33m)\u001b[0m\u001b[1;33m*\u001b[0m\u001b[1;33m(\u001b[0m\u001b[1;33m-\u001b[0m\u001b[0meta\u001b[0m\u001b[1;33m*\u001b[0m\u001b[0mgraph\u001b[0m\u001b[1;33m.\u001b[0m\u001b[0mHam\u001b[0m\u001b[1;33m(\u001b[0m\u001b[1;33m)\u001b[0m\u001b[1;33m)\u001b[0m\u001b[1;33m.\u001b[0m\u001b[0mexpm\u001b[0m\u001b[1;33m(\u001b[0m\u001b[1;33m)\u001b[0m\u001b[1;33m*\u001b[0m\u001b[0moutput\u001b[0m\u001b[1;33m)\u001b[0m\u001b[1;33m.\u001b[0m\u001b[0mtr\u001b[0m\u001b[1;33m(\u001b[0m\u001b[1;33m)\u001b[0m\u001b[1;33m)\u001b[0m\u001b[1;33m\u001b[0m\u001b[1;33m\u001b[0m\u001b[0m\n",
      "\u001b[1;32m<ipython-input-3-c2ceca2ed635>\u001b[0m in \u001b[0;36mstate\u001b[1;34m(self)\u001b[0m\n\u001b[0;32m     37\u001b[0m         \u001b[0mgnd\u001b[0m\u001b[1;33m=\u001b[0m\u001b[0mqt\u001b[0m\u001b[1;33m.\u001b[0m\u001b[0mbasis\u001b[0m\u001b[1;33m(\u001b[0m\u001b[1;36m2\u001b[0m\u001b[1;33m,\u001b[0m\u001b[1;36m0\u001b[0m\u001b[1;33m)\u001b[0m\u001b[1;33m\u001b[0m\u001b[1;33m\u001b[0m\u001b[0m\n\u001b[0;32m     38\u001b[0m         \u001b[0mstate\u001b[0m\u001b[1;33m=\u001b[0m\u001b[0mqt\u001b[0m\u001b[1;33m.\u001b[0m\u001b[0mtensor\u001b[0m\u001b[1;33m(\u001b[0m\u001b[1;33m[\u001b[0m\u001b[0mgnd\u001b[0m \u001b[1;32mfor\u001b[0m \u001b[0mi\u001b[0m \u001b[1;32min\u001b[0m \u001b[0mrange\u001b[0m\u001b[1;33m(\u001b[0m\u001b[0mself\u001b[0m\u001b[1;33m.\u001b[0m\u001b[0mtotal_qubit\u001b[0m\u001b[1;33m)\u001b[0m\u001b[1;33m]\u001b[0m\u001b[1;33m)\u001b[0m\u001b[1;33m\u001b[0m\u001b[1;33m\u001b[0m\u001b[0m\n\u001b[1;32m---> 39\u001b[1;33m         \u001b[0mstate\u001b[0m\u001b[1;33m=\u001b[0m\u001b[0mself\u001b[0m\u001b[1;33m.\u001b[0m\u001b[0mcircuit\u001b[0m\u001b[1;33m(\u001b[0m\u001b[1;33m)\u001b[0m\u001b[1;33m*\u001b[0m\u001b[0mstate\u001b[0m\u001b[1;33m\u001b[0m\u001b[1;33m\u001b[0m\u001b[0m\n\u001b[0m\u001b[0;32m     40\u001b[0m         \u001b[1;32mreturn\u001b[0m\u001b[1;33m(\u001b[0m\u001b[0mstate\u001b[0m\u001b[1;33m)\u001b[0m\u001b[1;33m\u001b[0m\u001b[1;33m\u001b[0m\u001b[0m\n\u001b[0;32m     41\u001b[0m \u001b[1;33m\u001b[0m\u001b[0m\n",
      "\u001b[1;32m<ipython-input-3-c2ceca2ed635>\u001b[0m in \u001b[0;36mcircuit\u001b[1;34m(self)\u001b[0m\n\u001b[0;32m     31\u001b[0m             \u001b[1;31m#operate the Ux gates\u001b[0m\u001b[1;33m\u001b[0m\u001b[1;33m\u001b[0m\u001b[1;33m\u001b[0m\u001b[0m\n\u001b[0;32m     32\u001b[0m             \u001b[1;32mfor\u001b[0m \u001b[0mi\u001b[0m \u001b[1;32min\u001b[0m \u001b[0mrange\u001b[0m\u001b[1;33m(\u001b[0m\u001b[0mself\u001b[0m\u001b[1;33m.\u001b[0m\u001b[0mtotal_qubit\u001b[0m\u001b[1;33m)\u001b[0m\u001b[1;33m:\u001b[0m\u001b[1;33m\u001b[0m\u001b[1;33m\u001b[0m\u001b[0m\n\u001b[1;32m---> 33\u001b[1;33m                 \u001b[0mqaoa_circ\u001b[0m\u001b[1;33m=\u001b[0m\u001b[0mself\u001b[0m\u001b[1;33m.\u001b[0m\u001b[0mUx\u001b[0m\u001b[1;33m(\u001b[0m\u001b[0mi\u001b[0m\u001b[1;33m,\u001b[0m\u001b[0ml\u001b[0m\u001b[1;33m)\u001b[0m\u001b[1;33m*\u001b[0m\u001b[0mqaoa_circ\u001b[0m\u001b[1;33m\u001b[0m\u001b[1;33m\u001b[0m\u001b[0m\n\u001b[0m\u001b[0;32m     34\u001b[0m         \u001b[1;32mreturn\u001b[0m\u001b[1;33m(\u001b[0m\u001b[0mqaoa_circ\u001b[0m\u001b[1;33m)\u001b[0m\u001b[1;33m\u001b[0m\u001b[1;33m\u001b[0m\u001b[0m\n\u001b[0;32m     35\u001b[0m \u001b[1;33m\u001b[0m\u001b[0m\n",
      "\u001b[1;32m<ipython-input-3-c2ceca2ed635>\u001b[0m in \u001b[0;36mUx\u001b[1;34m(self, i, l)\u001b[0m\n\u001b[0;32m     18\u001b[0m         \u001b[0mopr\u001b[0m\u001b[1;33m=\u001b[0m\u001b[0mqt\u001b[0m\u001b[1;33m.\u001b[0m\u001b[0mtensor\u001b[0m\u001b[1;33m(\u001b[0m\u001b[1;33m[\u001b[0m\u001b[0mqt\u001b[0m\u001b[1;33m.\u001b[0m\u001b[0midentity\u001b[0m\u001b[1;33m(\u001b[0m\u001b[1;36m2\u001b[0m\u001b[1;33m)\u001b[0m \u001b[1;32mif\u001b[0m \u001b[1;33m(\u001b[0m\u001b[0mk\u001b[0m \u001b[1;33m!=\u001b[0m \u001b[0mi\u001b[0m\u001b[1;33m)\u001b[0m \u001b[1;32melse\u001b[0m \u001b[0mqt\u001b[0m\u001b[1;33m.\u001b[0m\u001b[0msigmax\u001b[0m\u001b[1;33m(\u001b[0m\u001b[1;33m)\u001b[0m \u001b[1;32mfor\u001b[0m \u001b[0mk\u001b[0m \u001b[1;32min\u001b[0m \u001b[0mrange\u001b[0m\u001b[1;33m(\u001b[0m\u001b[0mself\u001b[0m\u001b[1;33m.\u001b[0m\u001b[0mtotal_qubit\u001b[0m\u001b[1;33m)\u001b[0m\u001b[1;33m]\u001b[0m\u001b[1;33m)\u001b[0m\u001b[1;33m\u001b[0m\u001b[1;33m\u001b[0m\u001b[0m\n\u001b[0;32m     19\u001b[0m         \u001b[0mHvar\u001b[0m\u001b[1;33m=\u001b[0m\u001b[1;33m-\u001b[0m\u001b[1;36m1j\u001b[0m\u001b[1;33m*\u001b[0m\u001b[0mself\u001b[0m\u001b[1;33m.\u001b[0m\u001b[0mbeta\u001b[0m\u001b[1;33m[\u001b[0m\u001b[0ml\u001b[0m\u001b[1;33m-\u001b[0m\u001b[1;36m1\u001b[0m\u001b[1;33m]\u001b[0m\u001b[1;33m*\u001b[0m\u001b[0mJ\u001b[0m\u001b[1;33m[\u001b[0m\u001b[0mi\u001b[0m\u001b[1;33m]\u001b[0m\u001b[1;33m[\u001b[0m\u001b[0mj\u001b[0m\u001b[1;33m]\u001b[0m\u001b[1;33m*\u001b[0m\u001b[0mopr\u001b[0m\u001b[1;33m\u001b[0m\u001b[1;33m\u001b[0m\u001b[0m\n\u001b[1;32m---> 20\u001b[1;33m         \u001b[1;32mreturn\u001b[0m\u001b[1;33m(\u001b[0m\u001b[0mHvar\u001b[0m\u001b[1;33m.\u001b[0m\u001b[0mexpm\u001b[0m\u001b[1;33m(\u001b[0m\u001b[1;33m)\u001b[0m\u001b[1;33m)\u001b[0m\u001b[1;33m\u001b[0m\u001b[1;33m\u001b[0m\u001b[0m\n\u001b[0m\u001b[0;32m     21\u001b[0m \u001b[1;33m\u001b[0m\u001b[0m\n\u001b[0;32m     22\u001b[0m     \u001b[1;32mdef\u001b[0m \u001b[0mcircuit\u001b[0m\u001b[1;33m(\u001b[0m\u001b[0mself\u001b[0m\u001b[1;33m)\u001b[0m\u001b[1;33m:\u001b[0m\u001b[1;33m\u001b[0m\u001b[1;33m\u001b[0m\u001b[0m\n",
      "\u001b[1;32mC:\\ProgramData\\Anaconda3\\lib\\site-packages\\qutip\\qobj.py\u001b[0m in \u001b[0;36mexpm\u001b[1;34m(self, method)\u001b[0m\n\u001b[0;32m   1139\u001b[0m \u001b[1;33m\u001b[0m\u001b[0m\n\u001b[0;32m   1140\u001b[0m         \u001b[1;32mif\u001b[0m \u001b[0mmethod\u001b[0m \u001b[1;33m==\u001b[0m \u001b[1;34m'dense'\u001b[0m\u001b[1;33m:\u001b[0m\u001b[1;33m\u001b[0m\u001b[1;33m\u001b[0m\u001b[0m\n\u001b[1;32m-> 1141\u001b[1;33m             \u001b[0mF\u001b[0m \u001b[1;33m=\u001b[0m \u001b[0msp_expm\u001b[0m\u001b[1;33m(\u001b[0m\u001b[0mself\u001b[0m\u001b[1;33m.\u001b[0m\u001b[0mdata\u001b[0m\u001b[1;33m,\u001b[0m \u001b[0msparse\u001b[0m\u001b[1;33m=\u001b[0m\u001b[1;32mFalse\u001b[0m\u001b[1;33m)\u001b[0m\u001b[1;33m\u001b[0m\u001b[1;33m\u001b[0m\u001b[0m\n\u001b[0m\u001b[0;32m   1142\u001b[0m \u001b[1;33m\u001b[0m\u001b[0m\n\u001b[0;32m   1143\u001b[0m         \u001b[1;32melif\u001b[0m \u001b[0mmethod\u001b[0m \u001b[1;33m==\u001b[0m \u001b[1;34m'sparse'\u001b[0m\u001b[1;33m:\u001b[0m\u001b[1;33m\u001b[0m\u001b[1;33m\u001b[0m\u001b[0m\n",
      "\u001b[1;32mC:\\ProgramData\\Anaconda3\\lib\\site-packages\\qutip\\sparse.py\u001b[0m in \u001b[0;36msp_expm\u001b[1;34m(A, sparse)\u001b[0m\n\u001b[0;32m    429\u001b[0m         \u001b[0mE\u001b[0m \u001b[1;33m=\u001b[0m \u001b[0mspla\u001b[0m\u001b[1;33m.\u001b[0m\u001b[0mexpm\u001b[0m\u001b[1;33m(\u001b[0m\u001b[0mA\u001b[0m\u001b[1;33m.\u001b[0m\u001b[0mtocsc\u001b[0m\u001b[1;33m(\u001b[0m\u001b[1;33m)\u001b[0m\u001b[1;33m)\u001b[0m\u001b[1;33m\u001b[0m\u001b[1;33m\u001b[0m\u001b[0m\n\u001b[0;32m    430\u001b[0m     \u001b[1;32melse\u001b[0m\u001b[1;33m:\u001b[0m\u001b[1;33m\u001b[0m\u001b[1;33m\u001b[0m\u001b[0m\n\u001b[1;32m--> 431\u001b[1;33m         \u001b[0mE\u001b[0m \u001b[1;33m=\u001b[0m \u001b[0mspla\u001b[0m\u001b[1;33m.\u001b[0m\u001b[0mexpm\u001b[0m\u001b[1;33m(\u001b[0m\u001b[0mA\u001b[0m\u001b[1;33m.\u001b[0m\u001b[0mtoarray\u001b[0m\u001b[1;33m(\u001b[0m\u001b[1;33m)\u001b[0m\u001b[1;33m)\u001b[0m\u001b[1;33m\u001b[0m\u001b[1;33m\u001b[0m\u001b[0m\n\u001b[0m\u001b[0;32m    432\u001b[0m     \u001b[1;32mreturn\u001b[0m \u001b[0msp\u001b[0m\u001b[1;33m.\u001b[0m\u001b[0mcsr_matrix\u001b[0m\u001b[1;33m(\u001b[0m\u001b[0mE\u001b[0m\u001b[1;33m)\u001b[0m\u001b[1;33m\u001b[0m\u001b[1;33m\u001b[0m\u001b[0m\n\u001b[0;32m    433\u001b[0m \u001b[1;33m\u001b[0m\u001b[0m\n",
      "\u001b[1;32mC:\\ProgramData\\Anaconda3\\lib\\site-packages\\scipy\\sparse\\linalg\\matfuncs.py\u001b[0m in \u001b[0;36mexpm\u001b[1;34m(A)\u001b[0m\n\u001b[0;32m    590\u001b[0m             [  0.        ,   0.        ,  20.08553692]])\n\u001b[0;32m    591\u001b[0m     \"\"\"\n\u001b[1;32m--> 592\u001b[1;33m     \u001b[1;32mreturn\u001b[0m \u001b[0m_expm\u001b[0m\u001b[1;33m(\u001b[0m\u001b[0mA\u001b[0m\u001b[1;33m,\u001b[0m \u001b[0muse_exact_onenorm\u001b[0m\u001b[1;33m=\u001b[0m\u001b[1;34m'auto'\u001b[0m\u001b[1;33m)\u001b[0m\u001b[1;33m\u001b[0m\u001b[1;33m\u001b[0m\u001b[0m\n\u001b[0m\u001b[0;32m    593\u001b[0m \u001b[1;33m\u001b[0m\u001b[0m\n\u001b[0;32m    594\u001b[0m \u001b[1;33m\u001b[0m\u001b[0m\n",
      "\u001b[1;32mC:\\ProgramData\\Anaconda3\\lib\\site-packages\\scipy\\sparse\\linalg\\matfuncs.py\u001b[0m in \u001b[0;36m_expm\u001b[1;34m(A, use_exact_onenorm)\u001b[0m\n\u001b[0;32m    669\u001b[0m         \u001b[0ms\u001b[0m \u001b[1;33m=\u001b[0m \u001b[1;36m0\u001b[0m\u001b[1;33m\u001b[0m\u001b[1;33m\u001b[0m\u001b[0m\n\u001b[0;32m    670\u001b[0m     \u001b[1;32melse\u001b[0m\u001b[1;33m:\u001b[0m\u001b[1;33m\u001b[0m\u001b[1;33m\u001b[0m\u001b[0m\n\u001b[1;32m--> 671\u001b[1;33m         \u001b[0ms\u001b[0m \u001b[1;33m=\u001b[0m \u001b[0mmax\u001b[0m\u001b[1;33m(\u001b[0m\u001b[0mint\u001b[0m\u001b[1;33m(\u001b[0m\u001b[0mnp\u001b[0m\u001b[1;33m.\u001b[0m\u001b[0mceil\u001b[0m\u001b[1;33m(\u001b[0m\u001b[0mnp\u001b[0m\u001b[1;33m.\u001b[0m\u001b[0mlog2\u001b[0m\u001b[1;33m(\u001b[0m\u001b[0meta_5\u001b[0m \u001b[1;33m/\u001b[0m \u001b[0mtheta_13\u001b[0m\u001b[1;33m)\u001b[0m\u001b[1;33m)\u001b[0m\u001b[1;33m)\u001b[0m\u001b[1;33m,\u001b[0m \u001b[1;36m0\u001b[0m\u001b[1;33m)\u001b[0m\u001b[1;33m\u001b[0m\u001b[1;33m\u001b[0m\u001b[0m\n\u001b[0m\u001b[0;32m    672\u001b[0m     \u001b[0ms\u001b[0m \u001b[1;33m=\u001b[0m \u001b[0ms\u001b[0m \u001b[1;33m+\u001b[0m \u001b[0m_ell\u001b[0m\u001b[1;33m(\u001b[0m\u001b[1;36m2\u001b[0m\u001b[1;33m**\u001b[0m\u001b[1;33m-\u001b[0m\u001b[0ms\u001b[0m \u001b[1;33m*\u001b[0m \u001b[0mh\u001b[0m\u001b[1;33m.\u001b[0m\u001b[0mA\u001b[0m\u001b[1;33m,\u001b[0m \u001b[1;36m13\u001b[0m\u001b[1;33m)\u001b[0m\u001b[1;33m\u001b[0m\u001b[1;33m\u001b[0m\u001b[0m\n\u001b[0;32m    673\u001b[0m     \u001b[0mU\u001b[0m\u001b[1;33m,\u001b[0m \u001b[0mV\u001b[0m \u001b[1;33m=\u001b[0m \u001b[0mh\u001b[0m\u001b[1;33m.\u001b[0m\u001b[0mpade13_scaled\u001b[0m\u001b[1;33m(\u001b[0m\u001b[0ms\u001b[0m\u001b[1;33m)\u001b[0m\u001b[1;33m\u001b[0m\u001b[1;33m\u001b[0m\u001b[0m\n",
      "\u001b[1;31mValueError\u001b[0m: cannot convert float NaN to integer"
     ]
    }
   ],
   "source": [
    "#Average Gibbs\n",
    "eta=0.01\n",
    "print(x0,AveGibbs(x0,*arg))\n",
    "\n",
    "res=minimize(AveGibbs,x0,arg,method='Nelder-Mead')\n",
    "\n",
    "print(res.x,res.fun)\n",
    "\n",
    "bounds=[(0,2),(0,2)]\n",
    "res=differential_evolution(AveGibbs,bounds,args=arg)\n",
    "print(res.x,res.fun)"
   ]
  },
  {
   "cell_type": "markdown",
   "metadata": {},
   "source": [
    "Observations:\n",
    "\n",
    "* As expected, the Gibbs energy depend on eta, but we don't have a good idea what value to use.\n",
    "* Average Gibbs yields nan. Not sure what happens there yet."
   ]
  },
  {
   "cell_type": "markdown",
   "metadata": {},
   "source": [
    "### Ploting the landscape "
   ]
  },
  {
   "cell_type": "code",
   "execution_count": 10,
   "metadata": {},
   "outputs": [
    {
     "name": "stdout",
     "output_type": "stream",
     "text": [
      "[-2.          0.83562011  0.01024446  0.03114429 -2.          0.07822395]\n",
      "-0.5469010409866379\n",
      "[-2.          0.83562011  0.01024446  0.03114429 -1.71428571  0.07822395]\n",
      "-0.5747989772383694\n",
      "[-2.          0.83562011  0.01024446  0.03114429 -1.42857143  0.07822395]\n",
      "-0.4954633054509182\n",
      "[-2.          0.83562011  0.01024446  0.03114429 -1.14285714  0.07822395]\n",
      "-0.5702562952156083\n",
      "[-2.          0.83562011  0.01024446  0.03114429 -0.85714286  0.07822395]\n",
      "-0.5373070611945319\n",
      "[-2.          0.83562011  0.01024446  0.03114429 -0.57142857  0.07822395]\n",
      "-0.528631583194605\n",
      "[-2.          0.83562011  0.01024446  0.03114429 -0.28571429  0.07822395]\n",
      "-0.5093491890733796\n",
      "[-2.          0.83562011  0.01024446  0.03114429  0.          0.07822395]\n",
      "-0.5051204091610201\n",
      "[-2.          0.83562011  0.01024446  0.03114429  0.28571429  0.07822395]\n",
      "-0.4935217676098147\n",
      "[-2.          0.83562011  0.01024446  0.03114429  0.57142857  0.07822395]\n",
      "-0.5838742786869857\n",
      "[-2.          0.83562011  0.01024446  0.03114429  0.85714286  0.07822395]\n",
      "-0.5256844127441701\n",
      "[-2.          0.83562011  0.01024446  0.03114429  1.14285714  0.07822395]\n",
      "-0.5862466111519236\n",
      "[-2.          0.83562011  0.01024446  0.03114429  1.42857143  0.07822395]\n",
      "-0.5789177125925088\n",
      "[-2.          0.83562011  0.01024446  0.03114429  1.71428571  0.07822395]\n",
      "-0.5980397332329206\n",
      "[-2.          0.83562011  0.01024446  0.03114429  2.          0.07822395]\n",
      "-0.5255914176979822\n",
      "[-1.71428571  0.83562011  0.01024446  0.03114429 -2.          0.07822395]\n",
      "-0.5584635474481289\n",
      "[-1.71428571  0.83562011  0.01024446  0.03114429 -1.71428571  0.07822395]\n",
      "-0.5701567248772242\n",
      "[-1.71428571  0.83562011  0.01024446  0.03114429 -1.42857143  0.07822395]\n",
      "-0.5354203055653433\n",
      "[-1.71428571  0.83562011  0.01024446  0.03114429 -1.14285714  0.07822395]\n",
      "-0.5389104985748988\n",
      "[-1.71428571  0.83562011  0.01024446  0.03114429 -0.85714286  0.07822395]\n",
      "-0.5471004195061698\n",
      "[-1.71428571  0.83562011  0.01024446  0.03114429 -0.57142857  0.07822395]\n",
      "-0.592328791411519\n",
      "[-1.71428571  0.83562011  0.01024446  0.03114429 -0.28571429  0.07822395]\n",
      "-0.5867665129771462\n",
      "[-1.71428571  0.83562011  0.01024446  0.03114429  0.          0.07822395]\n",
      "-0.5396703536808013\n",
      "[-1.71428571  0.83562011  0.01024446  0.03114429  0.28571429  0.07822395]\n",
      "-0.5204287186308524\n",
      "[-1.71428571  0.83562011  0.01024446  0.03114429  0.57142857  0.07822395]\n",
      "-0.5868689247862807\n",
      "[-1.71428571  0.83562011  0.01024446  0.03114429  0.85714286  0.07822395]\n",
      "-0.5751001014232108\n",
      "[-1.71428571  0.83562011  0.01024446  0.03114429  1.14285714  0.07822395]\n",
      "-0.5868973741774796\n",
      "[-1.71428571  0.83562011  0.01024446  0.03114429  1.42857143  0.07822395]\n",
      "-0.5377514818629737\n",
      "[-1.71428571  0.83562011  0.01024446  0.03114429  1.71428571  0.07822395]\n",
      "-0.5303346958670913\n",
      "[-1.71428571  0.83562011  0.01024446  0.03114429  2.          0.07822395]\n",
      "-0.5383998080856153\n",
      "[-1.42857143  0.83562011  0.01024446  0.03114429 -2.          0.07822395]\n",
      "-0.5495402983506786\n",
      "[-1.42857143  0.83562011  0.01024446  0.03114429 -1.71428571  0.07822395]\n",
      "-0.5716443108076562\n",
      "[-1.42857143  0.83562011  0.01024446  0.03114429 -1.42857143  0.07822395]\n",
      "-0.5370509238865253\n",
      "[-1.42857143  0.83562011  0.01024446  0.03114429 -1.14285714  0.07822395]\n",
      "-0.5455356022057056\n",
      "[-1.42857143  0.83562011  0.01024446  0.03114429 -0.85714286  0.07822395]\n",
      "-0.5392815255374248\n",
      "[-1.42857143  0.83562011  0.01024446  0.03114429 -0.57142857  0.07822395]\n",
      "-0.538902352313435\n",
      "[-1.42857143  0.83562011  0.01024446  0.03114429 -0.28571429  0.07822395]\n",
      "-0.5397147053000192\n",
      "[-1.42857143  0.83562011  0.01024446  0.03114429  0.          0.07822395]\n",
      "-0.5086157172099675\n",
      "[-1.42857143  0.83562011  0.01024446  0.03114429  0.28571429  0.07822395]\n",
      "-0.5411129302988225\n",
      "[-1.42857143  0.83562011  0.01024446  0.03114429  0.57142857  0.07822395]\n",
      "-0.581966585902601\n",
      "[-1.42857143  0.83562011  0.01024446  0.03114429  0.85714286  0.07822395]\n",
      "-0.5841145292433445\n",
      "[-1.42857143  0.83562011  0.01024446  0.03114429  1.14285714  0.07822395]\n",
      "-0.5426788774596327\n",
      "[-1.42857143  0.83562011  0.01024446  0.03114429  1.42857143  0.07822395]\n",
      "-0.5827016978876027\n",
      "[-1.42857143  0.83562011  0.01024446  0.03114429  1.71428571  0.07822395]\n",
      "-0.5798216634999495\n",
      "[-1.42857143  0.83562011  0.01024446  0.03114429  2.          0.07822395]\n",
      "-0.5402345544203726\n",
      "[-1.14285714  0.83562011  0.01024446  0.03114429 -2.          0.07822395]\n",
      "-0.516726766876608\n",
      "[-1.14285714  0.83562011  0.01024446  0.03114429 -1.71428571  0.07822395]\n",
      "-0.49080853690003295\n",
      "[-1.14285714  0.83562011  0.01024446  0.03114429 -1.42857143  0.07822395]\n",
      "-0.5383201771666781\n",
      "[-1.14285714  0.83562011  0.01024446  0.03114429 -1.14285714  0.07822395]\n",
      "-0.5443401761835418\n",
      "[-1.14285714  0.83562011  0.01024446  0.03114429 -0.85714286  0.07822395]\n",
      "-0.5375896200877013\n",
      "[-1.14285714  0.83562011  0.01024446  0.03114429 -0.57142857  0.07822395]\n",
      "-0.5358342194449855\n",
      "[-1.14285714  0.83562011  0.01024446  0.03114429 -0.28571429  0.07822395]\n",
      "-0.5778821139815378\n",
      "[-1.14285714  0.83562011  0.01024446  0.03114429  0.          0.07822395]\n",
      "-0.5795548858311074\n",
      "[-1.14285714  0.83562011  0.01024446  0.03114429  0.28571429  0.07822395]\n",
      "-0.5386268005198325\n",
      "[-1.14285714  0.83562011  0.01024446  0.03114429  0.57142857  0.07822395]\n",
      "-0.5215604087515568\n",
      "[-1.14285714  0.83562011  0.01024446  0.03114429  0.85714286  0.07822395]\n",
      "-0.5526896217782509\n",
      "[-1.14285714  0.83562011  0.01024446  0.03114429  1.14285714  0.07822395]\n",
      "-0.5524226655038545\n",
      "[-1.14285714  0.83562011  0.01024446  0.03114429  1.42857143  0.07822395]\n",
      "-0.5561151145317563\n",
      "[-1.14285714  0.83562011  0.01024446  0.03114429  1.71428571  0.07822395]\n",
      "-0.5884040609090394\n",
      "[-1.14285714  0.83562011  0.01024446  0.03114429  2.          0.07822395]\n",
      "-0.5383197447118515\n",
      "[-0.85714286  0.83562011  0.01024446  0.03114429 -2.          0.07822395]\n",
      "-0.5443502488367681\n",
      "[-0.85714286  0.83562011  0.01024446  0.03114429 -1.71428571  0.07822395]\n",
      "-0.5121277369838174\n",
      "[-0.85714286  0.83562011  0.01024446  0.03114429 -1.42857143  0.07822395]\n",
      "-0.5393329168394515\n",
      "[-0.85714286  0.83562011  0.01024446  0.03114429 -1.14285714  0.07822395]\n",
      "-0.5411792299963006\n",
      "[-0.85714286  0.83562011  0.01024446  0.03114429 -0.85714286  0.07822395]\n",
      "-0.5463679160388776\n",
      "[-0.85714286  0.83562011  0.01024446  0.03114429 -0.57142857  0.07822395]\n",
      "-0.544662548840188\n",
      "[-0.85714286  0.83562011  0.01024446  0.03114429 -0.28571429  0.07822395]\n",
      "-0.5368703431101665\n",
      "[-0.85714286  0.83562011  0.01024446  0.03114429  0.          0.07822395]\n",
      "-0.6006724818899816\n",
      "[-0.85714286  0.83562011  0.01024446  0.03114429  0.28571429  0.07822395]\n",
      "-0.4992403858960409\n",
      "[-0.85714286  0.83562011  0.01024446  0.03114429  0.57142857  0.07822395]\n",
      "-0.4914018623622373\n",
      "[-0.85714286  0.83562011  0.01024446  0.03114429  0.85714286  0.07822395]\n",
      "-0.5363665845153663\n",
      "[-0.85714286  0.83562011  0.01024446  0.03114429  1.14285714  0.07822395]\n",
      "-0.5491785834764608\n",
      "[-0.85714286  0.83562011  0.01024446  0.03114429  1.42857143  0.07822395]\n",
      "-0.4970002802823271\n",
      "[-0.85714286  0.83562011  0.01024446  0.03114429  1.71428571  0.07822395]\n",
      "-0.5368029126995789\n",
      "[-0.85714286  0.83562011  0.01024446  0.03114429  2.          0.07822395]\n",
      "-0.5347898351959508\n",
      "[-0.57142857  0.83562011  0.01024446  0.03114429 -2.          0.07822395]\n",
      "-0.5369798374329374\n",
      "[-0.57142857  0.83562011  0.01024446  0.03114429 -1.71428571  0.07822395]\n",
      "-0.5368077056464005\n",
      "[-0.57142857  0.83562011  0.01024446  0.03114429 -1.42857143  0.07822395]\n",
      "-0.5385213306086261\n",
      "[-0.57142857  0.83562011  0.01024446  0.03114429 -1.14285714  0.07822395]\n",
      "-0.5386672659259233\n",
      "[-0.57142857  0.83562011  0.01024446  0.03114429 -0.85714286  0.07822395]\n",
      "-0.54449239568851\n",
      "[-0.57142857  0.83562011  0.01024446  0.03114429 -0.57142857  0.07822395]\n",
      "-0.5426672607268721\n",
      "[-0.57142857  0.83562011  0.01024446  0.03114429 -0.28571429  0.07822395]\n",
      "-0.5454635529058264\n",
      "[-0.57142857  0.83562011  0.01024446  0.03114429  0.          0.07822395]\n",
      "-0.5499796897546274\n",
      "[-0.57142857  0.83562011  0.01024446  0.03114429  0.28571429  0.07822395]\n",
      "-0.5377650853361451\n",
      "[-0.57142857  0.83562011  0.01024446  0.03114429  0.57142857  0.07822395]\n",
      "-0.4916811560004147\n",
      "[-0.57142857  0.83562011  0.01024446  0.03114429  0.85714286  0.07822395]\n",
      "-0.4915995606282623\n",
      "[-0.57142857  0.83562011  0.01024446  0.03114429  1.14285714  0.07822395]\n",
      "-0.49147560840184606\n",
      "[-0.57142857  0.83562011  0.01024446  0.03114429  1.42857143  0.07822395]\n"
     ]
    },
    {
     "name": "stdout",
     "output_type": "stream",
     "text": [
      "-0.5338175304915335\n",
      "[-0.57142857  0.83562011  0.01024446  0.03114429  1.71428571  0.07822395]\n",
      "-0.5032018536171565\n",
      "[-0.57142857  0.83562011  0.01024446  0.03114429  2.          0.07822395]\n",
      "-0.5435590784630541\n",
      "[-0.28571429  0.83562011  0.01024446  0.03114429 -2.          0.07822395]\n",
      "-0.4887604272741835\n",
      "[-0.28571429  0.83562011  0.01024446  0.03114429 -1.71428571  0.07822395]\n",
      "-0.5392916524768301\n",
      "[-0.28571429  0.83562011  0.01024446  0.03114429 -1.42857143  0.07822395]\n",
      "-0.541630422400311\n",
      "[-0.28571429  0.83562011  0.01024446  0.03114429 -1.14285714  0.07822395]\n",
      "-0.5087279005546886\n",
      "[-0.28571429  0.83562011  0.01024446  0.03114429 -0.85714286  0.07822395]\n",
      "-0.5365136831988755\n",
      "[-0.28571429  0.83562011  0.01024446  0.03114429 -0.57142857  0.07822395]\n",
      "-0.5056073625443607\n",
      "[-0.28571429  0.83562011  0.01024446  0.03114429 -0.28571429  0.07822395]\n",
      "-0.5384140263830214\n",
      "[-0.28571429  0.83562011  0.01024446  0.03114429  0.          0.07822395]\n",
      "-0.6070557359221946\n",
      "[-0.28571429  0.83562011  0.01024446  0.03114429  0.28571429  0.07822395]\n",
      "-0.5391507654758522\n",
      "[-0.28571429  0.83562011  0.01024446  0.03114429  0.57142857  0.07822395]\n",
      "-0.5236789572308638\n",
      "[-0.28571429  0.83562011  0.01024446  0.03114429  0.85714286  0.07822395]\n",
      "-0.49089990594220506\n",
      "[-0.28571429  0.83562011  0.01024446  0.03114429  1.14285714  0.07822395]\n",
      "-0.49087955619724244\n",
      "[-0.28571429  0.83562011  0.01024446  0.03114429  1.42857143  0.07822395]\n",
      "-0.5262405545973416\n",
      "[-0.28571429  0.83562011  0.01024446  0.03114429  1.71428571  0.07822395]\n",
      "-0.522271390712556\n",
      "[-0.28571429  0.83562011  0.01024446  0.03114429  2.          0.07822395]\n",
      "-0.5362905209417979\n",
      "[ 0.          0.83562011  0.01024446  0.03114429 -2.          0.07822395]\n",
      "-0.490723599424971\n",
      "[ 0.          0.83562011  0.01024446  0.03114429 -1.71428571  0.07822395]\n",
      "-0.49072703199461365\n",
      "[ 0.          0.83562011  0.01024446  0.03114429 -1.42857143  0.07822395]\n",
      "-0.49073643771402903\n",
      "[ 0.          0.83562011  0.01024446  0.03114429 -1.14285714  0.07822395]\n",
      "-0.49072704292931796\n",
      "[ 0.          0.83562011  0.01024446  0.03114429 -0.85714286  0.07822395]\n",
      "-0.49073502306657163\n",
      "[ 0.          0.83562011  0.01024446  0.03114429 -0.57142857  0.07822395]\n",
      "-0.490743259188886\n",
      "[ 0.          0.83562011  0.01024446  0.03114429 -0.28571429  0.07822395]\n",
      "-0.49352474741093055\n",
      "[0.         0.83562011 0.01024446 0.03114429 0.         0.07822395]\n",
      "-0.5592095718524115\n",
      "[0.         0.83562011 0.01024446 0.03114429 0.28571429 0.07822395]\n",
      "-0.49071367591236015\n",
      "[0.         0.83562011 0.01024446 0.03114429 0.57142857 0.07822395]\n",
      "-0.49072502076931523\n",
      "[0.         0.83562011 0.01024446 0.03114429 0.85714286 0.07822395]\n",
      "-0.49073523924716683\n",
      "[0.         0.83562011 0.01024446 0.03114429 1.14285714 0.07822395]\n",
      "-0.48861425867590563\n",
      "[0.         0.83562011 0.01024446 0.03114429 1.42857143 0.07822395]\n",
      "-0.48866600638331054\n",
      "[0.         0.83562011 0.01024446 0.03114429 1.71428571 0.07822395]\n",
      "-0.48863330245642683\n",
      "[0.         0.83562011 0.01024446 0.03114429 2.         0.07822395]\n",
      "-0.48863345451062223\n",
      "[ 0.28571429  0.83562011  0.01024446  0.03114429 -2.          0.07822395]\n",
      "-0.5363445351391608\n",
      "[ 0.28571429  0.83562011  0.01024446  0.03114429 -1.71428571  0.07822395]\n",
      "-0.4905937344367192\n",
      "[ 0.28571429  0.83562011  0.01024446  0.03114429 -1.42857143  0.07822395]\n",
      "-0.5055903533373226\n",
      "[ 0.28571429  0.83562011  0.01024446  0.03114429 -1.14285714  0.07822395]\n",
      "-0.490557870480646\n",
      "[ 0.28571429  0.83562011  0.01024446  0.03114429 -0.85714286  0.07822395]\n",
      "-0.4927684708126301\n",
      "[ 0.28571429  0.83562011  0.01024446  0.03114429 -0.57142857  0.07822395]\n",
      "-0.493255227674679\n",
      "[ 0.28571429  0.83562011  0.01024446  0.03114429 -0.28571429  0.07822395]\n",
      "-0.5399797271267307\n",
      "[0.28571429 0.83562011 0.01024446 0.03114429 0.         0.07822395]\n",
      "-0.5138142781340844\n",
      "[0.28571429 0.83562011 0.01024446 0.03114429 0.28571429 0.07822395]\n",
      "-0.49066112253988525\n",
      "[0.28571429 0.83562011 0.01024446 0.03114429 0.57142857 0.07822395]\n",
      "-0.5381932866082737\n",
      "[0.28571429 0.83562011 0.01024446 0.03114429 0.85714286 0.07822395]\n",
      "-0.5398922013375377\n",
      "[0.28571429 0.83562011 0.01024446 0.03114429 1.14285714 0.07822395]\n",
      "-0.4885506020151217\n",
      "[0.28571429 0.83562011 0.01024446 0.03114429 1.42857143 0.07822395]\n",
      "-0.4885158348100234\n",
      "[0.28571429 0.83562011 0.01024446 0.03114429 1.71428571 0.07822395]\n",
      "-0.5378258692498579\n",
      "[0.28571429 0.83562011 0.01024446 0.03114429 2.         0.07822395]\n",
      "-0.5299099408970398\n",
      "[ 0.57142857  0.83562011  0.01024446  0.03114429 -2.          0.07822395]\n",
      "-0.48392065157712366\n",
      "[ 0.57142857  0.83562011  0.01024446  0.03114429 -1.71428571  0.07822395]\n",
      "-0.5393914799156114\n",
      "[ 0.57142857  0.83562011  0.01024446  0.03114429 -1.42857143  0.07822395]\n",
      "-0.4905831093459615\n",
      "[ 0.57142857  0.83562011  0.01024446  0.03114429 -1.14285714  0.07822395]\n",
      "-0.5377321703825485\n",
      "[ 0.57142857  0.83562011  0.01024446  0.03114429 -0.85714286  0.07822395]\n",
      "-0.5492269057968783\n",
      "[ 0.57142857  0.83562011  0.01024446  0.03114429 -0.57142857  0.07822395]\n",
      "-0.5683631208091521\n",
      "[ 0.57142857  0.83562011  0.01024446  0.03114429 -0.28571429  0.07822395]\n",
      "-0.5327868079952788\n",
      "[0.57142857 0.83562011 0.01024446 0.03114429 0.         0.07822395]\n",
      "-0.5405186766830221\n",
      "[0.57142857 0.83562011 0.01024446 0.03114429 0.28571429 0.07822395]\n",
      "-0.548295561468804\n",
      "[0.57142857 0.83562011 0.01024446 0.03114429 0.57142857 0.07822395]\n",
      "-0.5385290835312543\n",
      "[0.57142857 0.83562011 0.01024446 0.03114429 0.85714286 0.07822395]\n",
      "-0.54277573663748\n",
      "[0.57142857 0.83562011 0.01024446 0.03114429 1.14285714 0.07822395]\n",
      "-0.5402388282403731\n",
      "[0.57142857 0.83562011 0.01024446 0.03114429 1.42857143 0.07822395]\n",
      "-0.48850653695174245\n",
      "[0.57142857 0.83562011 0.01024446 0.03114429 1.71428571 0.07822395]\n",
      "-0.48903542867558963\n",
      "[0.57142857 0.83562011 0.01024446 0.03114429 2.         0.07822395]\n",
      "-0.48960184672775947\n",
      "[ 0.85714286  0.83562011  0.01024446  0.03114429 -2.          0.07822395]\n",
      "-0.5287268353185196\n",
      "[ 0.85714286  0.83562011  0.01024446  0.03114429 -1.71428571  0.07822395]\n",
      "-0.5300174980980463\n",
      "[ 0.85714286  0.83562011  0.01024446  0.03114429 -1.42857143  0.07822395]\n",
      "-0.5431892485340173\n",
      "[ 0.85714286  0.83562011  0.01024446  0.03114429 -1.14285714  0.07822395]\n",
      "-0.5464981409643761\n",
      "[ 0.85714286  0.83562011  0.01024446  0.03114429 -0.85714286  0.07822395]\n",
      "-0.5451390732851589\n",
      "[ 0.85714286  0.83562011  0.01024446  0.03114429 -0.57142857  0.07822395]\n",
      "-0.5486269326705913\n",
      "[ 0.85714286  0.83562011  0.01024446  0.03114429 -0.28571429  0.07822395]\n",
      "-0.5111132119487981\n",
      "[0.85714286 0.83562011 0.01024446 0.03114429 0.         0.07822395]\n",
      "-0.5117448368386824\n",
      "[0.85714286 0.83562011 0.01024446 0.03114429 0.28571429 0.07822395]\n",
      "-0.5491194298694657\n",
      "[0.85714286 0.83562011 0.01024446 0.03114429 0.57142857 0.07822395]\n",
      "-0.45177691566050665\n",
      "[0.85714286 0.83562011 0.01024446 0.03114429 0.85714286 0.07822395]\n",
      "-0.4497161070898552\n",
      "[0.85714286 0.83562011 0.01024446 0.03114429 1.14285714 0.07822395]\n",
      "-0.5428315254720265\n",
      "[0.85714286 0.83562011 0.01024446 0.03114429 1.42857143 0.07822395]\n",
      "-0.5431284478313989\n",
      "[0.85714286 0.83562011 0.01024446 0.03114429 1.71428571 0.07822395]\n",
      "-0.48845073128948957\n",
      "[0.85714286 0.83562011 0.01024446 0.03114429 2.         0.07822395]\n",
      "-0.5371401149721442\n",
      "[ 1.14285714  0.83562011  0.01024446  0.03114429 -2.          0.07822395]\n",
      "-0.5260754770460919\n",
      "[ 1.14285714  0.83562011  0.01024446  0.03114429 -1.71428571  0.07822395]\n",
      "-0.5192135882601114\n",
      "[ 1.14285714  0.83562011  0.01024446  0.03114429 -1.42857143  0.07822395]\n",
      "-0.5311048179867044\n",
      "[ 1.14285714  0.83562011  0.01024446  0.03114429 -1.14285714  0.07822395]\n",
      "-0.5515055591288853\n",
      "[ 1.14285714  0.83562011  0.01024446  0.03114429 -0.85714286  0.07822395]\n",
      "-0.524100631217361\n",
      "[ 1.14285714  0.83562011  0.01024446  0.03114429 -0.57142857  0.07822395]\n",
      "-0.49689031617183216\n",
      "[ 1.14285714  0.83562011  0.01024446  0.03114429 -0.28571429  0.07822395]\n",
      "-0.5483813859929824\n",
      "[1.14285714 0.83562011 0.01024446 0.03114429 0.         0.07822395]\n",
      "-0.6082348593668889\n",
      "[1.14285714 0.83562011 0.01024446 0.03114429 0.28571429 0.07822395]\n",
      "-0.5667519156947788\n",
      "[1.14285714 0.83562011 0.01024446 0.03114429 0.57142857 0.07822395]\n",
      "-0.5079549543147029\n",
      "[1.14285714 0.83562011 0.01024446 0.03114429 0.85714286 0.07822395]\n",
      "-0.48178132872143364\n",
      "[1.14285714 0.83562011 0.01024446 0.03114429 1.14285714 0.07822395]\n",
      "-0.536551041613509\n",
      "[1.14285714 0.83562011 0.01024446 0.03114429 1.42857143 0.07822395]\n"
     ]
    },
    {
     "name": "stdout",
     "output_type": "stream",
     "text": [
      "-0.5157445105262732\n",
      "[1.14285714 0.83562011 0.01024446 0.03114429 1.71428571 0.07822395]\n",
      "-0.5124566120454973\n",
      "[1.14285714 0.83562011 0.01024446 0.03114429 2.         0.07822395]\n",
      "-0.4890247564476416\n",
      "[ 1.42857143  0.83562011  0.01024446  0.03114429 -2.          0.07822395]\n",
      "-0.5403256286825293\n",
      "[ 1.42857143  0.83562011  0.01024446  0.03114429 -1.71428571  0.07822395]\n",
      "-0.4508272208324264\n",
      "[ 1.42857143  0.83562011  0.01024446  0.03114429 -1.42857143  0.07822395]\n",
      "-0.4465024464596269\n",
      "[ 1.42857143  0.83562011  0.01024446  0.03114429 -1.14285714  0.07822395]\n",
      "-0.55112392539187\n",
      "[ 1.42857143  0.83562011  0.01024446  0.03114429 -0.85714286  0.07822395]\n",
      "-0.5498874991931506\n",
      "[ 1.42857143  0.83562011  0.01024446  0.03114429 -0.57142857  0.07822395]\n",
      "-0.4487811137306731\n",
      "[ 1.42857143  0.83562011  0.01024446  0.03114429 -0.28571429  0.07822395]\n",
      "-0.46323467737965623\n",
      "[1.42857143 0.83562011 0.01024446 0.03114429 0.         0.07822395]\n",
      "-0.5221939818612727\n",
      "[1.42857143 0.83562011 0.01024446 0.03114429 0.28571429 0.07822395]\n",
      "-0.5425047554130437\n",
      "[1.42857143 0.83562011 0.01024446 0.03114429 0.57142857 0.07822395]\n",
      "-0.5290864202837436\n",
      "[1.42857143 0.83562011 0.01024446 0.03114429 0.85714286 0.07822395]\n",
      "-0.4946643595517959\n",
      "[1.42857143 0.83562011 0.01024446 0.03114429 1.14285714 0.07822395]\n",
      "-0.44943994821494004\n",
      "[1.42857143 0.83562011 0.01024446 0.03114429 1.42857143 0.07822395]\n",
      "-0.5441591402948308\n",
      "[1.42857143 0.83562011 0.01024446 0.03114429 1.71428571 0.07822395]\n",
      "-0.5610500289534466\n",
      "[1.42857143 0.83562011 0.01024446 0.03114429 2.         0.07822395]\n",
      "-0.5400745082593544\n",
      "[ 1.71428571  0.83562011  0.01024446  0.03114429 -2.          0.07822395]\n",
      "-0.5240983348992758\n",
      "[ 1.71428571  0.83562011  0.01024446  0.03114429 -1.71428571  0.07822395]\n",
      "-0.4646646612149129\n",
      "[ 1.71428571  0.83562011  0.01024446  0.03114429 -1.42857143  0.07822395]\n",
      "-0.5772171013175725\n",
      "[ 1.71428571  0.83562011  0.01024446  0.03114429 -1.14285714  0.07822395]\n",
      "-0.5616223896811019\n",
      "[ 1.71428571  0.83562011  0.01024446  0.03114429 -0.85714286  0.07822395]\n",
      "-0.5851724418286764\n",
      "[ 1.71428571  0.83562011  0.01024446  0.03114429 -0.57142857  0.07822395]\n",
      "-0.5535327831840913\n",
      "[ 1.71428571  0.83562011  0.01024446  0.03114429 -0.28571429  0.07822395]\n",
      "-0.5668216086684438\n",
      "[1.71428571 0.83562011 0.01024446 0.03114429 0.         0.07822395]\n",
      "-0.6111889682372712\n",
      "[1.71428571 0.83562011 0.01024446 0.03114429 0.28571429 0.07822395]\n",
      "-0.5224007291645237\n",
      "[1.71428571 0.83562011 0.01024446 0.03114429 0.57142857 0.07822395]\n",
      "-0.44909074974334157\n",
      "[1.71428571 0.83562011 0.01024446 0.03114429 0.85714286 0.07822395]\n",
      "-0.4959971924721624\n",
      "[1.71428571 0.83562011 0.01024446 0.03114429 1.14285714 0.07822395]\n",
      "-0.44828235419662665\n",
      "[1.71428571 0.83562011 0.01024446 0.03114429 1.42857143 0.07822395]\n",
      "-0.5132559807673601\n",
      "[1.71428571 0.83562011 0.01024446 0.03114429 1.71428571 0.07822395]\n",
      "-0.5392375400234212\n",
      "[1.71428571 0.83562011 0.01024446 0.03114429 2.         0.07822395]\n",
      "-0.5417481898500699\n",
      "[ 2.          0.83562011  0.01024446  0.03114429 -2.          0.07822395]\n",
      "-0.4491641330089869\n",
      "[ 2.          0.83562011  0.01024446  0.03114429 -1.71428571  0.07822395]\n",
      "-0.5363003307729038\n",
      "[ 2.          0.83562011  0.01024446  0.03114429 -1.42857143  0.07822395]\n",
      "-0.5473345616213972\n",
      "[ 2.          0.83562011  0.01024446  0.03114429 -1.14285714  0.07822395]\n",
      "-0.5527630738918501\n",
      "[ 2.          0.83562011  0.01024446  0.03114429 -0.85714286  0.07822395]\n",
      "-0.5515014032705918\n",
      "[ 2.          0.83562011  0.01024446  0.03114429 -0.57142857  0.07822395]\n",
      "-0.5504901258325997\n",
      "[ 2.          0.83562011  0.01024446  0.03114429 -0.28571429  0.07822395]\n",
      "-0.555399955230381\n",
      "[2.         0.83562011 0.01024446 0.03114429 0.         0.07822395]\n",
      "-0.5192583450859986\n",
      "[2.         0.83562011 0.01024446 0.03114429 0.28571429 0.07822395]\n",
      "-0.45051594058060646\n",
      "[2.         0.83562011 0.01024446 0.03114429 0.57142857 0.07822395]\n",
      "-0.5426043737472678\n",
      "[2.         0.83562011 0.01024446 0.03114429 0.85714286 0.07822395]\n",
      "-0.5263374090991917\n",
      "[2.         0.83562011 0.01024446 0.03114429 1.14285714 0.07822395]\n",
      "-0.580546460577645\n",
      "[2.         0.83562011 0.01024446 0.03114429 1.42857143 0.07822395]\n",
      "-0.5368288557728688\n",
      "[2.         0.83562011 0.01024446 0.03114429 1.71428571 0.07822395]\n",
      "-0.5594708389030131\n",
      "[2.         0.83562011 0.01024446 0.03114429 2.         0.07822395]\n",
      "-0.5940685449013753\n"
     ]
    }
   ],
   "source": [
    "import matplotlib.pyplot as plt\n",
    "\n",
    "total_qubit=3 #number of qubit\n",
    "p=3 #number of layers\n",
    "\n",
    "#defining the problem\n",
    "J=np.random.rand(total_qubit,total_qubit) #creating the couping parameters,still directional in this instance)\n",
    "for i in range(total_qubit):\n",
    "    for j in range(i,total_qubit):\n",
    "        temp=(J[i][j]+J[j][i])/2.0\n",
    "        J[i][j]=temp\n",
    "        J[j][i]=temp\n",
    "#Now J is undirectional\n",
    "\n",
    "graph = Graph(total_qubit,J)\n",
    "arg=(p,graph)\n",
    "\n",
    "#declaring QAOA parameters\n",
    "gamma_in=np.random.rand(p)\n",
    "beta_in=np.random.rand(p)\n",
    "##How do we link this to the parameter space we want to visualize?\n",
    "\n",
    "#Let's select the space here\n",
    "#Randomly, as a test\n",
    "gamma_d=np.random.randint(0,len(gamma_in))\n",
    "beta_d=np.random.randint(0,len(beta_in))\n",
    "\n",
    "#Define the space\n",
    "gamma0=np.linspace(-2, 2, 15)\n",
    "beta0=np.linspace(-2, 2, 15)\n",
    "X, Y = np.meshgrid(gamma0, beta0)\n",
    "\n",
    "z=np.zeros((len(gamma0),len(beta0)))\n",
    "landscape=np.zeros((len(gamma0),len(beta0)))\n",
    "\n",
    "eta=0.1\n",
    "\n",
    "for k in range(len(gamma0)):\n",
    "    for l in range(len(beta0)):\n",
    "        #creating x0\n",
    "        temp_gamma=gamma_in\n",
    "        temp_gamma[gamma_d]=gamma0[k]\n",
    "        temp_beta=beta_in\n",
    "        temp_beta[beta_d]=beta0[l]\n",
    "        x0=np.append(temp_gamma,temp_beta)\n",
    "        print(x0)\n",
    "               \n",
    "        res=minimize(AveEnergy,x0,arg,method='Nelder-Mead')\n",
    "        z[k][l]=res.fun\n",
    "        landscape[k][l]=AveEnergy(x0,*arg)\n",
    "        print(z[k][l])\n"
   ]
  },
  {
   "cell_type": "code",
   "execution_count": 47,
   "metadata": {},
   "outputs": [
    {
     "name": "stdout",
     "output_type": "stream",
     "text": [
      "-0.05162879193368861 [-0.2857142857142858, -1.4285714285714286]\n"
     ]
    }
   ],
   "source": [
    "##Printing out minimum value and the coordinates in the 2D space\n",
    "\n",
    "min_val=np.amin(z)\n",
    "ind=np.unravel_index(np.argmin(z),z.shape)\n",
    "coor=[X[ind[0],ind[0]],Y[ind[1],ind[1]]]\n",
    "\n",
    "print(min_val,coor)"
   ]
  },
  {
   "cell_type": "code",
   "execution_count": 45,
   "metadata": {},
   "outputs": [
    {
     "data": {
      "image/png": "[encoded data removed]",
      "text/plain": [
       "<Figure size 432x288 with 1 Axes>"
      ]
     },
     "metadata": {
      "needs_background": "light"
     },
     "output_type": "display_data"
    }
   ],
   "source": [
    "fig = plt.figure()\n",
    "ax = plt.axes(projection='3d')\n",
    "ax.plot_surface(X, Y, z, cmap='terrain')\n",
    "ax.set_xlabel('x')\n",
    "ax.set_ylabel('y')\n",
    "ax.set_zlabel('z')\n",
    "ax.set_title('Energy landscape')\n",
    "plt.show()"
   ]
  },
  {
   "cell_type": "code",
   "execution_count": 11,
   "metadata": {},
   "outputs": [
    {
     "name": "stdout",
     "output_type": "stream",
     "text": [
      "-0.6111889682372712 [1.714285714285714, 0.0]\n"
     ]
    },
    {
     "data": {
      "image/png": "[encoded data removed]",
      "text/plain": [
       "<Figure size 432x288 with 1 Axes>"
      ]
     },
     "metadata": {
      "needs_background": "light"
     },
     "output_type": "display_data"
    }
   ],
   "source": [
    "min_val=np.amin(z)\n",
    "ind=np.unravel_index(np.argmin(z),z.shape)\n",
    "coor=[X[ind[0],ind[0]],Y[ind[1],ind[1]]]\n",
    "\n",
    "print(min_val,coor)\n",
    "fig = plt.figure()\n",
    "ax = plt.axes(projection='3d')\n",
    "ax.plot_surface(X, Y, z, cmap='terrain')\n",
    "ax.set_xlabel('x')\n",
    "ax.set_ylabel('y')\n",
    "ax.set_zlabel('z')\n",
    "ax.set_title('Solution landscape')\n",
    "plt.show()"
   ]
  },
  {
   "cell_type": "code",
   "execution_count": 12,
   "metadata": {},
   "outputs": [
    {
     "name": "stdout",
     "output_type": "stream",
     "text": [
      "-0.48510311529368416 [-1.4285714285714286, 0.5714285714285712]\n"
     ]
    },
    {
     "data": {
      "image/png": "[encoded data removed]",
      "text/plain": [
       "<Figure size 432x288 with 1 Axes>"
      ]
     },
     "metadata": {
      "needs_background": "light"
     },
     "output_type": "display_data"
    }
   ],
   "source": [
    "min_val=np.amin(landscape)\n",
    "ind=np.unravel_index(np.argmin(landscape),landscape.shape)\n",
    "coor=[X[ind[0],ind[0]],Y[ind[1],ind[1]]]\n",
    "\n",
    "print(min_val,coor)\n",
    "\n",
    "fig = plt.figure()\n",
    "ax = plt.axes(projection='3d')\n",
    "ax.plot_surface(X, Y, landscape, cmap='terrain')\n",
    "ax.set_xlabel('x')\n",
    "ax.set_ylabel('y')\n",
    "ax.set_zlabel('z')\n",
    "ax.set_title('Energy landscape')\n",
    "plt.show()"
   ]
  },
  {
   "cell_type": "markdown",
   "metadata": {},
   "source": [
    "### Interactive Plotting "
   ]
  },
  {
   "cell_type": "code",
   "execution_count": 5,
   "metadata": {},
   "outputs": [],
   "source": [
    "import plotly.graph_objects as go\n",
    "from plotly.subplots import make_subplots"
   ]
  },
  {
   "cell_type": "code",
   "execution_count": 19,
   "metadata": {},
   "outputs": [
    {
     "data": {
      "application/vnd.plotly.v1+json": {
       "config": {
        "plotlyServerURL": "https://plot.ly"
       },
       "data": [
        {
         "scene": "scene",
         "showscale": false,
         "type": "surface",
         "x": [
          [
           -2,
           -1.7142857142857144,
           -1.4285714285714286,
           -1.1428571428571428,
           -0.8571428571428572,
           -0.5714285714285716,
           -0.2857142857142858,
           0,
           0.2857142857142856,
           0.5714285714285712,
           0.8571428571428568,
           1.1428571428571428,
           1.4285714285714284,
           1.714285714285714,
           2
          ],
          [
           -2,
           -1.7142857142857144,
           -1.4285714285714286,
           -1.1428571428571428,
           -0.8571428571428572,
           -0.5714285714285716,
           -0.2857142857142858,
           0,
           0.2857142857142856,
           0.5714285714285712,
           0.8571428571428568,
           1.1428571428571428,
           1.4285714285714284,
           1.714285714285714,
           2
          ],
          [
           -2,
           -1.7142857142857144,
           -1.4285714285714286,
           -1.1428571428571428,
           -0.8571428571428572,
           -0.5714285714285716,
           -0.2857142857142858,
           0,
           0.2857142857142856,
           0.5714285714285712,
           0.8571428571428568,
           1.1428571428571428,
           1.4285714285714284,
           1.714285714285714,
           2
          ],
          [
           -2,
           -1.7142857142857144,
           -1.4285714285714286,
           -1.1428571428571428,
           -0.8571428571428572,
           -0.5714285714285716,
           -0.2857142857142858,
           0,
           0.2857142857142856,
           0.5714285714285712,
           0.8571428571428568,
           1.1428571428571428,
           1.4285714285714284,
           1.714285714285714,
           2
          ],
          [
           -2,
           -1.7142857142857144,
           -1.4285714285714286,
           -1.1428571428571428,
           -0.8571428571428572,
           -0.5714285714285716,
           -0.2857142857142858,
           0,
           0.2857142857142856,
           0.5714285714285712,
           0.8571428571428568,
           1.1428571428571428,
           1.4285714285714284,
           1.714285714285714,
           2
          ],
          [
           -2,
           -1.7142857142857144,
           -1.4285714285714286,
           -1.1428571428571428,
           -0.8571428571428572,
           -0.5714285714285716,
           -0.2857142857142858,
           0,
           0.2857142857142856,
           0.5714285714285712,
           0.8571428571428568,
           1.1428571428571428,
           1.4285714285714284,
           1.714285714285714,
           2
          ],
          [
           -2,
           -1.7142857142857144,
           -1.4285714285714286,
           -1.1428571428571428,
           -0.8571428571428572,
           -0.5714285714285716,
           -0.2857142857142858,
           0,
           0.2857142857142856,
           0.5714285714285712,
           0.8571428571428568,
           1.1428571428571428,
           1.4285714285714284,
           1.714285714285714,
           2
          ],
          [
           -2,
           -1.7142857142857144,
           -1.4285714285714286,
           -1.1428571428571428,
           -0.8571428571428572,
           -0.5714285714285716,
           -0.2857142857142858,
           0,
           0.2857142857142856,
           0.5714285714285712,
           0.8571428571428568,
           1.1428571428571428,
           1.4285714285714284,
           1.714285714285714,
           2
          ],
          [
           -2,
           -1.7142857142857144,
           -1.4285714285714286,
           -1.1428571428571428,
           -0.8571428571428572,
           -0.5714285714285716,
           -0.2857142857142858,
           0,
           0.2857142857142856,
           0.5714285714285712,
           0.8571428571428568,
           1.1428571428571428,
           1.4285714285714284,
           1.714285714285714,
           2
          ],
          [
           -2,
           -1.7142857142857144,
           -1.4285714285714286,
           -1.1428571428571428,
           -0.8571428571428572,
           -0.5714285714285716,
           -0.2857142857142858,
           0,
           0.2857142857142856,
           0.5714285714285712,
           0.8571428571428568,
           1.1428571428571428,
           1.4285714285714284,
           1.714285714285714,
           2
          ],
          [
           -2,
           -1.7142857142857144,
           -1.4285714285714286,
           -1.1428571428571428,
           -0.8571428571428572,
           -0.5714285714285716,
           -0.2857142857142858,
           0,
           0.2857142857142856,
           0.5714285714285712,
           0.8571428571428568,
           1.1428571428571428,
           1.4285714285714284,
           1.714285714285714,
           2
          ],
          [
           -2,
           -1.7142857142857144,
           -1.4285714285714286,
           -1.1428571428571428,
           -0.8571428571428572,
           -0.5714285714285716,
           -0.2857142857142858,
           0,
           0.2857142857142856,
           0.5714285714285712,
           0.8571428571428568,
           1.1428571428571428,
           1.4285714285714284,
           1.714285714285714,
           2
          ],
          [
           -2,
           -1.7142857142857144,
           -1.4285714285714286,
           -1.1428571428571428,
           -0.8571428571428572,
           -0.5714285714285716,
           -0.2857142857142858,
           0,
           0.2857142857142856,
           0.5714285714285712,
           0.8571428571428568,
           1.1428571428571428,
           1.4285714285714284,
           1.714285714285714,
           2
          ],
          [
           -2,
           -1.7142857142857144,
           -1.4285714285714286,
           -1.1428571428571428,
           -0.8571428571428572,
           -0.5714285714285716,
           -0.2857142857142858,
           0,
           0.2857142857142856,
           0.5714285714285712,
           0.8571428571428568,
           1.1428571428571428,
           1.4285714285714284,
           1.714285714285714,
           2
          ],
          [
           -2,
           -1.7142857142857144,
           -1.4285714285714286,
           -1.1428571428571428,
           -0.8571428571428572,
           -0.5714285714285716,
           -0.2857142857142858,
           0,
           0.2857142857142856,
           0.5714285714285712,
           0.8571428571428568,
           1.1428571428571428,
           1.4285714285714284,
           1.714285714285714,
           2
          ]
         ],
         "y": [
          [
           -2,
           -2,
           -2,
           -2,
           -2,
           -2,
           -2,
           -2,
           -2,
           -2,
           -2,
           -2,
           -2,
           -2,
           -2
          ],
          [
           -1.7142857142857144,
           -1.7142857142857144,
           -1.7142857142857144,
           -1.7142857142857144,
           -1.7142857142857144,
           -1.7142857142857144,
           -1.7142857142857144,
           -1.7142857142857144,
           -1.7142857142857144,
           -1.7142857142857144,
           -1.7142857142857144,
           -1.7142857142857144,
           -1.7142857142857144,
           -1.7142857142857144,
           -1.7142857142857144
          ],
          [
           -1.4285714285714286,
           -1.4285714285714286,
           -1.4285714285714286,
           -1.4285714285714286,
           -1.4285714285714286,
           -1.4285714285714286,
           -1.4285714285714286,
           -1.4285714285714286,
           -1.4285714285714286,
           -1.4285714285714286,
           -1.4285714285714286,
           -1.4285714285714286,
           -1.4285714285714286,
           -1.4285714285714286,
           -1.4285714285714286
          ],
          [
           -1.1428571428571428,
           -1.1428571428571428,
           -1.1428571428571428,
           -1.1428571428571428,
           -1.1428571428571428,
           -1.1428571428571428,
           -1.1428571428571428,
           -1.1428571428571428,
           -1.1428571428571428,
           -1.1428571428571428,
           -1.1428571428571428,
           -1.1428571428571428,
           -1.1428571428571428,
           -1.1428571428571428,
           -1.1428571428571428
          ],
          [
           -0.8571428571428572,
           -0.8571428571428572,
           -0.8571428571428572,
           -0.8571428571428572,
           -0.8571428571428572,
           -0.8571428571428572,
           -0.8571428571428572,
           -0.8571428571428572,
           -0.8571428571428572,
           -0.8571428571428572,
           -0.8571428571428572,
           -0.8571428571428572,
           -0.8571428571428572,
           -0.8571428571428572,
           -0.8571428571428572
          ],
          [
           -0.5714285714285716,
           -0.5714285714285716,
           -0.5714285714285716,
           -0.5714285714285716,
           -0.5714285714285716,
           -0.5714285714285716,
           -0.5714285714285716,
           -0.5714285714285716,
           -0.5714285714285716,
           -0.5714285714285716,
           -0.5714285714285716,
           -0.5714285714285716,
           -0.5714285714285716,
           -0.5714285714285716,
           -0.5714285714285716
          ],
          [
           -0.2857142857142858,
           -0.2857142857142858,
           -0.2857142857142858,
           -0.2857142857142858,
           -0.2857142857142858,
           -0.2857142857142858,
           -0.2857142857142858,
           -0.2857142857142858,
           -0.2857142857142858,
           -0.2857142857142858,
           -0.2857142857142858,
           -0.2857142857142858,
           -0.2857142857142858,
           -0.2857142857142858,
           -0.2857142857142858
          ],
          [
           0,
           0,
           0,
           0,
           0,
           0,
           0,
           0,
           0,
           0,
           0,
           0,
           0,
           0,
           0
          ],
          [
           0.2857142857142856,
           0.2857142857142856,
           0.2857142857142856,
           0.2857142857142856,
           0.2857142857142856,
           0.2857142857142856,
           0.2857142857142856,
           0.2857142857142856,
           0.2857142857142856,
           0.2857142857142856,
           0.2857142857142856,
           0.2857142857142856,
           0.2857142857142856,
           0.2857142857142856,
           0.2857142857142856
          ],
          [
           0.5714285714285712,
           0.5714285714285712,
           0.5714285714285712,
           0.5714285714285712,
           0.5714285714285712,
           0.5714285714285712,
           0.5714285714285712,
           0.5714285714285712,
           0.5714285714285712,
           0.5714285714285712,
           0.5714285714285712,
           0.5714285714285712,
           0.5714285714285712,
           0.5714285714285712,
           0.5714285714285712
          ],
          [
           0.8571428571428568,
           0.8571428571428568,
           0.8571428571428568,
           0.8571428571428568,
           0.8571428571428568,
           0.8571428571428568,
           0.8571428571428568,
           0.8571428571428568,
           0.8571428571428568,
           0.8571428571428568,
           0.8571428571428568,
           0.8571428571428568,
           0.8571428571428568,
           0.8571428571428568,
           0.8571428571428568
          ],
          [
           1.1428571428571428,
           1.1428571428571428,
           1.1428571428571428,
           1.1428571428571428,
           1.1428571428571428,
           1.1428571428571428,
           1.1428571428571428,
           1.1428571428571428,
           1.1428571428571428,
           1.1428571428571428,
           1.1428571428571428,
           1.1428571428571428,
           1.1428571428571428,
           1.1428571428571428,
           1.1428571428571428
          ],
          [
           1.4285714285714284,
           1.4285714285714284,
           1.4285714285714284,
           1.4285714285714284,
           1.4285714285714284,
           1.4285714285714284,
           1.4285714285714284,
           1.4285714285714284,
           1.4285714285714284,
           1.4285714285714284,
           1.4285714285714284,
           1.4285714285714284,
           1.4285714285714284,
           1.4285714285714284,
           1.4285714285714284
          ],
          [
           1.714285714285714,
           1.714285714285714,
           1.714285714285714,
           1.714285714285714,
           1.714285714285714,
           1.714285714285714,
           1.714285714285714,
           1.714285714285714,
           1.714285714285714,
           1.714285714285714,
           1.714285714285714,
           1.714285714285714,
           1.714285714285714,
           1.714285714285714,
           1.714285714285714
          ],
          [
           2,
           2,
           2,
           2,
           2,
           2,
           2,
           2,
           2,
           2,
           2,
           2,
           2,
           2,
           2
          ]
         ],
         "z": [
          [
           -0.4627339876386082,
           -0.4644541277643024,
           -0.3808992212433662,
           -0.19199551745880344,
           0.08775349662971625,
           0.4107681948038784,
           0.7122449514357508,
           0.9326574677828432,
           1.0368112248005836,
           1.0218437078546834,
           0.9123298299780378,
           0.7466274529823224,
           0.5618703364374223,
           0.3842764727823551,
           0.22752760232134878
          ],
          [
           -0.5107856393846419,
           -0.5617479067244918,
           -0.5739650617608177,
           -0.5053776498028644,
           -0.33710956497578964,
           -0.08586420100618372,
           0.1990839573958177,
           0.4527203577455502,
           0.6174337452355945,
           0.6626685618110224,
           0.5934012194409543,
           0.44501416934114757,
           0.26795197011813865,
           0.10929207564350696,
           -0.001373770684075848
          ],
          [
           -0.29210145835055684,
           -0.2927173072102025,
           -0.3531175106596461,
           -0.4377356496650343,
           -0.495197457435398,
           -0.48223407422660175,
           -0.3833573119195358,
           -0.21797115329445013,
           -0.03239355633586277,
           0.11913378100479172,
           0.1958987051976653,
           0.18557451721406568,
           0.10682495544402695,
           -0.00044474096027691257,
           -0.09218554734431124
          ],
          [
           0.1513985287657578,
           0.2714443134967968,
           0.23271868292718606,
           0.04018063418649656,
           -0.23965828690694221,
           -0.5062295657316288,
           -0.6653970093723819,
           -0.6658261515358344,
           -0.5165006380555731,
           -0.27920436610449884,
           -0.04055246828946277,
           0.12362454468819528,
           0.17645727618531662,
           0.12994035562973633,
           0.03420767017440711
          ],
          [
           0.6217678537131861,
           0.8535371338953474,
           0.8876833147755061,
           0.6914396017058597,
           0.3186503437682235,
           -0.1106248300987112,
           -0.4567950426680453,
           -0.614114579900922,
           -0.5488415876974841,
           -0.30732333921796573,
           0.007758325127450269,
           0.28149212728259676,
           0.43198547546302946,
           0.4383779239544976,
           0.3417338783837798
          ],
          [
           0.8762383611625382,
           1.1286083714106707,
           1.2370425734822799,
           1.1446291348603783,
           0.8677262783083047,
           0.49115329562779864,
           0.13585062541720022,
           -0.08749784673173107,
           -0.11968471895959815,
           0.027567193128946732,
           0.28094608633661544,
           0.5384857690573899,
           0.7113803576703579,
           0.7571438009147723,
           0.6913088816951553
          ],
          [
           0.7777317966661247,
           0.9264265255423368,
           1.058885993368207,
           1.121077172005337,
           1.0837058948554337,
           0.9547355022062258,
           0.7767191346246971,
           0.6100649674944976,
           0.5093264554812451,
           0.5024506198384195,
           0.581429922901226,
           0.7077360851255935,
           0.8295837137119103,
           0.903277384856557,
           0.9096472112405766
          ],
          [
           0.38970531415112075,
           0.3503695869960362,
           0.43401822590055295,
           0.6158124658955731,
           0.8350762263735344,
           1.0186551616302735,
           1.1091106968818127,
           1.0861478884828355,
           0.9726446538047264,
           0.8232483951239916,
           0.7008190727213547,
           0.6508568139655317,
           0.6844494752024312,
           0.7762198778527925,
           0.8771899949649248
          ],
          [
           -0.04917907508989054,
           -0.26812460400949345,
           -0.2857954835101035,
           -0.08551968888128172,
           0.2711117438713837,
           0.6665311153682134,
           0.9720786943841775,
           1.0971449311745303,
           1.0224107199491337,
           0.8038238790575856,
           0.5463724883541714,
           0.3593224123829507,
           0.3119405094960078,
           0.40780980130938227,
           0.5873373687107465
          ],
          [
           -0.2615761462466494,
           -0.5595045876656951,
           -0.6796602115071229,
           -0.5709870430647279,
           -0.26492222858634257,
           0.13441940311859024,
           0.48981947213419363,
           0.6843318985914427,
           0.6664181352496539,
           0.46816344681699257,
           0.18929540116734983,
           -0.04581765067581359,
           -0.13980073891410913,
           -0.06098885380134933,
           0.14626245773881386
          ],
          [
           -0.09922352071980002,
           -0.33832947730591834,
           -0.509979635165992,
           -0.5505580173194369,
           -0.44631743317915873,
           -0.24088698794013494,
           -0.018753562669984278,
           0.12896992885247688,
           0.14229333900348143,
           0.017582428228914482,
           -0.190610922682978,
           -0.3920670895658642,
           -0.4983210693379604,
           -0.4592580170203233,
           -0.2836766906375961
          ],
          [
           0.3609921617059545,
           0.2786533242738909,
           0.1295099203641666,
           -0.035188909935526674,
           -0.16591193538462856,
           -0.23517184373041877,
           -0.24791333336018276,
           -0.23716346351133075,
           -0.2466531246417895,
           -0.30806528621772933,
           -0.42321599606602706,
           -0.5595319450996504,
           -0.6614317035767603,
           -0.6731773848028078,
           -0.5635828148680597
          ],
          [
           0.8545175025707042,
           0.9342453696227491,
           0.8639059285283791,
           0.6660213607207663,
           0.39677905076478626,
           0.1246642092952072,
           -0.09520149969619472,
           -0.23999789733468524,
           -0.32309334006586277,
           -0.3812074292623419,
           -0.4508483140019046,
           -0.5451577379889985,
           -0.6424016776706866,
           -0.692214595679238,
           -0.6375846575062932
          ],
          [
           1.081021103453198,
           1.2385111767285837,
           1.2581006141202982,
           1.1314050428224696,
           0.8876771768936403,
           0.5844784848669586,
           0.2865972333350162,
           0.042259380335783,
           -0.1323958524312039,
           -0.2530566817617116,
           -0.35112078305757605,
           -0.4495692344312155,
           -0.543131860877887,
           -0.5935905689038542,
           -0.5441135481456661
          ],
          [
           0.8806480985020607,
           0.9981947769333838,
           1.0751859242684698,
           1.081796594404527,
           0.99959153486551,
           0.8319658891280398,
           0.6040500120310377,
           0.35249814410192026,
           0.11121870673166423,
           -0.09880265555764867,
           -0.27005722916755015,
           -0.39979300668476575,
           -0.47819492580498796,
           -0.4820439613723505,
           -0.37984135846269484
          ]
         ]
        },
        {
         "scene": "scene2",
         "showscale": false,
         "type": "surface",
         "x": [
          [
           -2,
           -1.7142857142857144,
           -1.4285714285714286,
           -1.1428571428571428,
           -0.8571428571428572,
           -0.5714285714285716,
           -0.2857142857142858,
           0,
           0.2857142857142856,
           0.5714285714285712,
           0.8571428571428568,
           1.1428571428571428,
           1.4285714285714284,
           1.714285714285714,
           2
          ],
          [
           -2,
           -1.7142857142857144,
           -1.4285714285714286,
           -1.1428571428571428,
           -0.8571428571428572,
           -0.5714285714285716,
           -0.2857142857142858,
           0,
           0.2857142857142856,
           0.5714285714285712,
           0.8571428571428568,
           1.1428571428571428,
           1.4285714285714284,
           1.714285714285714,
           2
          ],
          [
           -2,
           -1.7142857142857144,
           -1.4285714285714286,
           -1.1428571428571428,
           -0.8571428571428572,
           -0.5714285714285716,
           -0.2857142857142858,
           0,
           0.2857142857142856,
           0.5714285714285712,
           0.8571428571428568,
           1.1428571428571428,
           1.4285714285714284,
           1.714285714285714,
           2
          ],
          [
           -2,
           -1.7142857142857144,
           -1.4285714285714286,
           -1.1428571428571428,
           -0.8571428571428572,
           -0.5714285714285716,
           -0.2857142857142858,
           0,
           0.2857142857142856,
           0.5714285714285712,
           0.8571428571428568,
           1.1428571428571428,
           1.4285714285714284,
           1.714285714285714,
           2
          ],
          [
           -2,
           -1.7142857142857144,
           -1.4285714285714286,
           -1.1428571428571428,
           -0.8571428571428572,
           -0.5714285714285716,
           -0.2857142857142858,
           0,
           0.2857142857142856,
           0.5714285714285712,
           0.8571428571428568,
           1.1428571428571428,
           1.4285714285714284,
           1.714285714285714,
           2
          ],
          [
           -2,
           -1.7142857142857144,
           -1.4285714285714286,
           -1.1428571428571428,
           -0.8571428571428572,
           -0.5714285714285716,
           -0.2857142857142858,
           0,
           0.2857142857142856,
           0.5714285714285712,
           0.8571428571428568,
           1.1428571428571428,
           1.4285714285714284,
           1.714285714285714,
           2
          ],
          [
           -2,
           -1.7142857142857144,
           -1.4285714285714286,
           -1.1428571428571428,
           -0.8571428571428572,
           -0.5714285714285716,
           -0.2857142857142858,
           0,
           0.2857142857142856,
           0.5714285714285712,
           0.8571428571428568,
           1.1428571428571428,
           1.4285714285714284,
           1.714285714285714,
           2
          ],
          [
           -2,
           -1.7142857142857144,
           -1.4285714285714286,
           -1.1428571428571428,
           -0.8571428571428572,
           -0.5714285714285716,
           -0.2857142857142858,
           0,
           0.2857142857142856,
           0.5714285714285712,
           0.8571428571428568,
           1.1428571428571428,
           1.4285714285714284,
           1.714285714285714,
           2
          ],
          [
           -2,
           -1.7142857142857144,
           -1.4285714285714286,
           -1.1428571428571428,
           -0.8571428571428572,
           -0.5714285714285716,
           -0.2857142857142858,
           0,
           0.2857142857142856,
           0.5714285714285712,
           0.8571428571428568,
           1.1428571428571428,
           1.4285714285714284,
           1.714285714285714,
           2
          ],
          [
           -2,
           -1.7142857142857144,
           -1.4285714285714286,
           -1.1428571428571428,
           -0.8571428571428572,
           -0.5714285714285716,
           -0.2857142857142858,
           0,
           0.2857142857142856,
           0.5714285714285712,
           0.8571428571428568,
           1.1428571428571428,
           1.4285714285714284,
           1.714285714285714,
           2
          ],
          [
           -2,
           -1.7142857142857144,
           -1.4285714285714286,
           -1.1428571428571428,
           -0.8571428571428572,
           -0.5714285714285716,
           -0.2857142857142858,
           0,
           0.2857142857142856,
           0.5714285714285712,
           0.8571428571428568,
           1.1428571428571428,
           1.4285714285714284,
           1.714285714285714,
           2
          ],
          [
           -2,
           -1.7142857142857144,
           -1.4285714285714286,
           -1.1428571428571428,
           -0.8571428571428572,
           -0.5714285714285716,
           -0.2857142857142858,
           0,
           0.2857142857142856,
           0.5714285714285712,
           0.8571428571428568,
           1.1428571428571428,
           1.4285714285714284,
           1.714285714285714,
           2
          ],
          [
           -2,
           -1.7142857142857144,
           -1.4285714285714286,
           -1.1428571428571428,
           -0.8571428571428572,
           -0.5714285714285716,
           -0.2857142857142858,
           0,
           0.2857142857142856,
           0.5714285714285712,
           0.8571428571428568,
           1.1428571428571428,
           1.4285714285714284,
           1.714285714285714,
           2
          ],
          [
           -2,
           -1.7142857142857144,
           -1.4285714285714286,
           -1.1428571428571428,
           -0.8571428571428572,
           -0.5714285714285716,
           -0.2857142857142858,
           0,
           0.2857142857142856,
           0.5714285714285712,
           0.8571428571428568,
           1.1428571428571428,
           1.4285714285714284,
           1.714285714285714,
           2
          ],
          [
           -2,
           -1.7142857142857144,
           -1.4285714285714286,
           -1.1428571428571428,
           -0.8571428571428572,
           -0.5714285714285716,
           -0.2857142857142858,
           0,
           0.2857142857142856,
           0.5714285714285712,
           0.8571428571428568,
           1.1428571428571428,
           1.4285714285714284,
           1.714285714285714,
           2
          ]
         ],
         "y": [
          [
           -2,
           -2,
           -2,
           -2,
           -2,
           -2,
           -2,
           -2,
           -2,
           -2,
           -2,
           -2,
           -2,
           -2,
           -2
          ],
          [
           -1.7142857142857144,
           -1.7142857142857144,
           -1.7142857142857144,
           -1.7142857142857144,
           -1.7142857142857144,
           -1.7142857142857144,
           -1.7142857142857144,
           -1.7142857142857144,
           -1.7142857142857144,
           -1.7142857142857144,
           -1.7142857142857144,
           -1.7142857142857144,
           -1.7142857142857144,
           -1.7142857142857144,
           -1.7142857142857144
          ],
          [
           -1.4285714285714286,
           -1.4285714285714286,
           -1.4285714285714286,
           -1.4285714285714286,
           -1.4285714285714286,
           -1.4285714285714286,
           -1.4285714285714286,
           -1.4285714285714286,
           -1.4285714285714286,
           -1.4285714285714286,
           -1.4285714285714286,
           -1.4285714285714286,
           -1.4285714285714286,
           -1.4285714285714286,
           -1.4285714285714286
          ],
          [
           -1.1428571428571428,
           -1.1428571428571428,
           -1.1428571428571428,
           -1.1428571428571428,
           -1.1428571428571428,
           -1.1428571428571428,
           -1.1428571428571428,
           -1.1428571428571428,
           -1.1428571428571428,
           -1.1428571428571428,
           -1.1428571428571428,
           -1.1428571428571428,
           -1.1428571428571428,
           -1.1428571428571428,
           -1.1428571428571428
          ],
          [
           -0.8571428571428572,
           -0.8571428571428572,
           -0.8571428571428572,
           -0.8571428571428572,
           -0.8571428571428572,
           -0.8571428571428572,
           -0.8571428571428572,
           -0.8571428571428572,
           -0.8571428571428572,
           -0.8571428571428572,
           -0.8571428571428572,
           -0.8571428571428572,
           -0.8571428571428572,
           -0.8571428571428572,
           -0.8571428571428572
          ],
          [
           -0.5714285714285716,
           -0.5714285714285716,
           -0.5714285714285716,
           -0.5714285714285716,
           -0.5714285714285716,
           -0.5714285714285716,
           -0.5714285714285716,
           -0.5714285714285716,
           -0.5714285714285716,
           -0.5714285714285716,
           -0.5714285714285716,
           -0.5714285714285716,
           -0.5714285714285716,
           -0.5714285714285716,
           -0.5714285714285716
          ],
          [
           -0.2857142857142858,
           -0.2857142857142858,
           -0.2857142857142858,
           -0.2857142857142858,
           -0.2857142857142858,
           -0.2857142857142858,
           -0.2857142857142858,
           -0.2857142857142858,
           -0.2857142857142858,
           -0.2857142857142858,
           -0.2857142857142858,
           -0.2857142857142858,
           -0.2857142857142858,
           -0.2857142857142858,
           -0.2857142857142858
          ],
          [
           0,
           0,
           0,
           0,
           0,
           0,
           0,
           0,
           0,
           0,
           0,
           0,
           0,
           0,
           0
          ],
          [
           0.2857142857142856,
           0.2857142857142856,
           0.2857142857142856,
           0.2857142857142856,
           0.2857142857142856,
           0.2857142857142856,
           0.2857142857142856,
           0.2857142857142856,
           0.2857142857142856,
           0.2857142857142856,
           0.2857142857142856,
           0.2857142857142856,
           0.2857142857142856,
           0.2857142857142856,
           0.2857142857142856
          ],
          [
           0.5714285714285712,
           0.5714285714285712,
           0.5714285714285712,
           0.5714285714285712,
           0.5714285714285712,
           0.5714285714285712,
           0.5714285714285712,
           0.5714285714285712,
           0.5714285714285712,
           0.5714285714285712,
           0.5714285714285712,
           0.5714285714285712,
           0.5714285714285712,
           0.5714285714285712,
           0.5714285714285712
          ],
          [
           0.8571428571428568,
           0.8571428571428568,
           0.8571428571428568,
           0.8571428571428568,
           0.8571428571428568,
           0.8571428571428568,
           0.8571428571428568,
           0.8571428571428568,
           0.8571428571428568,
           0.8571428571428568,
           0.8571428571428568,
           0.8571428571428568,
           0.8571428571428568,
           0.8571428571428568,
           0.8571428571428568
          ],
          [
           1.1428571428571428,
           1.1428571428571428,
           1.1428571428571428,
           1.1428571428571428,
           1.1428571428571428,
           1.1428571428571428,
           1.1428571428571428,
           1.1428571428571428,
           1.1428571428571428,
           1.1428571428571428,
           1.1428571428571428,
           1.1428571428571428,
           1.1428571428571428,
           1.1428571428571428,
           1.1428571428571428
          ],
          [
           1.4285714285714284,
           1.4285714285714284,
           1.4285714285714284,
           1.4285714285714284,
           1.4285714285714284,
           1.4285714285714284,
           1.4285714285714284,
           1.4285714285714284,
           1.4285714285714284,
           1.4285714285714284,
           1.4285714285714284,
           1.4285714285714284,
           1.4285714285714284,
           1.4285714285714284,
           1.4285714285714284
          ],
          [
           1.714285714285714,
           1.714285714285714,
           1.714285714285714,
           1.714285714285714,
           1.714285714285714,
           1.714285714285714,
           1.714285714285714,
           1.714285714285714,
           1.714285714285714,
           1.714285714285714,
           1.714285714285714,
           1.714285714285714,
           1.714285714285714,
           1.714285714285714,
           1.714285714285714
          ],
          [
           2,
           2,
           2,
           2,
           2,
           2,
           2,
           2,
           2,
           2,
           2,
           2,
           2,
           2,
           2
          ]
         ],
         "z": [
          [
           0.6129762108680206,
           0.5433280959791918,
           0.28448098396107313,
           -0.0751362440853093,
           -0.39962442631080225,
           -0.5670622012626365,
           -0.5253771758172138,
           -0.3145800665906665,
           -0.04416913966007788,
           0.1627339904837875,
           0.22999918458253843,
           0.16295553239270044,
           0.039343004406276263,
           -0.0380457923803799,
           -0.0017943226355129419
          ],
          [
           0.2313536087185321,
           0.3228148735758802,
           0.31998200640729313,
           0.21655022278169989,
           0.052346416296848206,
           -0.1066748080774223,
           -0.20123609456368308,
           -0.20663844471506604,
           -0.14137920041778024,
           -0.052994813481360134,
           0.00994676425613425,
           0.023564933065792104,
           -0.002217457615096702,
           -0.03570030639601888,
           -0.04880898471825848
          ],
          [
           -0.06416700394365854,
           0.015970130968659527,
           0.1302248690476532,
           0.2333241440120321,
           0.28847886664411515,
           0.2813313773632807,
           0.2211951450940789,
           0.13172341574650337,
           0.03789201507369104,
           -0.04344777078722474,
           -0.10577820266796188,
           -0.149228611194712,
           -0.17567759411331632,
           -0.18713406272001032,
           -0.18853569420007205
          ],
          [
           -0.10898958091484004,
           -0.20091474327097503,
           -0.17418645130434815,
           -0.035139574271516205,
           0.16759291690734973,
           0.36395575510633893,
           0.48828796474057484,
           0.5005049238866526,
           0.39632817267011405,
           0.20507447561156417,
           -0.022246454545834973,
           -0.22950317696028902,
           -0.37152637269317795,
           -0.42580035912940306,
           -0.3974961342369238
          ],
          [
           0.11962750556062077,
           -0.17684079075930778,
           -0.3745237150934827,
           -0.3896513814831032,
           -0.2091048437341075,
           0.10575141995098633,
           0.4426901701286936,
           0.6801400525158892,
           0.7309073070812547,
           0.5723042130211622,
           0.2525070410040404,
           -0.1280875417339703,
           -0.4528852044787416,
           -0.6292274765775415,
           -0.6186556721160696
          ],
          [
           0.4950271668006039,
           0.11991142652171095,
           -0.2859185667178138,
           -0.5561274127092312,
           -0.5753654127048903,
           -0.32614267970641003,
           0.10258307644820817,
           0.549039492442072,
           0.8413427700345126,
           0.8643251700484407,
           0.6039405828830156,
           0.15191511466001675,
           -0.33057512340110584,
           -0.6751275072492051,
           -0.7693532028725708
          ],
          [
           0.8173797029331636,
           0.5704407956200802,
           0.11152876194059688,
           -0.3724993113330406,
           -0.679969878785336,
           -0.6786594531508882,
           -0.3625295787644456,
           0.14393658989741545,
           0.6363335818794054,
           0.914684464942663,
           0.8657736686076721,
           0.5087155527116626,
           -0.014888313458604141,
           -0.5009351740141871,
           -0.7665789851703895
          ],
          [
           0.9265719483652415,
           0.9609885932287014,
           0.6418752009860145,
           0.09711293423395717,
           -0.44907755231897817,
           -0.7708495016128373,
           -0.7370990079674749,
           -0.36709938593799113,
           0.1789924270454854,
           0.6701440577404347,
           0.903606503421779,
           0.7895179898110081,
           0.3846965810991532,
           -0.1371985459025532,
           -0.5635837100807014
          ],
          [
           0.785829817228735,
           1.0981877310415447,
           1.0293055167530631,
           0.5977536768139292,
           -0.02644969207779299,
           -0.5932520746315553,
           -0.8787046113911874,
           -0.7790124557701696,
           -0.35145854763451345,
           0.21458905561650723,
           0.6820079915038023,
           0.8669944339639946,
           0.7123678963618099,
           0.30287818993302595,
           -0.18054963476048452
          ],
          [
           0.49070182060604617,
           0.9182130297836245,
           1.0647330738240852,
           0.8461802435656345,
           0.3295619078885016,
           -0.29261452999422105,
           -0.7823676977162248,
           -0.9555248970685997,
           -0.7568885158507935,
           -0.27931924051409984,
           0.27977224749957785,
           0.7034279862754337,
           0.8433664512088106,
           0.6737734809300164,
           0.2903183444739592
          ],
          [
           0.20392020699724983,
           0.5248507006808214,
           0.7381251778212444,
           0.7138684723115774,
           0.4190802488154476,
           -0.062271555510794774,
           -0.560305526440528,
           -0.8883175560313266,
           -0.9198700132264398,
           -0.6405224242731623,
           -0.15246714170135572,
           0.3686551709357003,
           0.7448060856875783,
           0.8634480167120757,
           0.714378590333992
          ],
          [
           0.05936144123287758,
           0.13194448646249987,
           0.25013946166608136,
           0.3098276055356185,
           0.2273143280396896,
           -0.016476881844113486,
           -0.3601243617863474,
           -0.6824174306271953,
           -0.8513756879459256,
           -0.7803723581027645,
           -0.46680031080708356,
           0.003572683034340801,
           0.4882655585461314,
           0.8418650362705563,
           0.9690025511519995
          ],
          [
           0.09273726272871352,
           -0.057634592236375015,
           -0.10797337953563556,
           -0.0915852435392353,
           -0.07709735664331868,
           -0.1305901056317253,
           -0.2776745886489048,
           -0.4841094072415171,
           -0.6652980160024862,
           -0.7215960428578665,
           -0.5840579490196978,
           -0.2499003510281826,
           0.20884298517500283,
           0.6681444942592184,
           0.9969339022660326
          ],
          [
           0.23606850256578688,
           0.034177806335179806,
           -0.1327731518601893,
           -0.23046343873838382,
           -0.26599387164597343,
           -0.2792753048050294,
           -0.3162523436684355,
           -0.3978703486322147,
           -0.5015151992100971,
           -0.5659147263853745,
           -0.5188344358978134,
           -0.3150615569647511,
           0.03386201105031153,
           0.45369963422811965,
           0.8300988548955446
          ],
          [
           0.37220268679088964,
           0.32102277818002667,
           0.16695386791588093,
           -0.030269698587286314,
           -0.21031775053790114,
           -0.3375229786641951,
           -0.4083164399700522,
           -0.43945347725731115,
           -0.44639492043891127,
           -0.4262369193130605,
           -0.3563118281876624,
           -0.20996719796112098,
           0.019535887142383704,
           0.3016591960312892,
           0.5697808615792086
          ]
         ]
        },
        {
         "scene": "scene3",
         "showscale": false,
         "type": "surface",
         "x": [
          [
           -2,
           -1.7142857142857144,
           -1.4285714285714286,
           -1.1428571428571428,
           -0.8571428571428572,
           -0.5714285714285716,
           -0.2857142857142858,
           0,
           0.2857142857142856,
           0.5714285714285712,
           0.8571428571428568,
           1.1428571428571428,
           1.4285714285714284,
           1.714285714285714,
           2
          ],
          [
           -2,
           -1.7142857142857144,
           -1.4285714285714286,
           -1.1428571428571428,
           -0.8571428571428572,
           -0.5714285714285716,
           -0.2857142857142858,
           0,
           0.2857142857142856,
           0.5714285714285712,
           0.8571428571428568,
           1.1428571428571428,
           1.4285714285714284,
           1.714285714285714,
           2
          ],
          [
           -2,
           -1.7142857142857144,
           -1.4285714285714286,
           -1.1428571428571428,
           -0.8571428571428572,
           -0.5714285714285716,
           -0.2857142857142858,
           0,
           0.2857142857142856,
           0.5714285714285712,
           0.8571428571428568,
           1.1428571428571428,
           1.4285714285714284,
           1.714285714285714,
           2
          ],
          [
           -2,
           -1.7142857142857144,
           -1.4285714285714286,
           -1.1428571428571428,
           -0.8571428571428572,
           -0.5714285714285716,
           -0.2857142857142858,
           0,
           0.2857142857142856,
           0.5714285714285712,
           0.8571428571428568,
           1.1428571428571428,
           1.4285714285714284,
           1.714285714285714,
           2
          ],
          [
           -2,
           -1.7142857142857144,
           -1.4285714285714286,
           -1.1428571428571428,
           -0.8571428571428572,
           -0.5714285714285716,
           -0.2857142857142858,
           0,
           0.2857142857142856,
           0.5714285714285712,
           0.8571428571428568,
           1.1428571428571428,
           1.4285714285714284,
           1.714285714285714,
           2
          ],
          [
           -2,
           -1.7142857142857144,
           -1.4285714285714286,
           -1.1428571428571428,
           -0.8571428571428572,
           -0.5714285714285716,
           -0.2857142857142858,
           0,
           0.2857142857142856,
           0.5714285714285712,
           0.8571428571428568,
           1.1428571428571428,
           1.4285714285714284,
           1.714285714285714,
           2
          ],
          [
           -2,
           -1.7142857142857144,
           -1.4285714285714286,
           -1.1428571428571428,
           -0.8571428571428572,
           -0.5714285714285716,
           -0.2857142857142858,
           0,
           0.2857142857142856,
           0.5714285714285712,
           0.8571428571428568,
           1.1428571428571428,
           1.4285714285714284,
           1.714285714285714,
           2
          ],
          [
           -2,
           -1.7142857142857144,
           -1.4285714285714286,
           -1.1428571428571428,
           -0.8571428571428572,
           -0.5714285714285716,
           -0.2857142857142858,
           0,
           0.2857142857142856,
           0.5714285714285712,
           0.8571428571428568,
           1.1428571428571428,
           1.4285714285714284,
           1.714285714285714,
           2
          ],
          [
           -2,
           -1.7142857142857144,
           -1.4285714285714286,
           -1.1428571428571428,
           -0.8571428571428572,
           -0.5714285714285716,
           -0.2857142857142858,
           0,
           0.2857142857142856,
           0.5714285714285712,
           0.8571428571428568,
           1.1428571428571428,
           1.4285714285714284,
           1.714285714285714,
           2
          ],
          [
           -2,
           -1.7142857142857144,
           -1.4285714285714286,
           -1.1428571428571428,
           -0.8571428571428572,
           -0.5714285714285716,
           -0.2857142857142858,
           0,
           0.2857142857142856,
           0.5714285714285712,
           0.8571428571428568,
           1.1428571428571428,
           1.4285714285714284,
           1.714285714285714,
           2
          ],
          [
           -2,
           -1.7142857142857144,
           -1.4285714285714286,
           -1.1428571428571428,
           -0.8571428571428572,
           -0.5714285714285716,
           -0.2857142857142858,
           0,
           0.2857142857142856,
           0.5714285714285712,
           0.8571428571428568,
           1.1428571428571428,
           1.4285714285714284,
           1.714285714285714,
           2
          ],
          [
           -2,
           -1.7142857142857144,
           -1.4285714285714286,
           -1.1428571428571428,
           -0.8571428571428572,
           -0.5714285714285716,
           -0.2857142857142858,
           0,
           0.2857142857142856,
           0.5714285714285712,
           0.8571428571428568,
           1.1428571428571428,
           1.4285714285714284,
           1.714285714285714,
           2
          ],
          [
           -2,
           -1.7142857142857144,
           -1.4285714285714286,
           -1.1428571428571428,
           -0.8571428571428572,
           -0.5714285714285716,
           -0.2857142857142858,
           0,
           0.2857142857142856,
           0.5714285714285712,
           0.8571428571428568,
           1.1428571428571428,
           1.4285714285714284,
           1.714285714285714,
           2
          ],
          [
           -2,
           -1.7142857142857144,
           -1.4285714285714286,
           -1.1428571428571428,
           -0.8571428571428572,
           -0.5714285714285716,
           -0.2857142857142858,
           0,
           0.2857142857142856,
           0.5714285714285712,
           0.8571428571428568,
           1.1428571428571428,
           1.4285714285714284,
           1.714285714285714,
           2
          ],
          [
           -2,
           -1.7142857142857144,
           -1.4285714285714286,
           -1.1428571428571428,
           -0.8571428571428572,
           -0.5714285714285716,
           -0.2857142857142858,
           0,
           0.2857142857142856,
           0.5714285714285712,
           0.8571428571428568,
           1.1428571428571428,
           1.4285714285714284,
           1.714285714285714,
           2
          ]
         ],
         "y": [
          [
           -2,
           -2,
           -2,
           -2,
           -2,
           -2,
           -2,
           -2,
           -2,
           -2,
           -2,
           -2,
           -2,
           -2,
           -2
          ],
          [
           -1.7142857142857144,
           -1.7142857142857144,
           -1.7142857142857144,
           -1.7142857142857144,
           -1.7142857142857144,
           -1.7142857142857144,
           -1.7142857142857144,
           -1.7142857142857144,
           -1.7142857142857144,
           -1.7142857142857144,
           -1.7142857142857144,
           -1.7142857142857144,
           -1.7142857142857144,
           -1.7142857142857144,
           -1.7142857142857144
          ],
          [
           -1.4285714285714286,
           -1.4285714285714286,
           -1.4285714285714286,
           -1.4285714285714286,
           -1.4285714285714286,
           -1.4285714285714286,
           -1.4285714285714286,
           -1.4285714285714286,
           -1.4285714285714286,
           -1.4285714285714286,
           -1.4285714285714286,
           -1.4285714285714286,
           -1.4285714285714286,
           -1.4285714285714286,
           -1.4285714285714286
          ],
          [
           -1.1428571428571428,
           -1.1428571428571428,
           -1.1428571428571428,
           -1.1428571428571428,
           -1.1428571428571428,
           -1.1428571428571428,
           -1.1428571428571428,
           -1.1428571428571428,
           -1.1428571428571428,
           -1.1428571428571428,
           -1.1428571428571428,
           -1.1428571428571428,
           -1.1428571428571428,
           -1.1428571428571428,
           -1.1428571428571428
          ],
          [
           -0.8571428571428572,
           -0.8571428571428572,
           -0.8571428571428572,
           -0.8571428571428572,
           -0.8571428571428572,
           -0.8571428571428572,
           -0.8571428571428572,
           -0.8571428571428572,
           -0.8571428571428572,
           -0.8571428571428572,
           -0.8571428571428572,
           -0.8571428571428572,
           -0.8571428571428572,
           -0.8571428571428572,
           -0.8571428571428572
          ],
          [
           -0.5714285714285716,
           -0.5714285714285716,
           -0.5714285714285716,
           -0.5714285714285716,
           -0.5714285714285716,
           -0.5714285714285716,
           -0.5714285714285716,
           -0.5714285714285716,
           -0.5714285714285716,
           -0.5714285714285716,
           -0.5714285714285716,
           -0.5714285714285716,
           -0.5714285714285716,
           -0.5714285714285716,
           -0.5714285714285716
          ],
          [
           -0.2857142857142858,
           -0.2857142857142858,
           -0.2857142857142858,
           -0.2857142857142858,
           -0.2857142857142858,
           -0.2857142857142858,
           -0.2857142857142858,
           -0.2857142857142858,
           -0.2857142857142858,
           -0.2857142857142858,
           -0.2857142857142858,
           -0.2857142857142858,
           -0.2857142857142858,
           -0.2857142857142858,
           -0.2857142857142858
          ],
          [
           0,
           0,
           0,
           0,
           0,
           0,
           0,
           0,
           0,
           0,
           0,
           0,
           0,
           0,
           0
          ],
          [
           0.2857142857142856,
           0.2857142857142856,
           0.2857142857142856,
           0.2857142857142856,
           0.2857142857142856,
           0.2857142857142856,
           0.2857142857142856,
           0.2857142857142856,
           0.2857142857142856,
           0.2857142857142856,
           0.2857142857142856,
           0.2857142857142856,
           0.2857142857142856,
           0.2857142857142856,
           0.2857142857142856
          ],
          [
           0.5714285714285712,
           0.5714285714285712,
           0.5714285714285712,
           0.5714285714285712,
           0.5714285714285712,
           0.5714285714285712,
           0.5714285714285712,
           0.5714285714285712,
           0.5714285714285712,
           0.5714285714285712,
           0.5714285714285712,
           0.5714285714285712,
           0.5714285714285712,
           0.5714285714285712,
           0.5714285714285712
          ],
          [
           0.8571428571428568,
           0.8571428571428568,
           0.8571428571428568,
           0.8571428571428568,
           0.8571428571428568,
           0.8571428571428568,
           0.8571428571428568,
           0.8571428571428568,
           0.8571428571428568,
           0.8571428571428568,
           0.8571428571428568,
           0.8571428571428568,
           0.8571428571428568,
           0.8571428571428568,
           0.8571428571428568
          ],
          [
           1.1428571428571428,
           1.1428571428571428,
           1.1428571428571428,
           1.1428571428571428,
           1.1428571428571428,
           1.1428571428571428,
           1.1428571428571428,
           1.1428571428571428,
           1.1428571428571428,
           1.1428571428571428,
           1.1428571428571428,
           1.1428571428571428,
           1.1428571428571428,
           1.1428571428571428,
           1.1428571428571428
          ],
          [
           1.4285714285714284,
           1.4285714285714284,
           1.4285714285714284,
           1.4285714285714284,
           1.4285714285714284,
           1.4285714285714284,
           1.4285714285714284,
           1.4285714285714284,
           1.4285714285714284,
           1.4285714285714284,
           1.4285714285714284,
           1.4285714285714284,
           1.4285714285714284,
           1.4285714285714284,
           1.4285714285714284
          ],
          [
           1.714285714285714,
           1.714285714285714,
           1.714285714285714,
           1.714285714285714,
           1.714285714285714,
           1.714285714285714,
           1.714285714285714,
           1.714285714285714,
           1.714285714285714,
           1.714285714285714,
           1.714285714285714,
           1.714285714285714,
           1.714285714285714,
           1.714285714285714,
           1.714285714285714
          ],
          [
           2,
           2,
           2,
           2,
           2,
           2,
           2,
           2,
           2,
           2,
           2,
           2,
           2,
           2,
           2
          ]
         ],
         "z": [
          [
           0.01194095403926592,
           0.009445312706835934,
           -0.043976811038488856,
           -0.12016004037369366,
           -0.18486596808655872,
           -0.21058533672075735,
           -0.18517347610298152,
           -0.11417899047281045,
           -0.017387722681646123,
           0.07814616345460834,
           0.14592864604410555,
           0.16672815989724285,
           0.13313634453788653,
           0.05159807060842728,
           -0.058357857584538875
          ],
          [
           0.0616906763984961,
           0.044028861837596085,
           -0.04014599984702588,
           -0.1564902077208089,
           -0.2584524084429494,
           -0.30571291808462386,
           -0.2795606266358435,
           -0.18930984141140253,
           -0.06769367768524556,
           0.042385566309176635,
           0.1041557686620708,
           0.09995564023102642,
           0.03630395137285922,
           -0.06014533830697955,
           -0.1534580043060479
          ],
          [
           -0.00022164191935402505,
           -0.02783943534483898,
           -0.11600710404209882,
           -0.23600818309637403,
           -0.3452938939452649,
           -0.4042926815688766,
           -0.3923362733896172,
           -0.3159405853536243,
           -0.20589022300613433,
           -0.10436957839125108,
           -0.047643707961674595,
           -0.05163520696467827,
           -0.1063769864578796,
           -0.18139517449099804,
           -0.23936971475336877
          ],
          [
           -0.18260907463030004,
           -0.2087418185090456,
           -0.26948802889826257,
           -0.3538340511494784,
           -0.4388345258215022,
           -0.49792003952010483,
           -0.5118733817878693,
           -0.4774529262564566,
           -0.4093992621965961,
           -0.33447352314947415,
           -0.2799167382911457,
           -0.2614881019175941,
           -0.27664101469622365,
           -0.3061455955084075,
           -0.3235674953610532
          ],
          [
           -0.44657292275553745,
           -0.46262165006599,
           -0.47370195219192857,
           -0.4930978061543,
           -0.5271409830949408,
           -0.5709247750025335,
           -0.6105944351266597,
           -0.6307064488269056,
           -0.6224676407495852,
           -0.5883080589845882,
           -0.5403469124378495,
           -0.4937081100127917,
           -0.4584842673786601,
           -0.43489563670405207,
           -0.41442903357822436
          ],
          [
           -0.7068963054117842,
           -0.7171874959970919,
           -0.677469173492856,
           -0.622188991758474,
           -0.5876763718106323,
           -0.595255054522359,
           -0.6430056815627052,
           -0.7090584625695648,
           -0.7636264657887701,
           -0.7831665526221115,
           -0.7597874491975398,
           -0.7021436120466241,
           -0.6287079229739521,
           -0.5580103878460362,
           -0.501340896412739
          ],
          [
           -0.8555231742230333,
           -0.8803920451270465,
           -0.8125054691957947,
           -0.6948255137539723,
           -0.5859028313253948,
           -0.5340788250378293,
           -0.5584231406437327,
           -0.6438558204937719,
           -0.7510186527917209,
           -0.8349924877246705,
           -0.8638156099375334,
           -0.8290433683286538,
           -0.7452133720839249,
           -0.640477517442944,
           -0.5441702025070526
          ],
          [
           -0.8031862320768445,
           -0.8708986153001673,
           -0.8116234372816001,
           -0.6600557184140632,
           -0.4844406438706283,
           -0.3573322859354034,
           -0.3266471309870125,
           -0.39873314562073664,
           -0.5393000646360601,
           -0.6902078574427356,
           -0.7938302450970349,
           -0.8145459579531973,
           -0.7493518446354868,
           -0.6250420612598303,
           -0.4851128820228272
          ],
          [
           -0.5227138358530259,
           -0.6534092605398283,
           -0.6356574998173123,
           -0.4832164044084767,
           -0.26216991851662347,
           -0.06290183548080351,
           0.036653928235964445,
           0.001178863973123917,
           -0.15034276677651978,
           -0.35508605401747473,
           -0.533393844453401,
           -0.6204013334478294,
           -0.5894333666463735,
           -0.45877970359859677,
           -0.2809071868965528
          ],
          [
           -0.07168371132879174,
           -0.2624947587758639,
           -0.2979466962082098,
           -0.1691515282170668,
           0.06638338839648002,
           0.3097792074442116,
           0.46226007527442836,
           0.4652165073147462,
           0.3221889839774581,
           0.09443862678810963,
           -0.1266792367841073,
           -0.25775548576967044,
           -0.255475719452013,
           -0.13024611701359473,
           0.06257451979841216
          ],
          [
           0.4214084252957667,
           0.20051498519023386,
           0.12880841354576994,
           0.2269395333455236,
           0.444835229913432,
           0.6854100439296515,
           0.8472260835876188,
           0.8669315388867771,
           0.7432800891096871,
           0.5335351324650601,
           0.32564960535109144,
           0.19990960555340326,
           0.19723137514668962,
           0.3068966612855752,
           0.47681097804725997
          ],
          [
           0.8059408909365119,
           0.6019091874993172,
           0.5327470966873525,
           0.6121108507047978,
           0.7899905043142417,
           0.9791870687898221,
           1.0961332644092086,
           1.0967441720168654,
           0.9916080307882533,
           0.8355015527578692,
           0.698453547980707,
           0.633460184617066,
           0.6560145904376975,
           0.7434198147779962,
           0.8514978229484595
          ],
          [
           0.972063931817678,
           0.8290055909841333,
           0.8055110039389335,
           0.8903374471486384,
           1.0239788299873096,
           1.1321480605324936,
           1.1632377863507626,
           1.1110450345215979,
           1.0126596529764873,
           0.9246240250536861,
           0.8913527141016202,
           0.9228891587827434,
           0.9931143685706143,
           1.0579866404662996,
           1.0825640456766237
          ],
          [
           0.8970119122964952,
           0.8378206636070158,
           0.8883495854094408,
           1.0036003599472354,
           1.1076878659830967,
           1.1364428278365677,
           1.0718479212435583,
           0.9503586186101731,
           0.8413728684378792,
           0.8080282793533349,
           0.8717680320454051,
           0.9999233388130784,
           1.123133086060416,
           1.1733478713745473,
           1.1219513883251948
          ],
          [
           0.6507714900930831,
           0.6702729448199023,
           0.7974589230801856,
           0.9572504060380912,
           1.0567122130190763,
           1.0354812461513119,
           0.8986997430198035,
           0.7150429099359543,
           0.5807648630132314,
           0.5685644982952119,
           0.688187402711546,
           0.8797643829065785,
           1.0439346624702721,
           1.093548118359914,
           1.0001800703656825
          ]
         ]
        },
        {
         "scene": "scene4",
         "showscale": false,
         "type": "surface",
         "x": [
          [
           -2,
           -1.7142857142857144,
           -1.4285714285714286,
           -1.1428571428571428,
           -0.8571428571428572,
           -0.5714285714285716,
           -0.2857142857142858,
           0,
           0.2857142857142856,
           0.5714285714285712,
           0.8571428571428568,
           1.1428571428571428,
           1.4285714285714284,
           1.714285714285714,
           2
          ],
          [
           -2,
           -1.7142857142857144,
           -1.4285714285714286,
           -1.1428571428571428,
           -0.8571428571428572,
           -0.5714285714285716,
           -0.2857142857142858,
           0,
           0.2857142857142856,
           0.5714285714285712,
           0.8571428571428568,
           1.1428571428571428,
           1.4285714285714284,
           1.714285714285714,
           2
          ],
          [
           -2,
           -1.7142857142857144,
           -1.4285714285714286,
           -1.1428571428571428,
           -0.8571428571428572,
           -0.5714285714285716,
           -0.2857142857142858,
           0,
           0.2857142857142856,
           0.5714285714285712,
           0.8571428571428568,
           1.1428571428571428,
           1.4285714285714284,
           1.714285714285714,
           2
          ],
          [
           -2,
           -1.7142857142857144,
           -1.4285714285714286,
           -1.1428571428571428,
           -0.8571428571428572,
           -0.5714285714285716,
           -0.2857142857142858,
           0,
           0.2857142857142856,
           0.5714285714285712,
           0.8571428571428568,
           1.1428571428571428,
           1.4285714285714284,
           1.714285714285714,
           2
          ],
          [
           -2,
           -1.7142857142857144,
           -1.4285714285714286,
           -1.1428571428571428,
           -0.8571428571428572,
           -0.5714285714285716,
           -0.2857142857142858,
           0,
           0.2857142857142856,
           0.5714285714285712,
           0.8571428571428568,
           1.1428571428571428,
           1.4285714285714284,
           1.714285714285714,
           2
          ],
          [
           -2,
           -1.7142857142857144,
           -1.4285714285714286,
           -1.1428571428571428,
           -0.8571428571428572,
           -0.5714285714285716,
           -0.2857142857142858,
           0,
           0.2857142857142856,
           0.5714285714285712,
           0.8571428571428568,
           1.1428571428571428,
           1.4285714285714284,
           1.714285714285714,
           2
          ],
          [
           -2,
           -1.7142857142857144,
           -1.4285714285714286,
           -1.1428571428571428,
           -0.8571428571428572,
           -0.5714285714285716,
           -0.2857142857142858,
           0,
           0.2857142857142856,
           0.5714285714285712,
           0.8571428571428568,
           1.1428571428571428,
           1.4285714285714284,
           1.714285714285714,
           2
          ],
          [
           -2,
           -1.7142857142857144,
           -1.4285714285714286,
           -1.1428571428571428,
           -0.8571428571428572,
           -0.5714285714285716,
           -0.2857142857142858,
           0,
           0.2857142857142856,
           0.5714285714285712,
           0.8571428571428568,
           1.1428571428571428,
           1.4285714285714284,
           1.714285714285714,
           2
          ],
          [
           -2,
           -1.7142857142857144,
           -1.4285714285714286,
           -1.1428571428571428,
           -0.8571428571428572,
           -0.5714285714285716,
           -0.2857142857142858,
           0,
           0.2857142857142856,
           0.5714285714285712,
           0.8571428571428568,
           1.1428571428571428,
           1.4285714285714284,
           1.714285714285714,
           2
          ],
          [
           -2,
           -1.7142857142857144,
           -1.4285714285714286,
           -1.1428571428571428,
           -0.8571428571428572,
           -0.5714285714285716,
           -0.2857142857142858,
           0,
           0.2857142857142856,
           0.5714285714285712,
           0.8571428571428568,
           1.1428571428571428,
           1.4285714285714284,
           1.714285714285714,
           2
          ],
          [
           -2,
           -1.7142857142857144,
           -1.4285714285714286,
           -1.1428571428571428,
           -0.8571428571428572,
           -0.5714285714285716,
           -0.2857142857142858,
           0,
           0.2857142857142856,
           0.5714285714285712,
           0.8571428571428568,
           1.1428571428571428,
           1.4285714285714284,
           1.714285714285714,
           2
          ],
          [
           -2,
           -1.7142857142857144,
           -1.4285714285714286,
           -1.1428571428571428,
           -0.8571428571428572,
           -0.5714285714285716,
           -0.2857142857142858,
           0,
           0.2857142857142856,
           0.5714285714285712,
           0.8571428571428568,
           1.1428571428571428,
           1.4285714285714284,
           1.714285714285714,
           2
          ],
          [
           -2,
           -1.7142857142857144,
           -1.4285714285714286,
           -1.1428571428571428,
           -0.8571428571428572,
           -0.5714285714285716,
           -0.2857142857142858,
           0,
           0.2857142857142856,
           0.5714285714285712,
           0.8571428571428568,
           1.1428571428571428,
           1.4285714285714284,
           1.714285714285714,
           2
          ],
          [
           -2,
           -1.7142857142857144,
           -1.4285714285714286,
           -1.1428571428571428,
           -0.8571428571428572,
           -0.5714285714285716,
           -0.2857142857142858,
           0,
           0.2857142857142856,
           0.5714285714285712,
           0.8571428571428568,
           1.1428571428571428,
           1.4285714285714284,
           1.714285714285714,
           2
          ],
          [
           -2,
           -1.7142857142857144,
           -1.4285714285714286,
           -1.1428571428571428,
           -0.8571428571428572,
           -0.5714285714285716,
           -0.2857142857142858,
           0,
           0.2857142857142856,
           0.5714285714285712,
           0.8571428571428568,
           1.1428571428571428,
           1.4285714285714284,
           1.714285714285714,
           2
          ]
         ],
         "y": [
          [
           -2,
           -2,
           -2,
           -2,
           -2,
           -2,
           -2,
           -2,
           -2,
           -2,
           -2,
           -2,
           -2,
           -2,
           -2
          ],
          [
           -1.7142857142857144,
           -1.7142857142857144,
           -1.7142857142857144,
           -1.7142857142857144,
           -1.7142857142857144,
           -1.7142857142857144,
           -1.7142857142857144,
           -1.7142857142857144,
           -1.7142857142857144,
           -1.7142857142857144,
           -1.7142857142857144,
           -1.7142857142857144,
           -1.7142857142857144,
           -1.7142857142857144,
           -1.7142857142857144
          ],
          [
           -1.4285714285714286,
           -1.4285714285714286,
           -1.4285714285714286,
           -1.4285714285714286,
           -1.4285714285714286,
           -1.4285714285714286,
           -1.4285714285714286,
           -1.4285714285714286,
           -1.4285714285714286,
           -1.4285714285714286,
           -1.4285714285714286,
           -1.4285714285714286,
           -1.4285714285714286,
           -1.4285714285714286,
           -1.4285714285714286
          ],
          [
           -1.1428571428571428,
           -1.1428571428571428,
           -1.1428571428571428,
           -1.1428571428571428,
           -1.1428571428571428,
           -1.1428571428571428,
           -1.1428571428571428,
           -1.1428571428571428,
           -1.1428571428571428,
           -1.1428571428571428,
           -1.1428571428571428,
           -1.1428571428571428,
           -1.1428571428571428,
           -1.1428571428571428,
           -1.1428571428571428
          ],
          [
           -0.8571428571428572,
           -0.8571428571428572,
           -0.8571428571428572,
           -0.8571428571428572,
           -0.8571428571428572,
           -0.8571428571428572,
           -0.8571428571428572,
           -0.8571428571428572,
           -0.8571428571428572,
           -0.8571428571428572,
           -0.8571428571428572,
           -0.8571428571428572,
           -0.8571428571428572,
           -0.8571428571428572,
           -0.8571428571428572
          ],
          [
           -0.5714285714285716,
           -0.5714285714285716,
           -0.5714285714285716,
           -0.5714285714285716,
           -0.5714285714285716,
           -0.5714285714285716,
           -0.5714285714285716,
           -0.5714285714285716,
           -0.5714285714285716,
           -0.5714285714285716,
           -0.5714285714285716,
           -0.5714285714285716,
           -0.5714285714285716,
           -0.5714285714285716,
           -0.5714285714285716
          ],
          [
           -0.2857142857142858,
           -0.2857142857142858,
           -0.2857142857142858,
           -0.2857142857142858,
           -0.2857142857142858,
           -0.2857142857142858,
           -0.2857142857142858,
           -0.2857142857142858,
           -0.2857142857142858,
           -0.2857142857142858,
           -0.2857142857142858,
           -0.2857142857142858,
           -0.2857142857142858,
           -0.2857142857142858,
           -0.2857142857142858
          ],
          [
           0,
           0,
           0,
           0,
           0,
           0,
           0,
           0,
           0,
           0,
           0,
           0,
           0,
           0,
           0
          ],
          [
           0.2857142857142856,
           0.2857142857142856,
           0.2857142857142856,
           0.2857142857142856,
           0.2857142857142856,
           0.2857142857142856,
           0.2857142857142856,
           0.2857142857142856,
           0.2857142857142856,
           0.2857142857142856,
           0.2857142857142856,
           0.2857142857142856,
           0.2857142857142856,
           0.2857142857142856,
           0.2857142857142856
          ],
          [
           0.5714285714285712,
           0.5714285714285712,
           0.5714285714285712,
           0.5714285714285712,
           0.5714285714285712,
           0.5714285714285712,
           0.5714285714285712,
           0.5714285714285712,
           0.5714285714285712,
           0.5714285714285712,
           0.5714285714285712,
           0.5714285714285712,
           0.5714285714285712,
           0.5714285714285712,
           0.5714285714285712
          ],
          [
           0.8571428571428568,
           0.8571428571428568,
           0.8571428571428568,
           0.8571428571428568,
           0.8571428571428568,
           0.8571428571428568,
           0.8571428571428568,
           0.8571428571428568,
           0.8571428571428568,
           0.8571428571428568,
           0.8571428571428568,
           0.8571428571428568,
           0.8571428571428568,
           0.8571428571428568,
           0.8571428571428568
          ],
          [
           1.1428571428571428,
           1.1428571428571428,
           1.1428571428571428,
           1.1428571428571428,
           1.1428571428571428,
           1.1428571428571428,
           1.1428571428571428,
           1.1428571428571428,
           1.1428571428571428,
           1.1428571428571428,
           1.1428571428571428,
           1.1428571428571428,
           1.1428571428571428,
           1.1428571428571428,
           1.1428571428571428
          ],
          [
           1.4285714285714284,
           1.4285714285714284,
           1.4285714285714284,
           1.4285714285714284,
           1.4285714285714284,
           1.4285714285714284,
           1.4285714285714284,
           1.4285714285714284,
           1.4285714285714284,
           1.4285714285714284,
           1.4285714285714284,
           1.4285714285714284,
           1.4285714285714284,
           1.4285714285714284,
           1.4285714285714284
          ],
          [
           1.714285714285714,
           1.714285714285714,
           1.714285714285714,
           1.714285714285714,
           1.714285714285714,
           1.714285714285714,
           1.714285714285714,
           1.714285714285714,
           1.714285714285714,
           1.714285714285714,
           1.714285714285714,
           1.714285714285714,
           1.714285714285714,
           1.714285714285714,
           1.714285714285714
          ],
          [
           2,
           2,
           2,
           2,
           2,
           2,
           2,
           2,
           2,
           2,
           2,
           2,
           2,
           2,
           2
          ]
         ],
         "z": [
          [
           0.0057859715168541714,
           -0.33325948357370067,
           -0.5212037371529841,
           -0.5148830189553858,
           -0.3443109430073847,
           -0.10272902657718239,
           0.09016157723383073,
           0.13827376617445689,
           0.011926829579551365,
           -0.23569142507318705,
           -0.4872449392717686,
           -0.6091285746398238,
           -0.5093516788145399,
           -0.18090312426489497,
           0.28873594356490506
          ],
          [
           0.4291018650268767,
           -0.01687317703275429,
           -0.37465894184965304,
           -0.5709758821948062,
           -0.5927611784808795,
           -0.49033321180614253,
           -0.3551268965339853,
           -0.27952157731241867,
           -0.3148305057795848,
           -0.4456812341229469,
           -0.593170934347319,
           -0.6473121973205432,
           -0.5163357039277395,
           -0.17217964598955848,
           0.32803480629640236
          ],
          [
           0.8235020874863752,
           0.31029930510408865,
           -0.16374178107979342,
           -0.5079358627584408,
           -0.68141170719284,
           -0.7029345725492652,
           -0.63791755176419,
           -0.5668608876961905,
           -0.5476644356850565,
           -0.5877461740893908,
           -0.6386611564861947,
           -0.6168450854384019,
           -0.44283144062488133,
           -0.08269496679984245,
           0.4264650376661882
          ],
          [
           0.9829558055753115,
           0.48586429519616514,
           0.014442330863326469,
           -0.3509953881486054,
           -0.5737403644438439,
           -0.6658651000863186,
           -0.675096258866265,
           -0.6585928979824216,
           -0.6543196149223317,
           -0.6620602411867984,
           -0.6424994387807325,
           -0.5354489003055284,
           -0.2901414269887852,
           0.1050046666758078,
           0.6061708553817975
          ],
          [
           0.8113346268303951,
           0.411361098030145,
           0.062215684948596695,
           -0.1934509679039107,
           -0.3540357160051839,
           -0.44961626262244014,
           -0.5203171727472857,
           -0.5920448351829924,
           -0.6602936847874636,
           -0.6892715536478815,
           -0.627032059736241,
           -0.4303971633697582,
           -0.08912860962910132,
           0.36110758117423525,
           0.8429923956990337
          ],
          [
           0.3830652195844173,
           0.11588372386055593,
           -0.05339338927346948,
           -0.13130899003372454,
           -0.16449580524831436,
           -0.2127408938998407,
           -0.3159605469273755,
           -0.4699925152203795,
           -0.6227014351581532,
           -0.6931876769857159,
           -0.6066317160936385,
           -0.33005682302929107,
           0.10663642892473157,
           0.6140925635517812,
           1.0708758370364517
          ],
          [
           -0.09174175772619643,
           -0.2525514484445703,
           -0.2732680227867374,
           -0.19890320611717474,
           -0.11318881450384959,
           -0.09948488153840826,
           -0.20009961310231544,
           -0.3921250725602801,
           -0.5916895094889326,
           -0.6865849868460775,
           -0.5846248303186053,
           -0.2574679240928375,
           0.23934991999495328,
           0.779942702813476,
           1.2108912806933945
          ],
          [
           -0.3817725253134386,
           -0.5077756949318377,
           -0.47806679907137206,
           -0.3488391788887815,
           -0.21264192193777023,
           -0.15786588067386065,
           -0.22808263462197845,
           -0.39891746158420593,
           -0.5837714265128418,
           -0.6678663326010452,
           -0.5576848456663829,
           -0.2254078240255639,
           0.2710082475219457,
           0.8019802563377182,
           1.2104305344159396
          ],
          [
           -0.3640625160421007,
           -0.5325668462623234,
           -0.5611211029709262,
           -0.4876414815259893,
           -0.38419746628044604,
           -0.32520784485372206,
           -0.35366506039609424,
           -0.4596506508931375,
           -0.5811556930491488,
           -0.6283194413020354,
           -0.5222078264017552,
           -0.23246922814860985,
           0.2022294339908745,
           0.680656874563821,
           1.0712209252676375
          ],
          [
           -0.09259157310014621,
           -0.34714751461373916,
           -0.4953450997855595,
           -0.5401183886874491,
           -0.518374751399422,
           -0.48214465694810815,
           -0.4738637898913576,
           -0.5059166906278192,
           -0.5532759380812122,
           -0.5629924337896346,
           -0.4773584126605392,
           -0.2616180188976961,
           0.07529000988808102,
           0.47614224931193866,
           0.8499302265685319
          ],
          [
           0.2358680622838761,
           -0.09536691752905341,
           -0.3491918690311373,
           -0.49695067411250554,
           -0.5466468938001664,
           -0.5337326541927622,
           -0.5022017042521993,
           -0.4837139938508292,
           -0.4832171439644608,
           -0.47691874917034127,
           -0.42349663265468557,
           -0.2840686347234028,
           -0.04281986171176558,
           0.28023741407271346,
           0.6299343274717095
          ],
          [
           0.3998464250909418,
           0.045239405739467387,
           -0.2393677733065956,
           -0.4134041182234659,
           -0.4771265097495081,
           -0.463927798849203,
           -0.4213141399271257,
           -0.3886846886968325,
           -0.3807687903643453,
           -0.3828633145350452,
           -0.35910349732268393,
           -0.26990517529575964,
           -0.09138201619287181,
           0.17089536696957397,
           0.47901295004781164
          ],
          [
           0.2857119490494625,
           -0.02467049660893772,
           -0.25029121978829916,
           -0.3623555840165936,
           -0.37519873375203944,
           -0.3325991059466974,
           -0.2844041667876345,
           -0.2638740801057472,
           -0.2749007077247367,
           -0.2933563338284867,
           -0.2806403158889795,
           -0.2027240980436441,
           -0.04647416399666335,
           0.1729918496548569,
           0.4159490948939568
          ],
          [
           -0.044492440879039835,
           -0.26205354578302364,
           -0.37389818882531556,
           -0.37712945116716606,
           -0.30890515382044914,
           -0.22468251392862137,
           -0.1711481091879971,
           -0.16604920678063997,
           -0.19322291052046545,
           -0.2137680033344531,
           -0.187049686791408,
           -0.09134272381710723,
           0.06508373055316855,
           0.24659871979812112,
           0.40428485207937387
          ],
          [
           -0.3909649318649221,
           -0.5065531869828815,
           -0.5116902822413361,
           -0.4264137708314012,
           -0.3010439984304579,
           -0.1911914482048524,
           -0.13253982483162263,
           -0.12675252897049266,
           -0.14428729300757903,
           -0.14190892378205983,
           -0.08604511012547492,
           0.02914414827831395,
           0.17715522691035585,
           0.3095925648468597,
           0.3763482601189311
          ]
         ]
        },
        {
         "scene": "scene5",
         "showscale": false,
         "type": "surface",
         "x": [
          [
           -2,
           -1.7142857142857144,
           -1.4285714285714286,
           -1.1428571428571428,
           -0.8571428571428572,
           -0.5714285714285716,
           -0.2857142857142858,
           0,
           0.2857142857142856,
           0.5714285714285712,
           0.8571428571428568,
           1.1428571428571428,
           1.4285714285714284,
           1.714285714285714,
           2
          ],
          [
           -2,
           -1.7142857142857144,
           -1.4285714285714286,
           -1.1428571428571428,
           -0.8571428571428572,
           -0.5714285714285716,
           -0.2857142857142858,
           0,
           0.2857142857142856,
           0.5714285714285712,
           0.8571428571428568,
           1.1428571428571428,
           1.4285714285714284,
           1.714285714285714,
           2
          ],
          [
           -2,
           -1.7142857142857144,
           -1.4285714285714286,
           -1.1428571428571428,
           -0.8571428571428572,
           -0.5714285714285716,
           -0.2857142857142858,
           0,
           0.2857142857142856,
           0.5714285714285712,
           0.8571428571428568,
           1.1428571428571428,
           1.4285714285714284,
           1.714285714285714,
           2
          ],
          [
           -2,
           -1.7142857142857144,
           -1.4285714285714286,
           -1.1428571428571428,
           -0.8571428571428572,
           -0.5714285714285716,
           -0.2857142857142858,
           0,
           0.2857142857142856,
           0.5714285714285712,
           0.8571428571428568,
           1.1428571428571428,
           1.4285714285714284,
           1.714285714285714,
           2
          ],
          [
           -2,
           -1.7142857142857144,
           -1.4285714285714286,
           -1.1428571428571428,
           -0.8571428571428572,
           -0.5714285714285716,
           -0.2857142857142858,
           0,
           0.2857142857142856,
           0.5714285714285712,
           0.8571428571428568,
           1.1428571428571428,
           1.4285714285714284,
           1.714285714285714,
           2
          ],
          [
           -2,
           -1.7142857142857144,
           -1.4285714285714286,
           -1.1428571428571428,
           -0.8571428571428572,
           -0.5714285714285716,
           -0.2857142857142858,
           0,
           0.2857142857142856,
           0.5714285714285712,
           0.8571428571428568,
           1.1428571428571428,
           1.4285714285714284,
           1.714285714285714,
           2
          ],
          [
           -2,
           -1.7142857142857144,
           -1.4285714285714286,
           -1.1428571428571428,
           -0.8571428571428572,
           -0.5714285714285716,
           -0.2857142857142858,
           0,
           0.2857142857142856,
           0.5714285714285712,
           0.8571428571428568,
           1.1428571428571428,
           1.4285714285714284,
           1.714285714285714,
           2
          ],
          [
           -2,
           -1.7142857142857144,
           -1.4285714285714286,
           -1.1428571428571428,
           -0.8571428571428572,
           -0.5714285714285716,
           -0.2857142857142858,
           0,
           0.2857142857142856,
           0.5714285714285712,
           0.8571428571428568,
           1.1428571428571428,
           1.4285714285714284,
           1.714285714285714,
           2
          ],
          [
           -2,
           -1.7142857142857144,
           -1.4285714285714286,
           -1.1428571428571428,
           -0.8571428571428572,
           -0.5714285714285716,
           -0.2857142857142858,
           0,
           0.2857142857142856,
           0.5714285714285712,
           0.8571428571428568,
           1.1428571428571428,
           1.4285714285714284,
           1.714285714285714,
           2
          ],
          [
           -2,
           -1.7142857142857144,
           -1.4285714285714286,
           -1.1428571428571428,
           -0.8571428571428572,
           -0.5714285714285716,
           -0.2857142857142858,
           0,
           0.2857142857142856,
           0.5714285714285712,
           0.8571428571428568,
           1.1428571428571428,
           1.4285714285714284,
           1.714285714285714,
           2
          ],
          [
           -2,
           -1.7142857142857144,
           -1.4285714285714286,
           -1.1428571428571428,
           -0.8571428571428572,
           -0.5714285714285716,
           -0.2857142857142858,
           0,
           0.2857142857142856,
           0.5714285714285712,
           0.8571428571428568,
           1.1428571428571428,
           1.4285714285714284,
           1.714285714285714,
           2
          ],
          [
           -2,
           -1.7142857142857144,
           -1.4285714285714286,
           -1.1428571428571428,
           -0.8571428571428572,
           -0.5714285714285716,
           -0.2857142857142858,
           0,
           0.2857142857142856,
           0.5714285714285712,
           0.8571428571428568,
           1.1428571428571428,
           1.4285714285714284,
           1.714285714285714,
           2
          ],
          [
           -2,
           -1.7142857142857144,
           -1.4285714285714286,
           -1.1428571428571428,
           -0.8571428571428572,
           -0.5714285714285716,
           -0.2857142857142858,
           0,
           0.2857142857142856,
           0.5714285714285712,
           0.8571428571428568,
           1.1428571428571428,
           1.4285714285714284,
           1.714285714285714,
           2
          ],
          [
           -2,
           -1.7142857142857144,
           -1.4285714285714286,
           -1.1428571428571428,
           -0.8571428571428572,
           -0.5714285714285716,
           -0.2857142857142858,
           0,
           0.2857142857142856,
           0.5714285714285712,
           0.8571428571428568,
           1.1428571428571428,
           1.4285714285714284,
           1.714285714285714,
           2
          ],
          [
           -2,
           -1.7142857142857144,
           -1.4285714285714286,
           -1.1428571428571428,
           -0.8571428571428572,
           -0.5714285714285716,
           -0.2857142857142858,
           0,
           0.2857142857142856,
           0.5714285714285712,
           0.8571428571428568,
           1.1428571428571428,
           1.4285714285714284,
           1.714285714285714,
           2
          ]
         ],
         "y": [
          [
           -2,
           -2,
           -2,
           -2,
           -2,
           -2,
           -2,
           -2,
           -2,
           -2,
           -2,
           -2,
           -2,
           -2,
           -2
          ],
          [
           -1.7142857142857144,
           -1.7142857142857144,
           -1.7142857142857144,
           -1.7142857142857144,
           -1.7142857142857144,
           -1.7142857142857144,
           -1.7142857142857144,
           -1.7142857142857144,
           -1.7142857142857144,
           -1.7142857142857144,
           -1.7142857142857144,
           -1.7142857142857144,
           -1.7142857142857144,
           -1.7142857142857144,
           -1.7142857142857144
          ],
          [
           -1.4285714285714286,
           -1.4285714285714286,
           -1.4285714285714286,
           -1.4285714285714286,
           -1.4285714285714286,
           -1.4285714285714286,
           -1.4285714285714286,
           -1.4285714285714286,
           -1.4285714285714286,
           -1.4285714285714286,
           -1.4285714285714286,
           -1.4285714285714286,
           -1.4285714285714286,
           -1.4285714285714286,
           -1.4285714285714286
          ],
          [
           -1.1428571428571428,
           -1.1428571428571428,
           -1.1428571428571428,
           -1.1428571428571428,
           -1.1428571428571428,
           -1.1428571428571428,
           -1.1428571428571428,
           -1.1428571428571428,
           -1.1428571428571428,
           -1.1428571428571428,
           -1.1428571428571428,
           -1.1428571428571428,
           -1.1428571428571428,
           -1.1428571428571428,
           -1.1428571428571428
          ],
          [
           -0.8571428571428572,
           -0.8571428571428572,
           -0.8571428571428572,
           -0.8571428571428572,
           -0.8571428571428572,
           -0.8571428571428572,
           -0.8571428571428572,
           -0.8571428571428572,
           -0.8571428571428572,
           -0.8571428571428572,
           -0.8571428571428572,
           -0.8571428571428572,
           -0.8571428571428572,
           -0.8571428571428572,
           -0.8571428571428572
          ],
          [
           -0.5714285714285716,
           -0.5714285714285716,
           -0.5714285714285716,
           -0.5714285714285716,
           -0.5714285714285716,
           -0.5714285714285716,
           -0.5714285714285716,
           -0.5714285714285716,
           -0.5714285714285716,
           -0.5714285714285716,
           -0.5714285714285716,
           -0.5714285714285716,
           -0.5714285714285716,
           -0.5714285714285716,
           -0.5714285714285716
          ],
          [
           -0.2857142857142858,
           -0.2857142857142858,
           -0.2857142857142858,
           -0.2857142857142858,
           -0.2857142857142858,
           -0.2857142857142858,
           -0.2857142857142858,
           -0.2857142857142858,
           -0.2857142857142858,
           -0.2857142857142858,
           -0.2857142857142858,
           -0.2857142857142858,
           -0.2857142857142858,
           -0.2857142857142858,
           -0.2857142857142858
          ],
          [
           0,
           0,
           0,
           0,
           0,
           0,
           0,
           0,
           0,
           0,
           0,
           0,
           0,
           0,
           0
          ],
          [
           0.2857142857142856,
           0.2857142857142856,
           0.2857142857142856,
           0.2857142857142856,
           0.2857142857142856,
           0.2857142857142856,
           0.2857142857142856,
           0.2857142857142856,
           0.2857142857142856,
           0.2857142857142856,
           0.2857142857142856,
           0.2857142857142856,
           0.2857142857142856,
           0.2857142857142856,
           0.2857142857142856
          ],
          [
           0.5714285714285712,
           0.5714285714285712,
           0.5714285714285712,
           0.5714285714285712,
           0.5714285714285712,
           0.5714285714285712,
           0.5714285714285712,
           0.5714285714285712,
           0.5714285714285712,
           0.5714285714285712,
           0.5714285714285712,
           0.5714285714285712,
           0.5714285714285712,
           0.5714285714285712,
           0.5714285714285712
          ],
          [
           0.8571428571428568,
           0.8571428571428568,
           0.8571428571428568,
           0.8571428571428568,
           0.8571428571428568,
           0.8571428571428568,
           0.8571428571428568,
           0.8571428571428568,
           0.8571428571428568,
           0.8571428571428568,
           0.8571428571428568,
           0.8571428571428568,
           0.8571428571428568,
           0.8571428571428568,
           0.8571428571428568
          ],
          [
           1.1428571428571428,
           1.1428571428571428,
           1.1428571428571428,
           1.1428571428571428,
           1.1428571428571428,
           1.1428571428571428,
           1.1428571428571428,
           1.1428571428571428,
           1.1428571428571428,
           1.1428571428571428,
           1.1428571428571428,
           1.1428571428571428,
           1.1428571428571428,
           1.1428571428571428,
           1.1428571428571428
          ],
          [
           1.4285714285714284,
           1.4285714285714284,
           1.4285714285714284,
           1.4285714285714284,
           1.4285714285714284,
           1.4285714285714284,
           1.4285714285714284,
           1.4285714285714284,
           1.4285714285714284,
           1.4285714285714284,
           1.4285714285714284,
           1.4285714285714284,
           1.4285714285714284,
           1.4285714285714284,
           1.4285714285714284
          ],
          [
           1.714285714285714,
           1.714285714285714,
           1.714285714285714,
           1.714285714285714,
           1.714285714285714,
           1.714285714285714,
           1.714285714285714,
           1.714285714285714,
           1.714285714285714,
           1.714285714285714,
           1.714285714285714,
           1.714285714285714,
           1.714285714285714,
           1.714285714285714,
           1.714285714285714
          ],
          [
           2,
           2,
           2,
           2,
           2,
           2,
           2,
           2,
           2,
           2,
           2,
           2,
           2,
           2,
           2
          ]
         ],
         "z": [
          [
           -0.025418181139133647,
           0.08229692079792036,
           0.1140523090163391,
           0.0789660989688138,
           -0.002109483070709392,
           -0.11194202198168224,
           -0.24430508245799204,
           -0.3989174615842058,
           -0.567526399830827,
           -0.7209250957883471,
           -0.8073492813372263,
           -0.7670881277629855,
           -0.5590076014812182,
           -0.1868681785179229,
           0.28873594356490506
          ],
          [
           -0.08952737960606477,
           0.0346572117068077,
           0.09399643415367176,
           0.0859565501560196,
           0.02090024836133628,
           -0.08838187212813191,
           -0.23183981202535076,
           -0.39891746158420577,
           -0.5698758207613785,
           -0.7090598970200237,
           -0.7674363079161304,
           -0.6969609583289552,
           -0.4722497513082097,
           -0.10950160566094141,
           0.32803480629640236
          ],
          [
           -0.18586046992965982,
           -0.07585537848711417,
           -0.008607152082535874,
           0.0028043660167754655,
           -0.04114964926035496,
           -0.13199830825171113,
           -0.25705114241396365,
           -0.398917461584206,
           -0.5322423378399737,
           -0.6221388907500598,
           -0.628808842171269,
           -0.5195642017314444,
           -0.28456908933730096,
           0.051084532644707664,
           0.4264650376661882
          ],
          [
           -0.2879980290819656,
           -0.2230582054714077,
           -0.1639794438008934,
           -0.1335655202202739,
           -0.14504622053148125,
           -0.20082807957911797,
           -0.29216900058748935,
           -0.39891746158420593,
           -0.4902675900309802,
           -0.5286864599016018,
           -0.47856770615471284,
           -0.31869160646571915,
           -0.05446422463015646,
           0.2759093101417529,
           0.6061708553817975
          ],
          [
           -0.36980065163565734,
           -0.36751762204675265,
           -0.3209613471426436,
           -0.2633906841277965,
           -0.2290458173674926,
           -0.24172832059990998,
           -0.30526163032401266,
           -0.39891746158420593,
           -0.48042136180994843,
           -0.49737965191409655,
           -0.4050330770726368,
           -0.1851076890148714,
           0.14129476847926245,
           0.5130308169498375,
           0.8429923956990337
          ],
          [
           -0.41357151834107353,
           -0.4728160491042427,
           -0.4340473456618581,
           -0.3415986420199728,
           -0.2558995723721568,
           -0.2294838550192715,
           -0.2842379893032345,
           -0.3989174615842059,
           -0.5131135014227853,
           -0.5480453894306927,
           -0.43775506501743816,
           -0.15924464680948364,
           0.25078357592556316,
           0.7007640249188499,
           1.0708758370364517
          ],
          [
           -0.41457137174037284,
           -0.5189853678189611,
           -0.483470650147209,
           -0.3612144845923939,
           -0.23553924189693376,
           -0.18468586200313664,
           -0.24665054583702697,
           -0.3989174615842059,
           -0.5629758920334745,
           -0.6338001450251303,
           -0.5238191991994438,
           -0.2039007702715257,
           0.2761381816316587,
           0.7975227497017288,
           1.2108912806933945
          ],
          [
           -0.3817725253134388,
           -0.5077756949318378,
           -0.47806679907137195,
           -0.3488391788887813,
           -0.21264192193777065,
           -0.15786588067386087,
           -0.22808263462197814,
           -0.39891746158420593,
           -0.5837714265128413,
           -0.6678663326010449,
           -0.5576848456663831,
           -0.2254078240255638,
           0.27100824752194574,
           0.8019802563377172,
           1.2104305344159396
          ],
          [
           -0.3351033083687291,
           -0.4588421548729732,
           -0.44236708314461043,
           -0.3381695498066968,
           -0.22912624156044847,
           -0.19092820852159767,
           -0.256617337491054,
           -0.398917461584206,
           -0.5390535739643341,
           -0.5795296711614233,
           -0.44769803062261415,
           -0.13166670748031373,
           0.307305355018517,
           0.7522033398527843,
           1.0712209252676375
          ],
          [
           -0.2991612992639408,
           -0.39980272388891985,
           -0.3987491699398585,
           -0.3422009319815646,
           -0.28918254893765233,
           -0.28307763973844435,
           -0.33079657052354366,
           -0.3989174615842058,
           -0.4287422967379744,
           -0.36385164250202046,
           -0.178141480317638,
           0.1080127604163911,
           0.43074806054203363,
           0.703928879091273,
           0.8499302265685319
          ],
          [
           -0.2938850186823993,
           -0.354844435806798,
           -0.35673845806130655,
           -0.34453159898083413,
           -0.3526976745000551,
           -0.3860633958143003,
           -0.41677893062356597,
           -0.3989174615842059,
           -0.293595081108553,
           -0.09232406275663341,
           0.17293946173291053,
           0.438301846272783,
           0.6314657736594257,
           0.6997306558869563,
           0.6299343274717095
          ],
          [
           -0.3245571227217402,
           -0.3360570937738492,
           -0.31472956408787145,
           -0.315649367634563,
           -0.363034057732644,
           -0.4339369841985565,
           -0.46794471127714277,
           -0.3989174615842058,
           -0.19331171793228283,
           0.12441401195022482,
           0.47316350243027566,
           0.7444447745039748,
           0.8469261842536437,
           0.7458825121971899,
           0.47901295004781164
          ],
          [
           -0.37566517293917,
           -0.33994789709386747,
           -0.2698791171891319,
           -0.24159235297307013,
           -0.2906102616953936,
           -0.3886351690298809,
           -0.4550553791744583,
           -0.3989174615842059,
           -0.17105037348587243,
           0.20029160757232967,
           0.6099246891267913,
           0.91483464051812,
           0.9952362394562397,
           0.8093970379519554,
           0.4159490948939568
          ],
          [
           -0.4134055896615355,
           -0.34972690634182985,
           -0.22652144883466926,
           -0.14293380788577648,
           -0.1614821649758238,
           -0.2706942697084807,
           -0.3873209054859579,
           -0.398917461584206,
           -0.2264409997131289,
           0.12497950710924899,
           0.5545394950427692,
           0.902353023831402,
           1.0191119127277712,
           0.8365081017047302,
           0.40428485207937387
          ],
          [
           -0.39851555408305656,
           -0.3424402197921754,
           -0.19568576758181205,
           -0.06836871199232683,
           -0.04894444124832889,
           -0.15281046000408935,
           -0.3097753481676558,
           -0.3989174615842059,
           -0.3145265280134759,
           -0.029571752430743198,
           0.37730178201324516,
           0.7480653859437423,
           0.9151211597857926,
           0.7821535187047146,
           0.3763482601189311
          ]
         ]
        },
        {
         "scene": "scene6",
         "showscale": false,
         "type": "surface",
         "x": [
          [
           -2,
           -1.7142857142857144,
           -1.4285714285714286,
           -1.1428571428571428,
           -0.8571428571428572,
           -0.5714285714285716,
           -0.2857142857142858,
           0,
           0.2857142857142856,
           0.5714285714285712,
           0.8571428571428568,
           1.1428571428571428,
           1.4285714285714284,
           1.714285714285714,
           2
          ],
          [
           -2,
           -1.7142857142857144,
           -1.4285714285714286,
           -1.1428571428571428,
           -0.8571428571428572,
           -0.5714285714285716,
           -0.2857142857142858,
           0,
           0.2857142857142856,
           0.5714285714285712,
           0.8571428571428568,
           1.1428571428571428,
           1.4285714285714284,
           1.714285714285714,
           2
          ],
          [
           -2,
           -1.7142857142857144,
           -1.4285714285714286,
           -1.1428571428571428,
           -0.8571428571428572,
           -0.5714285714285716,
           -0.2857142857142858,
           0,
           0.2857142857142856,
           0.5714285714285712,
           0.8571428571428568,
           1.1428571428571428,
           1.4285714285714284,
           1.714285714285714,
           2
          ],
          [
           -2,
           -1.7142857142857144,
           -1.4285714285714286,
           -1.1428571428571428,
           -0.8571428571428572,
           -0.5714285714285716,
           -0.2857142857142858,
           0,
           0.2857142857142856,
           0.5714285714285712,
           0.8571428571428568,
           1.1428571428571428,
           1.4285714285714284,
           1.714285714285714,
           2
          ],
          [
           -2,
           -1.7142857142857144,
           -1.4285714285714286,
           -1.1428571428571428,
           -0.8571428571428572,
           -0.5714285714285716,
           -0.2857142857142858,
           0,
           0.2857142857142856,
           0.5714285714285712,
           0.8571428571428568,
           1.1428571428571428,
           1.4285714285714284,
           1.714285714285714,
           2
          ],
          [
           -2,
           -1.7142857142857144,
           -1.4285714285714286,
           -1.1428571428571428,
           -0.8571428571428572,
           -0.5714285714285716,
           -0.2857142857142858,
           0,
           0.2857142857142856,
           0.5714285714285712,
           0.8571428571428568,
           1.1428571428571428,
           1.4285714285714284,
           1.714285714285714,
           2
          ],
          [
           -2,
           -1.7142857142857144,
           -1.4285714285714286,
           -1.1428571428571428,
           -0.8571428571428572,
           -0.5714285714285716,
           -0.2857142857142858,
           0,
           0.2857142857142856,
           0.5714285714285712,
           0.8571428571428568,
           1.1428571428571428,
           1.4285714285714284,
           1.714285714285714,
           2
          ],
          [
           -2,
           -1.7142857142857144,
           -1.4285714285714286,
           -1.1428571428571428,
           -0.8571428571428572,
           -0.5714285714285716,
           -0.2857142857142858,
           0,
           0.2857142857142856,
           0.5714285714285712,
           0.8571428571428568,
           1.1428571428571428,
           1.4285714285714284,
           1.714285714285714,
           2
          ],
          [
           -2,
           -1.7142857142857144,
           -1.4285714285714286,
           -1.1428571428571428,
           -0.8571428571428572,
           -0.5714285714285716,
           -0.2857142857142858,
           0,
           0.2857142857142856,
           0.5714285714285712,
           0.8571428571428568,
           1.1428571428571428,
           1.4285714285714284,
           1.714285714285714,
           2
          ],
          [
           -2,
           -1.7142857142857144,
           -1.4285714285714286,
           -1.1428571428571428,
           -0.8571428571428572,
           -0.5714285714285716,
           -0.2857142857142858,
           0,
           0.2857142857142856,
           0.5714285714285712,
           0.8571428571428568,
           1.1428571428571428,
           1.4285714285714284,
           1.714285714285714,
           2
          ],
          [
           -2,
           -1.7142857142857144,
           -1.4285714285714286,
           -1.1428571428571428,
           -0.8571428571428572,
           -0.5714285714285716,
           -0.2857142857142858,
           0,
           0.2857142857142856,
           0.5714285714285712,
           0.8571428571428568,
           1.1428571428571428,
           1.4285714285714284,
           1.714285714285714,
           2
          ],
          [
           -2,
           -1.7142857142857144,
           -1.4285714285714286,
           -1.1428571428571428,
           -0.8571428571428572,
           -0.5714285714285716,
           -0.2857142857142858,
           0,
           0.2857142857142856,
           0.5714285714285712,
           0.8571428571428568,
           1.1428571428571428,
           1.4285714285714284,
           1.714285714285714,
           2
          ],
          [
           -2,
           -1.7142857142857144,
           -1.4285714285714286,
           -1.1428571428571428,
           -0.8571428571428572,
           -0.5714285714285716,
           -0.2857142857142858,
           0,
           0.2857142857142856,
           0.5714285714285712,
           0.8571428571428568,
           1.1428571428571428,
           1.4285714285714284,
           1.714285714285714,
           2
          ],
          [
           -2,
           -1.7142857142857144,
           -1.4285714285714286,
           -1.1428571428571428,
           -0.8571428571428572,
           -0.5714285714285716,
           -0.2857142857142858,
           0,
           0.2857142857142856,
           0.5714285714285712,
           0.8571428571428568,
           1.1428571428571428,
           1.4285714285714284,
           1.714285714285714,
           2
          ],
          [
           -2,
           -1.7142857142857144,
           -1.4285714285714286,
           -1.1428571428571428,
           -0.8571428571428572,
           -0.5714285714285716,
           -0.2857142857142858,
           0,
           0.2857142857142856,
           0.5714285714285712,
           0.8571428571428568,
           1.1428571428571428,
           1.4285714285714284,
           1.714285714285714,
           2
          ]
         ],
         "y": [
          [
           -2,
           -2,
           -2,
           -2,
           -2,
           -2,
           -2,
           -2,
           -2,
           -2,
           -2,
           -2,
           -2,
           -2,
           -2
          ],
          [
           -1.7142857142857144,
           -1.7142857142857144,
           -1.7142857142857144,
           -1.7142857142857144,
           -1.7142857142857144,
           -1.7142857142857144,
           -1.7142857142857144,
           -1.7142857142857144,
           -1.7142857142857144,
           -1.7142857142857144,
           -1.7142857142857144,
           -1.7142857142857144,
           -1.7142857142857144,
           -1.7142857142857144,
           -1.7142857142857144
          ],
          [
           -1.4285714285714286,
           -1.4285714285714286,
           -1.4285714285714286,
           -1.4285714285714286,
           -1.4285714285714286,
           -1.4285714285714286,
           -1.4285714285714286,
           -1.4285714285714286,
           -1.4285714285714286,
           -1.4285714285714286,
           -1.4285714285714286,
           -1.4285714285714286,
           -1.4285714285714286,
           -1.4285714285714286,
           -1.4285714285714286
          ],
          [
           -1.1428571428571428,
           -1.1428571428571428,
           -1.1428571428571428,
           -1.1428571428571428,
           -1.1428571428571428,
           -1.1428571428571428,
           -1.1428571428571428,
           -1.1428571428571428,
           -1.1428571428571428,
           -1.1428571428571428,
           -1.1428571428571428,
           -1.1428571428571428,
           -1.1428571428571428,
           -1.1428571428571428,
           -1.1428571428571428
          ],
          [
           -0.8571428571428572,
           -0.8571428571428572,
           -0.8571428571428572,
           -0.8571428571428572,
           -0.8571428571428572,
           -0.8571428571428572,
           -0.8571428571428572,
           -0.8571428571428572,
           -0.8571428571428572,
           -0.8571428571428572,
           -0.8571428571428572,
           -0.8571428571428572,
           -0.8571428571428572,
           -0.8571428571428572,
           -0.8571428571428572
          ],
          [
           -0.5714285714285716,
           -0.5714285714285716,
           -0.5714285714285716,
           -0.5714285714285716,
           -0.5714285714285716,
           -0.5714285714285716,
           -0.5714285714285716,
           -0.5714285714285716,
           -0.5714285714285716,
           -0.5714285714285716,
           -0.5714285714285716,
           -0.5714285714285716,
           -0.5714285714285716,
           -0.5714285714285716,
           -0.5714285714285716
          ],
          [
           -0.2857142857142858,
           -0.2857142857142858,
           -0.2857142857142858,
           -0.2857142857142858,
           -0.2857142857142858,
           -0.2857142857142858,
           -0.2857142857142858,
           -0.2857142857142858,
           -0.2857142857142858,
           -0.2857142857142858,
           -0.2857142857142858,
           -0.2857142857142858,
           -0.2857142857142858,
           -0.2857142857142858,
           -0.2857142857142858
          ],
          [
           0,
           0,
           0,
           0,
           0,
           0,
           0,
           0,
           0,
           0,
           0,
           0,
           0,
           0,
           0
          ],
          [
           0.2857142857142856,
           0.2857142857142856,
           0.2857142857142856,
           0.2857142857142856,
           0.2857142857142856,
           0.2857142857142856,
           0.2857142857142856,
           0.2857142857142856,
           0.2857142857142856,
           0.2857142857142856,
           0.2857142857142856,
           0.2857142857142856,
           0.2857142857142856,
           0.2857142857142856,
           0.2857142857142856
          ],
          [
           0.5714285714285712,
           0.5714285714285712,
           0.5714285714285712,
           0.5714285714285712,
           0.5714285714285712,
           0.5714285714285712,
           0.5714285714285712,
           0.5714285714285712,
           0.5714285714285712,
           0.5714285714285712,
           0.5714285714285712,
           0.5714285714285712,
           0.5714285714285712,
           0.5714285714285712,
           0.5714285714285712
          ],
          [
           0.8571428571428568,
           0.8571428571428568,
           0.8571428571428568,
           0.8571428571428568,
           0.8571428571428568,
           0.8571428571428568,
           0.8571428571428568,
           0.8571428571428568,
           0.8571428571428568,
           0.8571428571428568,
           0.8571428571428568,
           0.8571428571428568,
           0.8571428571428568,
           0.8571428571428568,
           0.8571428571428568
          ],
          [
           1.1428571428571428,
           1.1428571428571428,
           1.1428571428571428,
           1.1428571428571428,
           1.1428571428571428,
           1.1428571428571428,
           1.1428571428571428,
           1.1428571428571428,
           1.1428571428571428,
           1.1428571428571428,
           1.1428571428571428,
           1.1428571428571428,
           1.1428571428571428,
           1.1428571428571428,
           1.1428571428571428
          ],
          [
           1.4285714285714284,
           1.4285714285714284,
           1.4285714285714284,
           1.4285714285714284,
           1.4285714285714284,
           1.4285714285714284,
           1.4285714285714284,
           1.4285714285714284,
           1.4285714285714284,
           1.4285714285714284,
           1.4285714285714284,
           1.4285714285714284,
           1.4285714285714284,
           1.4285714285714284,
           1.4285714285714284
          ],
          [
           1.714285714285714,
           1.714285714285714,
           1.714285714285714,
           1.714285714285714,
           1.714285714285714,
           1.714285714285714,
           1.714285714285714,
           1.714285714285714,
           1.714285714285714,
           1.714285714285714,
           1.714285714285714,
           1.714285714285714,
           1.714285714285714,
           1.714285714285714,
           1.714285714285714
          ],
          [
           2,
           2,
           2,
           2,
           2,
           2,
           2,
           2,
           2,
           2,
           2,
           2,
           2,
           2,
           2
          ]
         ],
         "z": [
          [
           0.015089832555178068,
           -0.05730863777658002,
           -0.010597761548893928,
           0.13363115923469335,
           0.3043954329451729,
           0.41898828835711677,
           0.4254821075897557,
           0.32810501124363967,
           0.1828503351548492,
           0.06634377763021448,
           0.03483354495712236,
           0.09504858612423593,
           0.2021502803877449,
           0.2855681920477263,
           0.28873594356490506
          ],
          [
           0.1748070052398333,
           0.052860786704804444,
           0.03703760393206669,
           0.1331281152862471,
           0.2886873535650667,
           0.42262378891631536,
           0.46820457665821374,
           0.406861661848653,
           0.2756249937409905,
           0.14518165850339088,
           0.0809714695947735,
           0.10836265253762481,
           0.20040567722400407,
           0.2943989047547619,
           0.32803480629640236
          ],
          [
           0.44037572683831505,
           0.3034139335669487,
           0.23648863398948347,
           0.2713387881984436,
           0.3835987277079322,
           0.5092629968308338,
           0.5806296962039219,
           0.5621165720791929,
           0.4672301514051502,
           0.3485597202179366,
           0.26720393669465436,
           0.2588200983481458,
           0.314905748380751,
           0.3893589695134335,
           0.4264650376661882
          ],
          [
           0.7412561920251338,
           0.6441361510721791,
           0.5724991219283948,
           0.5655085891245366,
           0.6213254334451659,
           0.7024784820253321,
           0.7596650405791916,
           0.7600015338817376,
           0.7041742172213585,
           0.6237118386473899,
           0.5608510311320856,
           0.5430447840499846,
           0.566928044555457,
           0.6010735732306519,
           0.6061708553817975
          ],
          [
           0.9780598491917983,
           0.9668379614474518,
           0.9487579525728789,
           0.9434183275258536,
           0.9527553513521806,
           0.9638694139418185,
           0.9608812477238532,
           0.9376279836905482,
           0.902977564416112,
           0.87533933598549,
           0.8697433281734476,
           0.8857087400700279,
           0.904156924940973,
           0.8966588979351647,
           0.8429923956990337
          ],
          [
           1.070896258963055,
           1.1550322786226652,
           1.2286477518370293,
           1.2705620437766194,
           1.2636692807579997,
           1.206191467752376,
           1.1174375590904098,
           1.0330894527032535,
           0.9904231120552703,
           1.0097868391826565,
           1.0817868548617668,
           1.167922412751292,
           1.2162905399121522,
           1.18628643410359,
           1.0708758370364517
          ],
          [
           1.0033472814787459,
           1.145749260233039,
           1.3054919363188822,
           1.4174347155253875,
           1.4306003652876988,
           1.3355238195329897,
           1.1727739716725423,
           1.0167140765300084,
           0.9410321887186064,
           0.9823550345229537,
           1.1201833956758576,
           1.2841188730867625,
           1.3862023960782626,
           1.3635685660625447,
           1.2108912806933945
          ],
          [
           0.8364321459815517,
           0.9686185194747676,
           1.163612731226362,
           1.3305421857465656,
           1.386531364555356,
           1.300082204850062,
           1.1096328370239983,
           0.9068109760170033,
           0.7918266870926658,
           0.822983871726241,
           0.9858988793863434,
           1.198632410012853,
           1.3511020075268245,
           1.3597616847965674,
           1.2104305344159396
          ],
          [
           0.6812480287032391,
           0.7367696829743486,
           0.8931778329070018,
           1.0657097007031704,
           1.1591051638464778,
           1.1184891741368121,
           0.9593932840443518,
           0.7609566920407843,
           0.62545822591258,
           0.6249399737382723,
           0.7626586084229743,
           0.9697463510426017,
           1.1394541120712247,
           1.181883352437637,
           1.0712209252676375
          ],
          [
           0.6416439743364913,
           0.5900236174451284,
           0.6462466614520666,
           0.7619184752223417,
           0.8582621085706612,
           0.8710560612434317,
           0.7861600599600276,
           0.6468022328274978,
           0.5291605694187094,
           0.49978098876059895,
           0.5780669600883934,
           0.7243630867101134,
           0.8604721003727032,
           0.9119988454697352,
           0.8499302265685319
          ],
          [
           0.7566140906216503,
           0.6189928510459056,
           0.555365619634598,
           0.5676859005449544,
           0.6185654577024723,
           0.6580906179868966,
           0.6538216226345844,
           0.607466040093279,
           0.5501135599862846,
           0.520267009469641,
           0.5384054830972989,
           0.5933734008652276,
           0.6487953764671901,
           0.6659796543973122,
           0.6299343274717095
          ],
          [
           0.9747484590464017,
           0.8121638424756539,
           0.6594672479884385,
           0.5602390361964259,
           0.5276094828199589,
           0.547788831338883,
           0.5936780282867273,
           0.6397020342005509,
           0.6704506276273637,
           0.6808290523983684,
           0.670899416425401,
           0.6412322994525087,
           0.5930748291415929,
           0.5332097800781704,
           0.47901295004781164
          ],
          [
           1.1771601396962725,
           1.0575516883635372,
           0.8799240058012365,
           0.7032881754490616,
           0.5804004081010034,
           0.5422124683634364,
           0.5899467535123051,
           0.6963777636784627,
           0.8154647376551786,
           0.8975029589683843,
           0.9056246020566048,
           0.8289327100607997,
           0.6880263301777518,
           0.5303850367834112,
           0.4159490948939568
          ],
          [
           1.2388020549779644,
           1.2007762104458415,
           1.0622661084761498,
           0.8680518177140166,
           0.6851940624949819,
           0.5797259505911938,
           0.5906399212561763,
           0.7119077798187613,
           0.8913829407943321,
           1.0491126170520115,
           1.1092224508791086,
           1.0328334236898127,
           0.8377677698314259,
           0.5953933001867144,
           0.40428485207937387
          ],
          [
           1.0958336669772524,
           1.12900743104621,
           1.0615619726614374,
           0.9061935540487467,
           0.7171484748142278,
           0.5718701596869598,
           0.5374803524405698,
           0.6371387597086468,
           0.833439257583892,
           1.0393459666787046,
           1.154399654126518,
           1.1110795187455826,
           0.9098161228124674,
           0.624911174278962,
           0.3763482601189311
          ]
         ]
        },
        {
         "scene": "scene7",
         "showscale": false,
         "type": "surface",
         "x": [
          [
           -2,
           -1.7142857142857144,
           -1.4285714285714286,
           -1.1428571428571428,
           -0.8571428571428572,
           -0.5714285714285716,
           -0.2857142857142858,
           0,
           0.2857142857142856,
           0.5714285714285712,
           0.8571428571428568,
           1.1428571428571428,
           1.4285714285714284,
           1.714285714285714,
           2
          ],
          [
           -2,
           -1.7142857142857144,
           -1.4285714285714286,
           -1.1428571428571428,
           -0.8571428571428572,
           -0.5714285714285716,
           -0.2857142857142858,
           0,
           0.2857142857142856,
           0.5714285714285712,
           0.8571428571428568,
           1.1428571428571428,
           1.4285714285714284,
           1.714285714285714,
           2
          ],
          [
           -2,
           -1.7142857142857144,
           -1.4285714285714286,
           -1.1428571428571428,
           -0.8571428571428572,
           -0.5714285714285716,
           -0.2857142857142858,
           0,
           0.2857142857142856,
           0.5714285714285712,
           0.8571428571428568,
           1.1428571428571428,
           1.4285714285714284,
           1.714285714285714,
           2
          ],
          [
           -2,
           -1.7142857142857144,
           -1.4285714285714286,
           -1.1428571428571428,
           -0.8571428571428572,
           -0.5714285714285716,
           -0.2857142857142858,
           0,
           0.2857142857142856,
           0.5714285714285712,
           0.8571428571428568,
           1.1428571428571428,
           1.4285714285714284,
           1.714285714285714,
           2
          ],
          [
           -2,
           -1.7142857142857144,
           -1.4285714285714286,
           -1.1428571428571428,
           -0.8571428571428572,
           -0.5714285714285716,
           -0.2857142857142858,
           0,
           0.2857142857142856,
           0.5714285714285712,
           0.8571428571428568,
           1.1428571428571428,
           1.4285714285714284,
           1.714285714285714,
           2
          ],
          [
           -2,
           -1.7142857142857144,
           -1.4285714285714286,
           -1.1428571428571428,
           -0.8571428571428572,
           -0.5714285714285716,
           -0.2857142857142858,
           0,
           0.2857142857142856,
           0.5714285714285712,
           0.8571428571428568,
           1.1428571428571428,
           1.4285714285714284,
           1.714285714285714,
           2
          ],
          [
           -2,
           -1.7142857142857144,
           -1.4285714285714286,
           -1.1428571428571428,
           -0.8571428571428572,
           -0.5714285714285716,
           -0.2857142857142858,
           0,
           0.2857142857142856,
           0.5714285714285712,
           0.8571428571428568,
           1.1428571428571428,
           1.4285714285714284,
           1.714285714285714,
           2
          ],
          [
           -2,
           -1.7142857142857144,
           -1.4285714285714286,
           -1.1428571428571428,
           -0.8571428571428572,
           -0.5714285714285716,
           -0.2857142857142858,
           0,
           0.2857142857142856,
           0.5714285714285712,
           0.8571428571428568,
           1.1428571428571428,
           1.4285714285714284,
           1.714285714285714,
           2
          ],
          [
           -2,
           -1.7142857142857144,
           -1.4285714285714286,
           -1.1428571428571428,
           -0.8571428571428572,
           -0.5714285714285716,
           -0.2857142857142858,
           0,
           0.2857142857142856,
           0.5714285714285712,
           0.8571428571428568,
           1.1428571428571428,
           1.4285714285714284,
           1.714285714285714,
           2
          ],
          [
           -2,
           -1.7142857142857144,
           -1.4285714285714286,
           -1.1428571428571428,
           -0.8571428571428572,
           -0.5714285714285716,
           -0.2857142857142858,
           0,
           0.2857142857142856,
           0.5714285714285712,
           0.8571428571428568,
           1.1428571428571428,
           1.4285714285714284,
           1.714285714285714,
           2
          ],
          [
           -2,
           -1.7142857142857144,
           -1.4285714285714286,
           -1.1428571428571428,
           -0.8571428571428572,
           -0.5714285714285716,
           -0.2857142857142858,
           0,
           0.2857142857142856,
           0.5714285714285712,
           0.8571428571428568,
           1.1428571428571428,
           1.4285714285714284,
           1.714285714285714,
           2
          ],
          [
           -2,
           -1.7142857142857144,
           -1.4285714285714286,
           -1.1428571428571428,
           -0.8571428571428572,
           -0.5714285714285716,
           -0.2857142857142858,
           0,
           0.2857142857142856,
           0.5714285714285712,
           0.8571428571428568,
           1.1428571428571428,
           1.4285714285714284,
           1.714285714285714,
           2
          ],
          [
           -2,
           -1.7142857142857144,
           -1.4285714285714286,
           -1.1428571428571428,
           -0.8571428571428572,
           -0.5714285714285716,
           -0.2857142857142858,
           0,
           0.2857142857142856,
           0.5714285714285712,
           0.8571428571428568,
           1.1428571428571428,
           1.4285714285714284,
           1.714285714285714,
           2
          ],
          [
           -2,
           -1.7142857142857144,
           -1.4285714285714286,
           -1.1428571428571428,
           -0.8571428571428572,
           -0.5714285714285716,
           -0.2857142857142858,
           0,
           0.2857142857142856,
           0.5714285714285712,
           0.8571428571428568,
           1.1428571428571428,
           1.4285714285714284,
           1.714285714285714,
           2
          ],
          [
           -2,
           -1.7142857142857144,
           -1.4285714285714286,
           -1.1428571428571428,
           -0.8571428571428572,
           -0.5714285714285716,
           -0.2857142857142858,
           0,
           0.2857142857142856,
           0.5714285714285712,
           0.8571428571428568,
           1.1428571428571428,
           1.4285714285714284,
           1.714285714285714,
           2
          ]
         ],
         "y": [
          [
           -2,
           -2,
           -2,
           -2,
           -2,
           -2,
           -2,
           -2,
           -2,
           -2,
           -2,
           -2,
           -2,
           -2,
           -2
          ],
          [
           -1.7142857142857144,
           -1.7142857142857144,
           -1.7142857142857144,
           -1.7142857142857144,
           -1.7142857142857144,
           -1.7142857142857144,
           -1.7142857142857144,
           -1.7142857142857144,
           -1.7142857142857144,
           -1.7142857142857144,
           -1.7142857142857144,
           -1.7142857142857144,
           -1.7142857142857144,
           -1.7142857142857144,
           -1.7142857142857144
          ],
          [
           -1.4285714285714286,
           -1.4285714285714286,
           -1.4285714285714286,
           -1.4285714285714286,
           -1.4285714285714286,
           -1.4285714285714286,
           -1.4285714285714286,
           -1.4285714285714286,
           -1.4285714285714286,
           -1.4285714285714286,
           -1.4285714285714286,
           -1.4285714285714286,
           -1.4285714285714286,
           -1.4285714285714286,
           -1.4285714285714286
          ],
          [
           -1.1428571428571428,
           -1.1428571428571428,
           -1.1428571428571428,
           -1.1428571428571428,
           -1.1428571428571428,
           -1.1428571428571428,
           -1.1428571428571428,
           -1.1428571428571428,
           -1.1428571428571428,
           -1.1428571428571428,
           -1.1428571428571428,
           -1.1428571428571428,
           -1.1428571428571428,
           -1.1428571428571428,
           -1.1428571428571428
          ],
          [
           -0.8571428571428572,
           -0.8571428571428572,
           -0.8571428571428572,
           -0.8571428571428572,
           -0.8571428571428572,
           -0.8571428571428572,
           -0.8571428571428572,
           -0.8571428571428572,
           -0.8571428571428572,
           -0.8571428571428572,
           -0.8571428571428572,
           -0.8571428571428572,
           -0.8571428571428572,
           -0.8571428571428572,
           -0.8571428571428572
          ],
          [
           -0.5714285714285716,
           -0.5714285714285716,
           -0.5714285714285716,
           -0.5714285714285716,
           -0.5714285714285716,
           -0.5714285714285716,
           -0.5714285714285716,
           -0.5714285714285716,
           -0.5714285714285716,
           -0.5714285714285716,
           -0.5714285714285716,
           -0.5714285714285716,
           -0.5714285714285716,
           -0.5714285714285716,
           -0.5714285714285716
          ],
          [
           -0.2857142857142858,
           -0.2857142857142858,
           -0.2857142857142858,
           -0.2857142857142858,
           -0.2857142857142858,
           -0.2857142857142858,
           -0.2857142857142858,
           -0.2857142857142858,
           -0.2857142857142858,
           -0.2857142857142858,
           -0.2857142857142858,
           -0.2857142857142858,
           -0.2857142857142858,
           -0.2857142857142858,
           -0.2857142857142858
          ],
          [
           0,
           0,
           0,
           0,
           0,
           0,
           0,
           0,
           0,
           0,
           0,
           0,
           0,
           0,
           0
          ],
          [
           0.2857142857142856,
           0.2857142857142856,
           0.2857142857142856,
           0.2857142857142856,
           0.2857142857142856,
           0.2857142857142856,
           0.2857142857142856,
           0.2857142857142856,
           0.2857142857142856,
           0.2857142857142856,
           0.2857142857142856,
           0.2857142857142856,
           0.2857142857142856,
           0.2857142857142856,
           0.2857142857142856
          ],
          [
           0.5714285714285712,
           0.5714285714285712,
           0.5714285714285712,
           0.5714285714285712,
           0.5714285714285712,
           0.5714285714285712,
           0.5714285714285712,
           0.5714285714285712,
           0.5714285714285712,
           0.5714285714285712,
           0.5714285714285712,
           0.5714285714285712,
           0.5714285714285712,
           0.5714285714285712,
           0.5714285714285712
          ],
          [
           0.8571428571428568,
           0.8571428571428568,
           0.8571428571428568,
           0.8571428571428568,
           0.8571428571428568,
           0.8571428571428568,
           0.8571428571428568,
           0.8571428571428568,
           0.8571428571428568,
           0.8571428571428568,
           0.8571428571428568,
           0.8571428571428568,
           0.8571428571428568,
           0.8571428571428568,
           0.8571428571428568
          ],
          [
           1.1428571428571428,
           1.1428571428571428,
           1.1428571428571428,
           1.1428571428571428,
           1.1428571428571428,
           1.1428571428571428,
           1.1428571428571428,
           1.1428571428571428,
           1.1428571428571428,
           1.1428571428571428,
           1.1428571428571428,
           1.1428571428571428,
           1.1428571428571428,
           1.1428571428571428,
           1.1428571428571428
          ],
          [
           1.4285714285714284,
           1.4285714285714284,
           1.4285714285714284,
           1.4285714285714284,
           1.4285714285714284,
           1.4285714285714284,
           1.4285714285714284,
           1.4285714285714284,
           1.4285714285714284,
           1.4285714285714284,
           1.4285714285714284,
           1.4285714285714284,
           1.4285714285714284,
           1.4285714285714284,
           1.4285714285714284
          ],
          [
           1.714285714285714,
           1.714285714285714,
           1.714285714285714,
           1.714285714285714,
           1.714285714285714,
           1.714285714285714,
           1.714285714285714,
           1.714285714285714,
           1.714285714285714,
           1.714285714285714,
           1.714285714285714,
           1.714285714285714,
           1.714285714285714,
           1.714285714285714,
           1.714285714285714
          ],
          [
           2,
           2,
           2,
           2,
           2,
           2,
           2,
           2,
           2,
           2,
           2,
           2,
           2,
           2,
           2
          ]
         ],
         "z": [
          [
           -0.2551858350868337,
           -0.29696175827614013,
           -0.264860446895098,
           -0.1745604623194772,
           -0.049847187608623625,
           0.0848783414574251,
           0.20973265392936374,
           0.310717693305844,
           0.37809642602282334,
           0.40410117665337786,
           0.38241243588090573,
           0.31048627467890566,
           0.19373832019334805,
           0.04897166087729958,
           -0.09578565969713636
          ],
          [
           -0.7021480621655686,
           -0.8097634451934959,
           -0.7450330894830481,
           -0.5366359233264694,
           -0.2379622289195487,
           0.09013336721036355,
           0.39444690376344527,
           0.637258707905505,
           0.7960229599395852,
           0.8582760592991069,
           0.8171053502724929,
           0.6713021612915846,
           0.43067611039609616,
           0.1230022523272867,
           -0.20300804718262289
          ],
          [
           -0.6432445059249078,
           -0.8533924922074207,
           -0.8448764960086534,
           -0.6385029204004877,
           -0.29990636836399415,
           0.08572407485073208,
           0.4414836976769593,
           0.7174069055547636,
           0.8937071357482869,
           0.9705596440194175,
           0.952989055920999,
           0.8410926436592173,
           0.6318311176277032,
           0.3311965982978127,
           -0.031231076454656392
          ],
          [
           -0.17083512243212406,
           -0.48461711435971916,
           -0.5903826756060173,
           -0.48498093009997395,
           -0.23073053286998046,
           0.0760986080445455,
           0.34753944651489754,
           0.5363716126329613,
           0.6441478734356325,
           0.7033071163141973,
           0.7453422799074768,
           0.7738732071995509,
           0.7582758778074141,
           0.6519730651957876,
           0.4256637884699423
          ],
          [
           0.3848575197482419,
           0.002154228834096883,
           -0.21717278449884123,
           -0.24238170601537268,
           -0.12470885133327914,
           0.03813596570378801,
           0.1569660100047639,
           0.1966852650247377,
           0.1891434013803172,
           0.20753511929190233,
           0.3169546299203321,
           0.5283700715855182,
           0.7816870733012008,
           0.968498797630046,
           0.984286735150596
          ],
          [
           0.6674367708305833,
           0.2748565362492327,
           0.0004019969869740181,
           -0.10839710795953918,
           -0.09251144313194042,
           -0.045203645882172835,
           -0.05096113619103203,
           -0.13274030479398974,
           -0.2358989351016527,
           -0.2577211703501605,
           -0.10730273922605221,
           0.23581990899825708,
           0.6960602726289171,
           1.1246545143079492,
           1.3619222047350816
          ],
          [
           0.510296306443,
           0.17375115172145833,
           -0.06710297337537664,
           -0.1691523041358222,
           -0.16945766387452202,
           -0.15207392261948355,
           -0.19162041606666225,
           -0.3041124171504177,
           -0.4316318120872008,
           -0.46980319774787394,
           -0.32468592085543385,
           0.030030037794067654,
           0.5256649901717558,
           1.0168471146885827,
           1.3387185352405604
          ],
          [
           0.024632809100718023,
           -0.2007640921901176,
           -0.32731626025471616,
           -0.34005524353495864,
           -0.2803320815152187,
           -0.21780137615030765,
           -0.20927611502624732,
           -0.26555109079547606,
           -0.3432489686161531,
           -0.36619946361426314,
           -0.26601608120299425,
           -0.02173689642414063,
           0.3214955468136299,
           0.6647630056081242,
           0.893814406268518
          ],
          [
           -0.48768525448275635,
           -0.5715368095328035,
           -0.541625567129554,
           -0.42893581521668683,
           -0.2871008326343631,
           -0.16773650129144918,
           -0.09961597113160617,
           -0.08037016525087758,
           -0.08312846378721658,
           -0.07361439134526475,
           -0.02888719407353388,
           0.051024750389406015,
           0.1432857629006589,
           0.21304445786118203,
           0.22894895379910138
          ],
          [
           -0.7327257138297494,
           -0.6772491889247635,
           -0.49795194499139006,
           -0.2774878254779322,
           -0.08898237370296816,
           0.031676891940665496,
           0.09067710038886061,
           0.11908241785396821,
           0.14559861537272561,
           0.1754551547313306,
           0.18694171183802627,
           0.14658636772122674,
           0.033333766495875564,
           -0.14290730788716924,
           -0.3397453120848314
          ],
          [
           -0.6047064573194328,
           -0.44502955658412224,
           -0.16309168465409168,
           0.11543176619513842,
           0.2925510790909286,
           0.33716291498798157,
           0.2866795037602016,
           0.21357481398123776,
           0.1772301398922757,
           0.18806473780324306,
           0.203164628069838,
           0.15489673744137436,
           -0.004159683926171165,
           -0.265601416245459,
           -0.559631964459055
          ],
          [
           -0.2362829816320386,
           -0.03203178546669594,
           0.2870819995060683,
           0.573410991449703,
           0.7036160644993434,
           0.6347549026979861,
           0.41788640677447964,
           0.16437544863361436,
           -0.01577527786312774,
           -0.07061401076138027,
           -0.02865744436514113,
           0.023513368720508937,
           -0.004849268753900404,
           -0.15312550397427638,
           -0.3826321140597107
          ],
          [
           0.10478139631986771,
           0.286047883837537,
           0.5790501990960285,
           0.8420336413510343,
           0.9348626235650477,
           0.7893339645733756,
           0.44387220756049867,
           0.02547005128902828,
           -0.31143840631234476,
           -0.4579244762071373,
           -0.3986869966766055,
           -0.21201456685624054,
           -0.023237678836730585,
           0.0629538982674287,
           0.015655678119206595
          ],
          [
           0.19755640509617592,
           0.3012861972392194,
           0.5205293413905149,
           0.7462547572406457,
           0.8411357630503153,
           0.7118248652633318,
           0.3615595283222045,
           -0.10410841761185816,
           -0.5220210132619809,
           -0.7447477562696128,
           -0.7064845491586089,
           -0.44945996474780736,
           -0.09885899191785955,
           0.19990674838690406,
           0.3493271556660067
          ],
          [
           0.007330364246951646,
           0.010192553981276484,
           0.1288319123248208,
           0.3046987716375781,
           0.4304793462351513,
           0.40626655485928703,
           0.19455699826556266,
           -0.15412630404676464,
           -0.518616962567407,
           -0.7596896948689164,
           -0.7825243241984418,
           -0.5788858999912412,
           -0.22902380210839504,
           0.13675652072914707,
           0.3972457752175676
          ]
         ]
        },
        {
         "scene": "scene8",
         "showscale": false,
         "type": "surface",
         "x": [
          [
           -2,
           -1.7142857142857144,
           -1.4285714285714286,
           -1.1428571428571428,
           -0.8571428571428572,
           -0.5714285714285716,
           -0.2857142857142858,
           0,
           0.2857142857142856,
           0.5714285714285712,
           0.8571428571428568,
           1.1428571428571428,
           1.4285714285714284,
           1.714285714285714,
           2
          ],
          [
           -2,
           -1.7142857142857144,
           -1.4285714285714286,
           -1.1428571428571428,
           -0.8571428571428572,
           -0.5714285714285716,
           -0.2857142857142858,
           0,
           0.2857142857142856,
           0.5714285714285712,
           0.8571428571428568,
           1.1428571428571428,
           1.4285714285714284,
           1.714285714285714,
           2
          ],
          [
           -2,
           -1.7142857142857144,
           -1.4285714285714286,
           -1.1428571428571428,
           -0.8571428571428572,
           -0.5714285714285716,
           -0.2857142857142858,
           0,
           0.2857142857142856,
           0.5714285714285712,
           0.8571428571428568,
           1.1428571428571428,
           1.4285714285714284,
           1.714285714285714,
           2
          ],
          [
           -2,
           -1.7142857142857144,
           -1.4285714285714286,
           -1.1428571428571428,
           -0.8571428571428572,
           -0.5714285714285716,
           -0.2857142857142858,
           0,
           0.2857142857142856,
           0.5714285714285712,
           0.8571428571428568,
           1.1428571428571428,
           1.4285714285714284,
           1.714285714285714,
           2
          ],
          [
           -2,
           -1.7142857142857144,
           -1.4285714285714286,
           -1.1428571428571428,
           -0.8571428571428572,
           -0.5714285714285716,
           -0.2857142857142858,
           0,
           0.2857142857142856,
           0.5714285714285712,
           0.8571428571428568,
           1.1428571428571428,
           1.4285714285714284,
           1.714285714285714,
           2
          ],
          [
           -2,
           -1.7142857142857144,
           -1.4285714285714286,
           -1.1428571428571428,
           -0.8571428571428572,
           -0.5714285714285716,
           -0.2857142857142858,
           0,
           0.2857142857142856,
           0.5714285714285712,
           0.8571428571428568,
           1.1428571428571428,
           1.4285714285714284,
           1.714285714285714,
           2
          ],
          [
           -2,
           -1.7142857142857144,
           -1.4285714285714286,
           -1.1428571428571428,
           -0.8571428571428572,
           -0.5714285714285716,
           -0.2857142857142858,
           0,
           0.2857142857142856,
           0.5714285714285712,
           0.8571428571428568,
           1.1428571428571428,
           1.4285714285714284,
           1.714285714285714,
           2
          ],
          [
           -2,
           -1.7142857142857144,
           -1.4285714285714286,
           -1.1428571428571428,
           -0.8571428571428572,
           -0.5714285714285716,
           -0.2857142857142858,
           0,
           0.2857142857142856,
           0.5714285714285712,
           0.8571428571428568,
           1.1428571428571428,
           1.4285714285714284,
           1.714285714285714,
           2
          ],
          [
           -2,
           -1.7142857142857144,
           -1.4285714285714286,
           -1.1428571428571428,
           -0.8571428571428572,
           -0.5714285714285716,
           -0.2857142857142858,
           0,
           0.2857142857142856,
           0.5714285714285712,
           0.8571428571428568,
           1.1428571428571428,
           1.4285714285714284,
           1.714285714285714,
           2
          ],
          [
           -2,
           -1.7142857142857144,
           -1.4285714285714286,
           -1.1428571428571428,
           -0.8571428571428572,
           -0.5714285714285716,
           -0.2857142857142858,
           0,
           0.2857142857142856,
           0.5714285714285712,
           0.8571428571428568,
           1.1428571428571428,
           1.4285714285714284,
           1.714285714285714,
           2
          ],
          [
           -2,
           -1.7142857142857144,
           -1.4285714285714286,
           -1.1428571428571428,
           -0.8571428571428572,
           -0.5714285714285716,
           -0.2857142857142858,
           0,
           0.2857142857142856,
           0.5714285714285712,
           0.8571428571428568,
           1.1428571428571428,
           1.4285714285714284,
           1.714285714285714,
           2
          ],
          [
           -2,
           -1.7142857142857144,
           -1.4285714285714286,
           -1.1428571428571428,
           -0.8571428571428572,
           -0.5714285714285716,
           -0.2857142857142858,
           0,
           0.2857142857142856,
           0.5714285714285712,
           0.8571428571428568,
           1.1428571428571428,
           1.4285714285714284,
           1.714285714285714,
           2
          ],
          [
           -2,
           -1.7142857142857144,
           -1.4285714285714286,
           -1.1428571428571428,
           -0.8571428571428572,
           -0.5714285714285716,
           -0.2857142857142858,
           0,
           0.2857142857142856,
           0.5714285714285712,
           0.8571428571428568,
           1.1428571428571428,
           1.4285714285714284,
           1.714285714285714,
           2
          ],
          [
           -2,
           -1.7142857142857144,
           -1.4285714285714286,
           -1.1428571428571428,
           -0.8571428571428572,
           -0.5714285714285716,
           -0.2857142857142858,
           0,
           0.2857142857142856,
           0.5714285714285712,
           0.8571428571428568,
           1.1428571428571428,
           1.4285714285714284,
           1.714285714285714,
           2
          ],
          [
           -2,
           -1.7142857142857144,
           -1.4285714285714286,
           -1.1428571428571428,
           -0.8571428571428572,
           -0.5714285714285716,
           -0.2857142857142858,
           0,
           0.2857142857142856,
           0.5714285714285712,
           0.8571428571428568,
           1.1428571428571428,
           1.4285714285714284,
           1.714285714285714,
           2
          ]
         ],
         "y": [
          [
           -2,
           -2,
           -2,
           -2,
           -2,
           -2,
           -2,
           -2,
           -2,
           -2,
           -2,
           -2,
           -2,
           -2,
           -2
          ],
          [
           -1.7142857142857144,
           -1.7142857142857144,
           -1.7142857142857144,
           -1.7142857142857144,
           -1.7142857142857144,
           -1.7142857142857144,
           -1.7142857142857144,
           -1.7142857142857144,
           -1.7142857142857144,
           -1.7142857142857144,
           -1.7142857142857144,
           -1.7142857142857144,
           -1.7142857142857144,
           -1.7142857142857144,
           -1.7142857142857144
          ],
          [
           -1.4285714285714286,
           -1.4285714285714286,
           -1.4285714285714286,
           -1.4285714285714286,
           -1.4285714285714286,
           -1.4285714285714286,
           -1.4285714285714286,
           -1.4285714285714286,
           -1.4285714285714286,
           -1.4285714285714286,
           -1.4285714285714286,
           -1.4285714285714286,
           -1.4285714285714286,
           -1.4285714285714286,
           -1.4285714285714286
          ],
          [
           -1.1428571428571428,
           -1.1428571428571428,
           -1.1428571428571428,
           -1.1428571428571428,
           -1.1428571428571428,
           -1.1428571428571428,
           -1.1428571428571428,
           -1.1428571428571428,
           -1.1428571428571428,
           -1.1428571428571428,
           -1.1428571428571428,
           -1.1428571428571428,
           -1.1428571428571428,
           -1.1428571428571428,
           -1.1428571428571428
          ],
          [
           -0.8571428571428572,
           -0.8571428571428572,
           -0.8571428571428572,
           -0.8571428571428572,
           -0.8571428571428572,
           -0.8571428571428572,
           -0.8571428571428572,
           -0.8571428571428572,
           -0.8571428571428572,
           -0.8571428571428572,
           -0.8571428571428572,
           -0.8571428571428572,
           -0.8571428571428572,
           -0.8571428571428572,
           -0.8571428571428572
          ],
          [
           -0.5714285714285716,
           -0.5714285714285716,
           -0.5714285714285716,
           -0.5714285714285716,
           -0.5714285714285716,
           -0.5714285714285716,
           -0.5714285714285716,
           -0.5714285714285716,
           -0.5714285714285716,
           -0.5714285714285716,
           -0.5714285714285716,
           -0.5714285714285716,
           -0.5714285714285716,
           -0.5714285714285716,
           -0.5714285714285716
          ],
          [
           -0.2857142857142858,
           -0.2857142857142858,
           -0.2857142857142858,
           -0.2857142857142858,
           -0.2857142857142858,
           -0.2857142857142858,
           -0.2857142857142858,
           -0.2857142857142858,
           -0.2857142857142858,
           -0.2857142857142858,
           -0.2857142857142858,
           -0.2857142857142858,
           -0.2857142857142858,
           -0.2857142857142858,
           -0.2857142857142858
          ],
          [
           0,
           0,
           0,
           0,
           0,
           0,
           0,
           0,
           0,
           0,
           0,
           0,
           0,
           0,
           0
          ],
          [
           0.2857142857142856,
           0.2857142857142856,
           0.2857142857142856,
           0.2857142857142856,
           0.2857142857142856,
           0.2857142857142856,
           0.2857142857142856,
           0.2857142857142856,
           0.2857142857142856,
           0.2857142857142856,
           0.2857142857142856,
           0.2857142857142856,
           0.2857142857142856,
           0.2857142857142856,
           0.2857142857142856
          ],
          [
           0.5714285714285712,
           0.5714285714285712,
           0.5714285714285712,
           0.5714285714285712,
           0.5714285714285712,
           0.5714285714285712,
           0.5714285714285712,
           0.5714285714285712,
           0.5714285714285712,
           0.5714285714285712,
           0.5714285714285712,
           0.5714285714285712,
           0.5714285714285712,
           0.5714285714285712,
           0.5714285714285712
          ],
          [
           0.8571428571428568,
           0.8571428571428568,
           0.8571428571428568,
           0.8571428571428568,
           0.8571428571428568,
           0.8571428571428568,
           0.8571428571428568,
           0.8571428571428568,
           0.8571428571428568,
           0.8571428571428568,
           0.8571428571428568,
           0.8571428571428568,
           0.8571428571428568,
           0.8571428571428568,
           0.8571428571428568
          ],
          [
           1.1428571428571428,
           1.1428571428571428,
           1.1428571428571428,
           1.1428571428571428,
           1.1428571428571428,
           1.1428571428571428,
           1.1428571428571428,
           1.1428571428571428,
           1.1428571428571428,
           1.1428571428571428,
           1.1428571428571428,
           1.1428571428571428,
           1.1428571428571428,
           1.1428571428571428,
           1.1428571428571428
          ],
          [
           1.4285714285714284,
           1.4285714285714284,
           1.4285714285714284,
           1.4285714285714284,
           1.4285714285714284,
           1.4285714285714284,
           1.4285714285714284,
           1.4285714285714284,
           1.4285714285714284,
           1.4285714285714284,
           1.4285714285714284,
           1.4285714285714284,
           1.4285714285714284,
           1.4285714285714284,
           1.4285714285714284
          ],
          [
           1.714285714285714,
           1.714285714285714,
           1.714285714285714,
           1.714285714285714,
           1.714285714285714,
           1.714285714285714,
           1.714285714285714,
           1.714285714285714,
           1.714285714285714,
           1.714285714285714,
           1.714285714285714,
           1.714285714285714,
           1.714285714285714,
           1.714285714285714,
           1.714285714285714
          ],
          [
           2,
           2,
           2,
           2,
           2,
           2,
           2,
           2,
           2,
           2,
           2,
           2,
           2,
           2,
           2
          ]
         ],
         "z": [
          [
           -0.16520848438105196,
           -0.405912714100113,
           -0.5213233882333369,
           -0.5310209320332588,
           -0.47670659587026865,
           -0.3927464096594998,
           -0.2911676567717611,
           -0.16708482432478755,
           -0.017646350008071368,
           0.14027041865324458,
           0.26700996672215266,
           0.3155928303571178,
           0.2575187890394447,
           0.10335094369738958,
           -0.09578565969713636
          ],
          [
           -0.3154224876396541,
           -0.43918004629229535,
           -0.5174071563601711,
           -0.5677895506793547,
           -0.5873658478708305,
           -0.5484760575793379,
           -0.41737379599575053,
           -0.1841906159021269,
           0.11499550789998454,
           0.39999742667836335,
           0.5753602117801215,
           0.5736641618956866,
           0.3910772358716184,
           0.0949989339000282,
           -0.20300804718262289
          ],
          [
           -0.20671006717572973,
           -0.30701000912687965,
           -0.4369147120562088,
           -0.5730725193754385,
           -0.6621167727524236,
           -0.6429992838881622,
           -0.4805756364250355,
           -0.19204247042955203,
           0.14994203851737525,
           0.4421976489776639,
           0.593935168215755,
           0.5671819973830812,
           0.394133660921962,
           0.16155348335804648,
           -0.031231076454656392
          ],
          [
           -0.007206175922112076,
           -0.18174835508697462,
           -0.39588639797926556,
           -0.5803812000010156,
           -0.6665804019543233,
           -0.616241225097275,
           -0.4394887579451452,
           -0.19118762975242973,
           0.053357063957329295,
           0.2318413048559596,
           0.3210099993357374,
           0.3421888226093199,
           0.3435148414929533,
           0.3681840905291561,
           0.4256637884699423
          ],
          [
           0.10216099122352457,
           -0.17786304832237387,
           -0.43324050716422474,
           -0.5808228407012798,
           -0.5873268889262789,
           -0.4807639081600508,
           -0.3309855182835548,
           -0.20926697163973318,
           -0.14820113676715185,
           -0.12364864330024056,
           -0.06945224785675289,
           0.08154299150699168,
           0.3511538746432982,
           0.689392748658756,
           0.984286735150596
          ],
          [
           0.04031502281175145,
           -0.28667985859352674,
           -0.49583846410887594,
           -0.5375632766921705,
           -0.44532502856257183,
           -0.3128588005297189,
           -0.23925783028696068,
           -0.2704302877058476,
           -0.3684820055593454,
           -0.4271842231441062,
           -0.3281385412820569,
           -0.010401340935353512,
           0.48244782490828236,
           1.0044606304671273,
           1.3619222047350816
          ],
          [
           -0.14236190128388063,
           -0.4034145685520285,
           -0.49047313984067237,
           -0.42020884467321346,
           -0.28427953539482687,
           -0.19654433587741751,
           -0.22773039506133555,
           -0.36189957130986683,
           -0.4990062438089748,
           -0.5047394443300222,
           -0.2841684073844004,
           0.15791203777675825,
           0.7022498866315703,
           1.1569174428420084,
           1.3387185352405604
          ],
          [
           -0.323219247146102,
           -0.41953292380151613,
           -0.36265415413430374,
           -0.2340178857997976,
           -0.14184756317992314,
           -0.15951560027195327,
           -0.28194204406879425,
           -0.42398100672084377,
           -0.4635196322705485,
           -0.3086396283289937,
           0.045333228475991444,
           0.4994833601431493,
           0.8868656825180711,
           1.045358121522384,
           0.893814406268518
          ],
          [
           -0.40663663496047214,
           -0.31112445470089994,
           -0.14572541243239917,
           -0.02379336835407185,
           -0.02467521926469575,
           -0.14718290620448754,
           -0.30604627501160653,
           -0.37535052018105025,
           -0.25812625300488823,
           0.053661835911245945,
           0.461366717579466,
           0.7965890117840762,
           0.897706142218941,
           0.6898986724446798,
           0.22894895379910138
          ],
          [
           -0.3907445135197209,
           -0.1602819436042194,
           0.05434003694349154,
           0.15000612815366646,
           0.09393690566270343,
           -0.05616195844019693,
           -0.18055693778566928,
           -0.1620009888006782,
           0.04606415826895366,
           0.3838065814678802,
           0.7031431970090665,
           0.8344146374693817,
           0.671029450982666,
           0.23056235716553028,
           -0.3397453120848314
          ],
          [
           -0.3574401991133721,
           -0.09541945548777994,
           0.1285403467727332,
           0.24694246216344545,
           0.25082856203319776,
           0.19199633238990582,
           0.1529488837378571,
           0.1991927767959939,
           0.33850284913005846,
           0.5094193524020603,
           0.6072150330182551,
           0.5365739114301649,
           0.26575776401382467,
           -0.14535947403069244,
           -0.559631964459055
          ],
          [
           -0.3985076397740547,
           -0.19379438073156033,
           0.04154117664001544,
           0.2706839743997775,
           0.45990999795972565,
           0.585256905145592,
           0.6354888803696184,
           0.6111981135502198,
           0.5214942007404126,
           0.38048184829045195,
           0.2052845138459719,
           0.01601648746220903,
           -0.1634096370623602,
           -0.3055870320563622,
           -0.3826321140597107
          ],
          [
           -0.5357041040110456,
           -0.41614645303383796,
           -0.137272718401088,
           0.26602937865604315,
           0.6929649879750923,
           1.0097420994807638,
           1.103352914582569,
           0.9322760847721476,
           0.5496935196746233,
           0.08644861067155565,
           -0.3005027310148323,
           -0.49183501310998046,
           -0.4530686193824519,
           -0.24370758809543952,
           0.015655678119206595
          ],
          [
           -0.6952304865142245,
           -0.6215727287843942,
           -0.2712888522779722,
           0.29086686390762273,
           0.8894679270687634,
           1.3049365463770264,
           1.3682866608183009,
           1.0405170618499058,
           0.43777207343290636,
           -0.2125547899103981,
           -0.6672470571854525,
           -0.7716179618557919,
           -0.524831551454649,
           -0.07569042749534599,
           0.3493271556660067
          ],
          [
           -0.7565121637679622,
           -0.6556609249755204,
           -0.2403896664476059,
           0.3805802567613278,
           0.9907040756802075,
           1.3542614870877503,
           1.3203528870263344,
           0.8938144062685179,
           0.23837168296674419,
           -0.39165538183766024,
           -0.7611516409876,
           -0.7555141724717687,
           -0.4269034420347075,
           0.03558168977772365,
           0.3972457752175676
          ]
         ]
        },
        {
         "scene": "scene9",
         "showscale": false,
         "type": "surface",
         "x": [
          [
           -2,
           -1.7142857142857144,
           -1.4285714285714286,
           -1.1428571428571428,
           -0.8571428571428572,
           -0.5714285714285716,
           -0.2857142857142858,
           0,
           0.2857142857142856,
           0.5714285714285712,
           0.8571428571428568,
           1.1428571428571428,
           1.4285714285714284,
           1.714285714285714,
           2
          ],
          [
           -2,
           -1.7142857142857144,
           -1.4285714285714286,
           -1.1428571428571428,
           -0.8571428571428572,
           -0.5714285714285716,
           -0.2857142857142858,
           0,
           0.2857142857142856,
           0.5714285714285712,
           0.8571428571428568,
           1.1428571428571428,
           1.4285714285714284,
           1.714285714285714,
           2
          ],
          [
           -2,
           -1.7142857142857144,
           -1.4285714285714286,
           -1.1428571428571428,
           -0.8571428571428572,
           -0.5714285714285716,
           -0.2857142857142858,
           0,
           0.2857142857142856,
           0.5714285714285712,
           0.8571428571428568,
           1.1428571428571428,
           1.4285714285714284,
           1.714285714285714,
           2
          ],
          [
           -2,
           -1.7142857142857144,
           -1.4285714285714286,
           -1.1428571428571428,
           -0.8571428571428572,
           -0.5714285714285716,
           -0.2857142857142858,
           0,
           0.2857142857142856,
           0.5714285714285712,
           0.8571428571428568,
           1.1428571428571428,
           1.4285714285714284,
           1.714285714285714,
           2
          ],
          [
           -2,
           -1.7142857142857144,
           -1.4285714285714286,
           -1.1428571428571428,
           -0.8571428571428572,
           -0.5714285714285716,
           -0.2857142857142858,
           0,
           0.2857142857142856,
           0.5714285714285712,
           0.8571428571428568,
           1.1428571428571428,
           1.4285714285714284,
           1.714285714285714,
           2
          ],
          [
           -2,
           -1.7142857142857144,
           -1.4285714285714286,
           -1.1428571428571428,
           -0.8571428571428572,
           -0.5714285714285716,
           -0.2857142857142858,
           0,
           0.2857142857142856,
           0.5714285714285712,
           0.8571428571428568,
           1.1428571428571428,
           1.4285714285714284,
           1.714285714285714,
           2
          ],
          [
           -2,
           -1.7142857142857144,
           -1.4285714285714286,
           -1.1428571428571428,
           -0.8571428571428572,
           -0.5714285714285716,
           -0.2857142857142858,
           0,
           0.2857142857142856,
           0.5714285714285712,
           0.8571428571428568,
           1.1428571428571428,
           1.4285714285714284,
           1.714285714285714,
           2
          ],
          [
           -2,
           -1.7142857142857144,
           -1.4285714285714286,
           -1.1428571428571428,
           -0.8571428571428572,
           -0.5714285714285716,
           -0.2857142857142858,
           0,
           0.2857142857142856,
           0.5714285714285712,
           0.8571428571428568,
           1.1428571428571428,
           1.4285714285714284,
           1.714285714285714,
           2
          ],
          [
           -2,
           -1.7142857142857144,
           -1.4285714285714286,
           -1.1428571428571428,
           -0.8571428571428572,
           -0.5714285714285716,
           -0.2857142857142858,
           0,
           0.2857142857142856,
           0.5714285714285712,
           0.8571428571428568,
           1.1428571428571428,
           1.4285714285714284,
           1.714285714285714,
           2
          ],
          [
           -2,
           -1.7142857142857144,
           -1.4285714285714286,
           -1.1428571428571428,
           -0.8571428571428572,
           -0.5714285714285716,
           -0.2857142857142858,
           0,
           0.2857142857142856,
           0.5714285714285712,
           0.8571428571428568,
           1.1428571428571428,
           1.4285714285714284,
           1.714285714285714,
           2
          ],
          [
           -2,
           -1.7142857142857144,
           -1.4285714285714286,
           -1.1428571428571428,
           -0.8571428571428572,
           -0.5714285714285716,
           -0.2857142857142858,
           0,
           0.2857142857142856,
           0.5714285714285712,
           0.8571428571428568,
           1.1428571428571428,
           1.4285714285714284,
           1.714285714285714,
           2
          ],
          [
           -2,
           -1.7142857142857144,
           -1.4285714285714286,
           -1.1428571428571428,
           -0.8571428571428572,
           -0.5714285714285716,
           -0.2857142857142858,
           0,
           0.2857142857142856,
           0.5714285714285712,
           0.8571428571428568,
           1.1428571428571428,
           1.4285714285714284,
           1.714285714285714,
           2
          ],
          [
           -2,
           -1.7142857142857144,
           -1.4285714285714286,
           -1.1428571428571428,
           -0.8571428571428572,
           -0.5714285714285716,
           -0.2857142857142858,
           0,
           0.2857142857142856,
           0.5714285714285712,
           0.8571428571428568,
           1.1428571428571428,
           1.4285714285714284,
           1.714285714285714,
           2
          ],
          [
           -2,
           -1.7142857142857144,
           -1.4285714285714286,
           -1.1428571428571428,
           -0.8571428571428572,
           -0.5714285714285716,
           -0.2857142857142858,
           0,
           0.2857142857142856,
           0.5714285714285712,
           0.8571428571428568,
           1.1428571428571428,
           1.4285714285714284,
           1.714285714285714,
           2
          ],
          [
           -2,
           -1.7142857142857144,
           -1.4285714285714286,
           -1.1428571428571428,
           -0.8571428571428572,
           -0.5714285714285716,
           -0.2857142857142858,
           0,
           0.2857142857142856,
           0.5714285714285712,
           0.8571428571428568,
           1.1428571428571428,
           1.4285714285714284,
           1.714285714285714,
           2
          ]
         ],
         "y": [
          [
           -2,
           -2,
           -2,
           -2,
           -2,
           -2,
           -2,
           -2,
           -2,
           -2,
           -2,
           -2,
           -2,
           -2,
           -2
          ],
          [
           -1.7142857142857144,
           -1.7142857142857144,
           -1.7142857142857144,
           -1.7142857142857144,
           -1.7142857142857144,
           -1.7142857142857144,
           -1.7142857142857144,
           -1.7142857142857144,
           -1.7142857142857144,
           -1.7142857142857144,
           -1.7142857142857144,
           -1.7142857142857144,
           -1.7142857142857144,
           -1.7142857142857144,
           -1.7142857142857144
          ],
          [
           -1.4285714285714286,
           -1.4285714285714286,
           -1.4285714285714286,
           -1.4285714285714286,
           -1.4285714285714286,
           -1.4285714285714286,
           -1.4285714285714286,
           -1.4285714285714286,
           -1.4285714285714286,
           -1.4285714285714286,
           -1.4285714285714286,
           -1.4285714285714286,
           -1.4285714285714286,
           -1.4285714285714286,
           -1.4285714285714286
          ],
          [
           -1.1428571428571428,
           -1.1428571428571428,
           -1.1428571428571428,
           -1.1428571428571428,
           -1.1428571428571428,
           -1.1428571428571428,
           -1.1428571428571428,
           -1.1428571428571428,
           -1.1428571428571428,
           -1.1428571428571428,
           -1.1428571428571428,
           -1.1428571428571428,
           -1.1428571428571428,
           -1.1428571428571428,
           -1.1428571428571428
          ],
          [
           -0.8571428571428572,
           -0.8571428571428572,
           -0.8571428571428572,
           -0.8571428571428572,
           -0.8571428571428572,
           -0.8571428571428572,
           -0.8571428571428572,
           -0.8571428571428572,
           -0.8571428571428572,
           -0.8571428571428572,
           -0.8571428571428572,
           -0.8571428571428572,
           -0.8571428571428572,
           -0.8571428571428572,
           -0.8571428571428572
          ],
          [
           -0.5714285714285716,
           -0.5714285714285716,
           -0.5714285714285716,
           -0.5714285714285716,
           -0.5714285714285716,
           -0.5714285714285716,
           -0.5714285714285716,
           -0.5714285714285716,
           -0.5714285714285716,
           -0.5714285714285716,
           -0.5714285714285716,
           -0.5714285714285716,
           -0.5714285714285716,
           -0.5714285714285716,
           -0.5714285714285716
          ],
          [
           -0.2857142857142858,
           -0.2857142857142858,
           -0.2857142857142858,
           -0.2857142857142858,
           -0.2857142857142858,
           -0.2857142857142858,
           -0.2857142857142858,
           -0.2857142857142858,
           -0.2857142857142858,
           -0.2857142857142858,
           -0.2857142857142858,
           -0.2857142857142858,
           -0.2857142857142858,
           -0.2857142857142858,
           -0.2857142857142858
          ],
          [
           0,
           0,
           0,
           0,
           0,
           0,
           0,
           0,
           0,
           0,
           0,
           0,
           0,
           0,
           0
          ],
          [
           0.2857142857142856,
           0.2857142857142856,
           0.2857142857142856,
           0.2857142857142856,
           0.2857142857142856,
           0.2857142857142856,
           0.2857142857142856,
           0.2857142857142856,
           0.2857142857142856,
           0.2857142857142856,
           0.2857142857142856,
           0.2857142857142856,
           0.2857142857142856,
           0.2857142857142856,
           0.2857142857142856
          ],
          [
           0.5714285714285712,
           0.5714285714285712,
           0.5714285714285712,
           0.5714285714285712,
           0.5714285714285712,
           0.5714285714285712,
           0.5714285714285712,
           0.5714285714285712,
           0.5714285714285712,
           0.5714285714285712,
           0.5714285714285712,
           0.5714285714285712,
           0.5714285714285712,
           0.5714285714285712,
           0.5714285714285712
          ],
          [
           0.8571428571428568,
           0.8571428571428568,
           0.8571428571428568,
           0.8571428571428568,
           0.8571428571428568,
           0.8571428571428568,
           0.8571428571428568,
           0.8571428571428568,
           0.8571428571428568,
           0.8571428571428568,
           0.8571428571428568,
           0.8571428571428568,
           0.8571428571428568,
           0.8571428571428568,
           0.8571428571428568
          ],
          [
           1.1428571428571428,
           1.1428571428571428,
           1.1428571428571428,
           1.1428571428571428,
           1.1428571428571428,
           1.1428571428571428,
           1.1428571428571428,
           1.1428571428571428,
           1.1428571428571428,
           1.1428571428571428,
           1.1428571428571428,
           1.1428571428571428,
           1.1428571428571428,
           1.1428571428571428,
           1.1428571428571428
          ],
          [
           1.4285714285714284,
           1.4285714285714284,
           1.4285714285714284,
           1.4285714285714284,
           1.4285714285714284,
           1.4285714285714284,
           1.4285714285714284,
           1.4285714285714284,
           1.4285714285714284,
           1.4285714285714284,
           1.4285714285714284,
           1.4285714285714284,
           1.4285714285714284,
           1.4285714285714284,
           1.4285714285714284
          ],
          [
           1.714285714285714,
           1.714285714285714,
           1.714285714285714,
           1.714285714285714,
           1.714285714285714,
           1.714285714285714,
           1.714285714285714,
           1.714285714285714,
           1.714285714285714,
           1.714285714285714,
           1.714285714285714,
           1.714285714285714,
           1.714285714285714,
           1.714285714285714,
           1.714285714285714
          ],
          [
           2,
           2,
           2,
           2,
           2,
           2,
           2,
           2,
           2,
           2,
           2,
           2,
           2,
           2,
           2
          ]
         ],
         "z": [
          [
           0.8042734890401155,
           1.2428173301699181,
           1.4051619966376854,
           1.2302831685557571,
           0.7883438657104591,
           0.24736063876154205,
           -0.20134663289920327,
           -0.4239810067208438,
           -0.3947207007861334,
           -0.1946365215956882,
           0.03723849824375497,
           0.17491531296817286,
           0.16386389681366303,
           0.04018464019658127,
           -0.09578565969713636
          ],
          [
           0.35169746960496573,
           0.8481381024499322,
           1.1384966682272801,
           1.1200787713343963,
           0.8091168516904338,
           0.335154207334292,
           -0.11444659638940544,
           -0.3753505201810505,
           -0.3758948370249769,
           -0.16395405679875022,
           0.12075926988339615,
           0.31543831444159665,
           0.3115936573955529,
           0.10520791778666354,
           -0.20300804718262289
          ],
          [
           -0.2974550842269882,
           0.20169637126702705,
           0.6433531229044389,
           0.8836329262975762,
           0.8499685150019887,
           0.5743687494414801,
           0.181962864772044,
           -0.16200098880067776,
           -0.32390899862617945,
           -0.25992053588325575,
           -0.03356735830680853,
           0.21581364111860965,
           0.3396938956778992,
           0.2514139304054773,
           -0.031231076454656392
          ],
          [
           -0.7797087551920046,
           -0.35338877986503525,
           0.18288448525914466,
           0.666411512072481,
           0.939601003758155,
           0.9170613989720237,
           0.6260365832355796,
           0.19919277679599495,
           -0.1800022301558708,
           -0.3566017285300639,
           -0.272711196169871,
           0.00671185134934104,
           0.32387047055414925,
           0.5013690696884883,
           0.4256637884699423
          ],
          [
           -0.8193920009175999,
           -0.5281772455309302,
           -0.013560874828898034,
           0.5777999221650094,
           1.0480051549419351,
           1.2285211625306656,
           1.0567189004361253,
           0.61119811355022,
           0.08543987652040094,
           -0.2925449048867665,
           -0.3605291324298095,
           -0.09676269199272608,
           0.3668121172077346,
           0.8013891314884574,
           0.984286735150596
          ],
          [
           -0.3831811926807155,
           -0.24323843787492525,
           0.13066960308806214,
           0.6383100398086154,
           1.1069789756894315,
           1.3592476791514685,
           1.2924474145224192,
           0.9322760847721469,
           0.43178180573886615,
           0.011109226034797748,
           -0.13819924358447097,
           0.0582659604257981,
           0.5183724452962073,
           1.0341943156015814,
           1.3619222047350816
          ],
          [
           0.3049769651294715,
           0.3349430011028297,
           0.5076065548531897,
           0.7798539317622804,
           1.0579054972236412,
           1.2326866864383685,
           1.2282179518021148,
           1.0405170618499058,
           0.7466590757600731,
           0.47639910335257074,
           0.3565079289069315,
           0.45213344575470693,
           0.7327635135614612,
           1.0804243423194562,
           1.3387185352405604
          ],
          [
           0.8938144062685175,
           0.8938144062685179,
           0.8938144062685172,
           0.893814406268518,
           0.8938144062685173,
           0.8938144062685178,
           0.8938144062685178,
           0.8938144062685178,
           0.8938144062685176,
           0.8938144062685178,
           0.8938144062685172,
           0.893814406268518,
           0.8938144062685176,
           0.8938144062685177,
           0.893814406268518
          ],
          [
           1.101237988409412,
           1.1501666391070997,
           1.0770672899099172,
           0.8945051801100246,
           0.666250454627717,
           0.4861799420262724,
           0.4378449872699163,
           0.5527371763668262,
           0.7884667210788379,
           1.0404370788026762,
           1.1851215386883547,
           1.1370239312844181,
           0.8929641277026057,
           0.5412986841799061,
           0.22894895379910138
          ],
          [
           0.8636822074538971,
           0.9997674612660601,
           0.966808018519459,
           0.7600794761536602,
           0.4513819147528042,
           0.169447594353623,
           0.04647888333223564,
           0.15357555252236316,
           0.4571985357762407,
           0.8220743879625265,
           1.0650358712899193,
           1.0388461588229876,
           0.7078259203239521,
           0.17756409612244453,
           -0.3397453120848314
          ],
          [
           0.3565093775309651,
           0.5591098831413002,
           0.6284905618187455,
           0.5307989391995077,
           0.29815835361379583,
           0.02768207653357299,
           -0.154991761281742,
           -0.15420519684372416,
           0.04305087730544994,
           0.3491042188706661,
           0.6064821841554832,
           0.6582355949263107,
           0.4268986079589281,
           -0.03635065645130567,
           -0.559631964459055
          ],
          [
           -0.1186422910875011,
           0.08279737679145788,
           0.22950344210782092,
           0.2729069089197789,
           0.19478522732154718,
           0.02562612924324449,
           -0.15999929556092723,
           -0.2733779006223126,
           -0.25481833036501444,
           -0.1085287479491876,
           0.09089171429174853,
           0.22786023248673976,
           0.20055408529662497,
           -0.024028703556589898,
           -0.3826321140597107
          ],
          [
           -0.30770829702303093,
           -0.1882092443976448,
           -0.06410890358967569,
           0.036513537824567566,
           0.07856232676634745,
           0.04064369948400459,
           -0.06615239647272562,
           -0.19475194300787238,
           -0.27958982407964644,
           -0.26878688620753405,
           -0.15494588907128382,
           0.013149738323138552,
           0.14746468057685636,
           0.1613604941536008,
           0.015655678119206595
          ],
          [
           -0.13744303612382666,
           -0.1566196659245337,
           -0.17609791903434108,
           -0.16428358681856103,
           -0.11502394150038679,
           -0.04995805923122394,
           -0.0015798097452576487,
           0.011203359233666402,
           -0.0012834113539876846,
           -0.0036451219877175617,
           0.04167256917285847,
           0.14574995042402905,
           0.2767149036482907,
           0.36783678885626053,
           0.3493271556660067
          ],
          [
           0.2629930813004626,
           0.09453346642755522,
           -0.14442207142954092,
           -0.33956506518813534,
           -0.39596229741952743,
           -0.2823274964013943,
           -0.04117989991658007,
           0.23714112095026427,
           0.46050300472950495,
           0.5762037249566396,
           0.5871142764145486,
           0.5372273348845863,
           0.47779486297722673,
           0.4349206404514016,
           0.3972457752175676
          ]
         ]
        }
       ],
       "layout": {
        "height": 800,
        "scene": {
         "domain": {
          "x": [
           0,
           0.2888888888888889
          ],
          "y": [
           0.7333333333333333,
           1
          ]
         }
        },
        "scene2": {
         "domain": {
          "x": [
           0.35555555555555557,
           0.6444444444444445
          ],
          "y": [
           0.7333333333333333,
           1
          ]
         }
        },
        "scene3": {
         "domain": {
          "x": [
           0.7111111111111111,
           1
          ],
          "y": [
           0.7333333333333333,
           1
          ]
         }
        },
        "scene4": {
         "domain": {
          "x": [
           0,
           0.2888888888888889
          ],
          "y": [
           0.36666666666666664,
           0.6333333333333333
          ]
         }
        },
        "scene5": {
         "domain": {
          "x": [
           0.35555555555555557,
           0.6444444444444445
          ],
          "y": [
           0.36666666666666664,
           0.6333333333333333
          ]
         }
        },
        "scene6": {
         "domain": {
          "x": [
           0.7111111111111111,
           1
          ],
          "y": [
           0.36666666666666664,
           0.6333333333333333
          ]
         }
        },
        "scene7": {
         "domain": {
          "x": [
           0,
           0.2888888888888889
          ],
          "y": [
           0,
           0.26666666666666666
          ]
         }
        },
        "scene8": {
         "domain": {
          "x": [
           0.35555555555555557,
           0.6444444444444445
          ],
          "y": [
           0,
           0.26666666666666666
          ]
         }
        },
        "scene9": {
         "domain": {
          "x": [
           0.7111111111111111,
           1
          ],
          "y": [
           0,
           0.26666666666666666
          ]
         }
        },
        "template": {
         "data": {
          "bar": [
           {
            "error_x": {
             "color": "#2a3f5f"
            },
            "error_y": {
             "color": "#2a3f5f"
            },
            "marker": {
             "line": {
              "color": "#E5ECF6",
              "width": 0.5
             }
            },
            "type": "bar"
           }
          ],
          "barpolar": [
           {
            "marker": {
             "line": {
              "color": "#E5ECF6",
              "width": 0.5
             }
            },
            "type": "barpolar"
           }
          ],
          "carpet": [
           {
            "aaxis": {
             "endlinecolor": "#2a3f5f",
             "gridcolor": "white",
             "linecolor": "white",
             "minorgridcolor": "white",
             "startlinecolor": "#2a3f5f"
            },
            "baxis": {
             "endlinecolor": "#2a3f5f",
             "gridcolor": "white",
             "linecolor": "white",
             "minorgridcolor": "white",
             "startlinecolor": "#2a3f5f"
            },
            "type": "carpet"
           }
          ],
          "choropleth": [
           {
            "colorbar": {
             "outlinewidth": 0,
             "ticks": ""
            },
            "type": "choropleth"
           }
          ],
          "contour": [
           {
            "colorbar": {
             "outlinewidth": 0,
             "ticks": ""
            },
            "colorscale": [
             [
              0,
              "#0d0887"
             ],
             [
              0.1111111111111111,
              "#46039f"
             ],
             [
              0.2222222222222222,
              "#7201a8"
             ],
             [
              0.3333333333333333,
              "#9c179e"
             ],
             [
              0.4444444444444444,
              "#bd3786"
             ],
             [
              0.5555555555555556,
              "#d8576b"
             ],
             [
              0.6666666666666666,
              "#ed7953"
             ],
             [
              0.7777777777777778,
              "#fb9f3a"
             ],
             [
              0.8888888888888888,
              "#fdca26"
             ],
             [
              1,
              "#f0f921"
             ]
            ],
            "type": "contour"
           }
          ],
          "contourcarpet": [
           {
            "colorbar": {
             "outlinewidth": 0,
             "ticks": ""
            },
            "type": "contourcarpet"
           }
          ],
          "heatmap": [
           {
            "colorbar": {
             "outlinewidth": 0,
             "ticks": ""
            },
            "colorscale": [
             [
              0,
              "#0d0887"
             ],
             [
              0.1111111111111111,
              "#46039f"
             ],
             [
              0.2222222222222222,
              "#7201a8"
             ],
             [
              0.3333333333333333,
              "#9c179e"
             ],
             [
              0.4444444444444444,
              "#bd3786"
             ],
             [
              0.5555555555555556,
              "#d8576b"
             ],
             [
              0.6666666666666666,
              "#ed7953"
             ],
             [
              0.7777777777777778,
              "#fb9f3a"
             ],
             [
              0.8888888888888888,
              "#fdca26"
             ],
             [
              1,
              "#f0f921"
             ]
            ],
            "type": "heatmap"
           }
          ],
          "heatmapgl": [
           {
            "colorbar": {
             "outlinewidth": 0,
             "ticks": ""
            },
            "colorscale": [
             [
              0,
              "#0d0887"
             ],
             [
              0.1111111111111111,
              "#46039f"
             ],
             [
              0.2222222222222222,
              "#7201a8"
             ],
             [
              0.3333333333333333,
              "#9c179e"
             ],
             [
              0.4444444444444444,
              "#bd3786"
             ],
             [
              0.5555555555555556,
              "#d8576b"
             ],
             [
              0.6666666666666666,
              "#ed7953"
             ],
             [
              0.7777777777777778,
              "#fb9f3a"
             ],
             [
              0.8888888888888888,
              "#fdca26"
             ],
             [
              1,
              "#f0f921"
             ]
            ],
            "type": "heatmapgl"
           }
          ],
          "histogram": [
           {
            "marker": {
             "colorbar": {
              "outlinewidth": 0,
              "ticks": ""
             }
            },
            "type": "histogram"
           }
          ],
          "histogram2d": [
           {
            "colorbar": {
             "outlinewidth": 0,
             "ticks": ""
            },
            "colorscale": [
             [
              0,
              "#0d0887"
             ],
             [
              0.1111111111111111,
              "#46039f"
             ],
             [
              0.2222222222222222,
              "#7201a8"
             ],
             [
              0.3333333333333333,
              "#9c179e"
             ],
             [
              0.4444444444444444,
              "#bd3786"
             ],
             [
              0.5555555555555556,
              "#d8576b"
             ],
             [
              0.6666666666666666,
              "#ed7953"
             ],
             [
              0.7777777777777778,
              "#fb9f3a"
             ],
             [
              0.8888888888888888,
              "#fdca26"
             ],
             [
              1,
              "#f0f921"
             ]
            ],
            "type": "histogram2d"
           }
          ],
          "histogram2dcontour": [
           {
            "colorbar": {
             "outlinewidth": 0,
             "ticks": ""
            },
            "colorscale": [
             [
              0,
              "#0d0887"
             ],
             [
              0.1111111111111111,
              "#46039f"
             ],
             [
              0.2222222222222222,
              "#7201a8"
             ],
             [
              0.3333333333333333,
              "#9c179e"
             ],
             [
              0.4444444444444444,
              "#bd3786"
             ],
             [
              0.5555555555555556,
              "#d8576b"
             ],
             [
              0.6666666666666666,
              "#ed7953"
             ],
             [
              0.7777777777777778,
              "#fb9f3a"
             ],
             [
              0.8888888888888888,
              "#fdca26"
             ],
             [
              1,
              "#f0f921"
             ]
            ],
            "type": "histogram2dcontour"
           }
          ],
          "mesh3d": [
           {
            "colorbar": {
             "outlinewidth": 0,
             "ticks": ""
            },
            "type": "mesh3d"
           }
          ],
          "parcoords": [
           {
            "line": {
             "colorbar": {
              "outlinewidth": 0,
              "ticks": ""
             }
            },
            "type": "parcoords"
           }
          ],
          "pie": [
           {
            "automargin": true,
            "type": "pie"
           }
          ],
          "scatter": [
           {
            "marker": {
             "colorbar": {
              "outlinewidth": 0,
              "ticks": ""
             }
            },
            "type": "scatter"
           }
          ],
          "scatter3d": [
           {
            "line": {
             "colorbar": {
              "outlinewidth": 0,
              "ticks": ""
             }
            },
            "marker": {
             "colorbar": {
              "outlinewidth": 0,
              "ticks": ""
             }
            },
            "type": "scatter3d"
           }
          ],
          "scattercarpet": [
           {
            "marker": {
             "colorbar": {
              "outlinewidth": 0,
              "ticks": ""
             }
            },
            "type": "scattercarpet"
           }
          ],
          "scattergeo": [
           {
            "marker": {
             "colorbar": {
              "outlinewidth": 0,
              "ticks": ""
             }
            },
            "type": "scattergeo"
           }
          ],
          "scattergl": [
           {
            "marker": {
             "colorbar": {
              "outlinewidth": 0,
              "ticks": ""
             }
            },
            "type": "scattergl"
           }
          ],
          "scattermapbox": [
           {
            "marker": {
             "colorbar": {
              "outlinewidth": 0,
              "ticks": ""
             }
            },
            "type": "scattermapbox"
           }
          ],
          "scatterpolar": [
           {
            "marker": {
             "colorbar": {
              "outlinewidth": 0,
              "ticks": ""
             }
            },
            "type": "scatterpolar"
           }
          ],
          "scatterpolargl": [
           {
            "marker": {
             "colorbar": {
              "outlinewidth": 0,
              "ticks": ""
             }
            },
            "type": "scatterpolargl"
           }
          ],
          "scatterternary": [
           {
            "marker": {
             "colorbar": {
              "outlinewidth": 0,
              "ticks": ""
             }
            },
            "type": "scatterternary"
           }
          ],
          "surface": [
           {
            "colorbar": {
             "outlinewidth": 0,
             "ticks": ""
            },
            "colorscale": [
             [
              0,
              "#0d0887"
             ],
             [
              0.1111111111111111,
              "#46039f"
             ],
             [
              0.2222222222222222,
              "#7201a8"
             ],
             [
              0.3333333333333333,
              "#9c179e"
             ],
             [
              0.4444444444444444,
              "#bd3786"
             ],
             [
              0.5555555555555556,
              "#d8576b"
             ],
             [
              0.6666666666666666,
              "#ed7953"
             ],
             [
              0.7777777777777778,
              "#fb9f3a"
             ],
             [
              0.8888888888888888,
              "#fdca26"
             ],
             [
              1,
              "#f0f921"
             ]
            ],
            "type": "surface"
           }
          ],
          "table": [
           {
            "cells": {
             "fill": {
              "color": "#EBF0F8"
             },
             "line": {
              "color": "white"
             }
            },
            "header": {
             "fill": {
              "color": "#C8D4E3"
             },
             "line": {
              "color": "white"
             }
            },
            "type": "table"
           }
          ]
         },
         "layout": {
          "annotationdefaults": {
           "arrowcolor": "#2a3f5f",
           "arrowhead": 0,
           "arrowwidth": 1
          },
          "autotypenumbers": "strict",
          "coloraxis": {
           "colorbar": {
            "outlinewidth": 0,
            "ticks": ""
           }
          },
          "colorscale": {
           "diverging": [
            [
             0,
             "#8e0152"
            ],
            [
             0.1,
             "#c51b7d"
            ],
            [
             0.2,
             "#de77ae"
            ],
            [
             0.3,
             "#f1b6da"
            ],
            [
             0.4,
             "#fde0ef"
            ],
            [
             0.5,
             "#f7f7f7"
            ],
            [
             0.6,
             "#e6f5d0"
            ],
            [
             0.7,
             "#b8e186"
            ],
            [
             0.8,
             "#7fbc41"
            ],
            [
             0.9,
             "#4d9221"
            ],
            [
             1,
             "#276419"
            ]
           ],
           "sequential": [
            [
             0,
             "#0d0887"
            ],
            [
             0.1111111111111111,
             "#46039f"
            ],
            [
             0.2222222222222222,
             "#7201a8"
            ],
            [
             0.3333333333333333,
             "#9c179e"
            ],
            [
             0.4444444444444444,
             "#bd3786"
            ],
            [
             0.5555555555555556,
             "#d8576b"
            ],
            [
             0.6666666666666666,
             "#ed7953"
            ],
            [
             0.7777777777777778,
             "#fb9f3a"
            ],
            [
             0.8888888888888888,
             "#fdca26"
            ],
            [
             1,
             "#f0f921"
            ]
           ],
           "sequentialminus": [
            [
             0,
             "#0d0887"
            ],
            [
             0.1111111111111111,
             "#46039f"
            ],
            [
             0.2222222222222222,
             "#7201a8"
            ],
            [
             0.3333333333333333,
             "#9c179e"
            ],
            [
             0.4444444444444444,
             "#bd3786"
            ],
            [
             0.5555555555555556,
             "#d8576b"
            ],
            [
             0.6666666666666666,
             "#ed7953"
            ],
            [
             0.7777777777777778,
             "#fb9f3a"
            ],
            [
             0.8888888888888888,
             "#fdca26"
            ],
            [
             1,
             "#f0f921"
            ]
           ]
          },
          "colorway": [
           "#636efa",
           "#EF553B",
           "#00cc96",
           "#ab63fa",
           "#FFA15A",
           "#19d3f3",
           "#FF6692",
           "#B6E880",
           "#FF97FF",
           "#FECB52"
          ],
          "font": {
           "color": "#2a3f5f"
          },
          "geo": {
           "bgcolor": "white",
           "lakecolor": "white",
           "landcolor": "#E5ECF6",
           "showlakes": true,
           "showland": true,
           "subunitcolor": "white"
          },
          "hoverlabel": {
           "align": "left"
          },
          "hovermode": "closest",
          "mapbox": {
           "style": "light"
          },
          "paper_bgcolor": "white",
          "plot_bgcolor": "#E5ECF6",
          "polar": {
           "angularaxis": {
            "gridcolor": "white",
            "linecolor": "white",
            "ticks": ""
           },
           "bgcolor": "#E5ECF6",
           "radialaxis": {
            "gridcolor": "white",
            "linecolor": "white",
            "ticks": ""
           }
          },
          "scene": {
           "xaxis": {
            "backgroundcolor": "#E5ECF6",
            "gridcolor": "white",
            "gridwidth": 2,
            "linecolor": "white",
            "showbackground": true,
            "ticks": "",
            "zerolinecolor": "white"
           },
           "yaxis": {
            "backgroundcolor": "#E5ECF6",
            "gridcolor": "white",
            "gridwidth": 2,
            "linecolor": "white",
            "showbackground": true,
            "ticks": "",
            "zerolinecolor": "white"
           },
           "zaxis": {
            "backgroundcolor": "#E5ECF6",
            "gridcolor": "white",
            "gridwidth": 2,
            "linecolor": "white",
            "showbackground": true,
            "ticks": "",
            "zerolinecolor": "white"
           }
          },
          "shapedefaults": {
           "line": {
            "color": "#2a3f5f"
           }
          },
          "ternary": {
           "aaxis": {
            "gridcolor": "white",
            "linecolor": "white",
            "ticks": ""
           },
           "baxis": {
            "gridcolor": "white",
            "linecolor": "white",
            "ticks": ""
           },
           "bgcolor": "#E5ECF6",
           "caxis": {
            "gridcolor": "white",
            "linecolor": "white",
            "ticks": ""
           }
          },
          "title": {
           "x": 0.05
          },
          "xaxis": {
           "automargin": true,
           "gridcolor": "white",
           "linecolor": "white",
           "ticks": "",
           "title": {
            "standoff": 15
           },
           "zerolinecolor": "white",
           "zerolinewidth": 2
          },
          "yaxis": {
           "automargin": true,
           "gridcolor": "white",
           "linecolor": "white",
           "ticks": "",
           "title": {
            "standoff": 15
           },
           "zerolinecolor": "white",
           "zerolinewidth": 2
          }
         }
        },
        "title": {
         "text": "Energy Landscape"
        },
        "width": 800
       }
      },
      "text/html": [
       "<div>                            <div id=\"82a2b90e-f5c0-4475-af77-b1aa029ed636\" class=\"plotly-graph-div\" style=\"height:800px; width:800px;\"></div>            <script type=\"text/javascript\">                require([\"plotly\"], function(Plotly) {                    window.PLOTLYENV=window.PLOTLYENV || {};                                    if (document.getElementById(\"82a2b90e-f5c0-4475-af77-b1aa029ed636\")) {                    Plotly.newPlot(                        \"82a2b90e-f5c0-4475-af77-b1aa029ed636\",                        [{\"scene\": \"scene\", \"showscale\": false, \"type\": \"surface\", \"x\": [[-2.0, -1.7142857142857144, -1.4285714285714286, -1.1428571428571428, -0.8571428571428572, -0.5714285714285716, -0.2857142857142858, 0.0, 0.2857142857142856, 0.5714285714285712, 0.8571428571428568, 1.1428571428571428, 1.4285714285714284, 1.714285714285714, 2.0], [-2.0, -1.7142857142857144, -1.4285714285714286, -1.1428571428571428, -0.8571428571428572, -0.5714285714285716, -0.2857142857142858, 0.0, 0.2857142857142856, 0.5714285714285712, 0.8571428571428568, 1.1428571428571428, 1.4285714285714284, 1.714285714285714, 2.0], [-2.0, -1.7142857142857144, -1.4285714285714286, -1.1428571428571428, -0.8571428571428572, -0.5714285714285716, -0.2857142857142858, 0.0, 0.2857142857142856, 0.5714285714285712, 0.8571428571428568, 1.1428571428571428, 1.4285714285714284, 1.714285714285714, 2.0], [-2.0, -1.7142857142857144, -1.4285714285714286, -1.1428571428571428, -0.8571428571428572, -0.5714285714285716, -0.2857142857142858, 0.0, 0.2857142857142856, 0.5714285714285712, 0.8571428571428568, 1.1428571428571428, 1.4285714285714284, 1.714285714285714, 2.0], [-2.0, -1.7142857142857144, -1.4285714285714286, -1.1428571428571428, -0.8571428571428572, -0.5714285714285716, -0.2857142857142858, 0.0, 0.2857142857142856, 0.5714285714285712, 0.8571428571428568, 1.1428571428571428, 1.4285714285714284, 1.714285714285714, 2.0], [-2.0, -1.7142857142857144, -1.4285714285714286, -1.1428571428571428, -0.8571428571428572, -0.5714285714285716, -0.2857142857142858, 0.0, 0.2857142857142856, 0.5714285714285712, 0.8571428571428568, 1.1428571428571428, 1.4285714285714284, 1.714285714285714, 2.0], [-2.0, -1.7142857142857144, -1.4285714285714286, -1.1428571428571428, -0.8571428571428572, -0.5714285714285716, -0.2857142857142858, 0.0, 0.2857142857142856, 0.5714285714285712, 0.8571428571428568, 1.1428571428571428, 1.4285714285714284, 1.714285714285714, 2.0], [-2.0, -1.7142857142857144, -1.4285714285714286, -1.1428571428571428, -0.8571428571428572, -0.5714285714285716, -0.2857142857142858, 0.0, 0.2857142857142856, 0.5714285714285712, 0.8571428571428568, 1.1428571428571428, 1.4285714285714284, 1.714285714285714, 2.0], [-2.0, -1.7142857142857144, -1.4285714285714286, -1.1428571428571428, -0.8571428571428572, -0.5714285714285716, -0.2857142857142858, 0.0, 0.2857142857142856, 0.5714285714285712, 0.8571428571428568, 1.1428571428571428, 1.4285714285714284, 1.714285714285714, 2.0], [-2.0, -1.7142857142857144, -1.4285714285714286, -1.1428571428571428, -0.8571428571428572, -0.5714285714285716, -0.2857142857142858, 0.0, 0.2857142857142856, 0.5714285714285712, 0.8571428571428568, 1.1428571428571428, 1.4285714285714284, 1.714285714285714, 2.0], [-2.0, -1.7142857142857144, -1.4285714285714286, -1.1428571428571428, -0.8571428571428572, -0.5714285714285716, -0.2857142857142858, 0.0, 0.2857142857142856, 0.5714285714285712, 0.8571428571428568, 1.1428571428571428, 1.4285714285714284, 1.714285714285714, 2.0], [-2.0, -1.7142857142857144, -1.4285714285714286, -1.1428571428571428, -0.8571428571428572, -0.5714285714285716, -0.2857142857142858, 0.0, 0.2857142857142856, 0.5714285714285712, 0.8571428571428568, 1.1428571428571428, 1.4285714285714284, 1.714285714285714, 2.0], [-2.0, -1.7142857142857144, -1.4285714285714286, -1.1428571428571428, -0.8571428571428572, -0.5714285714285716, -0.2857142857142858, 0.0, 0.2857142857142856, 0.5714285714285712, 0.8571428571428568, 1.1428571428571428, 1.4285714285714284, 1.714285714285714, 2.0], [-2.0, -1.7142857142857144, -1.4285714285714286, -1.1428571428571428, -0.8571428571428572, -0.5714285714285716, -0.2857142857142858, 0.0, 0.2857142857142856, 0.5714285714285712, 0.8571428571428568, 1.1428571428571428, 1.4285714285714284, 1.714285714285714, 2.0], [-2.0, -1.7142857142857144, -1.4285714285714286, -1.1428571428571428, -0.8571428571428572, -0.5714285714285716, -0.2857142857142858, 0.0, 0.2857142857142856, 0.5714285714285712, 0.8571428571428568, 1.1428571428571428, 1.4285714285714284, 1.714285714285714, 2.0]], \"y\": [[-2.0, -2.0, -2.0, -2.0, -2.0, -2.0, -2.0, -2.0, -2.0, -2.0, -2.0, -2.0, -2.0, -2.0, -2.0], [-1.7142857142857144, -1.7142857142857144, -1.7142857142857144, -1.7142857142857144, -1.7142857142857144, -1.7142857142857144, -1.7142857142857144, -1.7142857142857144, -1.7142857142857144, -1.7142857142857144, -1.7142857142857144, -1.7142857142857144, -1.7142857142857144, -1.7142857142857144, -1.7142857142857144], [-1.4285714285714286, -1.4285714285714286, -1.4285714285714286, -1.4285714285714286, -1.4285714285714286, -1.4285714285714286, -1.4285714285714286, -1.4285714285714286, -1.4285714285714286, -1.4285714285714286, -1.4285714285714286, -1.4285714285714286, -1.4285714285714286, -1.4285714285714286, -1.4285714285714286], [-1.1428571428571428, -1.1428571428571428, -1.1428571428571428, -1.1428571428571428, -1.1428571428571428, -1.1428571428571428, -1.1428571428571428, -1.1428571428571428, -1.1428571428571428, -1.1428571428571428, -1.1428571428571428, -1.1428571428571428, -1.1428571428571428, -1.1428571428571428, -1.1428571428571428], [-0.8571428571428572, -0.8571428571428572, -0.8571428571428572, -0.8571428571428572, -0.8571428571428572, -0.8571428571428572, -0.8571428571428572, -0.8571428571428572, -0.8571428571428572, -0.8571428571428572, -0.8571428571428572, -0.8571428571428572, -0.8571428571428572, -0.8571428571428572, -0.8571428571428572], [-0.5714285714285716, -0.5714285714285716, -0.5714285714285716, -0.5714285714285716, -0.5714285714285716, -0.5714285714285716, -0.5714285714285716, -0.5714285714285716, -0.5714285714285716, -0.5714285714285716, -0.5714285714285716, -0.5714285714285716, -0.5714285714285716, -0.5714285714285716, -0.5714285714285716], [-0.2857142857142858, -0.2857142857142858, -0.2857142857142858, -0.2857142857142858, -0.2857142857142858, -0.2857142857142858, -0.2857142857142858, -0.2857142857142858, -0.2857142857142858, -0.2857142857142858, -0.2857142857142858, -0.2857142857142858, -0.2857142857142858, -0.2857142857142858, -0.2857142857142858], [0.0, 0.0, 0.0, 0.0, 0.0, 0.0, 0.0, 0.0, 0.0, 0.0, 0.0, 0.0, 0.0, 0.0, 0.0], [0.2857142857142856, 0.2857142857142856, 0.2857142857142856, 0.2857142857142856, 0.2857142857142856, 0.2857142857142856, 0.2857142857142856, 0.2857142857142856, 0.2857142857142856, 0.2857142857142856, 0.2857142857142856, 0.2857142857142856, 0.2857142857142856, 0.2857142857142856, 0.2857142857142856], [0.5714285714285712, 0.5714285714285712, 0.5714285714285712, 0.5714285714285712, 0.5714285714285712, 0.5714285714285712, 0.5714285714285712, 0.5714285714285712, 0.5714285714285712, 0.5714285714285712, 0.5714285714285712, 0.5714285714285712, 0.5714285714285712, 0.5714285714285712, 0.5714285714285712], [0.8571428571428568, 0.8571428571428568, 0.8571428571428568, 0.8571428571428568, 0.8571428571428568, 0.8571428571428568, 0.8571428571428568, 0.8571428571428568, 0.8571428571428568, 0.8571428571428568, 0.8571428571428568, 0.8571428571428568, 0.8571428571428568, 0.8571428571428568, 0.8571428571428568], [1.1428571428571428, 1.1428571428571428, 1.1428571428571428, 1.1428571428571428, 1.1428571428571428, 1.1428571428571428, 1.1428571428571428, 1.1428571428571428, 1.1428571428571428, 1.1428571428571428, 1.1428571428571428, 1.1428571428571428, 1.1428571428571428, 1.1428571428571428, 1.1428571428571428], [1.4285714285714284, 1.4285714285714284, 1.4285714285714284, 1.4285714285714284, 1.4285714285714284, 1.4285714285714284, 1.4285714285714284, 1.4285714285714284, 1.4285714285714284, 1.4285714285714284, 1.4285714285714284, 1.4285714285714284, 1.4285714285714284, 1.4285714285714284, 1.4285714285714284], [1.714285714285714, 1.714285714285714, 1.714285714285714, 1.714285714285714, 1.714285714285714, 1.714285714285714, 1.714285714285714, 1.714285714285714, 1.714285714285714, 1.714285714285714, 1.714285714285714, 1.714285714285714, 1.714285714285714, 1.714285714285714, 1.714285714285714], [2.0, 2.0, 2.0, 2.0, 2.0, 2.0, 2.0, 2.0, 2.0, 2.0, 2.0, 2.0, 2.0, 2.0, 2.0]], \"z\": [[-0.4627339876386082, -0.4644541277643024, -0.3808992212433662, -0.19199551745880344, 0.08775349662971625, 0.4107681948038784, 0.7122449514357508, 0.9326574677828432, 1.0368112248005836, 1.0218437078546834, 0.9123298299780378, 0.7466274529823224, 0.5618703364374223, 0.3842764727823551, 0.22752760232134878], [-0.5107856393846419, -0.5617479067244918, -0.5739650617608177, -0.5053776498028644, -0.33710956497578964, -0.08586420100618372, 0.1990839573958177, 0.4527203577455502, 0.6174337452355945, 0.6626685618110224, 0.5934012194409543, 0.44501416934114757, 0.26795197011813865, 0.10929207564350696, -0.001373770684075848], [-0.29210145835055684, -0.2927173072102025, -0.3531175106596461, -0.4377356496650343, -0.495197457435398, -0.48223407422660175, -0.3833573119195358, -0.21797115329445013, -0.03239355633586277, 0.11913378100479172, 0.1958987051976653, 0.18557451721406568, 0.10682495544402695, -0.00044474096027691257, -0.09218554734431124], [0.1513985287657578, 0.2714443134967968, 0.23271868292718606, 0.04018063418649656, -0.23965828690694221, -0.5062295657316288, -0.6653970093723819, -0.6658261515358344, -0.5165006380555731, -0.27920436610449884, -0.04055246828946277, 0.12362454468819528, 0.17645727618531662, 0.12994035562973633, 0.03420767017440711], [0.6217678537131861, 0.8535371338953474, 0.8876833147755061, 0.6914396017058597, 0.3186503437682235, -0.1106248300987112, -0.4567950426680453, -0.614114579900922, -0.5488415876974841, -0.30732333921796573, 0.007758325127450269, 0.28149212728259676, 0.43198547546302946, 0.4383779239544976, 0.3417338783837798], [0.8762383611625382, 1.1286083714106707, 1.2370425734822799, 1.1446291348603783, 0.8677262783083047, 0.49115329562779864, 0.13585062541720022, -0.08749784673173107, -0.11968471895959815, 0.027567193128946732, 0.28094608633661544, 0.5384857690573899, 0.7113803576703579, 0.7571438009147723, 0.6913088816951553], [0.7777317966661247, 0.9264265255423368, 1.058885993368207, 1.121077172005337, 1.0837058948554337, 0.9547355022062258, 0.7767191346246971, 0.6100649674944976, 0.5093264554812451, 0.5024506198384195, 0.581429922901226, 0.7077360851255935, 0.8295837137119103, 0.903277384856557, 0.9096472112405766], [0.38970531415112075, 0.3503695869960362, 0.43401822590055295, 0.6158124658955731, 0.8350762263735344, 1.0186551616302735, 1.1091106968818127, 1.0861478884828355, 0.9726446538047264, 0.8232483951239916, 0.7008190727213547, 0.6508568139655317, 0.6844494752024312, 0.7762198778527925, 0.8771899949649248], [-0.04917907508989054, -0.26812460400949345, -0.2857954835101035, -0.08551968888128172, 0.2711117438713837, 0.6665311153682134, 0.9720786943841775, 1.0971449311745303, 1.0224107199491337, 0.8038238790575856, 0.5463724883541714, 0.3593224123829507, 0.3119405094960078, 0.40780980130938227, 0.5873373687107465], [-0.2615761462466494, -0.5595045876656951, -0.6796602115071229, -0.5709870430647279, -0.26492222858634257, 0.13441940311859024, 0.48981947213419363, 0.6843318985914427, 0.6664181352496539, 0.46816344681699257, 0.18929540116734983, -0.04581765067581359, -0.13980073891410913, -0.06098885380134933, 0.14626245773881386], [-0.09922352071980002, -0.33832947730591834, -0.509979635165992, -0.5505580173194369, -0.44631743317915873, -0.24088698794013494, -0.018753562669984278, 0.12896992885247688, 0.14229333900348143, 0.017582428228914482, -0.190610922682978, -0.3920670895658642, -0.4983210693379604, -0.4592580170203233, -0.2836766906375961], [0.3609921617059545, 0.2786533242738909, 0.1295099203641666, -0.035188909935526674, -0.16591193538462856, -0.23517184373041877, -0.24791333336018276, -0.23716346351133075, -0.2466531246417895, -0.30806528621772933, -0.42321599606602706, -0.5595319450996504, -0.6614317035767603, -0.6731773848028078, -0.5635828148680597], [0.8545175025707042, 0.9342453696227491, 0.8639059285283791, 0.6660213607207663, 0.39677905076478626, 0.1246642092952072, -0.09520149969619472, -0.23999789733468524, -0.32309334006586277, -0.3812074292623419, -0.4508483140019046, -0.5451577379889985, -0.6424016776706866, -0.692214595679238, -0.6375846575062932], [1.081021103453198, 1.2385111767285837, 1.2581006141202982, 1.1314050428224696, 0.8876771768936403, 0.5844784848669586, 0.2865972333350162, 0.042259380335783, -0.1323958524312039, -0.2530566817617116, -0.35112078305757605, -0.4495692344312155, -0.543131860877887, -0.5935905689038542, -0.5441135481456661], [0.8806480985020607, 0.9981947769333838, 1.0751859242684698, 1.081796594404527, 0.99959153486551, 0.8319658891280398, 0.6040500120310377, 0.35249814410192026, 0.11121870673166423, -0.09880265555764867, -0.27005722916755015, -0.39979300668476575, -0.47819492580498796, -0.4820439613723505, -0.37984135846269484]]}, {\"scene\": \"scene2\", \"showscale\": false, \"type\": \"surface\", \"x\": [[-2.0, -1.7142857142857144, -1.4285714285714286, -1.1428571428571428, -0.8571428571428572, -0.5714285714285716, -0.2857142857142858, 0.0, 0.2857142857142856, 0.5714285714285712, 0.8571428571428568, 1.1428571428571428, 1.4285714285714284, 1.714285714285714, 2.0], [-2.0, -1.7142857142857144, -1.4285714285714286, -1.1428571428571428, -0.8571428571428572, -0.5714285714285716, -0.2857142857142858, 0.0, 0.2857142857142856, 0.5714285714285712, 0.8571428571428568, 1.1428571428571428, 1.4285714285714284, 1.714285714285714, 2.0], [-2.0, -1.7142857142857144, -1.4285714285714286, -1.1428571428571428, -0.8571428571428572, -0.5714285714285716, -0.2857142857142858, 0.0, 0.2857142857142856, 0.5714285714285712, 0.8571428571428568, 1.1428571428571428, 1.4285714285714284, 1.714285714285714, 2.0], [-2.0, -1.7142857142857144, -1.4285714285714286, -1.1428571428571428, -0.8571428571428572, -0.5714285714285716, -0.2857142857142858, 0.0, 0.2857142857142856, 0.5714285714285712, 0.8571428571428568, 1.1428571428571428, 1.4285714285714284, 1.714285714285714, 2.0], [-2.0, -1.7142857142857144, -1.4285714285714286, -1.1428571428571428, -0.8571428571428572, -0.5714285714285716, -0.2857142857142858, 0.0, 0.2857142857142856, 0.5714285714285712, 0.8571428571428568, 1.1428571428571428, 1.4285714285714284, 1.714285714285714, 2.0], [-2.0, -1.7142857142857144, -1.4285714285714286, -1.1428571428571428, -0.8571428571428572, -0.5714285714285716, -0.2857142857142858, 0.0, 0.2857142857142856, 0.5714285714285712, 0.8571428571428568, 1.1428571428571428, 1.4285714285714284, 1.714285714285714, 2.0], [-2.0, -1.7142857142857144, -1.4285714285714286, -1.1428571428571428, -0.8571428571428572, -0.5714285714285716, -0.2857142857142858, 0.0, 0.2857142857142856, 0.5714285714285712, 0.8571428571428568, 1.1428571428571428, 1.4285714285714284, 1.714285714285714, 2.0], [-2.0, -1.7142857142857144, -1.4285714285714286, -1.1428571428571428, -0.8571428571428572, -0.5714285714285716, -0.2857142857142858, 0.0, 0.2857142857142856, 0.5714285714285712, 0.8571428571428568, 1.1428571428571428, 1.4285714285714284, 1.714285714285714, 2.0], [-2.0, -1.7142857142857144, -1.4285714285714286, -1.1428571428571428, -0.8571428571428572, -0.5714285714285716, -0.2857142857142858, 0.0, 0.2857142857142856, 0.5714285714285712, 0.8571428571428568, 1.1428571428571428, 1.4285714285714284, 1.714285714285714, 2.0], [-2.0, -1.7142857142857144, -1.4285714285714286, -1.1428571428571428, -0.8571428571428572, -0.5714285714285716, -0.2857142857142858, 0.0, 0.2857142857142856, 0.5714285714285712, 0.8571428571428568, 1.1428571428571428, 1.4285714285714284, 1.714285714285714, 2.0], [-2.0, -1.7142857142857144, -1.4285714285714286, -1.1428571428571428, -0.8571428571428572, -0.5714285714285716, -0.2857142857142858, 0.0, 0.2857142857142856, 0.5714285714285712, 0.8571428571428568, 1.1428571428571428, 1.4285714285714284, 1.714285714285714, 2.0], [-2.0, -1.7142857142857144, -1.4285714285714286, -1.1428571428571428, -0.8571428571428572, -0.5714285714285716, -0.2857142857142858, 0.0, 0.2857142857142856, 0.5714285714285712, 0.8571428571428568, 1.1428571428571428, 1.4285714285714284, 1.714285714285714, 2.0], [-2.0, -1.7142857142857144, -1.4285714285714286, -1.1428571428571428, -0.8571428571428572, -0.5714285714285716, -0.2857142857142858, 0.0, 0.2857142857142856, 0.5714285714285712, 0.8571428571428568, 1.1428571428571428, 1.4285714285714284, 1.714285714285714, 2.0], [-2.0, -1.7142857142857144, -1.4285714285714286, -1.1428571428571428, -0.8571428571428572, -0.5714285714285716, -0.2857142857142858, 0.0, 0.2857142857142856, 0.5714285714285712, 0.8571428571428568, 1.1428571428571428, 1.4285714285714284, 1.714285714285714, 2.0], [-2.0, -1.7142857142857144, -1.4285714285714286, -1.1428571428571428, -0.8571428571428572, -0.5714285714285716, -0.2857142857142858, 0.0, 0.2857142857142856, 0.5714285714285712, 0.8571428571428568, 1.1428571428571428, 1.4285714285714284, 1.714285714285714, 2.0]], \"y\": [[-2.0, -2.0, -2.0, -2.0, -2.0, -2.0, -2.0, -2.0, -2.0, -2.0, -2.0, -2.0, -2.0, -2.0, -2.0], [-1.7142857142857144, -1.7142857142857144, -1.7142857142857144, -1.7142857142857144, -1.7142857142857144, -1.7142857142857144, -1.7142857142857144, -1.7142857142857144, -1.7142857142857144, -1.7142857142857144, -1.7142857142857144, -1.7142857142857144, -1.7142857142857144, -1.7142857142857144, -1.7142857142857144], [-1.4285714285714286, -1.4285714285714286, -1.4285714285714286, -1.4285714285714286, -1.4285714285714286, -1.4285714285714286, -1.4285714285714286, -1.4285714285714286, -1.4285714285714286, -1.4285714285714286, -1.4285714285714286, -1.4285714285714286, -1.4285714285714286, -1.4285714285714286, -1.4285714285714286], [-1.1428571428571428, -1.1428571428571428, -1.1428571428571428, -1.1428571428571428, -1.1428571428571428, -1.1428571428571428, -1.1428571428571428, -1.1428571428571428, -1.1428571428571428, -1.1428571428571428, -1.1428571428571428, -1.1428571428571428, -1.1428571428571428, -1.1428571428571428, -1.1428571428571428], [-0.8571428571428572, -0.8571428571428572, -0.8571428571428572, -0.8571428571428572, -0.8571428571428572, -0.8571428571428572, -0.8571428571428572, -0.8571428571428572, -0.8571428571428572, -0.8571428571428572, -0.8571428571428572, -0.8571428571428572, -0.8571428571428572, -0.8571428571428572, -0.8571428571428572], [-0.5714285714285716, -0.5714285714285716, -0.5714285714285716, -0.5714285714285716, -0.5714285714285716, -0.5714285714285716, -0.5714285714285716, -0.5714285714285716, -0.5714285714285716, -0.5714285714285716, -0.5714285714285716, -0.5714285714285716, -0.5714285714285716, -0.5714285714285716, -0.5714285714285716], [-0.2857142857142858, -0.2857142857142858, -0.2857142857142858, -0.2857142857142858, -0.2857142857142858, -0.2857142857142858, -0.2857142857142858, -0.2857142857142858, -0.2857142857142858, -0.2857142857142858, -0.2857142857142858, -0.2857142857142858, -0.2857142857142858, -0.2857142857142858, -0.2857142857142858], [0.0, 0.0, 0.0, 0.0, 0.0, 0.0, 0.0, 0.0, 0.0, 0.0, 0.0, 0.0, 0.0, 0.0, 0.0], [0.2857142857142856, 0.2857142857142856, 0.2857142857142856, 0.2857142857142856, 0.2857142857142856, 0.2857142857142856, 0.2857142857142856, 0.2857142857142856, 0.2857142857142856, 0.2857142857142856, 0.2857142857142856, 0.2857142857142856, 0.2857142857142856, 0.2857142857142856, 0.2857142857142856], [0.5714285714285712, 0.5714285714285712, 0.5714285714285712, 0.5714285714285712, 0.5714285714285712, 0.5714285714285712, 0.5714285714285712, 0.5714285714285712, 0.5714285714285712, 0.5714285714285712, 0.5714285714285712, 0.5714285714285712, 0.5714285714285712, 0.5714285714285712, 0.5714285714285712], [0.8571428571428568, 0.8571428571428568, 0.8571428571428568, 0.8571428571428568, 0.8571428571428568, 0.8571428571428568, 0.8571428571428568, 0.8571428571428568, 0.8571428571428568, 0.8571428571428568, 0.8571428571428568, 0.8571428571428568, 0.8571428571428568, 0.8571428571428568, 0.8571428571428568], [1.1428571428571428, 1.1428571428571428, 1.1428571428571428, 1.1428571428571428, 1.1428571428571428, 1.1428571428571428, 1.1428571428571428, 1.1428571428571428, 1.1428571428571428, 1.1428571428571428, 1.1428571428571428, 1.1428571428571428, 1.1428571428571428, 1.1428571428571428, 1.1428571428571428], [1.4285714285714284, 1.4285714285714284, 1.4285714285714284, 1.4285714285714284, 1.4285714285714284, 1.4285714285714284, 1.4285714285714284, 1.4285714285714284, 1.4285714285714284, 1.4285714285714284, 1.4285714285714284, 1.4285714285714284, 1.4285714285714284, 1.4285714285714284, 1.4285714285714284], [1.714285714285714, 1.714285714285714, 1.714285714285714, 1.714285714285714, 1.714285714285714, 1.714285714285714, 1.714285714285714, 1.714285714285714, 1.714285714285714, 1.714285714285714, 1.714285714285714, 1.714285714285714, 1.714285714285714, 1.714285714285714, 1.714285714285714], [2.0, 2.0, 2.0, 2.0, 2.0, 2.0, 2.0, 2.0, 2.0, 2.0, 2.0, 2.0, 2.0, 2.0, 2.0]], \"z\": [[0.6129762108680206, 0.5433280959791918, 0.28448098396107313, -0.0751362440853093, -0.39962442631080225, -0.5670622012626365, -0.5253771758172138, -0.3145800665906665, -0.04416913966007788, 0.1627339904837875, 0.22999918458253843, 0.16295553239270044, 0.039343004406276263, -0.0380457923803799, -0.0017943226355129419], [0.2313536087185321, 0.3228148735758802, 0.31998200640729313, 0.21655022278169989, 0.052346416296848206, -0.1066748080774223, -0.20123609456368308, -0.20663844471506604, -0.14137920041778024, -0.052994813481360134, 0.00994676425613425, 0.023564933065792104, -0.002217457615096702, -0.03570030639601888, -0.04880898471825848], [-0.06416700394365854, 0.015970130968659527, 0.1302248690476532, 0.2333241440120321, 0.28847886664411515, 0.2813313773632807, 0.2211951450940789, 0.13172341574650337, 0.03789201507369104, -0.04344777078722474, -0.10577820266796188, -0.149228611194712, -0.17567759411331632, -0.18713406272001032, -0.18853569420007205], [-0.10898958091484004, -0.20091474327097503, -0.17418645130434815, -0.035139574271516205, 0.16759291690734973, 0.36395575510633893, 0.48828796474057484, 0.5005049238866526, 0.39632817267011405, 0.20507447561156417, -0.022246454545834973, -0.22950317696028902, -0.37152637269317795, -0.42580035912940306, -0.3974961342369238], [0.11962750556062077, -0.17684079075930778, -0.3745237150934827, -0.3896513814831032, -0.2091048437341075, 0.10575141995098633, 0.4426901701286936, 0.6801400525158892, 0.7309073070812547, 0.5723042130211622, 0.2525070410040404, -0.1280875417339703, -0.4528852044787416, -0.6292274765775415, -0.6186556721160696], [0.4950271668006039, 0.11991142652171095, -0.2859185667178138, -0.5561274127092312, -0.5753654127048903, -0.32614267970641003, 0.10258307644820817, 0.549039492442072, 0.8413427700345126, 0.8643251700484407, 0.6039405828830156, 0.15191511466001675, -0.33057512340110584, -0.6751275072492051, -0.7693532028725708], [0.8173797029331636, 0.5704407956200802, 0.11152876194059688, -0.3724993113330406, -0.679969878785336, -0.6786594531508882, -0.3625295787644456, 0.14393658989741545, 0.6363335818794054, 0.914684464942663, 0.8657736686076721, 0.5087155527116626, -0.014888313458604141, -0.5009351740141871, -0.7665789851703895], [0.9265719483652415, 0.9609885932287014, 0.6418752009860145, 0.09711293423395717, -0.44907755231897817, -0.7708495016128373, -0.7370990079674749, -0.36709938593799113, 0.1789924270454854, 0.6701440577404347, 0.903606503421779, 0.7895179898110081, 0.3846965810991532, -0.1371985459025532, -0.5635837100807014], [0.785829817228735, 1.0981877310415447, 1.0293055167530631, 0.5977536768139292, -0.02644969207779299, -0.5932520746315553, -0.8787046113911874, -0.7790124557701696, -0.35145854763451345, 0.21458905561650723, 0.6820079915038023, 0.8669944339639946, 0.7123678963618099, 0.30287818993302595, -0.18054963476048452], [0.49070182060604617, 0.9182130297836245, 1.0647330738240852, 0.8461802435656345, 0.3295619078885016, -0.29261452999422105, -0.7823676977162248, -0.9555248970685997, -0.7568885158507935, -0.27931924051409984, 0.27977224749957785, 0.7034279862754337, 0.8433664512088106, 0.6737734809300164, 0.2903183444739592], [0.20392020699724983, 0.5248507006808214, 0.7381251778212444, 0.7138684723115774, 0.4190802488154476, -0.062271555510794774, -0.560305526440528, -0.8883175560313266, -0.9198700132264398, -0.6405224242731623, -0.15246714170135572, 0.3686551709357003, 0.7448060856875783, 0.8634480167120757, 0.714378590333992], [0.05936144123287758, 0.13194448646249987, 0.25013946166608136, 0.3098276055356185, 0.2273143280396896, -0.016476881844113486, -0.3601243617863474, -0.6824174306271953, -0.8513756879459256, -0.7803723581027645, -0.46680031080708356, 0.003572683034340801, 0.4882655585461314, 0.8418650362705563, 0.9690025511519995], [0.09273726272871352, -0.057634592236375015, -0.10797337953563556, -0.0915852435392353, -0.07709735664331868, -0.1305901056317253, -0.2776745886489048, -0.4841094072415171, -0.6652980160024862, -0.7215960428578665, -0.5840579490196978, -0.2499003510281826, 0.20884298517500283, 0.6681444942592184, 0.9969339022660326], [0.23606850256578688, 0.034177806335179806, -0.1327731518601893, -0.23046343873838382, -0.26599387164597343, -0.2792753048050294, -0.3162523436684355, -0.3978703486322147, -0.5015151992100971, -0.5659147263853745, -0.5188344358978134, -0.3150615569647511, 0.03386201105031153, 0.45369963422811965, 0.8300988548955446], [0.37220268679088964, 0.32102277818002667, 0.16695386791588093, -0.030269698587286314, -0.21031775053790114, -0.3375229786641951, -0.4083164399700522, -0.43945347725731115, -0.44639492043891127, -0.4262369193130605, -0.3563118281876624, -0.20996719796112098, 0.019535887142383704, 0.3016591960312892, 0.5697808615792086]]}, {\"scene\": \"scene3\", \"showscale\": false, \"type\": \"surface\", \"x\": [[-2.0, -1.7142857142857144, -1.4285714285714286, -1.1428571428571428, -0.8571428571428572, -0.5714285714285716, -0.2857142857142858, 0.0, 0.2857142857142856, 0.5714285714285712, 0.8571428571428568, 1.1428571428571428, 1.4285714285714284, 1.714285714285714, 2.0], [-2.0, -1.7142857142857144, -1.4285714285714286, -1.1428571428571428, -0.8571428571428572, -0.5714285714285716, -0.2857142857142858, 0.0, 0.2857142857142856, 0.5714285714285712, 0.8571428571428568, 1.1428571428571428, 1.4285714285714284, 1.714285714285714, 2.0], [-2.0, -1.7142857142857144, -1.4285714285714286, -1.1428571428571428, -0.8571428571428572, -0.5714285714285716, -0.2857142857142858, 0.0, 0.2857142857142856, 0.5714285714285712, 0.8571428571428568, 1.1428571428571428, 1.4285714285714284, 1.714285714285714, 2.0], [-2.0, -1.7142857142857144, -1.4285714285714286, -1.1428571428571428, -0.8571428571428572, -0.5714285714285716, -0.2857142857142858, 0.0, 0.2857142857142856, 0.5714285714285712, 0.8571428571428568, 1.1428571428571428, 1.4285714285714284, 1.714285714285714, 2.0], [-2.0, -1.7142857142857144, -1.4285714285714286, -1.1428571428571428, -0.8571428571428572, -0.5714285714285716, -0.2857142857142858, 0.0, 0.2857142857142856, 0.5714285714285712, 0.8571428571428568, 1.1428571428571428, 1.4285714285714284, 1.714285714285714, 2.0], [-2.0, -1.7142857142857144, -1.4285714285714286, -1.1428571428571428, -0.8571428571428572, -0.5714285714285716, -0.2857142857142858, 0.0, 0.2857142857142856, 0.5714285714285712, 0.8571428571428568, 1.1428571428571428, 1.4285714285714284, 1.714285714285714, 2.0], [-2.0, -1.7142857142857144, -1.4285714285714286, -1.1428571428571428, -0.8571428571428572, -0.5714285714285716, -0.2857142857142858, 0.0, 0.2857142857142856, 0.5714285714285712, 0.8571428571428568, 1.1428571428571428, 1.4285714285714284, 1.714285714285714, 2.0], [-2.0, -1.7142857142857144, -1.4285714285714286, -1.1428571428571428, -0.8571428571428572, -0.5714285714285716, -0.2857142857142858, 0.0, 0.2857142857142856, 0.5714285714285712, 0.8571428571428568, 1.1428571428571428, 1.4285714285714284, 1.714285714285714, 2.0], [-2.0, -1.7142857142857144, -1.4285714285714286, -1.1428571428571428, -0.8571428571428572, -0.5714285714285716, -0.2857142857142858, 0.0, 0.2857142857142856, 0.5714285714285712, 0.8571428571428568, 1.1428571428571428, 1.4285714285714284, 1.714285714285714, 2.0], [-2.0, -1.7142857142857144, -1.4285714285714286, -1.1428571428571428, -0.8571428571428572, -0.5714285714285716, -0.2857142857142858, 0.0, 0.2857142857142856, 0.5714285714285712, 0.8571428571428568, 1.1428571428571428, 1.4285714285714284, 1.714285714285714, 2.0], [-2.0, -1.7142857142857144, -1.4285714285714286, -1.1428571428571428, -0.8571428571428572, -0.5714285714285716, -0.2857142857142858, 0.0, 0.2857142857142856, 0.5714285714285712, 0.8571428571428568, 1.1428571428571428, 1.4285714285714284, 1.714285714285714, 2.0], [-2.0, -1.7142857142857144, -1.4285714285714286, -1.1428571428571428, -0.8571428571428572, -0.5714285714285716, -0.2857142857142858, 0.0, 0.2857142857142856, 0.5714285714285712, 0.8571428571428568, 1.1428571428571428, 1.4285714285714284, 1.714285714285714, 2.0], [-2.0, -1.7142857142857144, -1.4285714285714286, -1.1428571428571428, -0.8571428571428572, -0.5714285714285716, -0.2857142857142858, 0.0, 0.2857142857142856, 0.5714285714285712, 0.8571428571428568, 1.1428571428571428, 1.4285714285714284, 1.714285714285714, 2.0], [-2.0, -1.7142857142857144, -1.4285714285714286, -1.1428571428571428, -0.8571428571428572, -0.5714285714285716, -0.2857142857142858, 0.0, 0.2857142857142856, 0.5714285714285712, 0.8571428571428568, 1.1428571428571428, 1.4285714285714284, 1.714285714285714, 2.0], [-2.0, -1.7142857142857144, -1.4285714285714286, -1.1428571428571428, -0.8571428571428572, -0.5714285714285716, -0.2857142857142858, 0.0, 0.2857142857142856, 0.5714285714285712, 0.8571428571428568, 1.1428571428571428, 1.4285714285714284, 1.714285714285714, 2.0]], \"y\": [[-2.0, -2.0, -2.0, -2.0, -2.0, -2.0, -2.0, -2.0, -2.0, -2.0, -2.0, -2.0, -2.0, -2.0, -2.0], [-1.7142857142857144, -1.7142857142857144, -1.7142857142857144, -1.7142857142857144, -1.7142857142857144, -1.7142857142857144, -1.7142857142857144, -1.7142857142857144, -1.7142857142857144, -1.7142857142857144, -1.7142857142857144, -1.7142857142857144, -1.7142857142857144, -1.7142857142857144, -1.7142857142857144], [-1.4285714285714286, -1.4285714285714286, -1.4285714285714286, -1.4285714285714286, -1.4285714285714286, -1.4285714285714286, -1.4285714285714286, -1.4285714285714286, -1.4285714285714286, -1.4285714285714286, -1.4285714285714286, -1.4285714285714286, -1.4285714285714286, -1.4285714285714286, -1.4285714285714286], [-1.1428571428571428, -1.1428571428571428, -1.1428571428571428, -1.1428571428571428, -1.1428571428571428, -1.1428571428571428, -1.1428571428571428, -1.1428571428571428, -1.1428571428571428, -1.1428571428571428, -1.1428571428571428, -1.1428571428571428, -1.1428571428571428, -1.1428571428571428, -1.1428571428571428], [-0.8571428571428572, -0.8571428571428572, -0.8571428571428572, -0.8571428571428572, -0.8571428571428572, -0.8571428571428572, -0.8571428571428572, -0.8571428571428572, -0.8571428571428572, -0.8571428571428572, -0.8571428571428572, -0.8571428571428572, -0.8571428571428572, -0.8571428571428572, -0.8571428571428572], [-0.5714285714285716, -0.5714285714285716, -0.5714285714285716, -0.5714285714285716, -0.5714285714285716, -0.5714285714285716, -0.5714285714285716, -0.5714285714285716, -0.5714285714285716, -0.5714285714285716, -0.5714285714285716, -0.5714285714285716, -0.5714285714285716, -0.5714285714285716, -0.5714285714285716], [-0.2857142857142858, -0.2857142857142858, -0.2857142857142858, -0.2857142857142858, -0.2857142857142858, -0.2857142857142858, -0.2857142857142858, -0.2857142857142858, -0.2857142857142858, -0.2857142857142858, -0.2857142857142858, -0.2857142857142858, -0.2857142857142858, -0.2857142857142858, -0.2857142857142858], [0.0, 0.0, 0.0, 0.0, 0.0, 0.0, 0.0, 0.0, 0.0, 0.0, 0.0, 0.0, 0.0, 0.0, 0.0], [0.2857142857142856, 0.2857142857142856, 0.2857142857142856, 0.2857142857142856, 0.2857142857142856, 0.2857142857142856, 0.2857142857142856, 0.2857142857142856, 0.2857142857142856, 0.2857142857142856, 0.2857142857142856, 0.2857142857142856, 0.2857142857142856, 0.2857142857142856, 0.2857142857142856], [0.5714285714285712, 0.5714285714285712, 0.5714285714285712, 0.5714285714285712, 0.5714285714285712, 0.5714285714285712, 0.5714285714285712, 0.5714285714285712, 0.5714285714285712, 0.5714285714285712, 0.5714285714285712, 0.5714285714285712, 0.5714285714285712, 0.5714285714285712, 0.5714285714285712], [0.8571428571428568, 0.8571428571428568, 0.8571428571428568, 0.8571428571428568, 0.8571428571428568, 0.8571428571428568, 0.8571428571428568, 0.8571428571428568, 0.8571428571428568, 0.8571428571428568, 0.8571428571428568, 0.8571428571428568, 0.8571428571428568, 0.8571428571428568, 0.8571428571428568], [1.1428571428571428, 1.1428571428571428, 1.1428571428571428, 1.1428571428571428, 1.1428571428571428, 1.1428571428571428, 1.1428571428571428, 1.1428571428571428, 1.1428571428571428, 1.1428571428571428, 1.1428571428571428, 1.1428571428571428, 1.1428571428571428, 1.1428571428571428, 1.1428571428571428], [1.4285714285714284, 1.4285714285714284, 1.4285714285714284, 1.4285714285714284, 1.4285714285714284, 1.4285714285714284, 1.4285714285714284, 1.4285714285714284, 1.4285714285714284, 1.4285714285714284, 1.4285714285714284, 1.4285714285714284, 1.4285714285714284, 1.4285714285714284, 1.4285714285714284], [1.714285714285714, 1.714285714285714, 1.714285714285714, 1.714285714285714, 1.714285714285714, 1.714285714285714, 1.714285714285714, 1.714285714285714, 1.714285714285714, 1.714285714285714, 1.714285714285714, 1.714285714285714, 1.714285714285714, 1.714285714285714, 1.714285714285714], [2.0, 2.0, 2.0, 2.0, 2.0, 2.0, 2.0, 2.0, 2.0, 2.0, 2.0, 2.0, 2.0, 2.0, 2.0]], \"z\": [[0.01194095403926592, 0.009445312706835934, -0.043976811038488856, -0.12016004037369366, -0.18486596808655872, -0.21058533672075735, -0.18517347610298152, -0.11417899047281045, -0.017387722681646123, 0.07814616345460834, 0.14592864604410555, 0.16672815989724285, 0.13313634453788653, 0.05159807060842728, -0.058357857584538875], [0.0616906763984961, 0.044028861837596085, -0.04014599984702588, -0.1564902077208089, -0.2584524084429494, -0.30571291808462386, -0.2795606266358435, -0.18930984141140253, -0.06769367768524556, 0.042385566309176635, 0.1041557686620708, 0.09995564023102642, 0.03630395137285922, -0.06014533830697955, -0.1534580043060479], [-0.00022164191935402505, -0.02783943534483898, -0.11600710404209882, -0.23600818309637403, -0.3452938939452649, -0.4042926815688766, -0.3923362733896172, -0.3159405853536243, -0.20589022300613433, -0.10436957839125108, -0.047643707961674595, -0.05163520696467827, -0.1063769864578796, -0.18139517449099804, -0.23936971475336877], [-0.18260907463030004, -0.2087418185090456, -0.26948802889826257, -0.3538340511494784, -0.4388345258215022, -0.49792003952010483, -0.5118733817878693, -0.4774529262564566, -0.4093992621965961, -0.33447352314947415, -0.2799167382911457, -0.2614881019175941, -0.27664101469622365, -0.3061455955084075, -0.3235674953610532], [-0.44657292275553745, -0.46262165006599, -0.47370195219192857, -0.4930978061543, -0.5271409830949408, -0.5709247750025335, -0.6105944351266597, -0.6307064488269056, -0.6224676407495852, -0.5883080589845882, -0.5403469124378495, -0.4937081100127917, -0.4584842673786601, -0.43489563670405207, -0.41442903357822436], [-0.7068963054117842, -0.7171874959970919, -0.677469173492856, -0.622188991758474, -0.5876763718106323, -0.595255054522359, -0.6430056815627052, -0.7090584625695648, -0.7636264657887701, -0.7831665526221115, -0.7597874491975398, -0.7021436120466241, -0.6287079229739521, -0.5580103878460362, -0.501340896412739], [-0.8555231742230333, -0.8803920451270465, -0.8125054691957947, -0.6948255137539723, -0.5859028313253948, -0.5340788250378293, -0.5584231406437327, -0.6438558204937719, -0.7510186527917209, -0.8349924877246705, -0.8638156099375334, -0.8290433683286538, -0.7452133720839249, -0.640477517442944, -0.5441702025070526], [-0.8031862320768445, -0.8708986153001673, -0.8116234372816001, -0.6600557184140632, -0.4844406438706283, -0.3573322859354034, -0.3266471309870125, -0.39873314562073664, -0.5393000646360601, -0.6902078574427356, -0.7938302450970349, -0.8145459579531973, -0.7493518446354868, -0.6250420612598303, -0.4851128820228272], [-0.5227138358530259, -0.6534092605398283, -0.6356574998173123, -0.4832164044084767, -0.26216991851662347, -0.06290183548080351, 0.036653928235964445, 0.001178863973123917, -0.15034276677651978, -0.35508605401747473, -0.533393844453401, -0.6204013334478294, -0.5894333666463735, -0.45877970359859677, -0.2809071868965528], [-0.07168371132879174, -0.2624947587758639, -0.2979466962082098, -0.1691515282170668, 0.06638338839648002, 0.3097792074442116, 0.46226007527442836, 0.4652165073147462, 0.3221889839774581, 0.09443862678810963, -0.1266792367841073, -0.25775548576967044, -0.255475719452013, -0.13024611701359473, 0.06257451979841216], [0.4214084252957667, 0.20051498519023386, 0.12880841354576994, 0.2269395333455236, 0.444835229913432, 0.6854100439296515, 0.8472260835876188, 0.8669315388867771, 0.7432800891096871, 0.5335351324650601, 0.32564960535109144, 0.19990960555340326, 0.19723137514668962, 0.3068966612855752, 0.47681097804725997], [0.8059408909365119, 0.6019091874993172, 0.5327470966873525, 0.6121108507047978, 0.7899905043142417, 0.9791870687898221, 1.0961332644092086, 1.0967441720168654, 0.9916080307882533, 0.8355015527578692, 0.698453547980707, 0.633460184617066, 0.6560145904376975, 0.7434198147779962, 0.8514978229484595], [0.972063931817678, 0.8290055909841333, 0.8055110039389335, 0.8903374471486384, 1.0239788299873096, 1.1321480605324936, 1.1632377863507626, 1.1110450345215979, 1.0126596529764873, 0.9246240250536861, 0.8913527141016202, 0.9228891587827434, 0.9931143685706143, 1.0579866404662996, 1.0825640456766237], [0.8970119122964952, 0.8378206636070158, 0.8883495854094408, 1.0036003599472354, 1.1076878659830967, 1.1364428278365677, 1.0718479212435583, 0.9503586186101731, 0.8413728684378792, 0.8080282793533349, 0.8717680320454051, 0.9999233388130784, 1.123133086060416, 1.1733478713745473, 1.1219513883251948], [0.6507714900930831, 0.6702729448199023, 0.7974589230801856, 0.9572504060380912, 1.0567122130190763, 1.0354812461513119, 0.8986997430198035, 0.7150429099359543, 0.5807648630132314, 0.5685644982952119, 0.688187402711546, 0.8797643829065785, 1.0439346624702721, 1.093548118359914, 1.0001800703656825]]}, {\"scene\": \"scene4\", \"showscale\": false, \"type\": \"surface\", \"x\": [[-2.0, -1.7142857142857144, -1.4285714285714286, -1.1428571428571428, -0.8571428571428572, -0.5714285714285716, -0.2857142857142858, 0.0, 0.2857142857142856, 0.5714285714285712, 0.8571428571428568, 1.1428571428571428, 1.4285714285714284, 1.714285714285714, 2.0], [-2.0, -1.7142857142857144, -1.4285714285714286, -1.1428571428571428, -0.8571428571428572, -0.5714285714285716, -0.2857142857142858, 0.0, 0.2857142857142856, 0.5714285714285712, 0.8571428571428568, 1.1428571428571428, 1.4285714285714284, 1.714285714285714, 2.0], [-2.0, -1.7142857142857144, -1.4285714285714286, -1.1428571428571428, -0.8571428571428572, -0.5714285714285716, -0.2857142857142858, 0.0, 0.2857142857142856, 0.5714285714285712, 0.8571428571428568, 1.1428571428571428, 1.4285714285714284, 1.714285714285714, 2.0], [-2.0, -1.7142857142857144, -1.4285714285714286, -1.1428571428571428, -0.8571428571428572, -0.5714285714285716, -0.2857142857142858, 0.0, 0.2857142857142856, 0.5714285714285712, 0.8571428571428568, 1.1428571428571428, 1.4285714285714284, 1.714285714285714, 2.0], [-2.0, -1.7142857142857144, -1.4285714285714286, -1.1428571428571428, -0.8571428571428572, -0.5714285714285716, -0.2857142857142858, 0.0, 0.2857142857142856, 0.5714285714285712, 0.8571428571428568, 1.1428571428571428, 1.4285714285714284, 1.714285714285714, 2.0], [-2.0, -1.7142857142857144, -1.4285714285714286, -1.1428571428571428, -0.8571428571428572, -0.5714285714285716, -0.2857142857142858, 0.0, 0.2857142857142856, 0.5714285714285712, 0.8571428571428568, 1.1428571428571428, 1.4285714285714284, 1.714285714285714, 2.0], [-2.0, -1.7142857142857144, -1.4285714285714286, -1.1428571428571428, -0.8571428571428572, -0.5714285714285716, -0.2857142857142858, 0.0, 0.2857142857142856, 0.5714285714285712, 0.8571428571428568, 1.1428571428571428, 1.4285714285714284, 1.714285714285714, 2.0], [-2.0, -1.7142857142857144, -1.4285714285714286, -1.1428571428571428, -0.8571428571428572, -0.5714285714285716, -0.2857142857142858, 0.0, 0.2857142857142856, 0.5714285714285712, 0.8571428571428568, 1.1428571428571428, 1.4285714285714284, 1.714285714285714, 2.0], [-2.0, -1.7142857142857144, -1.4285714285714286, -1.1428571428571428, -0.8571428571428572, -0.5714285714285716, -0.2857142857142858, 0.0, 0.2857142857142856, 0.5714285714285712, 0.8571428571428568, 1.1428571428571428, 1.4285714285714284, 1.714285714285714, 2.0], [-2.0, -1.7142857142857144, -1.4285714285714286, -1.1428571428571428, -0.8571428571428572, -0.5714285714285716, -0.2857142857142858, 0.0, 0.2857142857142856, 0.5714285714285712, 0.8571428571428568, 1.1428571428571428, 1.4285714285714284, 1.714285714285714, 2.0], [-2.0, -1.7142857142857144, -1.4285714285714286, -1.1428571428571428, -0.8571428571428572, -0.5714285714285716, -0.2857142857142858, 0.0, 0.2857142857142856, 0.5714285714285712, 0.8571428571428568, 1.1428571428571428, 1.4285714285714284, 1.714285714285714, 2.0], [-2.0, -1.7142857142857144, -1.4285714285714286, -1.1428571428571428, -0.8571428571428572, -0.5714285714285716, -0.2857142857142858, 0.0, 0.2857142857142856, 0.5714285714285712, 0.8571428571428568, 1.1428571428571428, 1.4285714285714284, 1.714285714285714, 2.0], [-2.0, -1.7142857142857144, -1.4285714285714286, -1.1428571428571428, -0.8571428571428572, -0.5714285714285716, -0.2857142857142858, 0.0, 0.2857142857142856, 0.5714285714285712, 0.8571428571428568, 1.1428571428571428, 1.4285714285714284, 1.714285714285714, 2.0], [-2.0, -1.7142857142857144, -1.4285714285714286, -1.1428571428571428, -0.8571428571428572, -0.5714285714285716, -0.2857142857142858, 0.0, 0.2857142857142856, 0.5714285714285712, 0.8571428571428568, 1.1428571428571428, 1.4285714285714284, 1.714285714285714, 2.0], [-2.0, -1.7142857142857144, -1.4285714285714286, -1.1428571428571428, -0.8571428571428572, -0.5714285714285716, -0.2857142857142858, 0.0, 0.2857142857142856, 0.5714285714285712, 0.8571428571428568, 1.1428571428571428, 1.4285714285714284, 1.714285714285714, 2.0]], \"y\": [[-2.0, -2.0, -2.0, -2.0, -2.0, -2.0, -2.0, -2.0, -2.0, -2.0, -2.0, -2.0, -2.0, -2.0, -2.0], [-1.7142857142857144, -1.7142857142857144, -1.7142857142857144, -1.7142857142857144, -1.7142857142857144, -1.7142857142857144, -1.7142857142857144, -1.7142857142857144, -1.7142857142857144, -1.7142857142857144, -1.7142857142857144, -1.7142857142857144, -1.7142857142857144, -1.7142857142857144, -1.7142857142857144], [-1.4285714285714286, -1.4285714285714286, -1.4285714285714286, -1.4285714285714286, -1.4285714285714286, -1.4285714285714286, -1.4285714285714286, -1.4285714285714286, -1.4285714285714286, -1.4285714285714286, -1.4285714285714286, -1.4285714285714286, -1.4285714285714286, -1.4285714285714286, -1.4285714285714286], [-1.1428571428571428, -1.1428571428571428, -1.1428571428571428, -1.1428571428571428, -1.1428571428571428, -1.1428571428571428, -1.1428571428571428, -1.1428571428571428, -1.1428571428571428, -1.1428571428571428, -1.1428571428571428, -1.1428571428571428, -1.1428571428571428, -1.1428571428571428, -1.1428571428571428], [-0.8571428571428572, -0.8571428571428572, -0.8571428571428572, -0.8571428571428572, -0.8571428571428572, -0.8571428571428572, -0.8571428571428572, -0.8571428571428572, -0.8571428571428572, -0.8571428571428572, -0.8571428571428572, -0.8571428571428572, -0.8571428571428572, -0.8571428571428572, -0.8571428571428572], [-0.5714285714285716, -0.5714285714285716, -0.5714285714285716, -0.5714285714285716, -0.5714285714285716, -0.5714285714285716, -0.5714285714285716, -0.5714285714285716, -0.5714285714285716, -0.5714285714285716, -0.5714285714285716, -0.5714285714285716, -0.5714285714285716, -0.5714285714285716, -0.5714285714285716], [-0.2857142857142858, -0.2857142857142858, -0.2857142857142858, -0.2857142857142858, -0.2857142857142858, -0.2857142857142858, -0.2857142857142858, -0.2857142857142858, -0.2857142857142858, -0.2857142857142858, -0.2857142857142858, -0.2857142857142858, -0.2857142857142858, -0.2857142857142858, -0.2857142857142858], [0.0, 0.0, 0.0, 0.0, 0.0, 0.0, 0.0, 0.0, 0.0, 0.0, 0.0, 0.0, 0.0, 0.0, 0.0], [0.2857142857142856, 0.2857142857142856, 0.2857142857142856, 0.2857142857142856, 0.2857142857142856, 0.2857142857142856, 0.2857142857142856, 0.2857142857142856, 0.2857142857142856, 0.2857142857142856, 0.2857142857142856, 0.2857142857142856, 0.2857142857142856, 0.2857142857142856, 0.2857142857142856], [0.5714285714285712, 0.5714285714285712, 0.5714285714285712, 0.5714285714285712, 0.5714285714285712, 0.5714285714285712, 0.5714285714285712, 0.5714285714285712, 0.5714285714285712, 0.5714285714285712, 0.5714285714285712, 0.5714285714285712, 0.5714285714285712, 0.5714285714285712, 0.5714285714285712], [0.8571428571428568, 0.8571428571428568, 0.8571428571428568, 0.8571428571428568, 0.8571428571428568, 0.8571428571428568, 0.8571428571428568, 0.8571428571428568, 0.8571428571428568, 0.8571428571428568, 0.8571428571428568, 0.8571428571428568, 0.8571428571428568, 0.8571428571428568, 0.8571428571428568], [1.1428571428571428, 1.1428571428571428, 1.1428571428571428, 1.1428571428571428, 1.1428571428571428, 1.1428571428571428, 1.1428571428571428, 1.1428571428571428, 1.1428571428571428, 1.1428571428571428, 1.1428571428571428, 1.1428571428571428, 1.1428571428571428, 1.1428571428571428, 1.1428571428571428], [1.4285714285714284, 1.4285714285714284, 1.4285714285714284, 1.4285714285714284, 1.4285714285714284, 1.4285714285714284, 1.4285714285714284, 1.4285714285714284, 1.4285714285714284, 1.4285714285714284, 1.4285714285714284, 1.4285714285714284, 1.4285714285714284, 1.4285714285714284, 1.4285714285714284], [1.714285714285714, 1.714285714285714, 1.714285714285714, 1.714285714285714, 1.714285714285714, 1.714285714285714, 1.714285714285714, 1.714285714285714, 1.714285714285714, 1.714285714285714, 1.714285714285714, 1.714285714285714, 1.714285714285714, 1.714285714285714, 1.714285714285714], [2.0, 2.0, 2.0, 2.0, 2.0, 2.0, 2.0, 2.0, 2.0, 2.0, 2.0, 2.0, 2.0, 2.0, 2.0]], \"z\": [[0.0057859715168541714, -0.33325948357370067, -0.5212037371529841, -0.5148830189553858, -0.3443109430073847, -0.10272902657718239, 0.09016157723383073, 0.13827376617445689, 0.011926829579551365, -0.23569142507318705, -0.4872449392717686, -0.6091285746398238, -0.5093516788145399, -0.18090312426489497, 0.28873594356490506], [0.4291018650268767, -0.01687317703275429, -0.37465894184965304, -0.5709758821948062, -0.5927611784808795, -0.49033321180614253, -0.3551268965339853, -0.27952157731241867, -0.3148305057795848, -0.4456812341229469, -0.593170934347319, -0.6473121973205432, -0.5163357039277395, -0.17217964598955848, 0.32803480629640236], [0.8235020874863752, 0.31029930510408865, -0.16374178107979342, -0.5079358627584408, -0.68141170719284, -0.7029345725492652, -0.63791755176419, -0.5668608876961905, -0.5476644356850565, -0.5877461740893908, -0.6386611564861947, -0.6168450854384019, -0.44283144062488133, -0.08269496679984245, 0.4264650376661882], [0.9829558055753115, 0.48586429519616514, 0.014442330863326469, -0.3509953881486054, -0.5737403644438439, -0.6658651000863186, -0.675096258866265, -0.6585928979824216, -0.6543196149223317, -0.6620602411867984, -0.6424994387807325, -0.5354489003055284, -0.2901414269887852, 0.1050046666758078, 0.6061708553817975], [0.8113346268303951, 0.411361098030145, 0.062215684948596695, -0.1934509679039107, -0.3540357160051839, -0.44961626262244014, -0.5203171727472857, -0.5920448351829924, -0.6602936847874636, -0.6892715536478815, -0.627032059736241, -0.4303971633697582, -0.08912860962910132, 0.36110758117423525, 0.8429923956990337], [0.3830652195844173, 0.11588372386055593, -0.05339338927346948, -0.13130899003372454, -0.16449580524831436, -0.2127408938998407, -0.3159605469273755, -0.4699925152203795, -0.6227014351581532, -0.6931876769857159, -0.6066317160936385, -0.33005682302929107, 0.10663642892473157, 0.6140925635517812, 1.0708758370364517], [-0.09174175772619643, -0.2525514484445703, -0.2732680227867374, -0.19890320611717474, -0.11318881450384959, -0.09948488153840826, -0.20009961310231544, -0.3921250725602801, -0.5916895094889326, -0.6865849868460775, -0.5846248303186053, -0.2574679240928375, 0.23934991999495328, 0.779942702813476, 1.2108912806933945], [-0.3817725253134386, -0.5077756949318377, -0.47806679907137206, -0.3488391788887815, -0.21264192193777023, -0.15786588067386065, -0.22808263462197845, -0.39891746158420593, -0.5837714265128418, -0.6678663326010452, -0.5576848456663829, -0.2254078240255639, 0.2710082475219457, 0.8019802563377182, 1.2104305344159396], [-0.3640625160421007, -0.5325668462623234, -0.5611211029709262, -0.4876414815259893, -0.38419746628044604, -0.32520784485372206, -0.35366506039609424, -0.4596506508931375, -0.5811556930491488, -0.6283194413020354, -0.5222078264017552, -0.23246922814860985, 0.2022294339908745, 0.680656874563821, 1.0712209252676375], [-0.09259157310014621, -0.34714751461373916, -0.4953450997855595, -0.5401183886874491, -0.518374751399422, -0.48214465694810815, -0.4738637898913576, -0.5059166906278192, -0.5532759380812122, -0.5629924337896346, -0.4773584126605392, -0.2616180188976961, 0.07529000988808102, 0.47614224931193866, 0.8499302265685319], [0.2358680622838761, -0.09536691752905341, -0.3491918690311373, -0.49695067411250554, -0.5466468938001664, -0.5337326541927622, -0.5022017042521993, -0.4837139938508292, -0.4832171439644608, -0.47691874917034127, -0.42349663265468557, -0.2840686347234028, -0.04281986171176558, 0.28023741407271346, 0.6299343274717095], [0.3998464250909418, 0.045239405739467387, -0.2393677733065956, -0.4134041182234659, -0.4771265097495081, -0.463927798849203, -0.4213141399271257, -0.3886846886968325, -0.3807687903643453, -0.3828633145350452, -0.35910349732268393, -0.26990517529575964, -0.09138201619287181, 0.17089536696957397, 0.47901295004781164], [0.2857119490494625, -0.02467049660893772, -0.25029121978829916, -0.3623555840165936, -0.37519873375203944, -0.3325991059466974, -0.2844041667876345, -0.2638740801057472, -0.2749007077247367, -0.2933563338284867, -0.2806403158889795, -0.2027240980436441, -0.04647416399666335, 0.1729918496548569, 0.4159490948939568], [-0.044492440879039835, -0.26205354578302364, -0.37389818882531556, -0.37712945116716606, -0.30890515382044914, -0.22468251392862137, -0.1711481091879971, -0.16604920678063997, -0.19322291052046545, -0.2137680033344531, -0.187049686791408, -0.09134272381710723, 0.06508373055316855, 0.24659871979812112, 0.40428485207937387], [-0.3909649318649221, -0.5065531869828815, -0.5116902822413361, -0.4264137708314012, -0.3010439984304579, -0.1911914482048524, -0.13253982483162263, -0.12675252897049266, -0.14428729300757903, -0.14190892378205983, -0.08604511012547492, 0.02914414827831395, 0.17715522691035585, 0.3095925648468597, 0.3763482601189311]]}, {\"scene\": \"scene5\", \"showscale\": false, \"type\": \"surface\", \"x\": [[-2.0, -1.7142857142857144, -1.4285714285714286, -1.1428571428571428, -0.8571428571428572, -0.5714285714285716, -0.2857142857142858, 0.0, 0.2857142857142856, 0.5714285714285712, 0.8571428571428568, 1.1428571428571428, 1.4285714285714284, 1.714285714285714, 2.0], [-2.0, -1.7142857142857144, -1.4285714285714286, -1.1428571428571428, -0.8571428571428572, -0.5714285714285716, -0.2857142857142858, 0.0, 0.2857142857142856, 0.5714285714285712, 0.8571428571428568, 1.1428571428571428, 1.4285714285714284, 1.714285714285714, 2.0], [-2.0, -1.7142857142857144, -1.4285714285714286, -1.1428571428571428, -0.8571428571428572, -0.5714285714285716, -0.2857142857142858, 0.0, 0.2857142857142856, 0.5714285714285712, 0.8571428571428568, 1.1428571428571428, 1.4285714285714284, 1.714285714285714, 2.0], [-2.0, -1.7142857142857144, -1.4285714285714286, -1.1428571428571428, -0.8571428571428572, -0.5714285714285716, -0.2857142857142858, 0.0, 0.2857142857142856, 0.5714285714285712, 0.8571428571428568, 1.1428571428571428, 1.4285714285714284, 1.714285714285714, 2.0], [-2.0, -1.7142857142857144, -1.4285714285714286, -1.1428571428571428, -0.8571428571428572, -0.5714285714285716, -0.2857142857142858, 0.0, 0.2857142857142856, 0.5714285714285712, 0.8571428571428568, 1.1428571428571428, 1.4285714285714284, 1.714285714285714, 2.0], [-2.0, -1.7142857142857144, -1.4285714285714286, -1.1428571428571428, -0.8571428571428572, -0.5714285714285716, -0.2857142857142858, 0.0, 0.2857142857142856, 0.5714285714285712, 0.8571428571428568, 1.1428571428571428, 1.4285714285714284, 1.714285714285714, 2.0], [-2.0, -1.7142857142857144, -1.4285714285714286, -1.1428571428571428, -0.8571428571428572, -0.5714285714285716, -0.2857142857142858, 0.0, 0.2857142857142856, 0.5714285714285712, 0.8571428571428568, 1.1428571428571428, 1.4285714285714284, 1.714285714285714, 2.0], [-2.0, -1.7142857142857144, -1.4285714285714286, -1.1428571428571428, -0.8571428571428572, -0.5714285714285716, -0.2857142857142858, 0.0, 0.2857142857142856, 0.5714285714285712, 0.8571428571428568, 1.1428571428571428, 1.4285714285714284, 1.714285714285714, 2.0], [-2.0, -1.7142857142857144, -1.4285714285714286, -1.1428571428571428, -0.8571428571428572, -0.5714285714285716, -0.2857142857142858, 0.0, 0.2857142857142856, 0.5714285714285712, 0.8571428571428568, 1.1428571428571428, 1.4285714285714284, 1.714285714285714, 2.0], [-2.0, -1.7142857142857144, -1.4285714285714286, -1.1428571428571428, -0.8571428571428572, -0.5714285714285716, -0.2857142857142858, 0.0, 0.2857142857142856, 0.5714285714285712, 0.8571428571428568, 1.1428571428571428, 1.4285714285714284, 1.714285714285714, 2.0], [-2.0, -1.7142857142857144, -1.4285714285714286, -1.1428571428571428, -0.8571428571428572, -0.5714285714285716, -0.2857142857142858, 0.0, 0.2857142857142856, 0.5714285714285712, 0.8571428571428568, 1.1428571428571428, 1.4285714285714284, 1.714285714285714, 2.0], [-2.0, -1.7142857142857144, -1.4285714285714286, -1.1428571428571428, -0.8571428571428572, -0.5714285714285716, -0.2857142857142858, 0.0, 0.2857142857142856, 0.5714285714285712, 0.8571428571428568, 1.1428571428571428, 1.4285714285714284, 1.714285714285714, 2.0], [-2.0, -1.7142857142857144, -1.4285714285714286, -1.1428571428571428, -0.8571428571428572, -0.5714285714285716, -0.2857142857142858, 0.0, 0.2857142857142856, 0.5714285714285712, 0.8571428571428568, 1.1428571428571428, 1.4285714285714284, 1.714285714285714, 2.0], [-2.0, -1.7142857142857144, -1.4285714285714286, -1.1428571428571428, -0.8571428571428572, -0.5714285714285716, -0.2857142857142858, 0.0, 0.2857142857142856, 0.5714285714285712, 0.8571428571428568, 1.1428571428571428, 1.4285714285714284, 1.714285714285714, 2.0], [-2.0, -1.7142857142857144, -1.4285714285714286, -1.1428571428571428, -0.8571428571428572, -0.5714285714285716, -0.2857142857142858, 0.0, 0.2857142857142856, 0.5714285714285712, 0.8571428571428568, 1.1428571428571428, 1.4285714285714284, 1.714285714285714, 2.0]], \"y\": [[-2.0, -2.0, -2.0, -2.0, -2.0, -2.0, -2.0, -2.0, -2.0, -2.0, -2.0, -2.0, -2.0, -2.0, -2.0], [-1.7142857142857144, -1.7142857142857144, -1.7142857142857144, -1.7142857142857144, -1.7142857142857144, -1.7142857142857144, -1.7142857142857144, -1.7142857142857144, -1.7142857142857144, -1.7142857142857144, -1.7142857142857144, -1.7142857142857144, -1.7142857142857144, -1.7142857142857144, -1.7142857142857144], [-1.4285714285714286, -1.4285714285714286, -1.4285714285714286, -1.4285714285714286, -1.4285714285714286, -1.4285714285714286, -1.4285714285714286, -1.4285714285714286, -1.4285714285714286, -1.4285714285714286, -1.4285714285714286, -1.4285714285714286, -1.4285714285714286, -1.4285714285714286, -1.4285714285714286], [-1.1428571428571428, -1.1428571428571428, -1.1428571428571428, -1.1428571428571428, -1.1428571428571428, -1.1428571428571428, -1.1428571428571428, -1.1428571428571428, -1.1428571428571428, -1.1428571428571428, -1.1428571428571428, -1.1428571428571428, -1.1428571428571428, -1.1428571428571428, -1.1428571428571428], [-0.8571428571428572, -0.8571428571428572, -0.8571428571428572, -0.8571428571428572, -0.8571428571428572, -0.8571428571428572, -0.8571428571428572, -0.8571428571428572, -0.8571428571428572, -0.8571428571428572, -0.8571428571428572, -0.8571428571428572, -0.8571428571428572, -0.8571428571428572, -0.8571428571428572], [-0.5714285714285716, -0.5714285714285716, -0.5714285714285716, -0.5714285714285716, -0.5714285714285716, -0.5714285714285716, -0.5714285714285716, -0.5714285714285716, -0.5714285714285716, -0.5714285714285716, -0.5714285714285716, -0.5714285714285716, -0.5714285714285716, -0.5714285714285716, -0.5714285714285716], [-0.2857142857142858, -0.2857142857142858, -0.2857142857142858, -0.2857142857142858, -0.2857142857142858, -0.2857142857142858, -0.2857142857142858, -0.2857142857142858, -0.2857142857142858, -0.2857142857142858, -0.2857142857142858, -0.2857142857142858, -0.2857142857142858, -0.2857142857142858, -0.2857142857142858], [0.0, 0.0, 0.0, 0.0, 0.0, 0.0, 0.0, 0.0, 0.0, 0.0, 0.0, 0.0, 0.0, 0.0, 0.0], [0.2857142857142856, 0.2857142857142856, 0.2857142857142856, 0.2857142857142856, 0.2857142857142856, 0.2857142857142856, 0.2857142857142856, 0.2857142857142856, 0.2857142857142856, 0.2857142857142856, 0.2857142857142856, 0.2857142857142856, 0.2857142857142856, 0.2857142857142856, 0.2857142857142856], [0.5714285714285712, 0.5714285714285712, 0.5714285714285712, 0.5714285714285712, 0.5714285714285712, 0.5714285714285712, 0.5714285714285712, 0.5714285714285712, 0.5714285714285712, 0.5714285714285712, 0.5714285714285712, 0.5714285714285712, 0.5714285714285712, 0.5714285714285712, 0.5714285714285712], [0.8571428571428568, 0.8571428571428568, 0.8571428571428568, 0.8571428571428568, 0.8571428571428568, 0.8571428571428568, 0.8571428571428568, 0.8571428571428568, 0.8571428571428568, 0.8571428571428568, 0.8571428571428568, 0.8571428571428568, 0.8571428571428568, 0.8571428571428568, 0.8571428571428568], [1.1428571428571428, 1.1428571428571428, 1.1428571428571428, 1.1428571428571428, 1.1428571428571428, 1.1428571428571428, 1.1428571428571428, 1.1428571428571428, 1.1428571428571428, 1.1428571428571428, 1.1428571428571428, 1.1428571428571428, 1.1428571428571428, 1.1428571428571428, 1.1428571428571428], [1.4285714285714284, 1.4285714285714284, 1.4285714285714284, 1.4285714285714284, 1.4285714285714284, 1.4285714285714284, 1.4285714285714284, 1.4285714285714284, 1.4285714285714284, 1.4285714285714284, 1.4285714285714284, 1.4285714285714284, 1.4285714285714284, 1.4285714285714284, 1.4285714285714284], [1.714285714285714, 1.714285714285714, 1.714285714285714, 1.714285714285714, 1.714285714285714, 1.714285714285714, 1.714285714285714, 1.714285714285714, 1.714285714285714, 1.714285714285714, 1.714285714285714, 1.714285714285714, 1.714285714285714, 1.714285714285714, 1.714285714285714], [2.0, 2.0, 2.0, 2.0, 2.0, 2.0, 2.0, 2.0, 2.0, 2.0, 2.0, 2.0, 2.0, 2.0, 2.0]], \"z\": [[-0.025418181139133647, 0.08229692079792036, 0.1140523090163391, 0.0789660989688138, -0.002109483070709392, -0.11194202198168224, -0.24430508245799204, -0.3989174615842058, -0.567526399830827, -0.7209250957883471, -0.8073492813372263, -0.7670881277629855, -0.5590076014812182, -0.1868681785179229, 0.28873594356490506], [-0.08952737960606477, 0.0346572117068077, 0.09399643415367176, 0.0859565501560196, 0.02090024836133628, -0.08838187212813191, -0.23183981202535076, -0.39891746158420577, -0.5698758207613785, -0.7090598970200237, -0.7674363079161304, -0.6969609583289552, -0.4722497513082097, -0.10950160566094141, 0.32803480629640236], [-0.18586046992965982, -0.07585537848711417, -0.008607152082535874, 0.0028043660167754655, -0.04114964926035496, -0.13199830825171113, -0.25705114241396365, -0.398917461584206, -0.5322423378399737, -0.6221388907500598, -0.628808842171269, -0.5195642017314444, -0.28456908933730096, 0.051084532644707664, 0.4264650376661882], [-0.2879980290819656, -0.2230582054714077, -0.1639794438008934, -0.1335655202202739, -0.14504622053148125, -0.20082807957911797, -0.29216900058748935, -0.39891746158420593, -0.4902675900309802, -0.5286864599016018, -0.47856770615471284, -0.31869160646571915, -0.05446422463015646, 0.2759093101417529, 0.6061708553817975], [-0.36980065163565734, -0.36751762204675265, -0.3209613471426436, -0.2633906841277965, -0.2290458173674926, -0.24172832059990998, -0.30526163032401266, -0.39891746158420593, -0.48042136180994843, -0.49737965191409655, -0.4050330770726368, -0.1851076890148714, 0.14129476847926245, 0.5130308169498375, 0.8429923956990337], [-0.41357151834107353, -0.4728160491042427, -0.4340473456618581, -0.3415986420199728, -0.2558995723721568, -0.2294838550192715, -0.2842379893032345, -0.3989174615842059, -0.5131135014227853, -0.5480453894306927, -0.43775506501743816, -0.15924464680948364, 0.25078357592556316, 0.7007640249188499, 1.0708758370364517], [-0.41457137174037284, -0.5189853678189611, -0.483470650147209, -0.3612144845923939, -0.23553924189693376, -0.18468586200313664, -0.24665054583702697, -0.3989174615842059, -0.5629758920334745, -0.6338001450251303, -0.5238191991994438, -0.2039007702715257, 0.2761381816316587, 0.7975227497017288, 1.2108912806933945], [-0.3817725253134388, -0.5077756949318378, -0.47806679907137195, -0.3488391788887813, -0.21264192193777065, -0.15786588067386087, -0.22808263462197814, -0.39891746158420593, -0.5837714265128413, -0.6678663326010449, -0.5576848456663831, -0.2254078240255638, 0.27100824752194574, 0.8019802563377172, 1.2104305344159396], [-0.3351033083687291, -0.4588421548729732, -0.44236708314461043, -0.3381695498066968, -0.22912624156044847, -0.19092820852159767, -0.256617337491054, -0.398917461584206, -0.5390535739643341, -0.5795296711614233, -0.44769803062261415, -0.13166670748031373, 0.307305355018517, 0.7522033398527843, 1.0712209252676375], [-0.2991612992639408, -0.39980272388891985, -0.3987491699398585, -0.3422009319815646, -0.28918254893765233, -0.28307763973844435, -0.33079657052354366, -0.3989174615842058, -0.4287422967379744, -0.36385164250202046, -0.178141480317638, 0.1080127604163911, 0.43074806054203363, 0.703928879091273, 0.8499302265685319], [-0.2938850186823993, -0.354844435806798, -0.35673845806130655, -0.34453159898083413, -0.3526976745000551, -0.3860633958143003, -0.41677893062356597, -0.3989174615842059, -0.293595081108553, -0.09232406275663341, 0.17293946173291053, 0.438301846272783, 0.6314657736594257, 0.6997306558869563, 0.6299343274717095], [-0.3245571227217402, -0.3360570937738492, -0.31472956408787145, -0.315649367634563, -0.363034057732644, -0.4339369841985565, -0.46794471127714277, -0.3989174615842058, -0.19331171793228283, 0.12441401195022482, 0.47316350243027566, 0.7444447745039748, 0.8469261842536437, 0.7458825121971899, 0.47901295004781164], [-0.37566517293917, -0.33994789709386747, -0.2698791171891319, -0.24159235297307013, -0.2906102616953936, -0.3886351690298809, -0.4550553791744583, -0.3989174615842059, -0.17105037348587243, 0.20029160757232967, 0.6099246891267913, 0.91483464051812, 0.9952362394562397, 0.8093970379519554, 0.4159490948939568], [-0.4134055896615355, -0.34972690634182985, -0.22652144883466926, -0.14293380788577648, -0.1614821649758238, -0.2706942697084807, -0.3873209054859579, -0.398917461584206, -0.2264409997131289, 0.12497950710924899, 0.5545394950427692, 0.902353023831402, 1.0191119127277712, 0.8365081017047302, 0.40428485207937387], [-0.39851555408305656, -0.3424402197921754, -0.19568576758181205, -0.06836871199232683, -0.04894444124832889, -0.15281046000408935, -0.3097753481676558, -0.3989174615842059, -0.3145265280134759, -0.029571752430743198, 0.37730178201324516, 0.7480653859437423, 0.9151211597857926, 0.7821535187047146, 0.3763482601189311]]}, {\"scene\": \"scene6\", \"showscale\": false, \"type\": \"surface\", \"x\": [[-2.0, -1.7142857142857144, -1.4285714285714286, -1.1428571428571428, -0.8571428571428572, -0.5714285714285716, -0.2857142857142858, 0.0, 0.2857142857142856, 0.5714285714285712, 0.8571428571428568, 1.1428571428571428, 1.4285714285714284, 1.714285714285714, 2.0], [-2.0, -1.7142857142857144, -1.4285714285714286, -1.1428571428571428, -0.8571428571428572, -0.5714285714285716, -0.2857142857142858, 0.0, 0.2857142857142856, 0.5714285714285712, 0.8571428571428568, 1.1428571428571428, 1.4285714285714284, 1.714285714285714, 2.0], [-2.0, -1.7142857142857144, -1.4285714285714286, -1.1428571428571428, -0.8571428571428572, -0.5714285714285716, -0.2857142857142858, 0.0, 0.2857142857142856, 0.5714285714285712, 0.8571428571428568, 1.1428571428571428, 1.4285714285714284, 1.714285714285714, 2.0], [-2.0, -1.7142857142857144, -1.4285714285714286, -1.1428571428571428, -0.8571428571428572, -0.5714285714285716, -0.2857142857142858, 0.0, 0.2857142857142856, 0.5714285714285712, 0.8571428571428568, 1.1428571428571428, 1.4285714285714284, 1.714285714285714, 2.0], [-2.0, -1.7142857142857144, -1.4285714285714286, -1.1428571428571428, -0.8571428571428572, -0.5714285714285716, -0.2857142857142858, 0.0, 0.2857142857142856, 0.5714285714285712, 0.8571428571428568, 1.1428571428571428, 1.4285714285714284, 1.714285714285714, 2.0], [-2.0, -1.7142857142857144, -1.4285714285714286, -1.1428571428571428, -0.8571428571428572, -0.5714285714285716, -0.2857142857142858, 0.0, 0.2857142857142856, 0.5714285714285712, 0.8571428571428568, 1.1428571428571428, 1.4285714285714284, 1.714285714285714, 2.0], [-2.0, -1.7142857142857144, -1.4285714285714286, -1.1428571428571428, -0.8571428571428572, -0.5714285714285716, -0.2857142857142858, 0.0, 0.2857142857142856, 0.5714285714285712, 0.8571428571428568, 1.1428571428571428, 1.4285714285714284, 1.714285714285714, 2.0], [-2.0, -1.7142857142857144, -1.4285714285714286, -1.1428571428571428, -0.8571428571428572, -0.5714285714285716, -0.2857142857142858, 0.0, 0.2857142857142856, 0.5714285714285712, 0.8571428571428568, 1.1428571428571428, 1.4285714285714284, 1.714285714285714, 2.0], [-2.0, -1.7142857142857144, -1.4285714285714286, -1.1428571428571428, -0.8571428571428572, -0.5714285714285716, -0.2857142857142858, 0.0, 0.2857142857142856, 0.5714285714285712, 0.8571428571428568, 1.1428571428571428, 1.4285714285714284, 1.714285714285714, 2.0], [-2.0, -1.7142857142857144, -1.4285714285714286, -1.1428571428571428, -0.8571428571428572, -0.5714285714285716, -0.2857142857142858, 0.0, 0.2857142857142856, 0.5714285714285712, 0.8571428571428568, 1.1428571428571428, 1.4285714285714284, 1.714285714285714, 2.0], [-2.0, -1.7142857142857144, -1.4285714285714286, -1.1428571428571428, -0.8571428571428572, -0.5714285714285716, -0.2857142857142858, 0.0, 0.2857142857142856, 0.5714285714285712, 0.8571428571428568, 1.1428571428571428, 1.4285714285714284, 1.714285714285714, 2.0], [-2.0, -1.7142857142857144, -1.4285714285714286, -1.1428571428571428, -0.8571428571428572, -0.5714285714285716, -0.2857142857142858, 0.0, 0.2857142857142856, 0.5714285714285712, 0.8571428571428568, 1.1428571428571428, 1.4285714285714284, 1.714285714285714, 2.0], [-2.0, -1.7142857142857144, -1.4285714285714286, -1.1428571428571428, -0.8571428571428572, -0.5714285714285716, -0.2857142857142858, 0.0, 0.2857142857142856, 0.5714285714285712, 0.8571428571428568, 1.1428571428571428, 1.4285714285714284, 1.714285714285714, 2.0], [-2.0, -1.7142857142857144, -1.4285714285714286, -1.1428571428571428, -0.8571428571428572, -0.5714285714285716, -0.2857142857142858, 0.0, 0.2857142857142856, 0.5714285714285712, 0.8571428571428568, 1.1428571428571428, 1.4285714285714284, 1.714285714285714, 2.0], [-2.0, -1.7142857142857144, -1.4285714285714286, -1.1428571428571428, -0.8571428571428572, -0.5714285714285716, -0.2857142857142858, 0.0, 0.2857142857142856, 0.5714285714285712, 0.8571428571428568, 1.1428571428571428, 1.4285714285714284, 1.714285714285714, 2.0]], \"y\": [[-2.0, -2.0, -2.0, -2.0, -2.0, -2.0, -2.0, -2.0, -2.0, -2.0, -2.0, -2.0, -2.0, -2.0, -2.0], [-1.7142857142857144, -1.7142857142857144, -1.7142857142857144, -1.7142857142857144, -1.7142857142857144, -1.7142857142857144, -1.7142857142857144, -1.7142857142857144, -1.7142857142857144, -1.7142857142857144, -1.7142857142857144, -1.7142857142857144, -1.7142857142857144, -1.7142857142857144, -1.7142857142857144], [-1.4285714285714286, -1.4285714285714286, -1.4285714285714286, -1.4285714285714286, -1.4285714285714286, -1.4285714285714286, -1.4285714285714286, -1.4285714285714286, -1.4285714285714286, -1.4285714285714286, -1.4285714285714286, -1.4285714285714286, -1.4285714285714286, -1.4285714285714286, -1.4285714285714286], [-1.1428571428571428, -1.1428571428571428, -1.1428571428571428, -1.1428571428571428, -1.1428571428571428, -1.1428571428571428, -1.1428571428571428, -1.1428571428571428, -1.1428571428571428, -1.1428571428571428, -1.1428571428571428, -1.1428571428571428, -1.1428571428571428, -1.1428571428571428, -1.1428571428571428], [-0.8571428571428572, -0.8571428571428572, -0.8571428571428572, -0.8571428571428572, -0.8571428571428572, -0.8571428571428572, -0.8571428571428572, -0.8571428571428572, -0.8571428571428572, -0.8571428571428572, -0.8571428571428572, -0.8571428571428572, -0.8571428571428572, -0.8571428571428572, -0.8571428571428572], [-0.5714285714285716, -0.5714285714285716, -0.5714285714285716, -0.5714285714285716, -0.5714285714285716, -0.5714285714285716, -0.5714285714285716, -0.5714285714285716, -0.5714285714285716, -0.5714285714285716, -0.5714285714285716, -0.5714285714285716, -0.5714285714285716, -0.5714285714285716, -0.5714285714285716], [-0.2857142857142858, -0.2857142857142858, -0.2857142857142858, -0.2857142857142858, -0.2857142857142858, -0.2857142857142858, -0.2857142857142858, -0.2857142857142858, -0.2857142857142858, -0.2857142857142858, -0.2857142857142858, -0.2857142857142858, -0.2857142857142858, -0.2857142857142858, -0.2857142857142858], [0.0, 0.0, 0.0, 0.0, 0.0, 0.0, 0.0, 0.0, 0.0, 0.0, 0.0, 0.0, 0.0, 0.0, 0.0], [0.2857142857142856, 0.2857142857142856, 0.2857142857142856, 0.2857142857142856, 0.2857142857142856, 0.2857142857142856, 0.2857142857142856, 0.2857142857142856, 0.2857142857142856, 0.2857142857142856, 0.2857142857142856, 0.2857142857142856, 0.2857142857142856, 0.2857142857142856, 0.2857142857142856], [0.5714285714285712, 0.5714285714285712, 0.5714285714285712, 0.5714285714285712, 0.5714285714285712, 0.5714285714285712, 0.5714285714285712, 0.5714285714285712, 0.5714285714285712, 0.5714285714285712, 0.5714285714285712, 0.5714285714285712, 0.5714285714285712, 0.5714285714285712, 0.5714285714285712], [0.8571428571428568, 0.8571428571428568, 0.8571428571428568, 0.8571428571428568, 0.8571428571428568, 0.8571428571428568, 0.8571428571428568, 0.8571428571428568, 0.8571428571428568, 0.8571428571428568, 0.8571428571428568, 0.8571428571428568, 0.8571428571428568, 0.8571428571428568, 0.8571428571428568], [1.1428571428571428, 1.1428571428571428, 1.1428571428571428, 1.1428571428571428, 1.1428571428571428, 1.1428571428571428, 1.1428571428571428, 1.1428571428571428, 1.1428571428571428, 1.1428571428571428, 1.1428571428571428, 1.1428571428571428, 1.1428571428571428, 1.1428571428571428, 1.1428571428571428], [1.4285714285714284, 1.4285714285714284, 1.4285714285714284, 1.4285714285714284, 1.4285714285714284, 1.4285714285714284, 1.4285714285714284, 1.4285714285714284, 1.4285714285714284, 1.4285714285714284, 1.4285714285714284, 1.4285714285714284, 1.4285714285714284, 1.4285714285714284, 1.4285714285714284], [1.714285714285714, 1.714285714285714, 1.714285714285714, 1.714285714285714, 1.714285714285714, 1.714285714285714, 1.714285714285714, 1.714285714285714, 1.714285714285714, 1.714285714285714, 1.714285714285714, 1.714285714285714, 1.714285714285714, 1.714285714285714, 1.714285714285714], [2.0, 2.0, 2.0, 2.0, 2.0, 2.0, 2.0, 2.0, 2.0, 2.0, 2.0, 2.0, 2.0, 2.0, 2.0]], \"z\": [[0.015089832555178068, -0.05730863777658002, -0.010597761548893928, 0.13363115923469335, 0.3043954329451729, 0.41898828835711677, 0.4254821075897557, 0.32810501124363967, 0.1828503351548492, 0.06634377763021448, 0.03483354495712236, 0.09504858612423593, 0.2021502803877449, 0.2855681920477263, 0.28873594356490506], [0.1748070052398333, 0.052860786704804444, 0.03703760393206669, 0.1331281152862471, 0.2886873535650667, 0.42262378891631536, 0.46820457665821374, 0.406861661848653, 0.2756249937409905, 0.14518165850339088, 0.0809714695947735, 0.10836265253762481, 0.20040567722400407, 0.2943989047547619, 0.32803480629640236], [0.44037572683831505, 0.3034139335669487, 0.23648863398948347, 0.2713387881984436, 0.3835987277079322, 0.5092629968308338, 0.5806296962039219, 0.5621165720791929, 0.4672301514051502, 0.3485597202179366, 0.26720393669465436, 0.2588200983481458, 0.314905748380751, 0.3893589695134335, 0.4264650376661882], [0.7412561920251338, 0.6441361510721791, 0.5724991219283948, 0.5655085891245366, 0.6213254334451659, 0.7024784820253321, 0.7596650405791916, 0.7600015338817376, 0.7041742172213585, 0.6237118386473899, 0.5608510311320856, 0.5430447840499846, 0.566928044555457, 0.6010735732306519, 0.6061708553817975], [0.9780598491917983, 0.9668379614474518, 0.9487579525728789, 0.9434183275258536, 0.9527553513521806, 0.9638694139418185, 0.9608812477238532, 0.9376279836905482, 0.902977564416112, 0.87533933598549, 0.8697433281734476, 0.8857087400700279, 0.904156924940973, 0.8966588979351647, 0.8429923956990337], [1.070896258963055, 1.1550322786226652, 1.2286477518370293, 1.2705620437766194, 1.2636692807579997, 1.206191467752376, 1.1174375590904098, 1.0330894527032535, 0.9904231120552703, 1.0097868391826565, 1.0817868548617668, 1.167922412751292, 1.2162905399121522, 1.18628643410359, 1.0708758370364517], [1.0033472814787459, 1.145749260233039, 1.3054919363188822, 1.4174347155253875, 1.4306003652876988, 1.3355238195329897, 1.1727739716725423, 1.0167140765300084, 0.9410321887186064, 0.9823550345229537, 1.1201833956758576, 1.2841188730867625, 1.3862023960782626, 1.3635685660625447, 1.2108912806933945], [0.8364321459815517, 0.9686185194747676, 1.163612731226362, 1.3305421857465656, 1.386531364555356, 1.300082204850062, 1.1096328370239983, 0.9068109760170033, 0.7918266870926658, 0.822983871726241, 0.9858988793863434, 1.198632410012853, 1.3511020075268245, 1.3597616847965674, 1.2104305344159396], [0.6812480287032391, 0.7367696829743486, 0.8931778329070018, 1.0657097007031704, 1.1591051638464778, 1.1184891741368121, 0.9593932840443518, 0.7609566920407843, 0.62545822591258, 0.6249399737382723, 0.7626586084229743, 0.9697463510426017, 1.1394541120712247, 1.181883352437637, 1.0712209252676375], [0.6416439743364913, 0.5900236174451284, 0.6462466614520666, 0.7619184752223417, 0.8582621085706612, 0.8710560612434317, 0.7861600599600276, 0.6468022328274978, 0.5291605694187094, 0.49978098876059895, 0.5780669600883934, 0.7243630867101134, 0.8604721003727032, 0.9119988454697352, 0.8499302265685319], [0.7566140906216503, 0.6189928510459056, 0.555365619634598, 0.5676859005449544, 0.6185654577024723, 0.6580906179868966, 0.6538216226345844, 0.607466040093279, 0.5501135599862846, 0.520267009469641, 0.5384054830972989, 0.5933734008652276, 0.6487953764671901, 0.6659796543973122, 0.6299343274717095], [0.9747484590464017, 0.8121638424756539, 0.6594672479884385, 0.5602390361964259, 0.5276094828199589, 0.547788831338883, 0.5936780282867273, 0.6397020342005509, 0.6704506276273637, 0.6808290523983684, 0.670899416425401, 0.6412322994525087, 0.5930748291415929, 0.5332097800781704, 0.47901295004781164], [1.1771601396962725, 1.0575516883635372, 0.8799240058012365, 0.7032881754490616, 0.5804004081010034, 0.5422124683634364, 0.5899467535123051, 0.6963777636784627, 0.8154647376551786, 0.8975029589683843, 0.9056246020566048, 0.8289327100607997, 0.6880263301777518, 0.5303850367834112, 0.4159490948939568], [1.2388020549779644, 1.2007762104458415, 1.0622661084761498, 0.8680518177140166, 0.6851940624949819, 0.5797259505911938, 0.5906399212561763, 0.7119077798187613, 0.8913829407943321, 1.0491126170520115, 1.1092224508791086, 1.0328334236898127, 0.8377677698314259, 0.5953933001867144, 0.40428485207937387], [1.0958336669772524, 1.12900743104621, 1.0615619726614374, 0.9061935540487467, 0.7171484748142278, 0.5718701596869598, 0.5374803524405698, 0.6371387597086468, 0.833439257583892, 1.0393459666787046, 1.154399654126518, 1.1110795187455826, 0.9098161228124674, 0.624911174278962, 0.3763482601189311]]}, {\"scene\": \"scene7\", \"showscale\": false, \"type\": \"surface\", \"x\": [[-2.0, -1.7142857142857144, -1.4285714285714286, -1.1428571428571428, -0.8571428571428572, -0.5714285714285716, -0.2857142857142858, 0.0, 0.2857142857142856, 0.5714285714285712, 0.8571428571428568, 1.1428571428571428, 1.4285714285714284, 1.714285714285714, 2.0], [-2.0, -1.7142857142857144, -1.4285714285714286, -1.1428571428571428, -0.8571428571428572, -0.5714285714285716, -0.2857142857142858, 0.0, 0.2857142857142856, 0.5714285714285712, 0.8571428571428568, 1.1428571428571428, 1.4285714285714284, 1.714285714285714, 2.0], [-2.0, -1.7142857142857144, -1.4285714285714286, -1.1428571428571428, -0.8571428571428572, -0.5714285714285716, -0.2857142857142858, 0.0, 0.2857142857142856, 0.5714285714285712, 0.8571428571428568, 1.1428571428571428, 1.4285714285714284, 1.714285714285714, 2.0], [-2.0, -1.7142857142857144, -1.4285714285714286, -1.1428571428571428, -0.8571428571428572, -0.5714285714285716, -0.2857142857142858, 0.0, 0.2857142857142856, 0.5714285714285712, 0.8571428571428568, 1.1428571428571428, 1.4285714285714284, 1.714285714285714, 2.0], [-2.0, -1.7142857142857144, -1.4285714285714286, -1.1428571428571428, -0.8571428571428572, -0.5714285714285716, -0.2857142857142858, 0.0, 0.2857142857142856, 0.5714285714285712, 0.8571428571428568, 1.1428571428571428, 1.4285714285714284, 1.714285714285714, 2.0], [-2.0, -1.7142857142857144, -1.4285714285714286, -1.1428571428571428, -0.8571428571428572, -0.5714285714285716, -0.2857142857142858, 0.0, 0.2857142857142856, 0.5714285714285712, 0.8571428571428568, 1.1428571428571428, 1.4285714285714284, 1.714285714285714, 2.0], [-2.0, -1.7142857142857144, -1.4285714285714286, -1.1428571428571428, -0.8571428571428572, -0.5714285714285716, -0.2857142857142858, 0.0, 0.2857142857142856, 0.5714285714285712, 0.8571428571428568, 1.1428571428571428, 1.4285714285714284, 1.714285714285714, 2.0], [-2.0, -1.7142857142857144, -1.4285714285714286, -1.1428571428571428, -0.8571428571428572, -0.5714285714285716, -0.2857142857142858, 0.0, 0.2857142857142856, 0.5714285714285712, 0.8571428571428568, 1.1428571428571428, 1.4285714285714284, 1.714285714285714, 2.0], [-2.0, -1.7142857142857144, -1.4285714285714286, -1.1428571428571428, -0.8571428571428572, -0.5714285714285716, -0.2857142857142858, 0.0, 0.2857142857142856, 0.5714285714285712, 0.8571428571428568, 1.1428571428571428, 1.4285714285714284, 1.714285714285714, 2.0], [-2.0, -1.7142857142857144, -1.4285714285714286, -1.1428571428571428, -0.8571428571428572, -0.5714285714285716, -0.2857142857142858, 0.0, 0.2857142857142856, 0.5714285714285712, 0.8571428571428568, 1.1428571428571428, 1.4285714285714284, 1.714285714285714, 2.0], [-2.0, -1.7142857142857144, -1.4285714285714286, -1.1428571428571428, -0.8571428571428572, -0.5714285714285716, -0.2857142857142858, 0.0, 0.2857142857142856, 0.5714285714285712, 0.8571428571428568, 1.1428571428571428, 1.4285714285714284, 1.714285714285714, 2.0], [-2.0, -1.7142857142857144, -1.4285714285714286, -1.1428571428571428, -0.8571428571428572, -0.5714285714285716, -0.2857142857142858, 0.0, 0.2857142857142856, 0.5714285714285712, 0.8571428571428568, 1.1428571428571428, 1.4285714285714284, 1.714285714285714, 2.0], [-2.0, -1.7142857142857144, -1.4285714285714286, -1.1428571428571428, -0.8571428571428572, -0.5714285714285716, -0.2857142857142858, 0.0, 0.2857142857142856, 0.5714285714285712, 0.8571428571428568, 1.1428571428571428, 1.4285714285714284, 1.714285714285714, 2.0], [-2.0, -1.7142857142857144, -1.4285714285714286, -1.1428571428571428, -0.8571428571428572, -0.5714285714285716, -0.2857142857142858, 0.0, 0.2857142857142856, 0.5714285714285712, 0.8571428571428568, 1.1428571428571428, 1.4285714285714284, 1.714285714285714, 2.0], [-2.0, -1.7142857142857144, -1.4285714285714286, -1.1428571428571428, -0.8571428571428572, -0.5714285714285716, -0.2857142857142858, 0.0, 0.2857142857142856, 0.5714285714285712, 0.8571428571428568, 1.1428571428571428, 1.4285714285714284, 1.714285714285714, 2.0]], \"y\": [[-2.0, -2.0, -2.0, -2.0, -2.0, -2.0, -2.0, -2.0, -2.0, -2.0, -2.0, -2.0, -2.0, -2.0, -2.0], [-1.7142857142857144, -1.7142857142857144, -1.7142857142857144, -1.7142857142857144, -1.7142857142857144, -1.7142857142857144, -1.7142857142857144, -1.7142857142857144, -1.7142857142857144, -1.7142857142857144, -1.7142857142857144, -1.7142857142857144, -1.7142857142857144, -1.7142857142857144, -1.7142857142857144], [-1.4285714285714286, -1.4285714285714286, -1.4285714285714286, -1.4285714285714286, -1.4285714285714286, -1.4285714285714286, -1.4285714285714286, -1.4285714285714286, -1.4285714285714286, -1.4285714285714286, -1.4285714285714286, -1.4285714285714286, -1.4285714285714286, -1.4285714285714286, -1.4285714285714286], [-1.1428571428571428, -1.1428571428571428, -1.1428571428571428, -1.1428571428571428, -1.1428571428571428, -1.1428571428571428, -1.1428571428571428, -1.1428571428571428, -1.1428571428571428, -1.1428571428571428, -1.1428571428571428, -1.1428571428571428, -1.1428571428571428, -1.1428571428571428, -1.1428571428571428], [-0.8571428571428572, -0.8571428571428572, -0.8571428571428572, -0.8571428571428572, -0.8571428571428572, -0.8571428571428572, -0.8571428571428572, -0.8571428571428572, -0.8571428571428572, -0.8571428571428572, -0.8571428571428572, -0.8571428571428572, -0.8571428571428572, -0.8571428571428572, -0.8571428571428572], [-0.5714285714285716, -0.5714285714285716, -0.5714285714285716, -0.5714285714285716, -0.5714285714285716, -0.5714285714285716, -0.5714285714285716, -0.5714285714285716, -0.5714285714285716, -0.5714285714285716, -0.5714285714285716, -0.5714285714285716, -0.5714285714285716, -0.5714285714285716, -0.5714285714285716], [-0.2857142857142858, -0.2857142857142858, -0.2857142857142858, -0.2857142857142858, -0.2857142857142858, -0.2857142857142858, -0.2857142857142858, -0.2857142857142858, -0.2857142857142858, -0.2857142857142858, -0.2857142857142858, -0.2857142857142858, -0.2857142857142858, -0.2857142857142858, -0.2857142857142858], [0.0, 0.0, 0.0, 0.0, 0.0, 0.0, 0.0, 0.0, 0.0, 0.0, 0.0, 0.0, 0.0, 0.0, 0.0], [0.2857142857142856, 0.2857142857142856, 0.2857142857142856, 0.2857142857142856, 0.2857142857142856, 0.2857142857142856, 0.2857142857142856, 0.2857142857142856, 0.2857142857142856, 0.2857142857142856, 0.2857142857142856, 0.2857142857142856, 0.2857142857142856, 0.2857142857142856, 0.2857142857142856], [0.5714285714285712, 0.5714285714285712, 0.5714285714285712, 0.5714285714285712, 0.5714285714285712, 0.5714285714285712, 0.5714285714285712, 0.5714285714285712, 0.5714285714285712, 0.5714285714285712, 0.5714285714285712, 0.5714285714285712, 0.5714285714285712, 0.5714285714285712, 0.5714285714285712], [0.8571428571428568, 0.8571428571428568, 0.8571428571428568, 0.8571428571428568, 0.8571428571428568, 0.8571428571428568, 0.8571428571428568, 0.8571428571428568, 0.8571428571428568, 0.8571428571428568, 0.8571428571428568, 0.8571428571428568, 0.8571428571428568, 0.8571428571428568, 0.8571428571428568], [1.1428571428571428, 1.1428571428571428, 1.1428571428571428, 1.1428571428571428, 1.1428571428571428, 1.1428571428571428, 1.1428571428571428, 1.1428571428571428, 1.1428571428571428, 1.1428571428571428, 1.1428571428571428, 1.1428571428571428, 1.1428571428571428, 1.1428571428571428, 1.1428571428571428], [1.4285714285714284, 1.4285714285714284, 1.4285714285714284, 1.4285714285714284, 1.4285714285714284, 1.4285714285714284, 1.4285714285714284, 1.4285714285714284, 1.4285714285714284, 1.4285714285714284, 1.4285714285714284, 1.4285714285714284, 1.4285714285714284, 1.4285714285714284, 1.4285714285714284], [1.714285714285714, 1.714285714285714, 1.714285714285714, 1.714285714285714, 1.714285714285714, 1.714285714285714, 1.714285714285714, 1.714285714285714, 1.714285714285714, 1.714285714285714, 1.714285714285714, 1.714285714285714, 1.714285714285714, 1.714285714285714, 1.714285714285714], [2.0, 2.0, 2.0, 2.0, 2.0, 2.0, 2.0, 2.0, 2.0, 2.0, 2.0, 2.0, 2.0, 2.0, 2.0]], \"z\": [[-0.2551858350868337, -0.29696175827614013, -0.264860446895098, -0.1745604623194772, -0.049847187608623625, 0.0848783414574251, 0.20973265392936374, 0.310717693305844, 0.37809642602282334, 0.40410117665337786, 0.38241243588090573, 0.31048627467890566, 0.19373832019334805, 0.04897166087729958, -0.09578565969713636], [-0.7021480621655686, -0.8097634451934959, -0.7450330894830481, -0.5366359233264694, -0.2379622289195487, 0.09013336721036355, 0.39444690376344527, 0.637258707905505, 0.7960229599395852, 0.8582760592991069, 0.8171053502724929, 0.6713021612915846, 0.43067611039609616, 0.1230022523272867, -0.20300804718262289], [-0.6432445059249078, -0.8533924922074207, -0.8448764960086534, -0.6385029204004877, -0.29990636836399415, 0.08572407485073208, 0.4414836976769593, 0.7174069055547636, 0.8937071357482869, 0.9705596440194175, 0.952989055920999, 0.8410926436592173, 0.6318311176277032, 0.3311965982978127, -0.031231076454656392], [-0.17083512243212406, -0.48461711435971916, -0.5903826756060173, -0.48498093009997395, -0.23073053286998046, 0.0760986080445455, 0.34753944651489754, 0.5363716126329613, 0.6441478734356325, 0.7033071163141973, 0.7453422799074768, 0.7738732071995509, 0.7582758778074141, 0.6519730651957876, 0.4256637884699423], [0.3848575197482419, 0.002154228834096883, -0.21717278449884123, -0.24238170601537268, -0.12470885133327914, 0.03813596570378801, 0.1569660100047639, 0.1966852650247377, 0.1891434013803172, 0.20753511929190233, 0.3169546299203321, 0.5283700715855182, 0.7816870733012008, 0.968498797630046, 0.984286735150596], [0.6674367708305833, 0.2748565362492327, 0.0004019969869740181, -0.10839710795953918, -0.09251144313194042, -0.045203645882172835, -0.05096113619103203, -0.13274030479398974, -0.2358989351016527, -0.2577211703501605, -0.10730273922605221, 0.23581990899825708, 0.6960602726289171, 1.1246545143079492, 1.3619222047350816], [0.510296306443, 0.17375115172145833, -0.06710297337537664, -0.1691523041358222, -0.16945766387452202, -0.15207392261948355, -0.19162041606666225, -0.3041124171504177, -0.4316318120872008, -0.46980319774787394, -0.32468592085543385, 0.030030037794067654, 0.5256649901717558, 1.0168471146885827, 1.3387185352405604], [0.024632809100718023, -0.2007640921901176, -0.32731626025471616, -0.34005524353495864, -0.2803320815152187, -0.21780137615030765, -0.20927611502624732, -0.26555109079547606, -0.3432489686161531, -0.36619946361426314, -0.26601608120299425, -0.02173689642414063, 0.3214955468136299, 0.6647630056081242, 0.893814406268518], [-0.48768525448275635, -0.5715368095328035, -0.541625567129554, -0.42893581521668683, -0.2871008326343631, -0.16773650129144918, -0.09961597113160617, -0.08037016525087758, -0.08312846378721658, -0.07361439134526475, -0.02888719407353388, 0.051024750389406015, 0.1432857629006589, 0.21304445786118203, 0.22894895379910138], [-0.7327257138297494, -0.6772491889247635, -0.49795194499139006, -0.2774878254779322, -0.08898237370296816, 0.031676891940665496, 0.09067710038886061, 0.11908241785396821, 0.14559861537272561, 0.1754551547313306, 0.18694171183802627, 0.14658636772122674, 0.033333766495875564, -0.14290730788716924, -0.3397453120848314], [-0.6047064573194328, -0.44502955658412224, -0.16309168465409168, 0.11543176619513842, 0.2925510790909286, 0.33716291498798157, 0.2866795037602016, 0.21357481398123776, 0.1772301398922757, 0.18806473780324306, 0.203164628069838, 0.15489673744137436, -0.004159683926171165, -0.265601416245459, -0.559631964459055], [-0.2362829816320386, -0.03203178546669594, 0.2870819995060683, 0.573410991449703, 0.7036160644993434, 0.6347549026979861, 0.41788640677447964, 0.16437544863361436, -0.01577527786312774, -0.07061401076138027, -0.02865744436514113, 0.023513368720508937, -0.004849268753900404, -0.15312550397427638, -0.3826321140597107], [0.10478139631986771, 0.286047883837537, 0.5790501990960285, 0.8420336413510343, 0.9348626235650477, 0.7893339645733756, 0.44387220756049867, 0.02547005128902828, -0.31143840631234476, -0.4579244762071373, -0.3986869966766055, -0.21201456685624054, -0.023237678836730585, 0.0629538982674287, 0.015655678119206595], [0.19755640509617592, 0.3012861972392194, 0.5205293413905149, 0.7462547572406457, 0.8411357630503153, 0.7118248652633318, 0.3615595283222045, -0.10410841761185816, -0.5220210132619809, -0.7447477562696128, -0.7064845491586089, -0.44945996474780736, -0.09885899191785955, 0.19990674838690406, 0.3493271556660067], [0.007330364246951646, 0.010192553981276484, 0.1288319123248208, 0.3046987716375781, 0.4304793462351513, 0.40626655485928703, 0.19455699826556266, -0.15412630404676464, -0.518616962567407, -0.7596896948689164, -0.7825243241984418, -0.5788858999912412, -0.22902380210839504, 0.13675652072914707, 0.3972457752175676]]}, {\"scene\": \"scene8\", \"showscale\": false, \"type\": \"surface\", \"x\": [[-2.0, -1.7142857142857144, -1.4285714285714286, -1.1428571428571428, -0.8571428571428572, -0.5714285714285716, -0.2857142857142858, 0.0, 0.2857142857142856, 0.5714285714285712, 0.8571428571428568, 1.1428571428571428, 1.4285714285714284, 1.714285714285714, 2.0], [-2.0, -1.7142857142857144, -1.4285714285714286, -1.1428571428571428, -0.8571428571428572, -0.5714285714285716, -0.2857142857142858, 0.0, 0.2857142857142856, 0.5714285714285712, 0.8571428571428568, 1.1428571428571428, 1.4285714285714284, 1.714285714285714, 2.0], [-2.0, -1.7142857142857144, -1.4285714285714286, -1.1428571428571428, -0.8571428571428572, -0.5714285714285716, -0.2857142857142858, 0.0, 0.2857142857142856, 0.5714285714285712, 0.8571428571428568, 1.1428571428571428, 1.4285714285714284, 1.714285714285714, 2.0], [-2.0, -1.7142857142857144, -1.4285714285714286, -1.1428571428571428, -0.8571428571428572, -0.5714285714285716, -0.2857142857142858, 0.0, 0.2857142857142856, 0.5714285714285712, 0.8571428571428568, 1.1428571428571428, 1.4285714285714284, 1.714285714285714, 2.0], [-2.0, -1.7142857142857144, -1.4285714285714286, -1.1428571428571428, -0.8571428571428572, -0.5714285714285716, -0.2857142857142858, 0.0, 0.2857142857142856, 0.5714285714285712, 0.8571428571428568, 1.1428571428571428, 1.4285714285714284, 1.714285714285714, 2.0], [-2.0, -1.7142857142857144, -1.4285714285714286, -1.1428571428571428, -0.8571428571428572, -0.5714285714285716, -0.2857142857142858, 0.0, 0.2857142857142856, 0.5714285714285712, 0.8571428571428568, 1.1428571428571428, 1.4285714285714284, 1.714285714285714, 2.0], [-2.0, -1.7142857142857144, -1.4285714285714286, -1.1428571428571428, -0.8571428571428572, -0.5714285714285716, -0.2857142857142858, 0.0, 0.2857142857142856, 0.5714285714285712, 0.8571428571428568, 1.1428571428571428, 1.4285714285714284, 1.714285714285714, 2.0], [-2.0, -1.7142857142857144, -1.4285714285714286, -1.1428571428571428, -0.8571428571428572, -0.5714285714285716, -0.2857142857142858, 0.0, 0.2857142857142856, 0.5714285714285712, 0.8571428571428568, 1.1428571428571428, 1.4285714285714284, 1.714285714285714, 2.0], [-2.0, -1.7142857142857144, -1.4285714285714286, -1.1428571428571428, -0.8571428571428572, -0.5714285714285716, -0.2857142857142858, 0.0, 0.2857142857142856, 0.5714285714285712, 0.8571428571428568, 1.1428571428571428, 1.4285714285714284, 1.714285714285714, 2.0], [-2.0, -1.7142857142857144, -1.4285714285714286, -1.1428571428571428, -0.8571428571428572, -0.5714285714285716, -0.2857142857142858, 0.0, 0.2857142857142856, 0.5714285714285712, 0.8571428571428568, 1.1428571428571428, 1.4285714285714284, 1.714285714285714, 2.0], [-2.0, -1.7142857142857144, -1.4285714285714286, -1.1428571428571428, -0.8571428571428572, -0.5714285714285716, -0.2857142857142858, 0.0, 0.2857142857142856, 0.5714285714285712, 0.8571428571428568, 1.1428571428571428, 1.4285714285714284, 1.714285714285714, 2.0], [-2.0, -1.7142857142857144, -1.4285714285714286, -1.1428571428571428, -0.8571428571428572, -0.5714285714285716, -0.2857142857142858, 0.0, 0.2857142857142856, 0.5714285714285712, 0.8571428571428568, 1.1428571428571428, 1.4285714285714284, 1.714285714285714, 2.0], [-2.0, -1.7142857142857144, -1.4285714285714286, -1.1428571428571428, -0.8571428571428572, -0.5714285714285716, -0.2857142857142858, 0.0, 0.2857142857142856, 0.5714285714285712, 0.8571428571428568, 1.1428571428571428, 1.4285714285714284, 1.714285714285714, 2.0], [-2.0, -1.7142857142857144, -1.4285714285714286, -1.1428571428571428, -0.8571428571428572, -0.5714285714285716, -0.2857142857142858, 0.0, 0.2857142857142856, 0.5714285714285712, 0.8571428571428568, 1.1428571428571428, 1.4285714285714284, 1.714285714285714, 2.0], [-2.0, -1.7142857142857144, -1.4285714285714286, -1.1428571428571428, -0.8571428571428572, -0.5714285714285716, -0.2857142857142858, 0.0, 0.2857142857142856, 0.5714285714285712, 0.8571428571428568, 1.1428571428571428, 1.4285714285714284, 1.714285714285714, 2.0]], \"y\": [[-2.0, -2.0, -2.0, -2.0, -2.0, -2.0, -2.0, -2.0, -2.0, -2.0, -2.0, -2.0, -2.0, -2.0, -2.0], [-1.7142857142857144, -1.7142857142857144, -1.7142857142857144, -1.7142857142857144, -1.7142857142857144, -1.7142857142857144, -1.7142857142857144, -1.7142857142857144, -1.7142857142857144, -1.7142857142857144, -1.7142857142857144, -1.7142857142857144, -1.7142857142857144, -1.7142857142857144, -1.7142857142857144], [-1.4285714285714286, -1.4285714285714286, -1.4285714285714286, -1.4285714285714286, -1.4285714285714286, -1.4285714285714286, -1.4285714285714286, -1.4285714285714286, -1.4285714285714286, -1.4285714285714286, -1.4285714285714286, -1.4285714285714286, -1.4285714285714286, -1.4285714285714286, -1.4285714285714286], [-1.1428571428571428, -1.1428571428571428, -1.1428571428571428, -1.1428571428571428, -1.1428571428571428, -1.1428571428571428, -1.1428571428571428, -1.1428571428571428, -1.1428571428571428, -1.1428571428571428, -1.1428571428571428, -1.1428571428571428, -1.1428571428571428, -1.1428571428571428, -1.1428571428571428], [-0.8571428571428572, -0.8571428571428572, -0.8571428571428572, -0.8571428571428572, -0.8571428571428572, -0.8571428571428572, -0.8571428571428572, -0.8571428571428572, -0.8571428571428572, -0.8571428571428572, -0.8571428571428572, -0.8571428571428572, -0.8571428571428572, -0.8571428571428572, -0.8571428571428572], [-0.5714285714285716, -0.5714285714285716, -0.5714285714285716, -0.5714285714285716, -0.5714285714285716, -0.5714285714285716, -0.5714285714285716, -0.5714285714285716, -0.5714285714285716, -0.5714285714285716, -0.5714285714285716, -0.5714285714285716, -0.5714285714285716, -0.5714285714285716, -0.5714285714285716], [-0.2857142857142858, -0.2857142857142858, -0.2857142857142858, -0.2857142857142858, -0.2857142857142858, -0.2857142857142858, -0.2857142857142858, -0.2857142857142858, -0.2857142857142858, -0.2857142857142858, -0.2857142857142858, -0.2857142857142858, -0.2857142857142858, -0.2857142857142858, -0.2857142857142858], [0.0, 0.0, 0.0, 0.0, 0.0, 0.0, 0.0, 0.0, 0.0, 0.0, 0.0, 0.0, 0.0, 0.0, 0.0], [0.2857142857142856, 0.2857142857142856, 0.2857142857142856, 0.2857142857142856, 0.2857142857142856, 0.2857142857142856, 0.2857142857142856, 0.2857142857142856, 0.2857142857142856, 0.2857142857142856, 0.2857142857142856, 0.2857142857142856, 0.2857142857142856, 0.2857142857142856, 0.2857142857142856], [0.5714285714285712, 0.5714285714285712, 0.5714285714285712, 0.5714285714285712, 0.5714285714285712, 0.5714285714285712, 0.5714285714285712, 0.5714285714285712, 0.5714285714285712, 0.5714285714285712, 0.5714285714285712, 0.5714285714285712, 0.5714285714285712, 0.5714285714285712, 0.5714285714285712], [0.8571428571428568, 0.8571428571428568, 0.8571428571428568, 0.8571428571428568, 0.8571428571428568, 0.8571428571428568, 0.8571428571428568, 0.8571428571428568, 0.8571428571428568, 0.8571428571428568, 0.8571428571428568, 0.8571428571428568, 0.8571428571428568, 0.8571428571428568, 0.8571428571428568], [1.1428571428571428, 1.1428571428571428, 1.1428571428571428, 1.1428571428571428, 1.1428571428571428, 1.1428571428571428, 1.1428571428571428, 1.1428571428571428, 1.1428571428571428, 1.1428571428571428, 1.1428571428571428, 1.1428571428571428, 1.1428571428571428, 1.1428571428571428, 1.1428571428571428], [1.4285714285714284, 1.4285714285714284, 1.4285714285714284, 1.4285714285714284, 1.4285714285714284, 1.4285714285714284, 1.4285714285714284, 1.4285714285714284, 1.4285714285714284, 1.4285714285714284, 1.4285714285714284, 1.4285714285714284, 1.4285714285714284, 1.4285714285714284, 1.4285714285714284], [1.714285714285714, 1.714285714285714, 1.714285714285714, 1.714285714285714, 1.714285714285714, 1.714285714285714, 1.714285714285714, 1.714285714285714, 1.714285714285714, 1.714285714285714, 1.714285714285714, 1.714285714285714, 1.714285714285714, 1.714285714285714, 1.714285714285714], [2.0, 2.0, 2.0, 2.0, 2.0, 2.0, 2.0, 2.0, 2.0, 2.0, 2.0, 2.0, 2.0, 2.0, 2.0]], \"z\": [[-0.16520848438105196, -0.405912714100113, -0.5213233882333369, -0.5310209320332588, -0.47670659587026865, -0.3927464096594998, -0.2911676567717611, -0.16708482432478755, -0.017646350008071368, 0.14027041865324458, 0.26700996672215266, 0.3155928303571178, 0.2575187890394447, 0.10335094369738958, -0.09578565969713636], [-0.3154224876396541, -0.43918004629229535, -0.5174071563601711, -0.5677895506793547, -0.5873658478708305, -0.5484760575793379, -0.41737379599575053, -0.1841906159021269, 0.11499550789998454, 0.39999742667836335, 0.5753602117801215, 0.5736641618956866, 0.3910772358716184, 0.0949989339000282, -0.20300804718262289], [-0.20671006717572973, -0.30701000912687965, -0.4369147120562088, -0.5730725193754385, -0.6621167727524236, -0.6429992838881622, -0.4805756364250355, -0.19204247042955203, 0.14994203851737525, 0.4421976489776639, 0.593935168215755, 0.5671819973830812, 0.394133660921962, 0.16155348335804648, -0.031231076454656392], [-0.007206175922112076, -0.18174835508697462, -0.39588639797926556, -0.5803812000010156, -0.6665804019543233, -0.616241225097275, -0.4394887579451452, -0.19118762975242973, 0.053357063957329295, 0.2318413048559596, 0.3210099993357374, 0.3421888226093199, 0.3435148414929533, 0.3681840905291561, 0.4256637884699423], [0.10216099122352457, -0.17786304832237387, -0.43324050716422474, -0.5808228407012798, -0.5873268889262789, -0.4807639081600508, -0.3309855182835548, -0.20926697163973318, -0.14820113676715185, -0.12364864330024056, -0.06945224785675289, 0.08154299150699168, 0.3511538746432982, 0.689392748658756, 0.984286735150596], [0.04031502281175145, -0.28667985859352674, -0.49583846410887594, -0.5375632766921705, -0.44532502856257183, -0.3128588005297189, -0.23925783028696068, -0.2704302877058476, -0.3684820055593454, -0.4271842231441062, -0.3281385412820569, -0.010401340935353512, 0.48244782490828236, 1.0044606304671273, 1.3619222047350816], [-0.14236190128388063, -0.4034145685520285, -0.49047313984067237, -0.42020884467321346, -0.28427953539482687, -0.19654433587741751, -0.22773039506133555, -0.36189957130986683, -0.4990062438089748, -0.5047394443300222, -0.2841684073844004, 0.15791203777675825, 0.7022498866315703, 1.1569174428420084, 1.3387185352405604], [-0.323219247146102, -0.41953292380151613, -0.36265415413430374, -0.2340178857997976, -0.14184756317992314, -0.15951560027195327, -0.28194204406879425, -0.42398100672084377, -0.4635196322705485, -0.3086396283289937, 0.045333228475991444, 0.4994833601431493, 0.8868656825180711, 1.045358121522384, 0.893814406268518], [-0.40663663496047214, -0.31112445470089994, -0.14572541243239917, -0.02379336835407185, -0.02467521926469575, -0.14718290620448754, -0.30604627501160653, -0.37535052018105025, -0.25812625300488823, 0.053661835911245945, 0.461366717579466, 0.7965890117840762, 0.897706142218941, 0.6898986724446798, 0.22894895379910138], [-0.3907445135197209, -0.1602819436042194, 0.05434003694349154, 0.15000612815366646, 0.09393690566270343, -0.05616195844019693, -0.18055693778566928, -0.1620009888006782, 0.04606415826895366, 0.3838065814678802, 0.7031431970090665, 0.8344146374693817, 0.671029450982666, 0.23056235716553028, -0.3397453120848314], [-0.3574401991133721, -0.09541945548777994, 0.1285403467727332, 0.24694246216344545, 0.25082856203319776, 0.19199633238990582, 0.1529488837378571, 0.1991927767959939, 0.33850284913005846, 0.5094193524020603, 0.6072150330182551, 0.5365739114301649, 0.26575776401382467, -0.14535947403069244, -0.559631964459055], [-0.3985076397740547, -0.19379438073156033, 0.04154117664001544, 0.2706839743997775, 0.45990999795972565, 0.585256905145592, 0.6354888803696184, 0.6111981135502198, 0.5214942007404126, 0.38048184829045195, 0.2052845138459719, 0.01601648746220903, -0.1634096370623602, -0.3055870320563622, -0.3826321140597107], [-0.5357041040110456, -0.41614645303383796, -0.137272718401088, 0.26602937865604315, 0.6929649879750923, 1.0097420994807638, 1.103352914582569, 0.9322760847721476, 0.5496935196746233, 0.08644861067155565, -0.3005027310148323, -0.49183501310998046, -0.4530686193824519, -0.24370758809543952, 0.015655678119206595], [-0.6952304865142245, -0.6215727287843942, -0.2712888522779722, 0.29086686390762273, 0.8894679270687634, 1.3049365463770264, 1.3682866608183009, 1.0405170618499058, 0.43777207343290636, -0.2125547899103981, -0.6672470571854525, -0.7716179618557919, -0.524831551454649, -0.07569042749534599, 0.3493271556660067], [-0.7565121637679622, -0.6556609249755204, -0.2403896664476059, 0.3805802567613278, 0.9907040756802075, 1.3542614870877503, 1.3203528870263344, 0.8938144062685179, 0.23837168296674419, -0.39165538183766024, -0.7611516409876, -0.7555141724717687, -0.4269034420347075, 0.03558168977772365, 0.3972457752175676]]}, {\"scene\": \"scene9\", \"showscale\": false, \"type\": \"surface\", \"x\": [[-2.0, -1.7142857142857144, -1.4285714285714286, -1.1428571428571428, -0.8571428571428572, -0.5714285714285716, -0.2857142857142858, 0.0, 0.2857142857142856, 0.5714285714285712, 0.8571428571428568, 1.1428571428571428, 1.4285714285714284, 1.714285714285714, 2.0], [-2.0, -1.7142857142857144, -1.4285714285714286, -1.1428571428571428, -0.8571428571428572, -0.5714285714285716, -0.2857142857142858, 0.0, 0.2857142857142856, 0.5714285714285712, 0.8571428571428568, 1.1428571428571428, 1.4285714285714284, 1.714285714285714, 2.0], [-2.0, -1.7142857142857144, -1.4285714285714286, -1.1428571428571428, -0.8571428571428572, -0.5714285714285716, -0.2857142857142858, 0.0, 0.2857142857142856, 0.5714285714285712, 0.8571428571428568, 1.1428571428571428, 1.4285714285714284, 1.714285714285714, 2.0], [-2.0, -1.7142857142857144, -1.4285714285714286, -1.1428571428571428, -0.8571428571428572, -0.5714285714285716, -0.2857142857142858, 0.0, 0.2857142857142856, 0.5714285714285712, 0.8571428571428568, 1.1428571428571428, 1.4285714285714284, 1.714285714285714, 2.0], [-2.0, -1.7142857142857144, -1.4285714285714286, -1.1428571428571428, -0.8571428571428572, -0.5714285714285716, -0.2857142857142858, 0.0, 0.2857142857142856, 0.5714285714285712, 0.8571428571428568, 1.1428571428571428, 1.4285714285714284, 1.714285714285714, 2.0], [-2.0, -1.7142857142857144, -1.4285714285714286, -1.1428571428571428, -0.8571428571428572, -0.5714285714285716, -0.2857142857142858, 0.0, 0.2857142857142856, 0.5714285714285712, 0.8571428571428568, 1.1428571428571428, 1.4285714285714284, 1.714285714285714, 2.0], [-2.0, -1.7142857142857144, -1.4285714285714286, -1.1428571428571428, -0.8571428571428572, -0.5714285714285716, -0.2857142857142858, 0.0, 0.2857142857142856, 0.5714285714285712, 0.8571428571428568, 1.1428571428571428, 1.4285714285714284, 1.714285714285714, 2.0], [-2.0, -1.7142857142857144, -1.4285714285714286, -1.1428571428571428, -0.8571428571428572, -0.5714285714285716, -0.2857142857142858, 0.0, 0.2857142857142856, 0.5714285714285712, 0.8571428571428568, 1.1428571428571428, 1.4285714285714284, 1.714285714285714, 2.0], [-2.0, -1.7142857142857144, -1.4285714285714286, -1.1428571428571428, -0.8571428571428572, -0.5714285714285716, -0.2857142857142858, 0.0, 0.2857142857142856, 0.5714285714285712, 0.8571428571428568, 1.1428571428571428, 1.4285714285714284, 1.714285714285714, 2.0], [-2.0, -1.7142857142857144, -1.4285714285714286, -1.1428571428571428, -0.8571428571428572, -0.5714285714285716, -0.2857142857142858, 0.0, 0.2857142857142856, 0.5714285714285712, 0.8571428571428568, 1.1428571428571428, 1.4285714285714284, 1.714285714285714, 2.0], [-2.0, -1.7142857142857144, -1.4285714285714286, -1.1428571428571428, -0.8571428571428572, -0.5714285714285716, -0.2857142857142858, 0.0, 0.2857142857142856, 0.5714285714285712, 0.8571428571428568, 1.1428571428571428, 1.4285714285714284, 1.714285714285714, 2.0], [-2.0, -1.7142857142857144, -1.4285714285714286, -1.1428571428571428, -0.8571428571428572, -0.5714285714285716, -0.2857142857142858, 0.0, 0.2857142857142856, 0.5714285714285712, 0.8571428571428568, 1.1428571428571428, 1.4285714285714284, 1.714285714285714, 2.0], [-2.0, -1.7142857142857144, -1.4285714285714286, -1.1428571428571428, -0.8571428571428572, -0.5714285714285716, -0.2857142857142858, 0.0, 0.2857142857142856, 0.5714285714285712, 0.8571428571428568, 1.1428571428571428, 1.4285714285714284, 1.714285714285714, 2.0], [-2.0, -1.7142857142857144, -1.4285714285714286, -1.1428571428571428, -0.8571428571428572, -0.5714285714285716, -0.2857142857142858, 0.0, 0.2857142857142856, 0.5714285714285712, 0.8571428571428568, 1.1428571428571428, 1.4285714285714284, 1.714285714285714, 2.0], [-2.0, -1.7142857142857144, -1.4285714285714286, -1.1428571428571428, -0.8571428571428572, -0.5714285714285716, -0.2857142857142858, 0.0, 0.2857142857142856, 0.5714285714285712, 0.8571428571428568, 1.1428571428571428, 1.4285714285714284, 1.714285714285714, 2.0]], \"y\": [[-2.0, -2.0, -2.0, -2.0, -2.0, -2.0, -2.0, -2.0, -2.0, -2.0, -2.0, -2.0, -2.0, -2.0, -2.0], [-1.7142857142857144, -1.7142857142857144, -1.7142857142857144, -1.7142857142857144, -1.7142857142857144, -1.7142857142857144, -1.7142857142857144, -1.7142857142857144, -1.7142857142857144, -1.7142857142857144, -1.7142857142857144, -1.7142857142857144, -1.7142857142857144, -1.7142857142857144, -1.7142857142857144], [-1.4285714285714286, -1.4285714285714286, -1.4285714285714286, -1.4285714285714286, -1.4285714285714286, -1.4285714285714286, -1.4285714285714286, -1.4285714285714286, -1.4285714285714286, -1.4285714285714286, -1.4285714285714286, -1.4285714285714286, -1.4285714285714286, -1.4285714285714286, -1.4285714285714286], [-1.1428571428571428, -1.1428571428571428, -1.1428571428571428, -1.1428571428571428, -1.1428571428571428, -1.1428571428571428, -1.1428571428571428, -1.1428571428571428, -1.1428571428571428, -1.1428571428571428, -1.1428571428571428, -1.1428571428571428, -1.1428571428571428, -1.1428571428571428, -1.1428571428571428], [-0.8571428571428572, -0.8571428571428572, -0.8571428571428572, -0.8571428571428572, -0.8571428571428572, -0.8571428571428572, -0.8571428571428572, -0.8571428571428572, -0.8571428571428572, -0.8571428571428572, -0.8571428571428572, -0.8571428571428572, -0.8571428571428572, -0.8571428571428572, -0.8571428571428572], [-0.5714285714285716, -0.5714285714285716, -0.5714285714285716, -0.5714285714285716, -0.5714285714285716, -0.5714285714285716, -0.5714285714285716, -0.5714285714285716, -0.5714285714285716, -0.5714285714285716, -0.5714285714285716, -0.5714285714285716, -0.5714285714285716, -0.5714285714285716, -0.5714285714285716], [-0.2857142857142858, -0.2857142857142858, -0.2857142857142858, -0.2857142857142858, -0.2857142857142858, -0.2857142857142858, -0.2857142857142858, -0.2857142857142858, -0.2857142857142858, -0.2857142857142858, -0.2857142857142858, -0.2857142857142858, -0.2857142857142858, -0.2857142857142858, -0.2857142857142858], [0.0, 0.0, 0.0, 0.0, 0.0, 0.0, 0.0, 0.0, 0.0, 0.0, 0.0, 0.0, 0.0, 0.0, 0.0], [0.2857142857142856, 0.2857142857142856, 0.2857142857142856, 0.2857142857142856, 0.2857142857142856, 0.2857142857142856, 0.2857142857142856, 0.2857142857142856, 0.2857142857142856, 0.2857142857142856, 0.2857142857142856, 0.2857142857142856, 0.2857142857142856, 0.2857142857142856, 0.2857142857142856], [0.5714285714285712, 0.5714285714285712, 0.5714285714285712, 0.5714285714285712, 0.5714285714285712, 0.5714285714285712, 0.5714285714285712, 0.5714285714285712, 0.5714285714285712, 0.5714285714285712, 0.5714285714285712, 0.5714285714285712, 0.5714285714285712, 0.5714285714285712, 0.5714285714285712], [0.8571428571428568, 0.8571428571428568, 0.8571428571428568, 0.8571428571428568, 0.8571428571428568, 0.8571428571428568, 0.8571428571428568, 0.8571428571428568, 0.8571428571428568, 0.8571428571428568, 0.8571428571428568, 0.8571428571428568, 0.8571428571428568, 0.8571428571428568, 0.8571428571428568], [1.1428571428571428, 1.1428571428571428, 1.1428571428571428, 1.1428571428571428, 1.1428571428571428, 1.1428571428571428, 1.1428571428571428, 1.1428571428571428, 1.1428571428571428, 1.1428571428571428, 1.1428571428571428, 1.1428571428571428, 1.1428571428571428, 1.1428571428571428, 1.1428571428571428], [1.4285714285714284, 1.4285714285714284, 1.4285714285714284, 1.4285714285714284, 1.4285714285714284, 1.4285714285714284, 1.4285714285714284, 1.4285714285714284, 1.4285714285714284, 1.4285714285714284, 1.4285714285714284, 1.4285714285714284, 1.4285714285714284, 1.4285714285714284, 1.4285714285714284], [1.714285714285714, 1.714285714285714, 1.714285714285714, 1.714285714285714, 1.714285714285714, 1.714285714285714, 1.714285714285714, 1.714285714285714, 1.714285714285714, 1.714285714285714, 1.714285714285714, 1.714285714285714, 1.714285714285714, 1.714285714285714, 1.714285714285714], [2.0, 2.0, 2.0, 2.0, 2.0, 2.0, 2.0, 2.0, 2.0, 2.0, 2.0, 2.0, 2.0, 2.0, 2.0]], \"z\": [[0.8042734890401155, 1.2428173301699181, 1.4051619966376854, 1.2302831685557571, 0.7883438657104591, 0.24736063876154205, -0.20134663289920327, -0.4239810067208438, -0.3947207007861334, -0.1946365215956882, 0.03723849824375497, 0.17491531296817286, 0.16386389681366303, 0.04018464019658127, -0.09578565969713636], [0.35169746960496573, 0.8481381024499322, 1.1384966682272801, 1.1200787713343963, 0.8091168516904338, 0.335154207334292, -0.11444659638940544, -0.3753505201810505, -0.3758948370249769, -0.16395405679875022, 0.12075926988339615, 0.31543831444159665, 0.3115936573955529, 0.10520791778666354, -0.20300804718262289], [-0.2974550842269882, 0.20169637126702705, 0.6433531229044389, 0.8836329262975762, 0.8499685150019887, 0.5743687494414801, 0.181962864772044, -0.16200098880067776, -0.32390899862617945, -0.25992053588325575, -0.03356735830680853, 0.21581364111860965, 0.3396938956778992, 0.2514139304054773, -0.031231076454656392], [-0.7797087551920046, -0.35338877986503525, 0.18288448525914466, 0.666411512072481, 0.939601003758155, 0.9170613989720237, 0.6260365832355796, 0.19919277679599495, -0.1800022301558708, -0.3566017285300639, -0.272711196169871, 0.00671185134934104, 0.32387047055414925, 0.5013690696884883, 0.4256637884699423], [-0.8193920009175999, -0.5281772455309302, -0.013560874828898034, 0.5777999221650094, 1.0480051549419351, 1.2285211625306656, 1.0567189004361253, 0.61119811355022, 0.08543987652040094, -0.2925449048867665, -0.3605291324298095, -0.09676269199272608, 0.3668121172077346, 0.8013891314884574, 0.984286735150596], [-0.3831811926807155, -0.24323843787492525, 0.13066960308806214, 0.6383100398086154, 1.1069789756894315, 1.3592476791514685, 1.2924474145224192, 0.9322760847721469, 0.43178180573886615, 0.011109226034797748, -0.13819924358447097, 0.0582659604257981, 0.5183724452962073, 1.0341943156015814, 1.3619222047350816], [0.3049769651294715, 0.3349430011028297, 0.5076065548531897, 0.7798539317622804, 1.0579054972236412, 1.2326866864383685, 1.2282179518021148, 1.0405170618499058, 0.7466590757600731, 0.47639910335257074, 0.3565079289069315, 0.45213344575470693, 0.7327635135614612, 1.0804243423194562, 1.3387185352405604], [0.8938144062685175, 0.8938144062685179, 0.8938144062685172, 0.893814406268518, 0.8938144062685173, 0.8938144062685178, 0.8938144062685178, 0.8938144062685178, 0.8938144062685176, 0.8938144062685178, 0.8938144062685172, 0.893814406268518, 0.8938144062685176, 0.8938144062685177, 0.893814406268518], [1.101237988409412, 1.1501666391070997, 1.0770672899099172, 0.8945051801100246, 0.666250454627717, 0.4861799420262724, 0.4378449872699163, 0.5527371763668262, 0.7884667210788379, 1.0404370788026762, 1.1851215386883547, 1.1370239312844181, 0.8929641277026057, 0.5412986841799061, 0.22894895379910138], [0.8636822074538971, 0.9997674612660601, 0.966808018519459, 0.7600794761536602, 0.4513819147528042, 0.169447594353623, 0.04647888333223564, 0.15357555252236316, 0.4571985357762407, 0.8220743879625265, 1.0650358712899193, 1.0388461588229876, 0.7078259203239521, 0.17756409612244453, -0.3397453120848314], [0.3565093775309651, 0.5591098831413002, 0.6284905618187455, 0.5307989391995077, 0.29815835361379583, 0.02768207653357299, -0.154991761281742, -0.15420519684372416, 0.04305087730544994, 0.3491042188706661, 0.6064821841554832, 0.6582355949263107, 0.4268986079589281, -0.03635065645130567, -0.559631964459055], [-0.1186422910875011, 0.08279737679145788, 0.22950344210782092, 0.2729069089197789, 0.19478522732154718, 0.02562612924324449, -0.15999929556092723, -0.2733779006223126, -0.25481833036501444, -0.1085287479491876, 0.09089171429174853, 0.22786023248673976, 0.20055408529662497, -0.024028703556589898, -0.3826321140597107], [-0.30770829702303093, -0.1882092443976448, -0.06410890358967569, 0.036513537824567566, 0.07856232676634745, 0.04064369948400459, -0.06615239647272562, -0.19475194300787238, -0.27958982407964644, -0.26878688620753405, -0.15494588907128382, 0.013149738323138552, 0.14746468057685636, 0.1613604941536008, 0.015655678119206595], [-0.13744303612382666, -0.1566196659245337, -0.17609791903434108, -0.16428358681856103, -0.11502394150038679, -0.04995805923122394, -0.0015798097452576487, 0.011203359233666402, -0.0012834113539876846, -0.0036451219877175617, 0.04167256917285847, 0.14574995042402905, 0.2767149036482907, 0.36783678885626053, 0.3493271556660067], [0.2629930813004626, 0.09453346642755522, -0.14442207142954092, -0.33956506518813534, -0.39596229741952743, -0.2823274964013943, -0.04117989991658007, 0.23714112095026427, 0.46050300472950495, 0.5762037249566396, 0.5871142764145486, 0.5372273348845863, 0.47779486297722673, 0.4349206404514016, 0.3972457752175676]]}],                        {\"height\": 800, \"scene\": {\"domain\": {\"x\": [0.0, 0.2888888888888889], \"y\": [0.7333333333333333, 1.0]}}, \"scene2\": {\"domain\": {\"x\": [0.35555555555555557, 0.6444444444444445], \"y\": [0.7333333333333333, 1.0]}}, \"scene3\": {\"domain\": {\"x\": [0.7111111111111111, 1.0], \"y\": [0.7333333333333333, 1.0]}}, \"scene4\": {\"domain\": {\"x\": [0.0, 0.2888888888888889], \"y\": [0.36666666666666664, 0.6333333333333333]}}, \"scene5\": {\"domain\": {\"x\": [0.35555555555555557, 0.6444444444444445], \"y\": [0.36666666666666664, 0.6333333333333333]}}, \"scene6\": {\"domain\": {\"x\": [0.7111111111111111, 1.0], \"y\": [0.36666666666666664, 0.6333333333333333]}}, \"scene7\": {\"domain\": {\"x\": [0.0, 0.2888888888888889], \"y\": [0.0, 0.26666666666666666]}}, \"scene8\": {\"domain\": {\"x\": [0.35555555555555557, 0.6444444444444445], \"y\": [0.0, 0.26666666666666666]}}, \"scene9\": {\"domain\": {\"x\": [0.7111111111111111, 1.0], \"y\": [0.0, 0.26666666666666666]}}, \"template\": {\"data\": {\"bar\": [{\"error_x\": {\"color\": \"#2a3f5f\"}, \"error_y\": {\"color\": \"#2a3f5f\"}, \"marker\": {\"line\": {\"color\": \"#E5ECF6\", \"width\": 0.5}}, \"type\": \"bar\"}], \"barpolar\": [{\"marker\": {\"line\": {\"color\": \"#E5ECF6\", \"width\": 0.5}}, \"type\": \"barpolar\"}], \"carpet\": [{\"aaxis\": {\"endlinecolor\": \"#2a3f5f\", \"gridcolor\": \"white\", \"linecolor\": \"white\", \"minorgridcolor\": \"white\", \"startlinecolor\": \"#2a3f5f\"}, \"baxis\": {\"endlinecolor\": \"#2a3f5f\", \"gridcolor\": \"white\", \"linecolor\": \"white\", \"minorgridcolor\": \"white\", \"startlinecolor\": \"#2a3f5f\"}, \"type\": \"carpet\"}], \"choropleth\": [{\"colorbar\": {\"outlinewidth\": 0, \"ticks\": \"\"}, \"type\": \"choropleth\"}], \"contour\": [{\"colorbar\": {\"outlinewidth\": 0, \"ticks\": \"\"}, \"colorscale\": [[0.0, \"#0d0887\"], [0.1111111111111111, \"#46039f\"], [0.2222222222222222, \"#7201a8\"], [0.3333333333333333, \"#9c179e\"], [0.4444444444444444, \"#bd3786\"], [0.5555555555555556, \"#d8576b\"], [0.6666666666666666, \"#ed7953\"], [0.7777777777777778, \"#fb9f3a\"], [0.8888888888888888, \"#fdca26\"], [1.0, \"#f0f921\"]], \"type\": \"contour\"}], \"contourcarpet\": [{\"colorbar\": {\"outlinewidth\": 0, \"ticks\": \"\"}, \"type\": \"contourcarpet\"}], \"heatmap\": [{\"colorbar\": {\"outlinewidth\": 0, \"ticks\": \"\"}, \"colorscale\": [[0.0, \"#0d0887\"], [0.1111111111111111, \"#46039f\"], [0.2222222222222222, \"#7201a8\"], [0.3333333333333333, \"#9c179e\"], [0.4444444444444444, \"#bd3786\"], [0.5555555555555556, \"#d8576b\"], [0.6666666666666666, \"#ed7953\"], [0.7777777777777778, \"#fb9f3a\"], [0.8888888888888888, \"#fdca26\"], [1.0, \"#f0f921\"]], \"type\": \"heatmap\"}], \"heatmapgl\": [{\"colorbar\": {\"outlinewidth\": 0, \"ticks\": \"\"}, \"colorscale\": [[0.0, \"#0d0887\"], [0.1111111111111111, \"#46039f\"], [0.2222222222222222, \"#7201a8\"], [0.3333333333333333, \"#9c179e\"], [0.4444444444444444, \"#bd3786\"], [0.5555555555555556, \"#d8576b\"], [0.6666666666666666, \"#ed7953\"], [0.7777777777777778, \"#fb9f3a\"], [0.8888888888888888, \"#fdca26\"], [1.0, \"#f0f921\"]], \"type\": \"heatmapgl\"}], \"histogram\": [{\"marker\": {\"colorbar\": {\"outlinewidth\": 0, \"ticks\": \"\"}}, \"type\": \"histogram\"}], \"histogram2d\": [{\"colorbar\": {\"outlinewidth\": 0, \"ticks\": \"\"}, \"colorscale\": [[0.0, \"#0d0887\"], [0.1111111111111111, \"#46039f\"], [0.2222222222222222, \"#7201a8\"], [0.3333333333333333, \"#9c179e\"], [0.4444444444444444, \"#bd3786\"], [0.5555555555555556, \"#d8576b\"], [0.6666666666666666, \"#ed7953\"], [0.7777777777777778, \"#fb9f3a\"], [0.8888888888888888, \"#fdca26\"], [1.0, \"#f0f921\"]], \"type\": \"histogram2d\"}], \"histogram2dcontour\": [{\"colorbar\": {\"outlinewidth\": 0, \"ticks\": \"\"}, \"colorscale\": [[0.0, \"#0d0887\"], [0.1111111111111111, \"#46039f\"], [0.2222222222222222, \"#7201a8\"], [0.3333333333333333, \"#9c179e\"], [0.4444444444444444, \"#bd3786\"], [0.5555555555555556, \"#d8576b\"], [0.6666666666666666, \"#ed7953\"], [0.7777777777777778, \"#fb9f3a\"], [0.8888888888888888, \"#fdca26\"], [1.0, \"#f0f921\"]], \"type\": \"histogram2dcontour\"}], \"mesh3d\": [{\"colorbar\": {\"outlinewidth\": 0, \"ticks\": \"\"}, \"type\": \"mesh3d\"}], \"parcoords\": [{\"line\": {\"colorbar\": {\"outlinewidth\": 0, \"ticks\": \"\"}}, \"type\": \"parcoords\"}], \"pie\": [{\"automargin\": true, \"type\": \"pie\"}], \"scatter\": [{\"marker\": {\"colorbar\": {\"outlinewidth\": 0, \"ticks\": \"\"}}, \"type\": \"scatter\"}], \"scatter3d\": [{\"line\": {\"colorbar\": {\"outlinewidth\": 0, \"ticks\": \"\"}}, \"marker\": {\"colorbar\": {\"outlinewidth\": 0, \"ticks\": \"\"}}, \"type\": \"scatter3d\"}], \"scattercarpet\": [{\"marker\": {\"colorbar\": {\"outlinewidth\": 0, \"ticks\": \"\"}}, \"type\": \"scattercarpet\"}], \"scattergeo\": [{\"marker\": {\"colorbar\": {\"outlinewidth\": 0, \"ticks\": \"\"}}, \"type\": \"scattergeo\"}], \"scattergl\": [{\"marker\": {\"colorbar\": {\"outlinewidth\": 0, \"ticks\": \"\"}}, \"type\": \"scattergl\"}], \"scattermapbox\": [{\"marker\": {\"colorbar\": {\"outlinewidth\": 0, \"ticks\": \"\"}}, \"type\": \"scattermapbox\"}], \"scatterpolar\": [{\"marker\": {\"colorbar\": {\"outlinewidth\": 0, \"ticks\": \"\"}}, \"type\": \"scatterpolar\"}], \"scatterpolargl\": [{\"marker\": {\"colorbar\": {\"outlinewidth\": 0, \"ticks\": \"\"}}, \"type\": \"scatterpolargl\"}], \"scatterternary\": [{\"marker\": {\"colorbar\": {\"outlinewidth\": 0, \"ticks\": \"\"}}, \"type\": \"scatterternary\"}], \"surface\": [{\"colorbar\": {\"outlinewidth\": 0, \"ticks\": \"\"}, \"colorscale\": [[0.0, \"#0d0887\"], [0.1111111111111111, \"#46039f\"], [0.2222222222222222, \"#7201a8\"], [0.3333333333333333, \"#9c179e\"], [0.4444444444444444, \"#bd3786\"], [0.5555555555555556, \"#d8576b\"], [0.6666666666666666, \"#ed7953\"], [0.7777777777777778, \"#fb9f3a\"], [0.8888888888888888, \"#fdca26\"], [1.0, \"#f0f921\"]], \"type\": \"surface\"}], \"table\": [{\"cells\": {\"fill\": {\"color\": \"#EBF0F8\"}, \"line\": {\"color\": \"white\"}}, \"header\": {\"fill\": {\"color\": \"#C8D4E3\"}, \"line\": {\"color\": \"white\"}}, \"type\": \"table\"}]}, \"layout\": {\"annotationdefaults\": {\"arrowcolor\": \"#2a3f5f\", \"arrowhead\": 0, \"arrowwidth\": 1}, \"autotypenumbers\": \"strict\", \"coloraxis\": {\"colorbar\": {\"outlinewidth\": 0, \"ticks\": \"\"}}, \"colorscale\": {\"diverging\": [[0, \"#8e0152\"], [0.1, \"#c51b7d\"], [0.2, \"#de77ae\"], [0.3, \"#f1b6da\"], [0.4, \"#fde0ef\"], [0.5, \"#f7f7f7\"], [0.6, \"#e6f5d0\"], [0.7, \"#b8e186\"], [0.8, \"#7fbc41\"], [0.9, \"#4d9221\"], [1, \"#276419\"]], \"sequential\": [[0.0, \"#0d0887\"], [0.1111111111111111, \"#46039f\"], [0.2222222222222222, \"#7201a8\"], [0.3333333333333333, \"#9c179e\"], [0.4444444444444444, \"#bd3786\"], [0.5555555555555556, \"#d8576b\"], [0.6666666666666666, \"#ed7953\"], [0.7777777777777778, \"#fb9f3a\"], [0.8888888888888888, \"#fdca26\"], [1.0, \"#f0f921\"]], \"sequentialminus\": [[0.0, \"#0d0887\"], [0.1111111111111111, \"#46039f\"], [0.2222222222222222, \"#7201a8\"], [0.3333333333333333, \"#9c179e\"], [0.4444444444444444, \"#bd3786\"], [0.5555555555555556, \"#d8576b\"], [0.6666666666666666, \"#ed7953\"], [0.7777777777777778, \"#fb9f3a\"], [0.8888888888888888, \"#fdca26\"], [1.0, \"#f0f921\"]]}, \"colorway\": [\"#636efa\", \"#EF553B\", \"#00cc96\", \"#ab63fa\", \"#FFA15A\", \"#19d3f3\", \"#FF6692\", \"#B6E880\", \"#FF97FF\", \"#FECB52\"], \"font\": {\"color\": \"#2a3f5f\"}, \"geo\": {\"bgcolor\": \"white\", \"lakecolor\": \"white\", \"landcolor\": \"#E5ECF6\", \"showlakes\": true, \"showland\": true, \"subunitcolor\": \"white\"}, \"hoverlabel\": {\"align\": \"left\"}, \"hovermode\": \"closest\", \"mapbox\": {\"style\": \"light\"}, \"paper_bgcolor\": \"white\", \"plot_bgcolor\": \"#E5ECF6\", \"polar\": {\"angularaxis\": {\"gridcolor\": \"white\", \"linecolor\": \"white\", \"ticks\": \"\"}, \"bgcolor\": \"#E5ECF6\", \"radialaxis\": {\"gridcolor\": \"white\", \"linecolor\": \"white\", \"ticks\": \"\"}}, \"scene\": {\"xaxis\": {\"backgroundcolor\": \"#E5ECF6\", \"gridcolor\": \"white\", \"gridwidth\": 2, \"linecolor\": \"white\", \"showbackground\": true, \"ticks\": \"\", \"zerolinecolor\": \"white\"}, \"yaxis\": {\"backgroundcolor\": \"#E5ECF6\", \"gridcolor\": \"white\", \"gridwidth\": 2, \"linecolor\": \"white\", \"showbackground\": true, \"ticks\": \"\", \"zerolinecolor\": \"white\"}, \"zaxis\": {\"backgroundcolor\": \"#E5ECF6\", \"gridcolor\": \"white\", \"gridwidth\": 2, \"linecolor\": \"white\", \"showbackground\": true, \"ticks\": \"\", \"zerolinecolor\": \"white\"}}, \"shapedefaults\": {\"line\": {\"color\": \"#2a3f5f\"}}, \"ternary\": {\"aaxis\": {\"gridcolor\": \"white\", \"linecolor\": \"white\", \"ticks\": \"\"}, \"baxis\": {\"gridcolor\": \"white\", \"linecolor\": \"white\", \"ticks\": \"\"}, \"bgcolor\": \"#E5ECF6\", \"caxis\": {\"gridcolor\": \"white\", \"linecolor\": \"white\", \"ticks\": \"\"}}, \"title\": {\"x\": 0.05}, \"xaxis\": {\"automargin\": true, \"gridcolor\": \"white\", \"linecolor\": \"white\", \"ticks\": \"\", \"title\": {\"standoff\": 15}, \"zerolinecolor\": \"white\", \"zerolinewidth\": 2}, \"yaxis\": {\"automargin\": true, \"gridcolor\": \"white\", \"linecolor\": \"white\", \"ticks\": \"\", \"title\": {\"standoff\": 15}, \"zerolinecolor\": \"white\", \"zerolinewidth\": 2}}}, \"title\": {\"text\": \"Energy Landscape\"}, \"width\": 800},                        {\"responsive\": true}                    ).then(function(){\n",
       "                            \n",
       "var gd = document.getElementById('82a2b90e-f5c0-4475-af77-b1aa029ed636');\n",
       "var x = new MutationObserver(function (mutations, observer) {{\n",
       "        var display = window.getComputedStyle(gd).display;\n",
       "        if (!display || display === 'none') {{\n",
       "            console.log([gd, 'removed!']);\n",
       "            Plotly.purge(gd);\n",
       "            observer.disconnect();\n",
       "        }}\n",
       "}});\n",
       "\n",
       "// Listen for the removal of the full notebook cells\n",
       "var notebookContainer = gd.closest('#notebook-container');\n",
       "if (notebookContainer) {{\n",
       "    x.observe(notebookContainer, {childList: true});\n",
       "}}\n",
       "\n",
       "// Listen for the clearing of the current output cell\n",
       "var outputEl = gd.closest('.output');\n",
       "if (outputEl) {{\n",
       "    x.observe(outputEl, {childList: true});\n",
       "}}\n",
       "\n",
       "                        })                };                });            </script>        </div>"
      ]
     },
     "metadata": {},
     "output_type": "display_data"
    }
   ],
   "source": [
    "total_qubit=3 #number of qubit\n",
    "p=3 #number of layers\n",
    "\n",
    "#defining the problem\n",
    "J=np.random.rand(total_qubit,total_qubit) #creating the couping parameters,still directional in this instance)\n",
    "for i in range(total_qubit):\n",
    "    for j in range(i,total_qubit):\n",
    "        temp=(J[i][j]+J[j][i])/2.0\n",
    "        J[i][j]=temp\n",
    "        J[j][i]=temp\n",
    "#Now J is undirectional\n",
    "\n",
    "graph = Graph(total_qubit,J)\n",
    "arg=(p,graph)\n",
    "\n",
    "#declaring QAOA parameters\n",
    "gamma_in=np.random.rand(p)\n",
    "beta_in=np.random.rand(p)\n",
    "##How do we link this to the parameter space we want to visualize?\n",
    "\n",
    "#Let's select the space here\n",
    "#Randomly, as a test\n",
    "#gamma_d=np.random.randint(0,len(gamma_in))\n",
    "#beta_d=np.random.randint(0,len(beta_in))\n",
    "\n",
    "#Define the space\n",
    "gamma0=np.linspace(-2, 2, 15)\n",
    "beta0=np.linspace(-2, 2, 15)\n",
    "X, Y = np.meshgrid(gamma0, beta0)\n",
    "\n",
    "z=np.zeros((len(gamma0),len(beta0)))\n",
    "\n",
    "eta=0.1\n",
    "\n",
    "fig = make_subplots(\n",
    "    rows=p, cols=p,\n",
    "    specs=[[{'type': 'surface'},{'type': 'surface'}, {'type': 'surface'}], #Still need to automate this part\n",
    "           [{'type': 'surface'},{'type': 'surface'}, {'type': 'surface'}],\n",
    "           [{'type': 'surface'},{'type': 'surface'}, {'type': 'surface'}]])\n",
    "\n",
    "for gamma_d in range(len(gamma_in)):\n",
    "    for beta_d in range(len(gamma_in)):\n",
    "        landscape=np.zeros((len(gamma0),len(beta0)))\n",
    "        for k in range(len(gamma0)):\n",
    "            for l in range(len(beta0)):\n",
    "                #creating x0\n",
    "                temp_gamma=gamma_in\n",
    "                temp_gamma[gamma_d]=gamma0[k]\n",
    "                temp_beta=beta_in\n",
    "                temp_beta[beta_d]=beta0[l]\n",
    "                x0=np.append(temp_gamma,temp_beta)\n",
    "                #print(x0)\n",
    "\n",
    "                #res=minimize(AveEnergy,x0,arg,method='Nelder-Mead')\n",
    "                #z[k][l]=res.fun\n",
    "                landscape[k][l]=AveEnergy(x0,*arg)\n",
    "                #print(z[k][l])\n",
    "        fig.add_trace(\n",
    "        go.Surface(x=X, y=Y, z=landscape, showscale=False),\n",
    "        row=gamma_d+1, col=beta_d+1)\n",
    "                \n",
    "fig.update_layout(\n",
    "    title_text='Energy Landscape',\n",
    "    height=800,\n",
    "    width=800\n",
    ")\n",
    "\n",
    "fig.show()"
   ]
  },
  {
   "cell_type": "code",
   "execution_count": 14,
   "metadata": {},
   "outputs": [
    {
     "data": {
      "application/vnd.plotly.v1+json": {
       "config": {
        "plotlyServerURL": "https://plot.ly"
       },
       "data": [
        {
         "type": "surface",
         "z": [
          [
           0.40351122411254936,
           0.6579233036499593,
           0.8242652537942204,
           0.8470566537014466,
           0.7184685159390501,
           0.4807382179965365,
           0.21195693075339733,
           0,
           -0.0866897227726808,
           -0.021728666178986285,
           0.17068305561783303,
           0.4241251914564791,
           0.65234978570319,
           0.7781700906033612,
           0.7591718440922992
          ],
          [
           -0.015499932921771105,
           0.2521651413811574,
           0.4795982826934198,
           0.590199363451691,
           0.5463007869677027,
           0.36154534166209146,
           0.09617349576322741,
           -0.1631709265224944,
           -0.3323485471672386,
           -0.3576865874186972,
           -0.23367668944138725,
           -0.004542390037225737,
           0.2507854808984979,
           0.4452031909986695,
           0.512567475834641
          ],
          [
           -0.3009813863811679,
           -0.08209283939786438,
           0.1793883425154864,
           0.39489935094289486,
           0.4913836397488049,
           0.4355194627329484,
           0.24466693874444073,
           -0.019085162728713495,
           -0.2697463251237142,
           -0.426138726227365,
           -0.438896976115173,
           -0.30674950508066223,
           -0.07668496067341872,
           0.17199087976753558,
           0.35431705917677936
          ],
          [
           -0.3331073832562006,
           -0.20398364656014,
           0.05048363780629446,
           0.34379873914000314,
           0.5768321324726363,
           0.6708149088200055,
           0.593474966954032,
           0.3696162269164814,
           0.07265031387404927,
           -0.20004314579794968,
           -0.3596576422692263,
           -0.35551444245029423,
           -0.19177186841263993,
           0.07424587562101234,
           0.3514716201260786
          ],
          [
           -0.08445107597438994,
           -0.051076341697090286,
           0.15510262787098353,
           0.46382607856532027,
           0.7709970011398877,
           0.9734008879491677,
           1.0030496642081916,
           0.8496967598319157,
           0.5640399520259293,
           0.24059373195461384,
           -0.013993065245506975,
           -0.11654991448616922,
           -0.03501896721023181,
           0.20109440997389472,
           0.5108843413849327
          ],
          [
           0.36650334125314726,
           0.3339830154805259,
           0.46497747492590363,
           0.7147547823469919,
           0.9992584592707545,
           1.2231857724453832,
           1.3117480257482925,
           1.2355096660812979,
           1.02003309430881,
           0.7371487551837957,
           0.48081724005008963,
           0.3356925290934454,
           0.34891346349494246,
           0.5145400629533893,
           0.7757922070589619
          ],
          [
           0.8619357753506491,
           0.8171035282185989,
           0.8705674721472727,
           1.004030659330309,
           1.172663260457771,
           1.3200978893037256,
           1.397235899364801,
           1.3785809050095263,
           1.2706528964348525,
           1.1096936410021692,
           0.9494595814990567,
           0.8432103076302884,
           0.8259305049552238,
           0.9027276601330562,
           1.0472633083700265
          ],
          [
           1.2223658904287147,
           1.2223658904287142,
           1.2223658904287145,
           1.2223658904287142,
           1.2223658904287136,
           1.2223658904287142,
           1.2223658904287131,
           1.222365890428714,
           1.222365890428714,
           1.222365890428714,
           1.2223658904287138,
           1.2223658904287142,
           1.2223658904287138,
           1.2223658904287138,
           1.2223658904287147
          ],
          [
           1.3142150868334925,
           1.3991411949896426,
           1.3886275521561728,
           1.2863465037556996,
           1.126489319661249,
           0.9622914729112029,
           0.8482332615991436,
           0.8218725280433048,
           0.8913782027219765,
           1.0329148598824454,
           1.1987248384527691,
           1.3331744392038405,
           1.391373837675719,
           1.354134700787126,
           1.234274240500935
          ],
          [
           1.1016646589188084,
           1.2809640763611088,
           1.3071274428340731,
           1.1713859785426863,
           0.9188950785668581,
           0.6335323919201009,
           0.40981378028186854,
           0.32133568098961507,
           0.39629546082958783,
           0.6082517043643731,
           0.8851698383481437,
           1.133673575582544,
           1.2703430580420427,
           1.2495658397319496,
           1.078632905423018
          ],
          [
           0.6625920205740001,
           0.9130713599248443,
           1.010561163113515,
           0.9219823418115416,
           0.6763507452832674,
           0.3549192282702781,
           0.063910506782074,
           -0.10100862054705048,
           -0.08661843038138889,
           0.10024769002039016,
           0.3952275961207493,
           0.6981790022160947,
           0.906814582288186,
           0.9509282485509793,
           0.8157542579881728
          ],
          [
           0.16165002440900583,
           0.4372571047285,
           0.6152480430261555,
           0.6350308332849256,
           0.4889871369404081,
           0.22484663783968545,
           -0.0704257740689426,
           -0.299798106491385,
           -0.3886085559000287,
           -0.3094161743653789,
           -0.09097615946457971,
           0.19161252477549126,
           0.442227796038277,
           0.5759845633272092,
           0.5476082178946705
          ],
          [
           -0.2101940615595508,
           0.039089771378808036,
           0.27704495386737593,
           0.42248743010828094,
           0.4254667175907319,
           0.2838285847740073,
           0.043758870562436256,
           -0.21582719466742373,
           -0.40978126562818146,
           -0.47520659305843677,
           -0.3923938209863485,
           -0.19122624306304034,
           0.05903957737672484,
           0.2731366716604483,
           0.37842078184589
          ],
          [
           -0.30732133139509343,
           -0.12274056571854944,
           0.1312706119572536,
           0.36783246878018766,
           0.5063802807118079,
           0.4995441890027066,
           0.34883281608567196,
           0.10391475837161936,
           -0.15420409201124521,
           -0.34042024185808006,
           -0.39403286003712723,
           -0.2989564128817713,
           -0.08890628414170584,
           0.1641232619198902,
           0.3741635350896225
          ],
          [
           -0.08527125579123296,
           0.022095584473881588,
           0.2398952862899778,
           0.49332255505845307,
           0.6962197358012789,
           0.7799311483210489,
           0.7161621525141187,
           0.526223534204399,
           0.2736276785379718,
           0.042588859556089924,
           -0.09030882122468216,
           -0.08175191124104994,
           0.06393728485855757,
           0.2964799819426188,
           0.5367334859131652
          ]
         ]
        }
       ],
       "layout": {
        "autosize": false,
        "height": 500,
        "margin": {
         "b": 65,
         "l": 65,
         "r": 50,
         "t": 90
        },
        "template": {
         "data": {
          "bar": [
           {
            "error_x": {
             "color": "#2a3f5f"
            },
            "error_y": {
             "color": "#2a3f5f"
            },
            "marker": {
             "line": {
              "color": "#E5ECF6",
              "width": 0.5
             }
            },
            "type": "bar"
           }
          ],
          "barpolar": [
           {
            "marker": {
             "line": {
              "color": "#E5ECF6",
              "width": 0.5
             }
            },
            "type": "barpolar"
           }
          ],
          "carpet": [
           {
            "aaxis": {
             "endlinecolor": "#2a3f5f",
             "gridcolor": "white",
             "linecolor": "white",
             "minorgridcolor": "white",
             "startlinecolor": "#2a3f5f"
            },
            "baxis": {
             "endlinecolor": "#2a3f5f",
             "gridcolor": "white",
             "linecolor": "white",
             "minorgridcolor": "white",
             "startlinecolor": "#2a3f5f"
            },
            "type": "carpet"
           }
          ],
          "choropleth": [
           {
            "colorbar": {
             "outlinewidth": 0,
             "ticks": ""
            },
            "type": "choropleth"
           }
          ],
          "contour": [
           {
            "colorbar": {
             "outlinewidth": 0,
             "ticks": ""
            },
            "colorscale": [
             [
              0,
              "#0d0887"
             ],
             [
              0.1111111111111111,
              "#46039f"
             ],
             [
              0.2222222222222222,
              "#7201a8"
             ],
             [
              0.3333333333333333,
              "#9c179e"
             ],
             [
              0.4444444444444444,
              "#bd3786"
             ],
             [
              0.5555555555555556,
              "#d8576b"
             ],
             [
              0.6666666666666666,
              "#ed7953"
             ],
             [
              0.7777777777777778,
              "#fb9f3a"
             ],
             [
              0.8888888888888888,
              "#fdca26"
             ],
             [
              1,
              "#f0f921"
             ]
            ],
            "type": "contour"
           }
          ],
          "contourcarpet": [
           {
            "colorbar": {
             "outlinewidth": 0,
             "ticks": ""
            },
            "type": "contourcarpet"
           }
          ],
          "heatmap": [
           {
            "colorbar": {
             "outlinewidth": 0,
             "ticks": ""
            },
            "colorscale": [
             [
              0,
              "#0d0887"
             ],
             [
              0.1111111111111111,
              "#46039f"
             ],
             [
              0.2222222222222222,
              "#7201a8"
             ],
             [
              0.3333333333333333,
              "#9c179e"
             ],
             [
              0.4444444444444444,
              "#bd3786"
             ],
             [
              0.5555555555555556,
              "#d8576b"
             ],
             [
              0.6666666666666666,
              "#ed7953"
             ],
             [
              0.7777777777777778,
              "#fb9f3a"
             ],
             [
              0.8888888888888888,
              "#fdca26"
             ],
             [
              1,
              "#f0f921"
             ]
            ],
            "type": "heatmap"
           }
          ],
          "heatmapgl": [
           {
            "colorbar": {
             "outlinewidth": 0,
             "ticks": ""
            },
            "colorscale": [
             [
              0,
              "#0d0887"
             ],
             [
              0.1111111111111111,
              "#46039f"
             ],
             [
              0.2222222222222222,
              "#7201a8"
             ],
             [
              0.3333333333333333,
              "#9c179e"
             ],
             [
              0.4444444444444444,
              "#bd3786"
             ],
             [
              0.5555555555555556,
              "#d8576b"
             ],
             [
              0.6666666666666666,
              "#ed7953"
             ],
             [
              0.7777777777777778,
              "#fb9f3a"
             ],
             [
              0.8888888888888888,
              "#fdca26"
             ],
             [
              1,
              "#f0f921"
             ]
            ],
            "type": "heatmapgl"
           }
          ],
          "histogram": [
           {
            "marker": {
             "colorbar": {
              "outlinewidth": 0,
              "ticks": ""
             }
            },
            "type": "histogram"
           }
          ],
          "histogram2d": [
           {
            "colorbar": {
             "outlinewidth": 0,
             "ticks": ""
            },
            "colorscale": [
             [
              0,
              "#0d0887"
             ],
             [
              0.1111111111111111,
              "#46039f"
             ],
             [
              0.2222222222222222,
              "#7201a8"
             ],
             [
              0.3333333333333333,
              "#9c179e"
             ],
             [
              0.4444444444444444,
              "#bd3786"
             ],
             [
              0.5555555555555556,
              "#d8576b"
             ],
             [
              0.6666666666666666,
              "#ed7953"
             ],
             [
              0.7777777777777778,
              "#fb9f3a"
             ],
             [
              0.8888888888888888,
              "#fdca26"
             ],
             [
              1,
              "#f0f921"
             ]
            ],
            "type": "histogram2d"
           }
          ],
          "histogram2dcontour": [
           {
            "colorbar": {
             "outlinewidth": 0,
             "ticks": ""
            },
            "colorscale": [
             [
              0,
              "#0d0887"
             ],
             [
              0.1111111111111111,
              "#46039f"
             ],
             [
              0.2222222222222222,
              "#7201a8"
             ],
             [
              0.3333333333333333,
              "#9c179e"
             ],
             [
              0.4444444444444444,
              "#bd3786"
             ],
             [
              0.5555555555555556,
              "#d8576b"
             ],
             [
              0.6666666666666666,
              "#ed7953"
             ],
             [
              0.7777777777777778,
              "#fb9f3a"
             ],
             [
              0.8888888888888888,
              "#fdca26"
             ],
             [
              1,
              "#f0f921"
             ]
            ],
            "type": "histogram2dcontour"
           }
          ],
          "mesh3d": [
           {
            "colorbar": {
             "outlinewidth": 0,
             "ticks": ""
            },
            "type": "mesh3d"
           }
          ],
          "parcoords": [
           {
            "line": {
             "colorbar": {
              "outlinewidth": 0,
              "ticks": ""
             }
            },
            "type": "parcoords"
           }
          ],
          "pie": [
           {
            "automargin": true,
            "type": "pie"
           }
          ],
          "scatter": [
           {
            "marker": {
             "colorbar": {
              "outlinewidth": 0,
              "ticks": ""
             }
            },
            "type": "scatter"
           }
          ],
          "scatter3d": [
           {
            "line": {
             "colorbar": {
              "outlinewidth": 0,
              "ticks": ""
             }
            },
            "marker": {
             "colorbar": {
              "outlinewidth": 0,
              "ticks": ""
             }
            },
            "type": "scatter3d"
           }
          ],
          "scattercarpet": [
           {
            "marker": {
             "colorbar": {
              "outlinewidth": 0,
              "ticks": ""
             }
            },
            "type": "scattercarpet"
           }
          ],
          "scattergeo": [
           {
            "marker": {
             "colorbar": {
              "outlinewidth": 0,
              "ticks": ""
             }
            },
            "type": "scattergeo"
           }
          ],
          "scattergl": [
           {
            "marker": {
             "colorbar": {
              "outlinewidth": 0,
              "ticks": ""
             }
            },
            "type": "scattergl"
           }
          ],
          "scattermapbox": [
           {
            "marker": {
             "colorbar": {
              "outlinewidth": 0,
              "ticks": ""
             }
            },
            "type": "scattermapbox"
           }
          ],
          "scatterpolar": [
           {
            "marker": {
             "colorbar": {
              "outlinewidth": 0,
              "ticks": ""
             }
            },
            "type": "scatterpolar"
           }
          ],
          "scatterpolargl": [
           {
            "marker": {
             "colorbar": {
              "outlinewidth": 0,
              "ticks": ""
             }
            },
            "type": "scatterpolargl"
           }
          ],
          "scatterternary": [
           {
            "marker": {
             "colorbar": {
              "outlinewidth": 0,
              "ticks": ""
             }
            },
            "type": "scatterternary"
           }
          ],
          "surface": [
           {
            "colorbar": {
             "outlinewidth": 0,
             "ticks": ""
            },
            "colorscale": [
             [
              0,
              "#0d0887"
             ],
             [
              0.1111111111111111,
              "#46039f"
             ],
             [
              0.2222222222222222,
              "#7201a8"
             ],
             [
              0.3333333333333333,
              "#9c179e"
             ],
             [
              0.4444444444444444,
              "#bd3786"
             ],
             [
              0.5555555555555556,
              "#d8576b"
             ],
             [
              0.6666666666666666,
              "#ed7953"
             ],
             [
              0.7777777777777778,
              "#fb9f3a"
             ],
             [
              0.8888888888888888,
              "#fdca26"
             ],
             [
              1,
              "#f0f921"
             ]
            ],
            "type": "surface"
           }
          ],
          "table": [
           {
            "cells": {
             "fill": {
              "color": "#EBF0F8"
             },
             "line": {
              "color": "white"
             }
            },
            "header": {
             "fill": {
              "color": "#C8D4E3"
             },
             "line": {
              "color": "white"
             }
            },
            "type": "table"
           }
          ]
         },
         "layout": {
          "annotationdefaults": {
           "arrowcolor": "#2a3f5f",
           "arrowhead": 0,
           "arrowwidth": 1
          },
          "autotypenumbers": "strict",
          "coloraxis": {
           "colorbar": {
            "outlinewidth": 0,
            "ticks": ""
           }
          },
          "colorscale": {
           "diverging": [
            [
             0,
             "#8e0152"
            ],
            [
             0.1,
             "#c51b7d"
            ],
            [
             0.2,
             "#de77ae"
            ],
            [
             0.3,
             "#f1b6da"
            ],
            [
             0.4,
             "#fde0ef"
            ],
            [
             0.5,
             "#f7f7f7"
            ],
            [
             0.6,
             "#e6f5d0"
            ],
            [
             0.7,
             "#b8e186"
            ],
            [
             0.8,
             "#7fbc41"
            ],
            [
             0.9,
             "#4d9221"
            ],
            [
             1,
             "#276419"
            ]
           ],
           "sequential": [
            [
             0,
             "#0d0887"
            ],
            [
             0.1111111111111111,
             "#46039f"
            ],
            [
             0.2222222222222222,
             "#7201a8"
            ],
            [
             0.3333333333333333,
             "#9c179e"
            ],
            [
             0.4444444444444444,
             "#bd3786"
            ],
            [
             0.5555555555555556,
             "#d8576b"
            ],
            [
             0.6666666666666666,
             "#ed7953"
            ],
            [
             0.7777777777777778,
             "#fb9f3a"
            ],
            [
             0.8888888888888888,
             "#fdca26"
            ],
            [
             1,
             "#f0f921"
            ]
           ],
           "sequentialminus": [
            [
             0,
             "#0d0887"
            ],
            [
             0.1111111111111111,
             "#46039f"
            ],
            [
             0.2222222222222222,
             "#7201a8"
            ],
            [
             0.3333333333333333,
             "#9c179e"
            ],
            [
             0.4444444444444444,
             "#bd3786"
            ],
            [
             0.5555555555555556,
             "#d8576b"
            ],
            [
             0.6666666666666666,
             "#ed7953"
            ],
            [
             0.7777777777777778,
             "#fb9f3a"
            ],
            [
             0.8888888888888888,
             "#fdca26"
            ],
            [
             1,
             "#f0f921"
            ]
           ]
          },
          "colorway": [
           "#636efa",
           "#EF553B",
           "#00cc96",
           "#ab63fa",
           "#FFA15A",
           "#19d3f3",
           "#FF6692",
           "#B6E880",
           "#FF97FF",
           "#FECB52"
          ],
          "font": {
           "color": "#2a3f5f"
          },
          "geo": {
           "bgcolor": "white",
           "lakecolor": "white",
           "landcolor": "#E5ECF6",
           "showlakes": true,
           "showland": true,
           "subunitcolor": "white"
          },
          "hoverlabel": {
           "align": "left"
          },
          "hovermode": "closest",
          "mapbox": {
           "style": "light"
          },
          "paper_bgcolor": "white",
          "plot_bgcolor": "#E5ECF6",
          "polar": {
           "angularaxis": {
            "gridcolor": "white",
            "linecolor": "white",
            "ticks": ""
           },
           "bgcolor": "#E5ECF6",
           "radialaxis": {
            "gridcolor": "white",
            "linecolor": "white",
            "ticks": ""
           }
          },
          "scene": {
           "xaxis": {
            "backgroundcolor": "#E5ECF6",
            "gridcolor": "white",
            "gridwidth": 2,
            "linecolor": "white",
            "showbackground": true,
            "ticks": "",
            "zerolinecolor": "white"
           },
           "yaxis": {
            "backgroundcolor": "#E5ECF6",
            "gridcolor": "white",
            "gridwidth": 2,
            "linecolor": "white",
            "showbackground": true,
            "ticks": "",
            "zerolinecolor": "white"
           },
           "zaxis": {
            "backgroundcolor": "#E5ECF6",
            "gridcolor": "white",
            "gridwidth": 2,
            "linecolor": "white",
            "showbackground": true,
            "ticks": "",
            "zerolinecolor": "white"
           }
          },
          "shapedefaults": {
           "line": {
            "color": "#2a3f5f"
           }
          },
          "ternary": {
           "aaxis": {
            "gridcolor": "white",
            "linecolor": "white",
            "ticks": ""
           },
           "baxis": {
            "gridcolor": "white",
            "linecolor": "white",
            "ticks": ""
           },
           "bgcolor": "#E5ECF6",
           "caxis": {
            "gridcolor": "white",
            "linecolor": "white",
            "ticks": ""
           }
          },
          "title": {
           "x": 0.05
          },
          "xaxis": {
           "automargin": true,
           "gridcolor": "white",
           "linecolor": "white",
           "ticks": "",
           "title": {
            "standoff": 15
           },
           "zerolinecolor": "white",
           "zerolinewidth": 2
          },
          "yaxis": {
           "automargin": true,
           "gridcolor": "white",
           "linecolor": "white",
           "ticks": "",
           "title": {
            "standoff": 15
           },
           "zerolinecolor": "white",
           "zerolinewidth": 2
          }
         }
        },
        "title": {
         "text": "Energy Landscape"
        },
        "width": 500
       }
      },
      "text/html": [
       "<div>                            <div id=\"e0eab734-fd80-44bc-a047-6de815f9f492\" class=\"plotly-graph-div\" style=\"height:500px; width:500px;\"></div>            <script type=\"text/javascript\">                require([\"plotly\"], function(Plotly) {                    window.PLOTLYENV=window.PLOTLYENV || {};                                    if (document.getElementById(\"e0eab734-fd80-44bc-a047-6de815f9f492\")) {                    Plotly.newPlot(                        \"e0eab734-fd80-44bc-a047-6de815f9f492\",                        [{\"type\": \"surface\", \"z\": [[0.40351122411254936, 0.6579233036499593, 0.8242652537942204, 0.8470566537014466, 0.7184685159390501, 0.4807382179965365, 0.21195693075339733, 0.0, -0.0866897227726808, -0.021728666178986285, 0.17068305561783303, 0.4241251914564791, 0.65234978570319, 0.7781700906033612, 0.7591718440922992], [-0.015499932921771105, 0.2521651413811574, 0.4795982826934198, 0.590199363451691, 0.5463007869677027, 0.36154534166209146, 0.09617349576322741, -0.1631709265224944, -0.3323485471672386, -0.3576865874186972, -0.23367668944138725, -0.004542390037225737, 0.2507854808984979, 0.4452031909986695, 0.512567475834641], [-0.3009813863811679, -0.08209283939786438, 0.1793883425154864, 0.39489935094289486, 0.4913836397488049, 0.4355194627329484, 0.24466693874444073, -0.019085162728713495, -0.2697463251237142, -0.426138726227365, -0.438896976115173, -0.30674950508066223, -0.07668496067341872, 0.17199087976753558, 0.35431705917677936], [-0.3331073832562006, -0.20398364656014, 0.05048363780629446, 0.34379873914000314, 0.5768321324726363, 0.6708149088200055, 0.593474966954032, 0.3696162269164814, 0.07265031387404927, -0.20004314579794968, -0.3596576422692263, -0.35551444245029423, -0.19177186841263993, 0.07424587562101234, 0.3514716201260786], [-0.08445107597438994, -0.051076341697090286, 0.15510262787098353, 0.46382607856532027, 0.7709970011398877, 0.9734008879491677, 1.0030496642081916, 0.8496967598319157, 0.5640399520259293, 0.24059373195461384, -0.013993065245506975, -0.11654991448616922, -0.03501896721023181, 0.20109440997389472, 0.5108843413849327], [0.36650334125314726, 0.3339830154805259, 0.46497747492590363, 0.7147547823469919, 0.9992584592707545, 1.2231857724453832, 1.3117480257482925, 1.2355096660812979, 1.02003309430881, 0.7371487551837957, 0.48081724005008963, 0.3356925290934454, 0.34891346349494246, 0.5145400629533893, 0.7757922070589619], [0.8619357753506491, 0.8171035282185989, 0.8705674721472727, 1.004030659330309, 1.172663260457771, 1.3200978893037256, 1.397235899364801, 1.3785809050095263, 1.2706528964348525, 1.1096936410021692, 0.9494595814990567, 0.8432103076302884, 0.8259305049552238, 0.9027276601330562, 1.0472633083700265], [1.2223658904287147, 1.2223658904287142, 1.2223658904287145, 1.2223658904287142, 1.2223658904287136, 1.2223658904287142, 1.2223658904287131, 1.222365890428714, 1.222365890428714, 1.222365890428714, 1.2223658904287138, 1.2223658904287142, 1.2223658904287138, 1.2223658904287138, 1.2223658904287147], [1.3142150868334925, 1.3991411949896426, 1.3886275521561728, 1.2863465037556996, 1.126489319661249, 0.9622914729112029, 0.8482332615991436, 0.8218725280433048, 0.8913782027219765, 1.0329148598824454, 1.1987248384527691, 1.3331744392038405, 1.391373837675719, 1.354134700787126, 1.234274240500935], [1.1016646589188084, 1.2809640763611088, 1.3071274428340731, 1.1713859785426863, 0.9188950785668581, 0.6335323919201009, 0.40981378028186854, 0.32133568098961507, 0.39629546082958783, 0.6082517043643731, 0.8851698383481437, 1.133673575582544, 1.2703430580420427, 1.2495658397319496, 1.078632905423018], [0.6625920205740001, 0.9130713599248443, 1.010561163113515, 0.9219823418115416, 0.6763507452832674, 0.3549192282702781, 0.063910506782074, -0.10100862054705048, -0.08661843038138889, 0.10024769002039016, 0.3952275961207493, 0.6981790022160947, 0.906814582288186, 0.9509282485509793, 0.8157542579881728], [0.16165002440900583, 0.4372571047285, 0.6152480430261555, 0.6350308332849256, 0.4889871369404081, 0.22484663783968545, -0.0704257740689426, -0.299798106491385, -0.3886085559000287, -0.3094161743653789, -0.09097615946457971, 0.19161252477549126, 0.442227796038277, 0.5759845633272092, 0.5476082178946705], [-0.2101940615595508, 0.039089771378808036, 0.27704495386737593, 0.42248743010828094, 0.4254667175907319, 0.2838285847740073, 0.043758870562436256, -0.21582719466742373, -0.40978126562818146, -0.47520659305843677, -0.3923938209863485, -0.19122624306304034, 0.05903957737672484, 0.2731366716604483, 0.37842078184589], [-0.30732133139509343, -0.12274056571854944, 0.1312706119572536, 0.36783246878018766, 0.5063802807118079, 0.4995441890027066, 0.34883281608567196, 0.10391475837161936, -0.15420409201124521, -0.34042024185808006, -0.39403286003712723, -0.2989564128817713, -0.08890628414170584, 0.1641232619198902, 0.3741635350896225], [-0.08527125579123296, 0.022095584473881588, 0.2398952862899778, 0.49332255505845307, 0.6962197358012789, 0.7799311483210489, 0.7161621525141187, 0.526223534204399, 0.2736276785379718, 0.042588859556089924, -0.09030882122468216, -0.08175191124104994, 0.06393728485855757, 0.2964799819426188, 0.5367334859131652]]}],                        {\"autosize\": false, \"height\": 500, \"margin\": {\"b\": 65, \"l\": 65, \"r\": 50, \"t\": 90}, \"template\": {\"data\": {\"bar\": [{\"error_x\": {\"color\": \"#2a3f5f\"}, \"error_y\": {\"color\": \"#2a3f5f\"}, \"marker\": {\"line\": {\"color\": \"#E5ECF6\", \"width\": 0.5}}, \"type\": \"bar\"}], \"barpolar\": [{\"marker\": {\"line\": {\"color\": \"#E5ECF6\", \"width\": 0.5}}, \"type\": \"barpolar\"}], \"carpet\": [{\"aaxis\": {\"endlinecolor\": \"#2a3f5f\", \"gridcolor\": \"white\", \"linecolor\": \"white\", \"minorgridcolor\": \"white\", \"startlinecolor\": \"#2a3f5f\"}, \"baxis\": {\"endlinecolor\": \"#2a3f5f\", \"gridcolor\": \"white\", \"linecolor\": \"white\", \"minorgridcolor\": \"white\", \"startlinecolor\": \"#2a3f5f\"}, \"type\": \"carpet\"}], \"choropleth\": [{\"colorbar\": {\"outlinewidth\": 0, \"ticks\": \"\"}, \"type\": \"choropleth\"}], \"contour\": [{\"colorbar\": {\"outlinewidth\": 0, \"ticks\": \"\"}, \"colorscale\": [[0.0, \"#0d0887\"], [0.1111111111111111, \"#46039f\"], [0.2222222222222222, \"#7201a8\"], [0.3333333333333333, \"#9c179e\"], [0.4444444444444444, \"#bd3786\"], [0.5555555555555556, \"#d8576b\"], [0.6666666666666666, \"#ed7953\"], [0.7777777777777778, \"#fb9f3a\"], [0.8888888888888888, \"#fdca26\"], [1.0, \"#f0f921\"]], \"type\": \"contour\"}], \"contourcarpet\": [{\"colorbar\": {\"outlinewidth\": 0, \"ticks\": \"\"}, \"type\": \"contourcarpet\"}], \"heatmap\": [{\"colorbar\": {\"outlinewidth\": 0, \"ticks\": \"\"}, \"colorscale\": [[0.0, \"#0d0887\"], [0.1111111111111111, \"#46039f\"], [0.2222222222222222, \"#7201a8\"], [0.3333333333333333, \"#9c179e\"], [0.4444444444444444, \"#bd3786\"], [0.5555555555555556, \"#d8576b\"], [0.6666666666666666, \"#ed7953\"], [0.7777777777777778, \"#fb9f3a\"], [0.8888888888888888, \"#fdca26\"], [1.0, \"#f0f921\"]], \"type\": \"heatmap\"}], \"heatmapgl\": [{\"colorbar\": {\"outlinewidth\": 0, \"ticks\": \"\"}, \"colorscale\": [[0.0, \"#0d0887\"], [0.1111111111111111, \"#46039f\"], [0.2222222222222222, \"#7201a8\"], [0.3333333333333333, \"#9c179e\"], [0.4444444444444444, \"#bd3786\"], [0.5555555555555556, \"#d8576b\"], [0.6666666666666666, \"#ed7953\"], [0.7777777777777778, \"#fb9f3a\"], [0.8888888888888888, \"#fdca26\"], [1.0, \"#f0f921\"]], \"type\": \"heatmapgl\"}], \"histogram\": [{\"marker\": {\"colorbar\": {\"outlinewidth\": 0, \"ticks\": \"\"}}, \"type\": \"histogram\"}], \"histogram2d\": [{\"colorbar\": {\"outlinewidth\": 0, \"ticks\": \"\"}, \"colorscale\": [[0.0, \"#0d0887\"], [0.1111111111111111, \"#46039f\"], [0.2222222222222222, \"#7201a8\"], [0.3333333333333333, \"#9c179e\"], [0.4444444444444444, \"#bd3786\"], [0.5555555555555556, \"#d8576b\"], [0.6666666666666666, \"#ed7953\"], [0.7777777777777778, \"#fb9f3a\"], [0.8888888888888888, \"#fdca26\"], [1.0, \"#f0f921\"]], \"type\": \"histogram2d\"}], \"histogram2dcontour\": [{\"colorbar\": {\"outlinewidth\": 0, \"ticks\": \"\"}, \"colorscale\": [[0.0, \"#0d0887\"], [0.1111111111111111, \"#46039f\"], [0.2222222222222222, \"#7201a8\"], [0.3333333333333333, \"#9c179e\"], [0.4444444444444444, \"#bd3786\"], [0.5555555555555556, \"#d8576b\"], [0.6666666666666666, \"#ed7953\"], [0.7777777777777778, \"#fb9f3a\"], [0.8888888888888888, \"#fdca26\"], [1.0, \"#f0f921\"]], \"type\": \"histogram2dcontour\"}], \"mesh3d\": [{\"colorbar\": {\"outlinewidth\": 0, \"ticks\": \"\"}, \"type\": \"mesh3d\"}], \"parcoords\": [{\"line\": {\"colorbar\": {\"outlinewidth\": 0, \"ticks\": \"\"}}, \"type\": \"parcoords\"}], \"pie\": [{\"automargin\": true, \"type\": \"pie\"}], \"scatter\": [{\"marker\": {\"colorbar\": {\"outlinewidth\": 0, \"ticks\": \"\"}}, \"type\": \"scatter\"}], \"scatter3d\": [{\"line\": {\"colorbar\": {\"outlinewidth\": 0, \"ticks\": \"\"}}, \"marker\": {\"colorbar\": {\"outlinewidth\": 0, \"ticks\": \"\"}}, \"type\": \"scatter3d\"}], \"scattercarpet\": [{\"marker\": {\"colorbar\": {\"outlinewidth\": 0, \"ticks\": \"\"}}, \"type\": \"scattercarpet\"}], \"scattergeo\": [{\"marker\": {\"colorbar\": {\"outlinewidth\": 0, \"ticks\": \"\"}}, \"type\": \"scattergeo\"}], \"scattergl\": [{\"marker\": {\"colorbar\": {\"outlinewidth\": 0, \"ticks\": \"\"}}, \"type\": \"scattergl\"}], \"scattermapbox\": [{\"marker\": {\"colorbar\": {\"outlinewidth\": 0, \"ticks\": \"\"}}, \"type\": \"scattermapbox\"}], \"scatterpolar\": [{\"marker\": {\"colorbar\": {\"outlinewidth\": 0, \"ticks\": \"\"}}, \"type\": \"scatterpolar\"}], \"scatterpolargl\": [{\"marker\": {\"colorbar\": {\"outlinewidth\": 0, \"ticks\": \"\"}}, \"type\": \"scatterpolargl\"}], \"scatterternary\": [{\"marker\": {\"colorbar\": {\"outlinewidth\": 0, \"ticks\": \"\"}}, \"type\": \"scatterternary\"}], \"surface\": [{\"colorbar\": {\"outlinewidth\": 0, \"ticks\": \"\"}, \"colorscale\": [[0.0, \"#0d0887\"], [0.1111111111111111, \"#46039f\"], [0.2222222222222222, \"#7201a8\"], [0.3333333333333333, \"#9c179e\"], [0.4444444444444444, \"#bd3786\"], [0.5555555555555556, \"#d8576b\"], [0.6666666666666666, \"#ed7953\"], [0.7777777777777778, \"#fb9f3a\"], [0.8888888888888888, \"#fdca26\"], [1.0, \"#f0f921\"]], \"type\": \"surface\"}], \"table\": [{\"cells\": {\"fill\": {\"color\": \"#EBF0F8\"}, \"line\": {\"color\": \"white\"}}, \"header\": {\"fill\": {\"color\": \"#C8D4E3\"}, \"line\": {\"color\": \"white\"}}, \"type\": \"table\"}]}, \"layout\": {\"annotationdefaults\": {\"arrowcolor\": \"#2a3f5f\", \"arrowhead\": 0, \"arrowwidth\": 1}, \"autotypenumbers\": \"strict\", \"coloraxis\": {\"colorbar\": {\"outlinewidth\": 0, \"ticks\": \"\"}}, \"colorscale\": {\"diverging\": [[0, \"#8e0152\"], [0.1, \"#c51b7d\"], [0.2, \"#de77ae\"], [0.3, \"#f1b6da\"], [0.4, \"#fde0ef\"], [0.5, \"#f7f7f7\"], [0.6, \"#e6f5d0\"], [0.7, \"#b8e186\"], [0.8, \"#7fbc41\"], [0.9, \"#4d9221\"], [1, \"#276419\"]], \"sequential\": [[0.0, \"#0d0887\"], [0.1111111111111111, \"#46039f\"], [0.2222222222222222, \"#7201a8\"], [0.3333333333333333, \"#9c179e\"], [0.4444444444444444, \"#bd3786\"], [0.5555555555555556, \"#d8576b\"], [0.6666666666666666, \"#ed7953\"], [0.7777777777777778, \"#fb9f3a\"], [0.8888888888888888, \"#fdca26\"], [1.0, \"#f0f921\"]], \"sequentialminus\": [[0.0, \"#0d0887\"], [0.1111111111111111, \"#46039f\"], [0.2222222222222222, \"#7201a8\"], [0.3333333333333333, \"#9c179e\"], [0.4444444444444444, \"#bd3786\"], [0.5555555555555556, \"#d8576b\"], [0.6666666666666666, \"#ed7953\"], [0.7777777777777778, \"#fb9f3a\"], [0.8888888888888888, \"#fdca26\"], [1.0, \"#f0f921\"]]}, \"colorway\": [\"#636efa\", \"#EF553B\", \"#00cc96\", \"#ab63fa\", \"#FFA15A\", \"#19d3f3\", \"#FF6692\", \"#B6E880\", \"#FF97FF\", \"#FECB52\"], \"font\": {\"color\": \"#2a3f5f\"}, \"geo\": {\"bgcolor\": \"white\", \"lakecolor\": \"white\", \"landcolor\": \"#E5ECF6\", \"showlakes\": true, \"showland\": true, \"subunitcolor\": \"white\"}, \"hoverlabel\": {\"align\": \"left\"}, \"hovermode\": \"closest\", \"mapbox\": {\"style\": \"light\"}, \"paper_bgcolor\": \"white\", \"plot_bgcolor\": \"#E5ECF6\", \"polar\": {\"angularaxis\": {\"gridcolor\": \"white\", \"linecolor\": \"white\", \"ticks\": \"\"}, \"bgcolor\": \"#E5ECF6\", \"radialaxis\": {\"gridcolor\": \"white\", \"linecolor\": \"white\", \"ticks\": \"\"}}, \"scene\": {\"xaxis\": {\"backgroundcolor\": \"#E5ECF6\", \"gridcolor\": \"white\", \"gridwidth\": 2, \"linecolor\": \"white\", \"showbackground\": true, \"ticks\": \"\", \"zerolinecolor\": \"white\"}, \"yaxis\": {\"backgroundcolor\": \"#E5ECF6\", \"gridcolor\": \"white\", \"gridwidth\": 2, \"linecolor\": \"white\", \"showbackground\": true, \"ticks\": \"\", \"zerolinecolor\": \"white\"}, \"zaxis\": {\"backgroundcolor\": \"#E5ECF6\", \"gridcolor\": \"white\", \"gridwidth\": 2, \"linecolor\": \"white\", \"showbackground\": true, \"ticks\": \"\", \"zerolinecolor\": \"white\"}}, \"shapedefaults\": {\"line\": {\"color\": \"#2a3f5f\"}}, \"ternary\": {\"aaxis\": {\"gridcolor\": \"white\", \"linecolor\": \"white\", \"ticks\": \"\"}, \"baxis\": {\"gridcolor\": \"white\", \"linecolor\": \"white\", \"ticks\": \"\"}, \"bgcolor\": \"#E5ECF6\", \"caxis\": {\"gridcolor\": \"white\", \"linecolor\": \"white\", \"ticks\": \"\"}}, \"title\": {\"x\": 0.05}, \"xaxis\": {\"automargin\": true, \"gridcolor\": \"white\", \"linecolor\": \"white\", \"ticks\": \"\", \"title\": {\"standoff\": 15}, \"zerolinecolor\": \"white\", \"zerolinewidth\": 2}, \"yaxis\": {\"automargin\": true, \"gridcolor\": \"white\", \"linecolor\": \"white\", \"ticks\": \"\", \"title\": {\"standoff\": 15}, \"zerolinecolor\": \"white\", \"zerolinewidth\": 2}}}, \"title\": {\"text\": \"Energy Landscape\"}, \"width\": 500},                        {\"responsive\": true}                    ).then(function(){\n",
       "                            \n",
       "var gd = document.getElementById('e0eab734-fd80-44bc-a047-6de815f9f492');\n",
       "var x = new MutationObserver(function (mutations, observer) {{\n",
       "        var display = window.getComputedStyle(gd).display;\n",
       "        if (!display || display === 'none') {{\n",
       "            console.log([gd, 'removed!']);\n",
       "            Plotly.purge(gd);\n",
       "            observer.disconnect();\n",
       "        }}\n",
       "}});\n",
       "\n",
       "// Listen for the removal of the full notebook cells\n",
       "var notebookContainer = gd.closest('#notebook-container');\n",
       "if (notebookContainer) {{\n",
       "    x.observe(notebookContainer, {childList: true});\n",
       "}}\n",
       "\n",
       "// Listen for the clearing of the current output cell\n",
       "var outputEl = gd.closest('.output');\n",
       "if (outputEl) {{\n",
       "    x.observe(outputEl, {childList: true});\n",
       "}}\n",
       "\n",
       "                        })                };                });            </script>        </div>"
      ]
     },
     "metadata": {},
     "output_type": "display_data"
    }
   ],
   "source": [
    "fig = go.Figure(data=[go.Surface(z=landscape)])\n",
    "\n",
    "fig.update_layout(title='Energy Landscape', autosize=False,\n",
    "                  width=500, height=500,\n",
    "                  margin=dict(l=65, r=50, b=65, t=90))\n",
    "\n",
    "fig.show()"
   ]
  },
  {
   "cell_type": "markdown",
   "metadata": {},
   "source": [
    "### Nelder-Mead Simplex Algorithm"
   ]
  },
  {
   "cell_type": "code",
   "execution_count": 28,
   "metadata": {},
   "outputs": [],
   "source": [
    "#Initializing simplex\n",
    "#I am assuming Cartesian in matrix representation\n",
    "def simplex_init(n,p,scale):\n",
    "    #n is the number of simplex\n",
    "    #p0 is the initial point\n",
    "    \n",
    "    x=scale*np.random.rand(n,2*p)\n",
    "    return(x)"
   ]
  },
  {
   "cell_type": "code",
   "execution_count": 53,
   "metadata": {},
   "outputs": [
    {
     "name": "stdout",
     "output_type": "stream",
     "text": [
      "[0.92317108 1.79490746 4.38256974 2.96171123] -0.19087035110822373\n",
      "[4.44681982 4.37682233 2.61441466 4.05387   ] 0.2743614387770656\n",
      "[2.88551502 1.933726   0.45733092 1.90168599] 0.40925075963260726\n",
      "[4.06462033 4.67548563 1.17780632 0.67966867] -0.0016225551778136782\n",
      "[2.59340427 2.56909118 4.10859877 0.71299045] 0.18726774271259786\n"
     ]
    }
   ],
   "source": [
    "n=5\n",
    "scale=5\n",
    "x=simplex_init(n,2*p,scale)\n",
    "f=np.zeros(n)\n",
    "for i in range(n):\n",
    "    f[i]=AveEnergy(x[i],*arg)\n",
    "    print(x[i],f[i])\n",
    "    \n"
   ]
  },
  {
   "cell_type": "markdown",
   "metadata": {},
   "source": []
  }
 ],
 "metadata": {
  "kernelspec": {
   "display_name": "Python 3",
   "language": "python",
   "name": "python3"
  },
  "language_info": {
   "codemirror_mode": {
    "name": "ipython",
    "version": 3
   },
   "file_extension": ".py",
   "mimetype": "text/x-python",
   "name": "python",
   "nbconvert_exporter": "python",
   "pygments_lexer": "ipython3",
   "version": "3.8.3"
  }
 },
 "nbformat": 4,
 "nbformat_minor": 4
}
