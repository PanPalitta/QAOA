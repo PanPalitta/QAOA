{
 "cells": [
  {
   "cell_type": "markdown",
   "metadata": {},
   "source": [
    "# Optimizing QAOA\n",
    "\n",
    "by Pantita Palittapongarnpim\n",
    "\n",
    "Now that we have the classes for QAOA circuits, we need to optimize the circuits."
   ]
  },
  {
   "cell_type": "markdown",
   "metadata": {},
   "source": [
    "### Package Versions\n",
    "\n",
    "QuTiP: 4.5.2\n",
    "\n",
    "Python: 3.8.6"
   ]
  },
  {
   "cell_type": "markdown",
   "metadata": {},
   "source": [
    "### Loading Packages"
   ]
  },
  {
   "cell_type": "code",
   "execution_count": 58,
   "metadata": {},
   "outputs": [],
   "source": [
    "import numpy as np\n",
    "import qutip as qt\n",
    "from scipy.optimize import minimize\n",
    "from scipy.optimize import differential_evolution"
   ]
  },
  {
   "cell_type": "markdown",
   "metadata": {},
   "source": [
    "### QAOA Classes"
   ]
  },
  {
   "cell_type": "code",
   "execution_count": 2,
   "metadata": {},
   "outputs": [],
   "source": [
    "class Graph:\n",
    "    def __init__(self, total_qubit, J):\n",
    "        self.total_qubit=total_qubit #integer\n",
    "        self.J=J #matrix: undirected (symmetric)\n",
    "        \n",
    "    def Ham(self):\n",
    "        Ham_out=0;\n",
    "        for i in range(self.total_qubit):\n",
    "            for j in range(i,self.total_qubit):\n",
    "                opr=qt.tensor([qt.identity(2) if (k != i and k != j) else qt.sigmaz() for k in range(self.total_qubit)])\n",
    "                Ham_out=Ham_out+J[i][j]*opr\n",
    "        return(Ham_out)"
   ]
  },
  {
   "cell_type": "code",
   "execution_count": 86,
   "metadata": {},
   "outputs": [],
   "source": [
    "class QAOA:\n",
    "    def __init__(self, gamma, beta, p, graph):\n",
    "        ## what does graph has to contain:\n",
    "        # total_qubit -- integer\n",
    "        # J -- double matrix        \n",
    "        self.gamma=gamma\n",
    "        self.beta=beta\n",
    "        self.p=p\n",
    "        self.J=graph.J\n",
    "        self.total_qubit=graph.total_qubit\n",
    "        \n",
    "    def Uz(self,i,j,l):\n",
    "        opr=qt.tensor([qt.identity(2) if (k != i and k != j) else qt.sigmaz() for k in range(self.total_qubit)])\n",
    "        Hvar=-1j*self.gamma[l-1]*J[i][j]*opr\n",
    "        return(Hvar.expm())\n",
    "    \n",
    "    def Ux(self,i,l):\n",
    "        opr=qt.tensor([qt.identity(2) if (k != i) else qt.sigmax() for k in range(self.total_qubit)])\n",
    "        Hvar=-1j*self.beta[l-1]*J[i][j]*opr\n",
    "        return(Hvar.expm())\n",
    "    \n",
    "    def circuit(self):\n",
    "        Had=qt.tensor([qt.qip.operations.snot() for k in range(self.total_qubit)])\n",
    "        qaoa_circ=Had\n",
    "        for l in range(self.p):\n",
    "            #operate the Uz gates\n",
    "            for i in range(self.total_qubit):\n",
    "                for j in range(i,self.total_qubit):\n",
    "                    if i!= j:\n",
    "                        qaoa_circ=self.Uz(i,j,l)*qaoa_circ\n",
    "            #operate the Ux gates\n",
    "            for i in range(self.total_qubit):\n",
    "                qaoa_circ=self.Ux(i,l)*qaoa_circ\n",
    "        return(qaoa_circ)\n",
    "    \n",
    "    def state(self):\n",
    "        gnd=qt.basis(2,0)\n",
    "        state=qt.tensor([gnd for i in range(self.total_qubit)])\n",
    "        state=self.circuit()*state\n",
    "        return(state)\n",
    " "
   ]
  },
  {
   "cell_type": "markdown",
   "metadata": {},
   "source": [
    "### Objective functions\n",
    "\n",
    "Now that we have the simulation of the QAOA circuit, we need to optimize the parameters, namely gamma and beta array.\n",
    "\n",
    "But before that, we need to pick the objective function we are going to use."
   ]
  },
  {
   "cell_type": "markdown",
   "metadata": {},
   "source": [
    "__Average Energy__\n",
    "\n",
    "This is the traditional objective function for QAOA\n",
    "\n",
    "__Gibbs__\n",
    "\n",
    "This one is proposed by Li et al.\n",
    "\n",
    "__Average Gibbs__\n",
    "\n",
    "Actually doesn't have a name, proposed by P'Thip."
   ]
  },
  {
   "cell_type": "code",
   "execution_count": 98,
   "metadata": {},
   "outputs": [],
   "source": [
    "#so this is our fun in scipy.optimize.minimize\n",
    "# the form has to be fun(x, *arg)\n",
    "# x here has to be gamma and beta\n",
    "# arg* has to be graph and p\n",
    "\n",
    "def AveEnergy(x, *arg):\n",
    "    p=arg[0]\n",
    "    graph=arg[1]    \n",
    "    y=np.array_split(x,2)\n",
    "    gamma=y[0]\n",
    "    beta=y[1]\n",
    "\n",
    "    qaoa = QAOA(gamma,beta,p,graph)\n",
    "    output=qaoa.state()\n",
    "    \n",
    "    return((output.dag()*graph.Ham()*output).tr())\n",
    "\n",
    "def Gibbs(x, *arg):\n",
    "    p=arg[0]\n",
    "    graph=arg[1]    \n",
    "    y=np.array_split(x,2)\n",
    "    gamma=y[0]\n",
    "    beta=y[1]\n",
    "\n",
    "    qaoa = QAOA(gamma,beta,p,graph)\n",
    "    output=qaoa.state()\n",
    "    \n",
    "    f=-np.log((output.dag()*(-eta*graph.Ham()).expm()*output).tr())\n",
    "    return(f)\n",
    "\n",
    "def AveGibbs(x, *arg):\n",
    "    p=arg[0]\n",
    "    graph=arg[1]    \n",
    "    y=np.array_split(x,2)\n",
    "    gamma=y[0]\n",
    "    beta=y[1]\n",
    "\n",
    "    qaoa = QAOA(gamma,beta,p,graph)\n",
    "    output=qaoa.state()\n",
    "    \n",
    "    f=-np.log((output.dag()*graph.Ham()*(-eta*graph.Ham()).expm()*output).tr())\n",
    "    return(f)"
   ]
  },
  {
   "cell_type": "markdown",
   "metadata": {},
   "source": [
    "### Testing out the objective functions"
   ]
  },
  {
   "cell_type": "code",
   "execution_count": 88,
   "metadata": {},
   "outputs": [],
   "source": [
    "total_qubit=3 #number of qubit\n",
    "p=1 #number of layers\n",
    "\n",
    "#declaring QAOA parameters\n",
    "gamma=np.random.rand(p)\n",
    "beta=np.random.rand(p)\n",
    "\n",
    "#defining the problem\n",
    "J=np.random.rand(total_qubit,total_qubit) #creating the couping parameters,still directional in this instance)\n",
    "for i in range(total_qubit):\n",
    "    for j in range(i,total_qubit):\n",
    "        temp=(J[i][j]+J[j][i])/2.0\n",
    "        J[i][j]=temp\n",
    "        J[j][i]=temp\n",
    "#Now J is undirectional"
   ]
  },
  {
   "cell_type": "code",
   "execution_count": 91,
   "metadata": {},
   "outputs": [],
   "source": [
    "graph = Graph(total_qubit,J)\n",
    "\n",
    "x0=np.append(gamma,beta)\n",
    "arg=(p,graph)"
   ]
  },
  {
   "cell_type": "code",
   "execution_count": 79,
   "metadata": {},
   "outputs": [
    {
     "name": "stdout",
     "output_type": "stream",
     "text": [
      "[0.14022272 0.22302041] 0.12265013456946702\n",
      "[-0.51961382  0.71118769] -0.6546572269149862\n",
      "[-0.51963065  0.71118066] -0.6546572275903807\n"
     ]
    }
   ],
   "source": [
    "#Average Energy#\n",
    "print(x0,AveEnergy(x0,*arg))\n",
    "\n",
    "#now let's try minimize\n",
    "\n",
    "res=minimize(AveEnergy,x0,arg,method='Nelder-Mead')\n",
    "\n",
    "print(res.x,res.fun)\n",
    "\n",
    "bounds=[(-2,2),(-2,2)]\n",
    "res=differential_evolution(AveEnergy,bounds,args=arg)\n",
    "print(res.x,res.fun)\n"
   ]
  },
  {
   "cell_type": "code",
   "execution_count": 107,
   "metadata": {},
   "outputs": [
    {
     "name": "stdout",
     "output_type": "stream",
     "text": [
      "[0.07284947 0.69721935] -0.08467304075945914\n",
      "[2.30192118 1.85705565] -0.15513841217953755\n",
      "[2.30187512 1.85706631] -0.15513841220770794\n"
     ]
    }
   ],
   "source": [
    "#Gibbs energy\n",
    "eta=0.3 #how do we tune this again?\n",
    "print(x0,Gibbs(x0,*arg))\n",
    "\n",
    "res=minimize(Gibbs,x0,arg,method='Nelder-Mead')\n",
    "\n",
    "print(res.x,res.fun)\n",
    "\n",
    "bounds=[(-3,3),(-3,3)]\n",
    "res=differential_evolution(Gibbs,bounds,args=arg)\n",
    "print(res.x,res.fun)"
   ]
  },
  {
   "cell_type": "code",
   "execution_count": 106,
   "metadata": {},
   "outputs": [
    {
     "name": "stdout",
     "output_type": "stream",
     "text": [
      "[0.07284947 0.69721935] nan\n"
     ]
    },
    {
     "name": "stderr",
     "output_type": "stream",
     "text": [
      "<ipython-input-98-5500b78f2cb9>:41: RuntimeWarning: invalid value encountered in log\n",
      "  f=-np.log((output.dag()*graph.Ham()*(-eta*graph.Ham()).expm()*output).tr())\n"
     ]
    }
   ],
   "source": [
    "#Average Gibbs\n",
    "eta=0.5\n",
    "print(x0,AveGibbs(x0,*arg))\n",
    "\n",
    "#res=minimize(AveGibbs,x0,arg,method='Nelder-Mead')\n",
    "\n",
    "#print(res.x,res.fun)\n",
    "\n",
    "#bounds=[(-2,2),(-2,2)]\n",
    "#res=differential_evolution(AveGibbs,bounds,args=arg)\n",
    "#print(res.x,res.fun)"
   ]
  },
  {
   "cell_type": "markdown",
   "metadata": {},
   "source": [
    "Observations:\n",
    "\n",
    "* As expected, the Gibbs energy depend on eta, but we don't have a good idea what value to use.\n",
    "* Average Gibbs yields nan. Not sure what happens there yet."
   ]
  },
  {
   "cell_type": "markdown",
   "metadata": {},
   "source": [
    "### Nelder-Mead Simplex Algorithm"
   ]
  },
  {
   "cell_type": "code",
   "execution_count": 28,
   "metadata": {},
   "outputs": [],
   "source": [
    "#Initializing simplex\n",
    "#I am assuming Cartesian in matrix representation\n",
    "def simplex_init(n,p,scale):\n",
    "    #n is the number of simplex\n",
    "    #p0 is the initial point\n",
    "    \n",
    "    x=scale*np.random.rand(n,2*p)\n",
    "    return(x)"
   ]
  },
  {
   "cell_type": "code",
   "execution_count": 53,
   "metadata": {},
   "outputs": [
    {
     "name": "stdout",
     "output_type": "stream",
     "text": [
      "[0.92317108 1.79490746 4.38256974 2.96171123] -0.19087035110822373\n",
      "[4.44681982 4.37682233 2.61441466 4.05387   ] 0.2743614387770656\n",
      "[2.88551502 1.933726   0.45733092 1.90168599] 0.40925075963260726\n",
      "[4.06462033 4.67548563 1.17780632 0.67966867] -0.0016225551778136782\n",
      "[2.59340427 2.56909118 4.10859877 0.71299045] 0.18726774271259786\n"
     ]
    }
   ],
   "source": [
    "n=5\n",
    "scale=5\n",
    "x=simplex_init(n,2*p,scale)\n",
    "f=np.zeros(n)\n",
    "for i in range(n):\n",
    "    f[i]=AveEnergy(x[i],*arg)\n",
    "    print(x[i],f[i])\n",
    "    \n"
   ]
  },
  {
   "cell_type": "markdown",
   "metadata": {},
   "source": []
  }
 ],
 "metadata": {
  "kernelspec": {
   "display_name": "Python 3",
   "language": "python",
   "name": "python3"
  },
  "language_info": {
   "codemirror_mode": {
    "name": "ipython",
    "version": 3
   },
   "file_extension": ".py",
   "mimetype": "text/x-python",
   "name": "python",
   "nbconvert_exporter": "python",
   "pygments_lexer": "ipython3",
   "version": "3.8.3"
  }
 },
 "nbformat": 4,
 "nbformat_minor": 4
}
