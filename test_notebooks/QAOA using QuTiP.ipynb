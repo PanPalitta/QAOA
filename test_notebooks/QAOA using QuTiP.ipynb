{
 "cells": [
  {
   "cell_type": "markdown",
   "metadata": {},
   "source": [
    "# QAOA Circuit Building Using QuTiP\n",
    "\n",
    "by Pantita Palittapongarnpim\n",
    "\n",
    "After Qiskit testing didn't pan out, we're switching to QuTiPfor simulation of QAOA circuits, and possibly for everything thereafter."
   ]
  },
  {
   "cell_type": "markdown",
   "metadata": {},
   "source": [
    "### Package Versions\n",
    "\n",
    "QuTiP: 4.5.2\n",
    "\n",
    "Python: 3.8.6"
   ]
  },
  {
   "cell_type": "markdown",
   "metadata": {},
   "source": [
    "### Loading Packages"
   ]
  },
  {
   "cell_type": "code",
   "execution_count": 23,
   "metadata": {},
   "outputs": [],
   "source": [
    "import numpy as np\n",
    "import qutip as qt"
   ]
  },
  {
   "cell_type": "markdown",
   "metadata": {},
   "source": [
    "### Building QAOA circuit\n",
    "\n",
    "We'll start with a circuit of 3 qubits without the classical optimizer."
   ]
  },
  {
   "cell_type": "code",
   "execution_count": 37,
   "metadata": {},
   "outputs": [],
   "source": [
    "total_qubit=3 #number of qubit\n",
    "p=5 #number of layers\n",
    "\n",
    "#declaring QAOA parameters\n",
    "gamma=np.random.rand(p)\n",
    "beta=np.random.rand(p)\n",
    "\n",
    "#defining the problem\n",
    "J=np.random.rand(total_qubit,total_qubit) #creating the couping parameters,still directional in this instance)\n",
    "for i in range(total_qubit):\n",
    "    for j in range(i,total_qubit):\n",
    "        temp=(J[i][j]+J[j][i])/2.0\n",
    "        J[i][j]=temp\n",
    "        J[j][i]=temp\n",
    "#Now J is undirectional"
   ]
  },
  {
   "cell_type": "markdown",
   "metadata": {},
   "source": [
    "Let's now define some unitary functions we are going to use."
   ]
  },
  {
   "cell_type": "code",
   "execution_count": 4,
   "metadata": {},
   "outputs": [],
   "source": [
    "def Uz(i,j,p):\n",
    "    opr=qt.tensor([qt.identity(2) if (k != i and k != j) else qt.sigmaz() for k in range(total_qubit)])\n",
    "    Hvar=-1j*gamma[p-1]*J[i][j]*opr\n",
    "    return(Hvar.expm())\n",
    "\n",
    "#print(Uz(0,1,1))"
   ]
  },
  {
   "cell_type": "code",
   "execution_count": 5,
   "metadata": {},
   "outputs": [],
   "source": [
    "def Ux(i,p):\n",
    "    opr=qt.tensor([qt.identity(2) if (k != i) else qt.sigmax() for k in range(total_qubit)])\n",
    "    Hvar=-1j*beta[p-1]*J[i][j]*opr\n",
    "    return(Hvar.expm())\n",
    "\n",
    "#print(Ux(0,1))"
   ]
  },
  {
   "cell_type": "markdown",
   "metadata": {},
   "source": [
    "Let's put together the circuit"
   ]
  },
  {
   "cell_type": "code",
   "execution_count": 38,
   "metadata": {},
   "outputs": [],
   "source": [
    "Had=qt.tensor([qt.qip.operations.snot() for k in range(total_qubit)])\n",
    "\n",
    "qaoa=Had\n",
    "\n",
    "for l in range(p):\n",
    "    #operate the Uz gates\n",
    "    for i in range(total_qubit):\n",
    "        for j in range(i,total_qubit):\n",
    "            if i!= j:\n",
    "                qaoa=Uz(i,j,l)*qaoa\n",
    "    for i in range(total_qubit):\n",
    "        qaoa=Ux(i,l)*qaoa\n"
   ]
  },
  {
   "cell_type": "markdown",
   "metadata": {},
   "source": [
    "Now operating this unitary on the ground state."
   ]
  },
  {
   "cell_type": "code",
   "execution_count": 39,
   "metadata": {},
   "outputs": [],
   "source": [
    "gnd=qt.basis(2,0)\n",
    "state=qt.tensor([gnd for i in range(total_qubit)])\n",
    "\n",
    "state=qaoa*state"
   ]
  },
  {
   "cell_type": "markdown",
   "metadata": {},
   "source": [
    "Let's do a very basic check on the state that comes out."
   ]
  },
  {
   "cell_type": "code",
   "execution_count": 40,
   "metadata": {},
   "outputs": [
    {
     "name": "stdout",
     "output_type": "stream",
     "text": [
      "[0.21864207 0.0799774  0.00072131 0.20065922 0.20065922 0.00072131\n",
      " 0.0799774  0.21864207]\n",
      "0.9999999999999988\n"
     ]
    }
   ],
   "source": [
    "array_size=2**(total_qubit)\n",
    "prob=np.zeros(array_size)\n",
    "\n",
    "for i in range(array_size):\n",
    "    prob[i]=np.abs(state[i]**2)\n",
    "\n",
    "print(prob)\n",
    "print(sum(prob))"
   ]
  },
  {
   "cell_type": "markdown",
   "metadata": {},
   "source": [
    "Seems reasonable in terms of the probability sum that we got, within some rounding error.\n",
    "\n",
    "__How do we know we are implementing it right, though?__\n",
    "\n",
    "Observation:\n",
    " * Increase in p will increase the rounding error"
   ]
  },
  {
   "cell_type": "markdown",
   "metadata": {},
   "source": [
    "### Building QAOA as a Class\n",
    "\n",
    "__Why do we want it as a class?__\n",
    "\n",
    "Making the circuit into a class is easier to manage in the long run as we can keep the attributes of a QAOA circuit protected and separated from another circuit quite naturally. "
   ]
  },
  {
   "cell_type": "code",
   "execution_count": 18,
   "metadata": {},
   "outputs": [],
   "source": [
    "class QAOA:\n",
    "    def __init__(self, gamma, beta, p, graph):\n",
    "        ## what does graph has to contain:\n",
    "        # total_qubit -- integer\n",
    "        # J -- double matrix        \n",
    "        self.gamma=gamma\n",
    "        self.beta=beta\n",
    "        self.p=p\n",
    "        self.J=graph.J\n",
    "        self.total_qubit=graph.total_qubit\n",
    "        \n",
    "    def Uz(self,i,j,l):\n",
    "        opr=qt.tensor([qt.identity(2) if (k != i and k != j) else qt.sigmaz() for k in range(self.total_qubit)])\n",
    "        Hvar=-1j*gamma[l-1]*J[i][j]*opr\n",
    "        return(Hvar.expm())\n",
    "    \n",
    "    def Ux(self,i,l):\n",
    "        opr=qt.tensor([qt.identity(2) if (k != i) else qt.sigmax() for k in range(self.total_qubit)])\n",
    "        Hvar=-1j*beta[l-1]*J[i][j]*opr\n",
    "        return(Hvar.expm())\n",
    "    \n",
    "    def circuit(self):\n",
    "        Had=qt.tensor([qt.qip.operations.snot() for k in range(self.total_qubit)])\n",
    "        qaoa_circ=Had\n",
    "        for l in range(self.p):\n",
    "            #operate the Uz gates\n",
    "            for i in range(self.total_qubit):\n",
    "                for j in range(i,self.total_qubit):\n",
    "                    if i!= j:\n",
    "                        qaoa_circ=self.Uz(i,j,l)*qaoa_circ\n",
    "            #operate the Ux gates\n",
    "            for i in range(self.total_qubit):\n",
    "                qaoa_circ=self.Ux(i,l)*qaoa_circ\n",
    "        return(qaoa_circ)\n",
    "    \n",
    "    def state(self):\n",
    "        gnd=qt.basis(2,0)\n",
    "        state=qt.tensor([gnd for i in range(self.total_qubit)])\n",
    "        state=self.circuit()*state\n",
    "        return(state)\n",
    " "
   ]
  },
  {
   "cell_type": "markdown",
   "metadata": {},
   "source": [
    "What we've discovered here is that the problem should be encoded as another class, we call here \"graph\".\n",
    "So we are going to write the graph class to store the problem.\n",
    "\n",
    "The only function I can think of right now is the Hamiltonian."
   ]
  },
  {
   "cell_type": "code",
   "execution_count": 29,
   "metadata": {},
   "outputs": [],
   "source": [
    "class Graph:\n",
    "    def __init__(self, total_qubit, J):\n",
    "        self.total_qubit=total_qubit #integer\n",
    "        self.J=J #matrix: undirected (symmetric)\n",
    "        \n",
    "    def Ham(self):\n",
    "        Ham_out=0;\n",
    "        for i in range(self.total_qubit):\n",
    "            for j in range(i,self.total_qubit):\n",
    "                opr=qt.tensor([qt.identity(2) if (k != i and k != j) else qt.sigmaz() for k in range(self.total_qubit)])\n",
    "                Ham_out=Ham_out+J[i][j]*opr\n",
    "        return(Ham_out)"
   ]
  },
  {
   "cell_type": "markdown",
   "metadata": {},
   "source": [
    "Now let's test out classes."
   ]
  },
  {
   "cell_type": "code",
   "execution_count": 33,
   "metadata": {},
   "outputs": [],
   "source": [
    "total_qubit=2 #number of qubit\n",
    "p=1 #number of layers\n",
    "\n",
    "#declaring QAOA parameters\n",
    "gamma=np.random.rand(p)\n",
    "beta=np.random.rand(p)\n",
    "\n",
    "#defining the problem\n",
    "J=np.random.rand(total_qubit,total_qubit) #creating the couping parameters,still directional in this instance)\n",
    "for i in range(total_qubit):\n",
    "    for j in range(i,total_qubit):\n",
    "        temp=(J[i][j]+J[j][i])/2.0\n",
    "        J[i][j]=temp\n",
    "        J[j][i]=temp\n",
    "#Now J is undirectional"
   ]
  },
  {
   "cell_type": "code",
   "execution_count": 34,
   "metadata": {},
   "outputs": [
    {
     "name": "stdout",
     "output_type": "stream",
     "text": [
      "Quantum object: dims = [[2, 2], [2, 2]], shape = (4, 4), type = oper, isherm = True\n",
      "Qobj data =\n",
      "[[ 2.21681915  0.          0.          0.        ]\n",
      " [ 0.         -0.59215824  0.          0.        ]\n",
      " [ 0.          0.         -0.98331469  0.        ]\n",
      " [ 0.          0.          0.         -0.64134623]]\n"
     ]
    }
   ],
   "source": [
    "graph = Graph(total_qubit,J)\n",
    "qaoa = QAOA(gamma,beta,p,graph)\n",
    "\n",
    "print(graph.Ham())"
   ]
  },
  {
   "cell_type": "code",
   "execution_count": 35,
   "metadata": {},
   "outputs": [],
   "source": [
    "output=qaoa.state()"
   ]
  },
  {
   "cell_type": "code",
   "execution_count": 36,
   "metadata": {},
   "outputs": [
    {
     "name": "stdout",
     "output_type": "stream",
     "text": [
      "[0.44859616 0.05140384 0.05140384 0.44859616]\n",
      "0.9999999999999993\n"
     ]
    }
   ],
   "source": [
    "array_size=2**(total_qubit)\n",
    "prob=np.zeros(array_size)\n",
    "\n",
    "for i in range(array_size):\n",
    "    prob[i]=np.abs(output[i]**2)\n",
    "\n",
    "print(prob)\n",
    "print(sum(prob))"
   ]
  },
  {
   "cell_type": "markdown",
   "metadata": {},
   "source": []
  }
 ],
 "metadata": {
  "kernelspec": {
   "display_name": "Python 3",
   "language": "python",
   "name": "python3"
  },
  "language_info": {
   "codemirror_mode": {
    "name": "ipython",
    "version": 3
   },
   "file_extension": ".py",
   "mimetype": "text/x-python",
   "name": "python",
   "nbconvert_exporter": "python",
   "pygments_lexer": "ipython3",
   "version": "3.8.3"
  }
 },
 "nbformat": 4,
 "nbformat_minor": 4
}
